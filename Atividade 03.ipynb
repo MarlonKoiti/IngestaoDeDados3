{
 "cells": [
  {
   "cell_type": "markdown",
   "metadata": {
    "application/vnd.databricks.v1+cell": {
     "cellMetadata": {
      "byteLimit": 2048000,
      "rowLimit": 10000
     },
     "inputWidgets": {},
     "nuid": "5ca3e395-1319-4aff-9712-ab046be6a7c0",
     "showTitle": false,
     "title": ""
    }
   },
   "source": [
    "# Importação de libs"
   ]
  },
  {
   "cell_type": "code",
   "execution_count": 0,
   "metadata": {
    "application/vnd.databricks.v1+cell": {
     "cellMetadata": {
      "byteLimit": 2048000,
      "rowLimit": 10000
     },
     "inputWidgets": {},
     "nuid": "d6803b15-b656-4460-ad0c-1d406fd1a3b5",
     "showTitle": false,
     "title": ""
    }
   },
   "outputs": [],
   "source": [
    "from pyspark.sql.functions import col, regexp_replace"
   ]
  },
  {
   "cell_type": "markdown",
   "metadata": {
    "application/vnd.databricks.v1+cell": {
     "cellMetadata": {
      "byteLimit": 2048000,
      "rowLimit": 10000
     },
     "inputWidgets": {},
     "nuid": "e225cdf1-4d42-402a-8b83-1f53f874607b",
     "showTitle": false,
     "title": ""
    }
   },
   "source": [
    "#Banco"
   ]
  },
  {
   "cell_type": "code",
   "execution_count": 0,
   "metadata": {
    "application/vnd.databricks.v1+cell": {
     "cellMetadata": {
      "byteLimit": 2048000,
      "rowLimit": 10000
     },
     "inputWidgets": {},
     "nuid": "f0cdc080-2d55-466a-811b-6a8dfdb20c80",
     "showTitle": false,
     "title": ""
    }
   },
   "outputs": [],
   "source": [
    "#Ingerindo os registros\n",
    "df_banco = spark.read.csv('FileStore/df/ativ/Bancos/*.tsv', header=True, inferSchema=True, sep='\\t')"
   ]
  },
  {
   "cell_type": "code",
   "execution_count": 0,
   "metadata": {
    "application/vnd.databricks.v1+cell": {
     "cellMetadata": {
      "byteLimit": 2048000,
      "rowLimit": 10000
     },
     "inputWidgets": {},
     "nuid": "37fefceb-cb2f-444f-8512-82746d7e9bcf",
     "showTitle": false,
     "title": ""
    }
   },
   "outputs": [
    {
     "output_type": "display_data",
     "data": {
      "text/html": [
       "<style scoped>\n",
       "  .table-result-container {\n",
       "    max-height: 300px;\n",
       "    overflow: auto;\n",
       "  }\n",
       "  table, th, td {\n",
       "    border: 1px solid black;\n",
       "    border-collapse: collapse;\n",
       "  }\n",
       "  th, td {\n",
       "    padding: 5px;\n",
       "  }\n",
       "  th {\n",
       "    text-align: left;\n",
       "  }\n",
       "</style><div class='table-result-container'><table class='table-result'><thead style='background-color: white'><tr><th>Segmento</th><th>CNPJ</th><th>Nome</th></tr></thead><tbody><tr><td>S1</td><td>0</td><td>BANCO DO BRASIL</td></tr><tr><td>S1</td><td>60746948</td><td>BRADESCO</td></tr><tr><td>S1</td><td>30306294</td><td>BTG PACTUAL</td></tr><tr><td>S1</td><td>360305</td><td>CAIXA ECONOMICA FEDERAL</td></tr><tr><td>S1</td><td>60872504</td><td>ITAU</td></tr><tr><td>S1</td><td>90400888</td><td>SANTANDER</td></tr><tr><td>S2</td><td>92702067</td><td>BANRISUL</td></tr><tr><td>S2</td><td>7237373</td><td>BANCO DO NORDESTE DO BRASIL S.A.</td></tr><tr><td>S2</td><td>33657248</td><td>BNDES</td></tr><tr><td>S2</td><td>33479023</td><td>CITIBANK</td></tr><tr><td>S2</td><td>33987793</td><td>CREDIT SUISSE</td></tr><tr><td>S2</td><td>58160789</td><td>SAFRA</td></tr><tr><td>S2</td><td>59588111</td><td>VOTORANTIM</td></tr><tr><td>S3</td><td>28195667</td><td>ABC-BRASIL</td></tr><tr><td>S3</td><td>60770336</td><td>ALFA</td></tr><tr><td>S3</td><td>655522</td><td>APE POUPEX</td></tr><tr><td>S3</td><td>2992446</td><td>BANCO CNH INDUSTRIAL CAPITAL S.A</td></tr><tr><td>S3</td><td>2038232</td><td>BANCOOB</td></tr><tr><td>S3</td><td>28127603</td><td>BANESTES</td></tr><tr><td>S3</td><td>31597552</td><td>BANCO CLASSICO S.A.</td></tr><tr><td>S3</td><td>8357240</td><td>BANCO CSF S.A.</td></tr><tr><td>S3</td><td>4902979</td><td>BANCO DA AMAZONIA S.A.</td></tr><tr><td>S3</td><td>62232889</td><td>BANCO DAYCOVAL S.A</td></tr><tr><td>S3</td><td>38486817</td><td>BANCO DES. DE MG S.A.</td></tr><tr><td>S3</td><td>58616418</td><td>BANCO FIBRA S.A.</td></tr><tr><td>S3</td><td>1023570</td><td>BANCO RABOBANK INTL BRASIL S.A.</td></tr><tr><td>S3</td><td>60518222</td><td>BANCO SUMITOMO MITSUI BRASIL S.A.</td></tr><tr><td>S3</td><td>60498557</td><td>BANCO TOKYO-MITSUBISHI BM S.A.</td></tr><tr><td>S3</td><td>92816560</td><td>BD REGIONAL DO EXTREMO SUL</td></tr><tr><td>S3</td><td>61186680</td><td>BMG</td></tr><tr><td>S3</td><td>1522368</td><td>BNP PARIBAS</td></tr><tr><td>S3</td><td>62073200</td><td>BOFA MERRILL LYNCH</td></tr><tr><td>S3</td><td>208</td><td>BRB</td></tr><tr><td>S3</td><td>7450604</td><td>CCB</td></tr><tr><td>S3</td><td>87437687</td><td>COOPERATIVA CENTRAL DE CREDITO DO RIO GRANDE DO SUL E SANTA CATARINA - CENTRAL SICREDI SUL</td></tr><tr><td>S3</td><td>80230774</td><td>COOPERATIVA CENTRAL DE CREDITO E INVESTIMENTO DOS ESTADOS DO PARANA, SAO PAULO E RIO DE JANEIRO - CENTRAL SICREDI PR/SP/RJ</td></tr><tr><td>S3</td><td>75647891</td><td>CREDIT AGRICOLE</td></tr><tr><td>S3</td><td>62331228</td><td>DEUTSCHE</td></tr><tr><td>S3</td><td>59274605</td><td>GMAC</td></tr><tr><td>S3</td><td>4332281</td><td>GOLDMAN SACHS</td></tr><tr><td>S3</td><td>34111187</td><td>HAITONG</td></tr><tr><td>S3</td><td>49336860</td><td>ING</td></tr><tr><td>S3</td><td>33172537</td><td>JP MORGAN CHASE</td></tr><tr><td>S3</td><td>17184037</td><td>MERCANTIL DO BRASIL</td></tr><tr><td>S3</td><td>60814191</td><td>MERCEDES-BENZ</td></tr><tr><td>S3</td><td>2801938</td><td>MORGAN STANLEY</td></tr><tr><td>S3</td><td>92894922</td><td>ORIGINAL</td></tr><tr><td>S3</td><td>59285411</td><td>PAN</td></tr><tr><td>S3</td><td>62144175</td><td>PINE</td></tr><tr><td>S3</td><td>1181521</td><td>SICREDI</td></tr><tr><td>S3</td><td>61533584</td><td>SOCIETE GENERALE</td></tr><tr><td>S3</td><td>59109165</td><td>VOLKSWAGEN</td></tr><tr><td>S4</td><td>33824012</td><td>ADVALOR DTVM LTDA</td></tr><tr><td>S4</td><td>92856905</td><td>ADVANCED CC LTDA</td></tr><tr><td>S4</td><td>10663610</td><td>AF DESENVOLVE SP S.A.</td></tr><tr><td>S4</td><td>82937293</td><td>AF DO ESTADO DE SC S.A.</td></tr><tr><td>S4</td><td>13178690</td><td>AF ESTADO DE PERNAMBUCO S.A.</td></tr><tr><td>S4</td><td>3584906</td><td>AF PARAN�</td></tr><tr><td>S4</td><td>10769660</td><td>AFAL S.A.</td></tr><tr><td>S4</td><td>3183937</td><td>AFEAM</td></tr><tr><td>S4</td><td>2929977</td><td>AG. FOMENTO AMAPA S.A.</td></tr><tr><td>S4</td><td>3058464</td><td>AG. FOMENTO ESTADO DE RORAIMA</td></tr><tr><td>S4</td><td>5474540</td><td>AG. FOMENTO ESTADO DO TOCANTINS</td></tr><tr><td>S4</td><td>3848103</td><td>AGENCIA DE FOMENTO DO RN S.A.</td></tr><tr><td>S4</td><td>6284531</td><td>AG�NCIA DE FOMENTO MATO GROSSO</td></tr><tr><td>S4</td><td>5940203</td><td>AGENCIA FOMENTO EST RJ S.A.</td></tr><tr><td>S4</td><td>3918382</td><td>AGENCIA FOMENTO GOIAS</td></tr><tr><td>S4</td><td>10664513</td><td>AGIPLAN FINANCEIRA S.A. - CFI</td></tr><tr><td>S4</td><td>250699</td><td>AGK CC S.A.</td></tr><tr><td>S4</td><td>36321990</td><td>AGORACRED S/A SCFI</td></tr><tr><td>S4</td><td>2678955</td><td>AKRO DTVM S.A.</td></tr><tr><td>S4</td><td>5452073</td><td>ALBATROSS CCV S.A</td></tr><tr><td>S4</td><td>3882245</td><td>ALPES CCTVM LTDA</td></tr><tr><td>S4</td><td>17312661</td><td>AMARIL FRANKLIN CTV LTDA</td></tr><tr><td>S4</td><td>16927221</td><td>AMAZ�NIA CC LTDA.</td></tr><tr><td>S4</td><td>48795256</td><td>ANDBANK</td></tr><tr><td>S4</td><td>12719654</td><td>APEAL CREDITO IMOBILIARIO S/A</td></tr><tr><td>S4</td><td>4684647</td><td>ARC CORRETORA CAMBIO S.A.</td></tr><tr><td>S4</td><td>14425205</td><td>�TICO DTVM LTDA.</td></tr><tr><td>S4</td><td>33775974</td><td>ATIVA S.A. INVESTIMENTOS CCTVM</td></tr><tr><td>S4</td><td>5956581</td><td>ATRIA S.A. - CFI</td></tr><tr><td>S4</td><td>3443143</td><td>AVIPAM CC LTDA.</td></tr><tr><td>S4</td><td>23862762</td><td>AVISTA S.A. CFI</td></tr><tr><td>S4</td><td>25280945</td><td>AVS CC LTDA.</td></tr><tr><td>S4</td><td>73622748</td><td>B & T ASSOCIADOS CC LTDA.</td></tr><tr><td>S4</td><td>2885855</td><td>BADESUL DESENVOLVIMENTO AF/RS</td></tr><tr><td>S4</td><td>61688131</td><td>BALUARTE SA CC</td></tr><tr><td>S4</td><td>997185</td><td>BANCO BM&FBOVESPA</td></tr><tr><td>S4</td><td>62237425</td><td>BANCO FIDIS</td></tr><tr><td>S4</td><td>34270520</td><td>BANCO IBM S.A.</td></tr><tr><td>S4</td><td>23903068</td><td>BANCO KOMATSU DO BRASIL</td></tr><tr><td>S4</td><td>7441209</td><td>BANCO MONEO S.A.</td></tr><tr><td>S4</td><td>40429946</td><td>BANCO PORTO REAL DE INVEST.S.A</td></tr><tr><td>S4</td><td>517645</td><td>BANCO RIBEIR�O PRETO</td></tr><tr><td>S4</td><td>795423</td><td>BANCO SEMEAR</td></tr><tr><td>S4</td><td>7679404</td><td>BANCO TOP�ZIO S.A.</td></tr><tr><td>S4</td><td>9526594</td><td>BANCO VIPAL</td></tr><tr><td>S4</td><td>33884941</td><td>BANIF</td></tr><tr><td>S4</td><td>61146577</td><td>BARCLAYS</td></tr><tr><td>S4</td><td>556603</td><td>BARIGUI</td></tr><tr><td>S4</td><td>15114366</td><td>BBM</td></tr><tr><td>S4</td><td>45283173</td><td>BBVA BRASIL BI S.A.</td></tr><tr><td>S4</td><td>92874270</td><td>BANCO A.J. RENNER S.A.</td></tr><tr><td>S4</td><td>3532415</td><td>BANCO ABN AMRO S.A.</td></tr><tr><td>S4</td><td>54403563</td><td>BANCO ARBI S.A.</td></tr><tr><td>S4</td><td>15173776</td><td>BANCO CAPITAL S.A.</td></tr><tr><td>S4</td><td>3609817</td><td>BANCO CARGILL S.A.</td></tr><tr><td>S4</td><td>2658435</td><td>BANCO CATERPILLAR S.A.</td></tr><tr><td>S4</td><td>33132044</td><td>BANCO CEDULA S.A.</td></tr><tr><td>S4</td><td>10690848</td><td>BANCO DA CHINA BRASIL S.A.</td></tr><tr><td>S4</td><td>5040481</td><td>BANCO DE LAGE LANDEN BRASIL S.A.</td></tr><tr><td>S4</td><td>28145829</td><td>BANCO DES. DO ES S.A.</td></tr><tr><td>S4</td><td>13009717</td><td>BANCO DO EST. DE SE S.A.</td></tr><tr><td>S4</td><td>4913711</td><td>BANCO DO EST. DO PA S.A.</td></tr><tr><td>S4</td><td>61348538</td><td>BANCO FICSA S.A.</td></tr><tr><td>S4</td><td>90731688</td><td>BANCO FORD S.A.</td></tr><tr><td>S4</td><td>31880826</td><td>BANCO GUANABARA S.A.</td></tr><tr><td>S4</td><td>33588252</td><td>BANCO INDUSCRED DE INVESTIM. S/A</td></tr><tr><td>S4</td><td>7656500</td><td>BANCO KDB BRASIL S.A.</td></tr><tr><td>S4</td><td>2318507</td><td>BANCO KEB DO BRASIL SA</td></tr><tr><td>S4</td><td>33042151</td><td>BANCO LA NACION ARGENTINA</td></tr><tr><td>S4</td><td>44189447</td><td>BANCO LA PROVINCIA B AIRES BCE</td></tr><tr><td>S4</td><td>59118133</td><td>BANCO LUSO BRASILEIRO S.A.</td></tr><tr><td>S4</td><td>80271455</td><td>BANCO MAXINVEST S.A.</td></tr><tr><td>S4</td><td>30723886</td><td>BANCO MODAL S.A.</td></tr><tr><td>S4</td><td>253448</td><td>BANCO POTTENCIAL S.A.</td></tr><tr><td>S4</td><td>51938876</td><td>BANCO REP ORIENTAL URUGUAY BCE</td></tr><tr><td>S4</td><td>4866275</td><td>BANCO STANDARD INV S.A.</td></tr><tr><td>S4</td><td>3215790</td><td>BANCO TOYOTA DO BRASIL S.A.</td></tr><tr><td>S4</td><td>17351180</td><td>BANCO TRIANGULO S.A.</td></tr><tr><td>S4</td><td>57839805</td><td>BANCO TRICURY S.A.</td></tr><tr><td>S4</td><td>15357060</td><td>BANCO WOORI BANK DO BRASIL S.A.</td></tr><tr><td>S4</td><td>20443996</td><td>BECKER FINANCEIRA SA - CFI</td></tr><tr><td>S4</td><td>13059145</td><td>BEXS</td></tr><tr><td>S4</td><td>33862244</td><td>BGC LIQUIDEZ DTVM LTDA</td></tr><tr><td>S4</td><td>11285104</td><td>BIORC FINANCEIRA - CFI S.A.</td></tr><tr><td>S4</td><td>4452473</td><td>BMW</td></tr><tr><td>S4</td><td>42272526</td><td>BNY MELLON</td></tr><tr><td>S4</td><td>6373777</td><td>BOA VIAGEM SCC LTDA.</td></tr><tr><td>S4</td><td>71027866</td><td>BONSUCESSO</td></tr><tr><td>S4</td><td>61033106</td><td>BPN BRASIL BM S.A.</td></tr><tr><td>S4</td><td>13220493</td><td>BR PARTNERS</td></tr><tr><td>S4</td><td>45246410</td><td>BRASIL PLURAL</td></tr><tr><td>S4</td><td>44077014</td><td>BR-CAPITAL DTVM S.A.</td></tr><tr><td>S4</td><td>12865507</td><td>BRICKELL S.A. CFI</td></tr><tr><td>S4</td><td>13486793</td><td>BRL TRUST DTVM SA</td></tr><tr><td>S4</td><td>16944141</td><td>BROKER BRASIL CC LTDA.</td></tr><tr><td>S4</td><td>33923111</td><td>BROOKFIELD</td></tr><tr><td>S4</td><td>17904906</td><td>BRX CC LTDA.</td></tr><tr><td>S4</td><td>10694628</td><td>C H B - CIA HIPOT. BRASILEIRA</td></tr><tr><td>S4</td><td>33466988</td><td>CAIXA GERAL</td></tr><tr><td>S4</td><td>14652687</td><td>CAMBIALL CASH CC LTDA.</td></tr><tr><td>S4</td><td>14190547</td><td>CAMBIONET CC LTDA</td></tr><tr><td>S4</td><td>62237649</td><td>CAROL DTVM LTDA.</td></tr><tr><td>S4</td><td>9313766</td><td>CARUANA SCFI</td></tr><tr><td>S4</td><td>15761217</td><td>CC A�ORIANA LTDA.</td></tr><tr><td>S4</td><td>4243780</td><td>CENTRAL DAS COOPERATIVAS DE CR�DITO DO BRASIL CENTRAL, AMAZONAS OCIDENTAL E MUNIC�PIO DE UB�</td></tr><tr><td>S4</td><td>62931522</td><td>CENTRAL DAS COOPERATIVAS DE CR�DITO DO ESTADO DE S�O PAULO - SICOOB CENTRAL CECRESP</td></tr><tr><td>S4</td><td>106180</td><td>CENTRAL DAS COOPERATIVAS DE CR�DITO DOS ESTADOS DE MATO GROSSO E MATO GROSSO DO SUL</td></tr><tr><td>S4</td><td>3618104</td><td>CENTRAL DAS COOPERATIVAS DE CREDITO MUTUO DO RIO GRANDE DO SUL</td></tr><tr><td>S4</td><td>5036532</td><td>CENTRAL DAS COOPERATIVAS DE CREDITO UNICOOB - SICOOB CENTRAL UNICOOB</td></tr><tr><td>S4</td><td>309024</td><td>CENTRAL DAS COOPERATIVAS DE ECONOMIA E CREDITO DO ESTADO DE MINAS GERAIS LTDA. - SICOOB CENTRAL CECREMGE</td></tr><tr><td>S4</td><td>692214</td><td>CENTRAL DAS COOPERATIVAS DE ECONOMIA E CR�DITO DO PLANALTO CENTRAL LTDA - SICOOB PLANALTO CENTRAL</td></tr><tr><td>S4</td><td>1634601</td><td>CENTRAL DE COOPERATIVAS DE ECONOMIA E CR�DITO M�TUO DO ESTADO DO RIO GRANDE DO SUL LTDA - UNICRED CENTRAL RS</td></tr><tr><td>S4</td><td>18539102</td><td>CHG-MERIDIAN DO BRASIL AM S.A.</td></tr><tr><td>S4</td><td>16657210</td><td>CHLOE DTVM LTDA.</td></tr><tr><td>S4</td><td>2685483</td><td>CM CAPITAL MARKETS</td></tr><tr><td>S4</td><td>53263331</td><td>COBANSA CH S.A.</td></tr><tr><td>S4</td><td>9512542</td><td>CODEPE CVC S.A.</td></tr><tr><td>S4</td><td>336036</td><td>COINVALORES</td></tr><tr><td>S4</td><td>460065</td><td>COLUNA S.A. DTVM</td></tr><tr><td>S4</td><td>23522214</td><td>COMMERZBANK BRASIL</td></tr><tr><td>S4</td><td>87091716</td><td>COMPANHIA PROVINCIA DE CREDITO IMOBILIARIO</td></tr><tr><td>S4</td><td>52904364</td><td>CONCORDIA SA CVMC COMMODITIES</td></tr><tr><td>S4</td><td>18287740</td><td>CONECTA CC LTDA</td></tr><tr><td>S4</td><td>17635177</td><td>CONEXION CC LTDA.</td></tr><tr><td>S4</td><td>10398952</td><td>CONFEDERACAO NACIONAL DAS COOPERATIVAS CENTRAIS DE CREDITO E ECONOMIA FAMILIAR E SOLIDARIA - CONFESOL</td></tr><tr><td>S4</td><td>315557</td><td>CONFEDERA��O NACIONAL DAS COOPERATIVAS CENTRAIS UNICRED'S - UNICRED DO BRASIL</td></tr><tr><td>S4</td><td>11703662</td><td>CONFIDENCE</td></tr><tr><td>S4</td><td>15168152</td><td>CONSEGTUR CC LTDA</td></tr><tr><td>S4</td><td>95424891</td><td>COOPERATIVA   DE   CR�DITO   DE  LIVRE  ADMISS�O  DE  ASSOCIADOS DO VALE DO RIO PARDO - SICREDI VALE DO RIO PARDO RS</td></tr><tr><td>S4</td><td>34148882</td><td>COOPERATIVA CENTRAL DE CR�DITO DA BAHIA - SICOOB CENTRAL BA</td></tr><tr><td>S4</td><td>33416108</td><td>COOPERATIVA CENTRAL DE CR�DITO DE GOI�S LTDA</td></tr><tr><td>S4</td><td>33737818</td><td>COOPERATIVA CENTRAL DE CR�DITO DE MATO GROSSO DO SUL, GOI�S, DISTRITO FEDERAL E TOCANTINS - CENTRAL SICREDI BRASIL CENTRAL</td></tr><tr><td>S4</td><td>25683434</td><td>COOPERATIVA CENTRAL DE CR�DITO DE MINAS GERAIS LTDA. - SICOOB CENTRAL CREDIMINAS</td></tr><tr><td>S4</td><td>80160260</td><td>COOPERATIVA CENTRAL DE CR�DITO DE SANTA CATARINA E RIO GRANDE DO SUL - SICOOB CENTRAL SC/RS</td></tr><tr><td>S4</td><td>33667205</td><td>COOPERATIVA CENTRAL DE CR�DITO DO CENTRO NORTE DO BRASIL   CENTRAL SICREDI CENTRO NORTE</td></tr><tr><td>S4</td><td>32428294</td><td>COOPERATIVA CENTRAL DE CREDITO DO ESPIRITO SANTO - SICOOB CENTRAL ES</td></tr><tr><td>S4</td><td>63917579</td><td>COOPERATIVA CENTRAL DE CR�DITO DO ESTADO DE S�O PAULO - SICOOB S�O PAULO</td></tr><tr><td>S4</td><td>3502131</td><td>COOPERATIVA CENTRAL DE CR�DITO DO NORTE DO BRASIL - SICOOB NORTE</td></tr><tr><td>S4</td><td>70119680</td><td>COOPERATIVA CENTRAL DE CR�DITO DO NORTE/NORDESTE � CENTRAL SICREDI NORTE/NORDESTE</td></tr><tr><td>S4</td><td>14568725</td><td>COOPERATIVA CENTRAL DE CR�DITO DO RIO DE JANEIRO LTDA.</td></tr><tr><td>S4</td><td>4632856</td><td>COOPERATIVA CENTRAL DE CR�DITO NOROESTE BRASILEIRO LTDA.</td></tr><tr><td>S4</td><td>21198087</td><td>COOPERATIVA CENTRAL DE CREDITO RURAL COM INTERA��O SOLID�RIA   CENTRAL CRESOL SICOPER</td></tr><tr><td>S4</td><td>1401771</td><td>COOPERATIVA CENTRAL DE CR�DITO RURAL COM INTERA��O SOLID�RIA - CENTRAL CRESOL BASER</td></tr><tr><td>S4</td><td>7202627</td><td>COOPERATIVA CENTRAL DE CR�DITO RURAL COM INTERA��O SOLID�RIA - CRESOL CENTRAL SC/RS</td></tr><tr><td>S4</td><td>5463212</td><td>COOPERATIVA CENTRAL DE CR�DITO URBANO - CECRED</td></tr><tr><td>S4</td><td>543968</td><td>COOPERATIVA CENTRAL DE ECONOMIA E CR�DITO M�TUO DAS UNICRED�S DE SANTA CATARINA E DO PARAN� LTDA � UNICRED CENTRAL SC/PR</td></tr><tr><td>S4</td><td>73085573</td><td>COOPERATIVA CENTRAL DE ECONOMIA E CR�DITO M�TUO DAS UNICREDS DO ESTADO DE S�O PAULO - UNICRED CENTRAL SP</td></tr><tr><td>S4</td><td>86774775</td><td>COOPERATIVA CENTRAL DE ECONOMIA E CR�DITO M�TUO DAS UNICREDS DO ESTADO DO RIO DE JANEIRO E DO MATO GROSSO LTDA   UNICRED CENTRAL RJ/MT</td></tr><tr><td>S4</td><td>53935029</td><td>COOPERATIVA DE CR�DITO COOCRELIVRE</td></tr><tr><td>S4</td><td>54037916</td><td>COOPERATIVA DE CREDITO CREDICITRUS</td></tr><tr><td>S4</td><td>67096909</td><td>COOPERATIVA DE CREDITO DE LIVRE ADMISSAO DA ALTA MOGIANA</td></tr><tr><td>S4</td><td>44469161</td><td>COOPERATIVA DE CR�DITO DE LIVRE ADMISS�O DA REGI�O DE GUARIBA</td></tr><tr><td>S4</td><td>25798596</td><td>COOPERATIVA DE CR�DITO DE LIVRE ADMISS�O DA REGI�O DE VARGINHA LTDA - SICOOB CREDIVAR</td></tr><tr><td>S4</td><td>87795639</td><td>COOPERATIVA DE CR�DITO DE LIVRE ADMISS�O DE ASSOCIADOS ALIAN�A RS/SC - SICREDI ALIAN�A RS/SC</td></tr><tr><td>S4</td><td>87779625</td><td>COOPERATIVA DE CR�DITO DE LIVRE ADMISS�O DE ASSOCIADOS ALTO JACU� - SICREDI ALTO JACU� RS</td></tr><tr><td>S4</td><td>87733770</td><td>COOPERATIVA DE CR�DITO DE LIVRE ADMISS�O DE ASSOCIADOS ALTO URUGUAI - SICREDI ALTO URUGUAI RS/SC</td></tr><tr><td>S4</td><td>92555150</td><td>COOPERATIVA DE CR�DITO DE LIVRE ADMISS�O DE ASSOCIADOS ALTOS DA SERRA - SICREDI ALTOS DA SERRA RS/SC</td></tr><tr><td>S4</td><td>87900601</td><td>COOPERATIVA DE CR�DITO DE LIVRE ADMISS�O DE ASSOCIADOS BOTUCARA� - SICREDI BOTUCARA� RS</td></tr><tr><td>S4</td><td>88099247</td><td>COOPERATIVA DE CR�DITO DE LIVRE ADMISS�O DE ASSOCIADOS CELEIRO - SICREDI CELEIRO RS/SC</td></tr><tr><td>S4</td><td>3566655</td><td>COOPERATIVA DE CR�DITO DE LIVRE ADMISS�O DE ASSOCIADOS CELEIRO CENTRO OESTE - SICREDI CELEIRO CENTRO OESTE</td></tr><tr><td>S4</td><td>88471024</td><td>COOPERATIVA DE CR�DITO DE LIVRE ADMISS�O DE ASSOCIADOS CENTRO LESTE - SICREDI CENTRO LESTE RS</td></tr><tr><td>S4</td><td>95594941</td><td>COOPERATIVA DE CR�DITO DE LIVRE ADMISS�O DE ASSOCIADOS DA REGI�O CENTRO DO RGS - SICREDI REGI�O CENTRO</td></tr><tr><td>S4</td><td>89468565</td><td>COOPERATIVA DE CR�DITO DE LIVRE ADMISS�O DE ASSOCIADOS DA REGI�O DA PRODU��O - SICREDI REGI�O DA PRODU��O</td></tr><tr><td>S4</td><td>6332931</td><td>COOPERATIVA DE CR�DITO DE LIVRE ADMISS�O DE ASSOCIADOS DA REGI�O SUDOESTE DE GOI�S - SICREDI SUDOESTE GO</td></tr><tr><td>S4</td><td>90497256</td><td>COOPERATIVA DE CR�DITO DE LIVRE ADMISS�O DE ASSOCIADOS DA ZONA SUL - SICREDI ZONA SUL RS</td></tr><tr><td>S4</td><td>87900411</td><td>COOPERATIVA DE CR�DITO DE LIVRE ADMISS�O DE ASSOCIADOS DE ESPUMOSO - SICREDI ESPUMOSO RS</td></tr><tr><td>S4</td><td>89990501</td><td>COOPERATIVA DE CR�DITO DE LIVRE ADMISS�O DE ASSOCIADOS DE IBIRAIARAS - SICREDI IBIRAIARAS - RS</td></tr><tr><td>S4</td><td>33021064</td><td>COOPERATIVA DE CR�DITO DE LIVRE ADMISS�O DE ASSOCIADOS DO ARAGUAIA E XINGU - SICREDI ARAXINGU</td></tr><tr><td>S4</td><td>26408161</td><td>COOPERATIVA DE CR�DITO DE LIVRE ADMISS�O DE ASSOCIADOS DO CENTRO SUL DO MATO GROSSO DO SUL - SICREDI CENTRO-SUL MS</td></tr><tr><td>S4</td><td>10772401</td><td>COOPERATIVA DE CR�DITO DE LIVRE ADMISS�O DE ASSOCIADOS DO NORDESTE DO PAR� - SICREDI NORDESTE PA</td></tr><tr><td>S4</td><td>33022690</td><td>COOPERATIVA DE CREDITO DE LIVRE ADMISS�O DE ASSOCIADOS DO NOROESTE DE MATO GROSSO E ACRE - SICREDI NOROESTE MT E ACRE</td></tr><tr><td>S4</td><td>87780268</td><td>COOPERATIVA DE CR�DITO DE LIVRE ADMISS�O DE ASSOCIADOS DO NORTE DO RIO GRANDE DO SUL E OESTE DE SANTA CATARINA - SICREDI NORTE RS/SC</td></tr><tr><td>S4</td><td>10736214</td><td>COOPERATIVA DE CR�DITO DE LIVRE ADMISS�O DE ASSOCIADOS DO PLANALTO CENTRAL - SICREDI PLANALTO CENTRAL</td></tr><tr><td>S4</td><td>26549311</td><td>COOPERATIVA DE CR�DITO DE LIVRE ADMISS�O DE ASSOCIADOS DO SUL DE MATO GROSSO - SICREDI SUL MT</td></tr><tr><td>S4</td><td>3793242</td><td>COOPERATIVA DE CR�DITO DE LIVRE ADMISS�O DE ASSOCIADOS DO SUL DO ESTADO DE SANTA CATARINA   SICREDI SUL SC</td></tr><tr><td>S4</td><td>10348181</td><td>COOPERATIVA DE CR�DITO DE LIVRE ADMISS�O DE ASSOCIADOS DO VALE DO ITAJA� E LITORAL CATARINENSE - SICREDI VALE LITORAL SC</td></tr><tr><td>S4</td><td>70431630</td><td>COOPERATIVA DE CR�DITO DE LIVRE ADMISS�O DE ASSOCIADOS DO VALE DO JURUENA - SICREDI UNIVALES MT/RO</td></tr><tr><td>S4</td><td>95213211</td><td>COOPERATIVA DE CR�DITO DE LIVRE ADMISS�O DE ASSOCIADOS ENCOSTA SUPERIOR DO NORDESTE RS - SICREDI NORDESTE RS</td></tr><tr><td>S4</td><td>87781530</td><td>COOPERATIVA DE CR�DITO DE LIVRE ADMISS�O DE ASSOCIADOS INTEGRA��O DE ESTADOS DO RIO GRANDE DO SUL E SANTA CATARINA - SICREDI INTEGRA��O DE ESTADOS RS/SC</td></tr><tr><td>S4</td><td>87510475</td><td>COOPERATIVA DE CR�DITO DE LIVRE ADMISS�O DE ASSOCIADOS INTEGRA��O ROTA DAS TERRAS - SICREDI INTEGRA��O ROTA DAS TERRAS RS</td></tr><tr><td>S4</td><td>89049738</td><td>COOPERATIVA DE CR�DITO DE LIVRE ADMISS�O DE ASSOCIADOS NOROESTE DO RIO GRANDE DO SUL - SICREDI NOROESTE RS</td></tr><tr><td>S4</td><td>37442605</td><td>COOPERATIVA DE CR�DITO DE LIVRE ADMISS�O DE ASSOCIADOS NORTE MATO-GROSSENSE - SICREDI NORTE MT</td></tr><tr><td>S4</td><td>87853206</td><td>COOPERATIVA DE CR�DITO DE LIVRE ADMISS�O DE ASSOCIADOS OURO BRANCO - SICREDI OURO BRANCO RS</td></tr><tr><td>S4</td><td>87733077</td><td>COOPERATIVA DE CR�DITO DE LIVRE ADMISS�O DE ASSOCIADOS PAMPA GA�CHO - SICREDI PAMPA GA�CHO</td></tr><tr><td>S4</td><td>26408187</td><td>COOPERATIVA DE CR�DITO DE LIVRE ADMISS�O DE ASSOCIADOS PANTANAL DO MATO GROSSO DO SUL - SICREDI PANTANAL MS</td></tr><tr><td>S4</td><td>88038260</td><td>COOPERATIVA DE CR�DITO DE LIVRE ADMISS�O DE ASSOCIADOS PLANALTO   SICREDI PLANALTO RS/SC</td></tr><tr><td>S4</td><td>88894548</td><td>COOPERATIVA DE CR�DITO DE LIVRE ADMISS�O DE ASSOCIADOS SERRO AZUL - SICREDI UNI�O RS</td></tr><tr><td>S4</td><td>24654881</td><td>COOPERATIVA DE CR�DITO DE LIVRE ADMISS�O DE ASSOCIADOS UNI�O DOS ESTADOS DE MATO GROSSO DO SUL, TOCANTINS E OESTE DA BAHIA - SICREDI UNI�O MS/TO</td></tr><tr><td>S4</td><td>32983165</td><td>COOPERATIVA DE CR�DITO DE LIVRE ADMISS�O DE ASSOCIADOS VALE DO CERRADO - SICREDI VALE DO CERRADO</td></tr><tr><td>S4</td><td>87780284</td><td>COOPERATIVA DE CR�DITO DE LIVRE ADMISS�O DE ASSOCIADOS VALE DO JAGUARI - SICREDI VALE DO JAGUARI RS</td></tr><tr><td>S4</td><td>966246</td><td>COOPERATIVA DE CR�DITO DE LIVRE ADMISS�O DE ITA�-PARANAPANEMA-AVAR�</td></tr><tr><td>S4</td><td>42873828</td><td>COOPERATIVA DE CR�DITO DE LIVRE ADMISS�O DO SUDOESTE DE MINAS GERAIS E NORDESTE DE S�O PAULO LTDA - SICOOB AGROCREDI</td></tr><tr><td>S4</td><td>67960229</td><td>COOPERATIVA DE CR�DITO DE LIVRE ADMISS�O DO VALE DO MOGI GUA�U E SUDOESTE PAULISTA - SICOOB CREDIGUA�U</td></tr><tr><td>S4</td><td>81099491</td><td>COOPERATIVA DE CR�DITO DE LIVRE ADMISS�O VALE DO PIQUIRI ABCD - SICREDI VALE DO PIQUIRI ABCD PR/SP</td></tr><tr><td>S4</td><td>54401286</td><td>COOPERATIVA DE CR�DITO DOS FORNECEDORES DE CANA, AGROPECUARISTAS E EMPRES�RIOS DA REGI�O DE PIRACICABA</td></tr><tr><td>S4</td><td>71328769</td><td>COOPERATIVA DE CR�DITO DOS PRODUTORES RURAIS E EMPRES�RIOS DO INTERIOR PAULISTA</td></tr><tr><td>S4</td><td>82527557</td><td>COOPERATIVA DE CR�DITO E DE INVESTIMENTO DE LIVRE ADMISS�O FRONTEIRAS DO IGUA�U E SUDESTE PAULISTA - SICREDI FRONTEIRAS PR/SC/SP</td></tr><tr><td>S4</td><td>79457883</td><td>COOPERATIVA DE CR�DITO E INVESTIMENTO DE LIVRE ADMISS�O AGROEMPRESARIAL - SICREDI AGROEMPRESARIAL PR/SP</td></tr><tr><td>S4</td><td>84974278</td><td>COOPERATIVA DE CR�DITO E INVESTIMENTO DE LIVRE ADMISS�O IGUA�U - SICREDI IGUA�U PR/SC/SP</td></tr><tr><td>S4</td><td>81054686</td><td>COOPERATIVA DE CR�DITO E INVESTIMENTO DE LIVRE ADMISS�O INTEGRA��O - SICREDI INTEGRA��O PR/SC</td></tr><tr><td>S4</td><td>76059997</td><td>COOPERATIVA DE CR�DITO E INVESTIMENTO DE LIVRE ADMISS�O PROGRESSO - SICREDI PROGRESSO PR/SP</td></tr><tr><td>S4</td><td>79342069</td><td>COOPERATIVA DE CR�DITO E INVESTIMENTO DE LIVRE ADMISS�O UNI�O PARAN�/S�O PAULO - SICREDI UNI�O PR/SP</td></tr><tr><td>S4</td><td>78414067</td><td>COOPERATIVA DE CR�DITO E INVESTIMENTO DE LIVRE ADMISS�O VANGUARDA DA REGI�O DAS CATARATAS DO IGUA�U E VALE DO PARA�BA - SICREDI VANGUARDA PR/SP/RJ</td></tr><tr><td>S4</td><td>2924977</td><td>COOPERATIVA DE CR�DITO M�TUO DOS PROFISSIONAIS M�DICOS E DA SA�DE DE CURITIBA E REGI�O METROPOLITANA - SICREDI MEDICRED PR</td></tr><tr><td>S4</td><td>8418804</td><td>COOPERATIVA DE CR�DITO SOLID�RIO DA AGRICULTURA FAMILIAR DO OESTE POTIGUAR - CREDIOESTE-SOL</td></tr><tr><td>S4</td><td>92796564</td><td>COOPERATIVA DE CR�DITO SUL RIOGRANDENSE - SICREDI UNI�O METROPOLITANA RS</td></tr><tr><td>S4</td><td>184068</td><td>COOPERATIVA DE CR�DITO UNICRED CENTRAL MULTIRREGIONAL LTDA. � UCM</td></tr><tr><td>S4</td><td>79052122</td><td>COOPERATIVA DE CREDITO, POUPAN�A E INVESTIMENTO ALIAN�A - SICREDI ALIAN�A PR/SP</td></tr><tr><td>S4</td><td>81466286</td><td>COOPERATIVA DE CR�DITO, POUPAN�A E INVESTIMENTO CAMPOS GERAIS - SICREDI CAMPOS GERAIS PR/SP</td></tr><tr><td>S4</td><td>87067757</td><td>COOPERATIVA DE CR�DITO, POUPAN�A E INVESTIMENTO CENTRO SERRA - SICREDI CENTRO SERRA RS</td></tr><tr><td>S4</td><td>89126130</td><td>COOPERATIVA DE CR�DITO, POUPAN�A E INVESTIMENTO DA REGI�O DOS VALES - SICREDI REGI�O DOS VALES RS</td></tr><tr><td>S4</td><td>90608712</td><td>COOPERATIVA DE CR�DITO, POUPAN�A E INVESTIMENTO DE CARLOS BARBOSA - SICREDI SERRANA RS</td></tr><tr><td>S4</td><td>91159764</td><td>COOPERATIVA DE CR�DITO, POUPAN�A E INVESTIMENTO DE LAJEADO - SICREDI VALE DO TAQUARI RS</td></tr><tr><td>S4</td><td>32995755</td><td>COOPERATIVA DE CR�DITO, POUPAN�A E INVESTIMENTO DO SUDOESTE MT/PA - SICREDI SUDOESTE MT/PA</td></tr><tr><td>S4</td><td>26529420</td><td>COOPERATIVA DE CR�DITO, POUPAN�A E INVESTIMENTO OURO VERDE DO MATO GROSSO � SICREDI OURO VERDE MT</td></tr><tr><td>S4</td><td>79086997</td><td>COOPERATIVA DE CR�DITO, POUPAN�A E INVESTIMENTO PARANAPANEMA PR/SP - SICREDI PARANAPANEMA PR/SP</td></tr><tr><td>S4</td><td>82065285</td><td>COOPERATIVA DE CREDITO, POUPAN�A E INVESTIMENTO PARQUE DAS ARAUCARIAS - SICREDI PARQUE DAS ARAUCARIAS PR/SC/SP</td></tr><tr><td>S4</td><td>91586982</td><td>COOPERATIVA DE CR�DITO, POUPAN�A E INVESTIMENTO SICREDI PIONEIRA RS � SICREDI PIONEIRA RS</td></tr><tr><td>S4</td><td>26555235</td><td>COOPERATIVA DE CR�DITO, POUPAN�A E INVESTIMENTO SORRISO - SICREDI CELEIRO DO MT</td></tr><tr><td>S4</td><td>33370115</td><td>COOPERATIVA DE ECONOMIA E CR�DITO M�TUO DOS EMPREGADOS DE FURNAS E DEMAIS EMPRESAS DO SISTEMA ELETROBR�S LTDA.</td></tr><tr><td>S4</td><td>62673470</td><td>COOPERATIVA DE ECONOMIA E CR�DITO M�TUO DOS POLICIAIS MILITARES E SERVIDORES DA SECRETARIA DOS NEG�CIOS DA SEGURAN�A P�BLICA DO ESTADO DE S�O PAULO</td></tr><tr><td>S4</td><td>80202872</td><td>CORREPARTI CC LTDA</td></tr><tr><td>S4</td><td>4623781</td><td>CORRET. AMAZONENSE CAMBIO LTDA</td></tr><tr><td>S4</td><td>62264924</td><td>CP & FRIZZO - DTVM LTDA</td></tr><tr><td>S4</td><td>81723108</td><td>CREDICOAMO CREDITO RURAL COOPERATIVA</td></tr><tr><td>S4</td><td>12599971</td><td>CREDIT� S.A. CFI</td></tr><tr><td>S4</td><td>60779196</td><td>CREFISA S.A. CFI</td></tr><tr><td>S4</td><td>5883884</td><td>CSILATINA A.M. S.A.</td></tr><tr><td>S4</td><td>27406222</td><td>DACASA FINANCEIRA</td></tr><tr><td>S4</td><td>65645137</td><td>DASCAM CC LTDA</td></tr><tr><td>S4</td><td>77162881</td><td>DEBONI DTVM LTDA</td></tr><tr><td>S4</td><td>94968518</td><td>DECYSEO CC LTDA.</td></tr><tr><td>S4</td><td>15163587</td><td>DESENBAHIA AG FOMENTO BAHIA SA</td></tr><tr><td>S4</td><td>23511655</td><td>DEUTSCHE LEASING BRASIL AM S.A.</td></tr><tr><td>S4</td><td>62280490</td><td>DIBRAN DTVM LTDA</td></tr><tr><td>S4</td><td>33851064</td><td>DILLON S/A DTVM</td></tr><tr><td>S4</td><td>58158387</td><td>DIRECAO S.A. CFI</td></tr><tr><td>S4</td><td>10372647</td><td>DOMUS CH</td></tr><tr><td>S4</td><td>76641497</td><td>DOURADA CORRETORA</td></tr><tr><td>S4</td><td>62169875</td><td>EASYNVEST - T�TULO CV SA</td></tr><tr><td>S4</td><td>89784367</td><td>EBADIVAL - E BAGGIO DTVM LTDA</td></tr><tr><td>S4</td><td>17441197</td><td>ECONOMISA</td></tr><tr><td>S4</td><td>28048783</td><td>ELITE - CCVM LTDA</td></tr><tr><td>S4</td><td>17305319</td><td>ESC RUY LAGE SOC CT LTDA</td></tr><tr><td>S4</td><td>5351887</td><td>ESTRELA MINEIRA</td></tr><tr><td>S4</td><td>34190991</td><td>EUROINVEST S/A CCTVM</td></tr><tr><td>S4</td><td>19086249</td><td>EXECUTIVE CC LTDA.</td></tr><tr><td>S4</td><td>73302408</td><td>EXIM CC LTDA</td></tr><tr><td>S4</td><td>8673569</td><td>F D GOLD DTVM LTDA</td></tr><tr><td>S4</td><td>15581638</td><td>FACTA S.A. CFI</td></tr><tr><td>S4</td><td>32648370</td><td>FAIR CC S.A.</td></tr><tr><td>S4</td><td>53146221</td><td>FAM�LIA PAULISTA</td></tr><tr><td>S4</td><td>33644196</td><td>FATOR</td></tr><tr><td>S4</td><td>10280601</td><td>FIDUCIAL DTVM LTDA</td></tr><tr><td>S4</td><td>411939</td><td>FINAMAX S.A. CFI</td></tr><tr><td>S4</td><td>91669747</td><td>FINANSINOS S.A. CFI</td></tr><tr><td>S4</td><td>329598</td><td>FOCO DTVM LTDA</td></tr><tr><td>S4</td><td>40353377</td><td>FOURTRADE COR. DE CAMBIO LTDA</td></tr><tr><td>S4</td><td>13673855</td><td>FRAM CAPITAL DTVM S.A.</td></tr><tr><td>S4</td><td>71677850</td><td>FRENTE CC LTDA.</td></tr><tr><td>S4</td><td>18684408</td><td>FUTURAINVEST DTVM</td></tr><tr><td>S4</td><td>7253654</td><td>GAVEA DTVM LTDA</td></tr><tr><td>S4</td><td>11760553</td><td>GAZINCRED S.A. SCFI</td></tr><tr><td>S4</td><td>10749264</td><td>GDC PART SERV FIDUC DTVM LTDA</td></tr><tr><td>S4</td><td>92858380</td><td>GERAL CCVM LTDA</td></tr><tr><td>S4</td><td>10853017</td><td>GET MONEY CC LTDA</td></tr><tr><td>S4</td><td>21040668</td><td>GLOBAL EXCHANGE BR SOC. CC LTDA</td></tr><tr><td>S4</td><td>7631026</td><td>GOLCRED S/A - CFI</td></tr><tr><td>S4</td><td>23010182</td><td>GOOD CC LTDA</td></tr><tr><td>S4</td><td>65982589</td><td>GRACO C.C. S.A.</td></tr><tr><td>S4</td><td>33918160</td><td>GRADUAL CCTVM S.A.</td></tr><tr><td>S4</td><td>6339468</td><td>GRAZZIOTIN FINANCIADORA SA CFI</td></tr><tr><td>S4</td><td>24074692</td><td>GUITTA CC LTDA</td></tr><tr><td>S4</td><td>1788147</td><td>H.COMMCOR DTVM LTDA.</td></tr><tr><td>S4</td><td>17312083</td><td>H.H.PICCHIONI</td></tr><tr><td>S4</td><td>3634220</td><td>HONDA</td></tr><tr><td>S4</td><td>34974170</td><td>HOYA CVC LTDA.</td></tr><tr><td>S4</td><td>97406706</td><td>HP FINANCIAL SERVICES AM S.A</td></tr><tr><td>S4</td><td>7512441</td><td>HS FINANCEIRA</td></tr><tr><td>S4</td><td>53518684</td><td>HSBC</td></tr><tr><td>S4</td><td>9105360</td><td>ICAP DO BRASIL CTVM LTDA.</td></tr><tr><td>S4</td><td>72556996</td><td>ICARO CC LTDA</td></tr><tr><td>S4</td><td>3282508</td><td>ICATU DTVM LTDA</td></tr><tr><td>S4</td><td>17453575</td><td>ICBC DO BRASIL BM S.A.</td></tr><tr><td>S4</td><td>31895683</td><td>INDUSTRIAL DO BRASIL</td></tr><tr><td>S4</td><td>61024352</td><td>INDUSVAL</td></tr><tr><td>S4</td><td>3014007</td><td>INFINITY CCTVM S.A.</td></tr><tr><td>S4</td><td>34265629</td><td>INTERCAM CC LTDA</td></tr><tr><td>S4</td><td>416968</td><td>INTERMEDIUM</td></tr><tr><td>S4</td><td>55230916</td><td>INTESA SANPAOLO BRASIL S.A.</td></tr><tr><td>S4</td><td>62090873</td><td>INTL FCSTONE DTVM LTDA.</td></tr><tr><td>S4</td><td>15489568</td><td>INTRADER DTVM LTDA</td></tr><tr><td>S4</td><td>69078350</td><td>J ALVES CC LTDA</td></tr><tr><td>S4</td><td>14388334</td><td>J.MALUCELLI</td></tr><tr><td>S4</td><td>14035129</td><td>JGP DTVM LTDA.</td></tr><tr><td>S4</td><td>20283069</td><td>JN-MAXI CC LTDA.</td></tr><tr><td>S4</td><td>91884981</td><td>JOHN DEERE</td></tr><tr><td>S4</td><td>1852137</td><td>JSL A.M. S.A.</td></tr><tr><td>S4</td><td>34266668</td><td>KRAUS - SCC LTDA</td></tr><tr><td>S4</td><td>6040559</td><td>KREDILIG S.A. - CFI</td></tr><tr><td>S4</td><td>6132348</td><td>LABOR CC</td></tr><tr><td>S4</td><td>71590442</td><td>LASTRO RDV DTVM LTDA</td></tr><tr><td>S4</td><td>4836002</td><td>LEASEPLAN AM S.A.</td></tr><tr><td>S4</td><td>11271860</td><td>LEBES FINANCEIRA CFI SA</td></tr><tr><td>S4</td><td>7652226</td><td>LECCA</td></tr><tr><td>S4</td><td>61973863</td><td>LEROSA S.A. CVC</td></tr><tr><td>S4</td><td>50579044</td><td>LEVYCAM CCV LTDA</td></tr><tr><td>S4</td><td>24361690</td><td>LIMINE TRUST DTVM LTDA.</td></tr><tr><td>S4</td><td>15122605</td><td>LUMINA CC</td></tr><tr><td>S4</td><td>61723847</td><td>MAGLIANO S.A. CCVM</td></tr><tr><td>S4</td><td>33923798</td><td>M�XIMA</td></tr><tr><td>S4</td><td>15077393</td><td>MEGA CC LTDA.</td></tr><tr><td>S4</td><td>13839639</td><td>MELHOR CC LTDA.</td></tr><tr><td>S4</td><td>9464032</td><td>MIDWAY S.A. - SCFI</td></tr><tr><td>S4</td><td>12392983</td><td>MIRAE ASSET CCTVM LTDA</td></tr><tr><td>S4</td><td>61088183</td><td>MIZUHO</td></tr><tr><td>S4</td><td>97447304</td><td>MOMENTO DTVM LTDA.</td></tr><tr><td>S4</td><td>12063256</td><td>MONETAR DTVM</td></tr><tr><td>S4</td><td>34666362</td><td>MONOP�LIO CC LTDA.</td></tr><tr><td>S4</td><td>19307785</td><td>MSB BANK S.A. BANCO C�MBIO</td></tr><tr><td>S4</td><td>12586596</td><td>MULTIMONEY CC LTDA.</td></tr><tr><td>S4</td><td>25674235</td><td>MUNDINVEST S.A. - CCVM</td></tr><tr><td>S4</td><td>18941229</td><td>MUTUAL APETRIM CI S/A</td></tr><tr><td>S4</td><td>9274232</td><td>NATIXIS BRASIL S.A. BM</td></tr><tr><td>S4</td><td>4379829</td><td>NEGRESCO S.A. - CFI</td></tr><tr><td>S4</td><td>65635377</td><td>NGO ASSOCIADOS CC LTDA.</td></tr><tr><td>S4</td><td>76637263</td><td>NOMINAL DTVM LTDA</td></tr><tr><td>S4</td><td>4257795</td><td>NOVA FUTURA CTVM LTDA.</td></tr><tr><td>S4</td><td>43060029</td><td>NOVINVEST CVM LTDA</td></tr><tr><td>S4</td><td>74828799</td><td>NOVO BANCO CONTINENTAL S.A. - BM</td></tr><tr><td>S4</td><td>8609934</td><td>NOVO MUNDO CC S.A.</td></tr><tr><td>S4</td><td>40161713</td><td>NSG CAPITAL</td></tr><tr><td>S4</td><td>18145784</td><td>NUMATUR CC LTDA</td></tr><tr><td>S4</td><td>68742204</td><td>NUMBER ONE SCC LTDA.</td></tr><tr><td>S4</td><td>76633486</td><td>OLIVEIRA FRANCO SCVM</td></tr><tr><td>S4</td><td>36113876</td><td>OLIVEIRA TRUST DTVM S.A.</td></tr><tr><td>S4</td><td>11495073</td><td>OM DTVM LTDA</td></tr><tr><td>S4</td><td>92228410</td><td>OMNI</td></tr><tr><td>S4</td><td>7333726</td><td>ONNIX CC LTDA.</td></tr><tr><td>S4</td><td>1582158</td><td>OPPORTUNITY DTVM LTDA</td></tr><tr><td>S4</td><td>13293225</td><td>�RAMA DTVM S.A.</td></tr><tr><td>S4</td><td>92904564</td><td>ORLA DTVM S.A.</td></tr><tr><td>S4</td><td>78632767</td><td>OURINVEST</td></tr><tr><td>S4</td><td>73279093</td><td>PACIFIC INVEST DTVM LTDA</td></tr><tr><td>S4</td><td>3311443</td><td>PARATI - CFI S.A.</td></tr><tr><td>S4</td><td>20155248</td><td>PARMETAL DTVM LTDA</td></tr><tr><td>S4</td><td>59615005</td><td>PATA��O DTVM LTDA.</td></tr><tr><td>S4</td><td>17343682</td><td>PENTAGONO S/A DTVM</td></tr><tr><td>S4</td><td>43180355</td><td>PERNAMBUCANAS</td></tr><tr><td>S4</td><td>11758741</td><td>PETRA</td></tr><tr><td>S4</td><td>11836226</td><td>PIAU� FOMENTO</td></tr><tr><td>S4</td><td>92875780</td><td>PILLA CCVM LTDA</td></tr><tr><td>S4</td><td>806535</td><td>PLANNER</td></tr><tr><td>S4</td><td>17902616</td><td>POLO CC LTDA.</td></tr><tr><td>S4</td><td>4862600</td><td>PORTO SEGURO</td></tr><tr><td>S4</td><td>1800019</td><td>PORTOCRED S.A. - CFI</td></tr><tr><td>S4</td><td>36178887</td><td>PROSPER S/A CVC</td></tr><tr><td>S4</td><td>11476673</td><td>RANDON</td></tr><tr><td>S4</td><td>89960090</td><td>RB CAPITAL DTVM LTDA.</td></tr><tr><td>S4</td><td>4215594</td><td>RELIANCE DTVM LTDA.</td></tr><tr><td>S4</td><td>62287735</td><td>RENASCENCA DTVM LTDA</td></tr><tr><td>S4</td><td>68900810</td><td>RENDIMENTO</td></tr><tr><td>S4</td><td>13434335</td><td>RICO CTVM S.A.</td></tr><tr><td>S4</td><td>72600026</td><td>RIO BRAVO INV. DTVM LTDA</td></tr><tr><td>S4</td><td>42066258</td><td>RJI</td></tr><tr><td>S4</td><td>33603457</td><td>RODOBENS</td></tr><tr><td>S4</td><td>67391821</td><td>S. HAYATA CC S.A.</td></tr><tr><td>S4</td><td>5503849</td><td>SANTANA S.A. - CFI</td></tr><tr><td>S4</td><td>122327</td><td>SANTINVEST</td></tr><tr><td>S4</td><td>7747410</td><td>SAX S.A. CFI</td></tr><tr><td>S4</td><td>11417016</td><td>SCANIA</td></tr><tr><td>S4</td><td>29030467</td><td>SCOTIABANK BRASIL</td></tr><tr><td>S4</td><td>21148439</td><td>SEALANDAIR CC LTDA.</td></tr><tr><td>S4</td><td>11970623</td><td>SENFF S.A. - CFI</td></tr><tr><td>S4</td><td>17352220</td><td>SENSO CCVM S.A.</td></tr><tr><td>S4</td><td>42898825</td><td>SICOOB CREDICOM - COOPERATIVA DE ECONOMIA E CR�DITO M�TUO DOS M�DICOS E PROFISSIONAIS DA �REA DE SA�DE DE MINAS GERAIS LTDA.</td></tr><tr><td>S4</td><td>15227994</td><td>SIMPLIFIC PAVARINI</td></tr><tr><td>S4</td><td>16854999</td><td>SINGRATUR CC LTDA.</td></tr><tr><td>S4</td><td>22639377</td><td>SINOSSERRA S/A - SCFI</td></tr><tr><td>S4</td><td>17315359</td><td>SITA SCCVM S.A.</td></tr><tr><td>S4</td><td>50657675</td><td>SLW CVC LTDA</td></tr><tr><td>S4</td><td>3881423</td><td>SOCINAL S.A. CFI</td></tr><tr><td>S4</td><td>61820817</td><td>SOCOPA</td></tr><tr><td>S4</td><td>60889128</td><td>SOFISA</td></tr><tr><td>S4</td><td>8520517</td><td>SOL CC</td></tr><tr><td>S4</td><td>96477906</td><td>SOLIDEZ CCTVM LTDA.</td></tr><tr><td>S4</td><td>68757681</td><td>SOLIDUS S.A. CCVM</td></tr><tr><td>S4</td><td>4814563</td><td>SOROCRED CFI S.A.</td></tr><tr><td>S4</td><td>61739629</td><td>SPINELLI S.A. CVMC</td></tr><tr><td>S4</td><td>11932017</td><td>STANDARD CHARTERED BI S.A.</td></tr><tr><td>S4</td><td>17359351</td><td>STARA FINANCEIRA S.A. - CFI</td></tr><tr><td>S4</td><td>32206435</td><td>SUL AMERICA INVEST DTVM S.A.</td></tr><tr><td>S4</td><td>66616632</td><td>TATICA S.A. DTVM</td></tr><tr><td>S4</td><td>58506221</td><td>TEND�NCIA CCTVM LTDA</td></tr><tr><td>S4</td><td>3751794</td><td>TERRA INVESTIMENTOS DTVM</td></tr><tr><td>S4</td><td>9473806</td><td>TODESCREDI S/A - CFI</td></tr><tr><td>S4</td><td>57582264</td><td>TORRE CC LTDA</td></tr><tr><td>S4</td><td>2992317</td><td>TREVISO CC S.A.</td></tr><tr><td>S4</td><td>61747085</td><td>TULLETT PREBON BRASIL CVC LTDA</td></tr><tr><td>S4</td><td>15482499</td><td>TURCAMBIO CC LTDA.</td></tr><tr><td>S4</td><td>16789470</td><td>TURISCAM CC LTDA.</td></tr><tr><td>S4</td><td>18520834</td><td>UBS</td></tr><tr><td>S4</td><td>33968066</td><td>UM INVESTIMENTOS S/A CTVM</td></tr><tr><td>S4</td><td>17508380</td><td>UNI�O ALTERNATIVA CC LTDA.</td></tr><tr><td>S4</td><td>3046391</td><td>UNIPRIME CENTRAL - CENTRAL INTERESTADUAL DE COOPERATIVAS DE CREDITO LTDA.</td></tr><tr><td>S4</td><td>2398976</td><td>UNIPRIME NORTE DO PARANA - COOPERATIVA DE ECONOMIA E CR�DITO M�TUO DOS M�DICOS, PROFISSIONAIS DAS CI�NCIAS E DAS ARTES E EMPRES�RIOS LTDA.</td></tr><tr><td>S4</td><td>5192316</td><td>VIA CERTA FINANCIADORA S.A. - CFI</td></tr><tr><td>S4</td><td>14388516</td><td>VIC DTVM S/A</td></tr><tr><td>S4</td><td>21112244</td><td>VINCI DTVM LTDA.</td></tr><tr><td>S4</td><td>17772370</td><td>VIPS CC LTDA.</td></tr><tr><td>S4</td><td>4062902</td><td>VISION S.A. CC</td></tr><tr><td>S4</td><td>58017179</td><td>VOLVO</td></tr><tr><td>S4</td><td>22610500</td><td>VORTX DTVM LTDA.</td></tr><tr><td>S4</td><td>78626983</td><td>VR</td></tr><tr><td>S4</td><td>61769790</td><td>WALPIRES S.A. CCTVM</td></tr><tr><td>S4</td><td>7437241</td><td>WESTERN ASSET DTVM LTDA.</td></tr><tr><td>S4</td><td>13720915</td><td>WESTERN UNION</td></tr><tr><td>S4</td><td>2332886</td><td>XP INVESTIMENTOS</td></tr><tr><td>S4</td><td>10371492</td><td>YAMAHA MOTOR</td></tr><tr><td>S5</td><td>2814832</td><td>A COOPERATIVA DE ECONOMIA E CR�DITO M�TUO DOS EMPREGADOS DA MERCK SHARP & DOHME FARMAC�UTICA ? COOPERMSD</td></tr><tr><td>S5</td><td>13058743</td><td>ACCESSCR�DITO SCMEPP</td></tr><tr><td>S5</td><td>4772908</td><td>ATLANTA SCM LTDA</td></tr><tr><td>S5</td><td>7835244</td><td>BNS SCM LTDA.</td></tr><tr><td>S5</td><td>5669150</td><td>BOM CR�DITO SCMEPP LTDA.</td></tr><tr><td>S5</td><td>21332862</td><td>CARTOS SCMEPP LTDA.</td></tr><tr><td>S5</td><td>5442029</td><td>CASA CREDITO S.A. SCM</td></tr><tr><td>S5</td><td>70116611</td><td>CENTRAL DAS COOPERATIVAS DE CR�DITO DO NORDESTE - SICOOB CENTRAL NE</td></tr><tr><td>S5</td><td>5790149</td><td>CENTRAL DAS COOPERATIVAS DE ECONOMIA E CR�DITO M�TUO DO ESTADO DO ESP�RITO SANTO LTDA. - CECOOPES</td></tr><tr><td>S5</td><td>27171974</td><td>COOPER�GUIA - COOPERATIVA DE ECONOMIA E CR�DITO M�TUO DOS EMPREGADOS DO GRUPO �GUIA BRANCA</td></tr><tr><td>S5</td><td>5296712</td><td>COOPERASA - COOPERATIVA DE ECONOMIA E CR�DITO M�TUO DOS FUNCIONARIOS DAS EMPRESAS DA AGUIA PARTICIPA��ES</td></tr><tr><td>S5</td><td>88325113</td><td>COOPERATIVA    DE    ECONOMIA    E    CR�DITO   M�TUO  MINUANO</td></tr><tr><td>S5</td><td>10013534</td><td>COOPERATIVA CENTRAL DE CR�DITO DA AGRICULTURA FAMILIAR E ECONOMIA SOLID�RIA - ASCOOB CENTRAL</td></tr><tr><td>S5</td><td>5879577</td><td>COOPERATIVA CENTRAL DE CREDITO RURAL HORIZONTES NOVOS - CREHNOR CENTRAL</td></tr><tr><td>S5</td><td>21110927</td><td>COOPERATIVA DE CREDITO CLASSICA DOS FUNCIONARIOS E PRESTADORES DE SERVI�OS DAS EMPRESAS LIGADAS AO GRUPO EUCATUR LTDA. - EUCRED</td></tr><tr><td>S5</td><td>44401800</td><td>COOPERATIVA DE CR�DITO COGEM</td></tr><tr><td>S5</td><td>5463934</td><td>COOPERATIVA DE CREDITO CREDLIDER - SICOOB CREDLIDER</td></tr><tr><td>S5</td><td>9512539</td><td>COOPERATIVA DE CR�DITO DA FOZ DO RIO ITAJA� A�U - CREDIFOZ</td></tr><tr><td>S5</td><td>10218474</td><td>COOPERATIVA DE CR�DITO DA REGI�O DO CONTESTADO - SCRCRED</td></tr><tr><td>S5</td><td>5392810</td><td>COOPERATIVA DE CR�DITO DA REGI�O MERIDIONAL DO BRASIL - SICOOB UNICOOB MERIDIONAL</td></tr><tr><td>S5</td><td>9590601</td><td>COOPERATIVA DE CR�DITO DA SERRA CATARINENSE � CREDICOMIN</td></tr><tr><td>S5</td><td>22656789</td><td>COOPERATIVA DE CR�DITO DAS MATAS DE MINAS LTDA. - SICOOB CREDISUDESTE</td></tr><tr><td>S5</td><td>1151186</td><td>COOPERATIVA DE CR�DITO DE CAMPINA GRANDE - SICREDI CENTRO PARAIBANA</td></tr><tr><td>S5</td><td>57987273</td><td>COOPERATIVA DE CR�DITO DE CAPITAL E EMPR�STIMO DOS EMPREGADOS CELETISTAS DE COOPERATIVAS DOS ESTADOS DE S�O PAULO E MINAS GERAIS - COCREUNI</td></tr><tr><td>S5</td><td>34503581</td><td>COOPERATIVA DE CR�DITO DE CAPITAL E EMPR�STIMO DOS FUNCION�RIOS DA SA�DE DO SETOR PRIVADO DE MANAUS LTDA � COOPCRESP MANAUS</td></tr><tr><td>S5</td><td>4529074</td><td>COOPERATIVA DE CR�DITO DE CASCAVEL E REGI�O - SICOOB CREDICAPITAL</td></tr><tr><td>S5</td><td>4247370</td><td>COOPERATIVA DE CR�DITO DE EMPRES�RIOS - SICOOB/TRANSCREDI</td></tr><tr><td>S5</td><td>71009237</td><td>COOPERATIVA DE CR�DITO DE GUAP� LTDA - SICOOB CREDIGUAP�</td></tr><tr><td>S5</td><td>71506513</td><td>COOPERATIVA DE CREDITO DE ITAPAGIPE LTDA - SICOOB ITAPAGIPE</td></tr><tr><td>S5</td><td>53923116</td><td>COOPERATIVA DE CR�DITO DE LIVRE ADMISS�O - SICOOB CREDICOONAI</td></tr><tr><td>S5</td><td>21661202</td><td>COOPERATIVA DE CR�DITO DE LIVRE ADMISS�O CAMPOS DA MANTIQUEIRA LTDA. - SICOOB CREDICAMPO</td></tr><tr><td>S5</td><td>22724710</td><td>COOPERATIVA DE CR�DITO DE LIVRE ADMISS�O CAMPOS DAS VERTENTES LTDA. - SICOOB CREDIVERTENTES</td></tr><tr><td>S5</td><td>37395399</td><td>COOPERATIVA DE CR�DITO DE LIVRE ADMISS�O CENTRO BRASILEIRA LTDA.</td></tr><tr><td>S5</td><td>7502031</td><td>COOPERATIVA DE CR�DITO DE LIVRE ADMISS�O CENTRO OESTE GOIANO LTDA.</td></tr><tr><td>S5</td><td>31804966</td><td>COOPERATIVA DE CR�DITO DE LIVRE ADMISS�O CENTRO-SERRANA DO ESP�RITO SANTO - SICOOB CENTRO-SERRANO</td></tr><tr><td>S5</td><td>2338666</td><td>COOPERATIVA DE CR�DITO DE LIVRE ADMISS�O CREDIEMBRAPA LTDA - SICOOB.</td></tr><tr><td>S5</td><td>59869560</td><td>COOPERATIVA DE CREDITO DE LIVRE ADMISS�O DA ALTA PAULISTA - SICOOB COCREALPA</td></tr><tr><td>S5</td><td>11907520</td><td>COOPERATIVA DE CR�DITO DE LIVRE ADMISS�O DA BORBOREMA E AGRESTE PARAIBANO - SICOOB BORBOREMA PARAIBANO</td></tr><tr><td>S5</td><td>97360804</td><td>COOPERATIVA DE CR�DITO DE LIVRE ADMISS�O DA CIDADE DE GOI�NIA E ENTORNO LTDA.</td></tr><tr><td>S5</td><td>10209619</td><td>COOPERATIVA DE CR�DITO DE LIVRE ADMISS�O DA GRANDE GOI�NIA LTDA.</td></tr><tr><td>S5</td><td>14046512</td><td>COOPERATIVA DE CR�DITO DE LIVRE ADMISS�O DA MARGEM ESQUERDA DO URUCUIA E S�O FRANCISCO LTDA - SICOOB CREDICHAPADA</td></tr><tr><td>S5</td><td>1152097</td><td>COOPERATIVA DE CREDITO DE LIVRE ADMISSAO DA MATA MINEIRA LTDA - SICOOB CREDIMATA</td></tr><tr><td>S5</td><td>2144899</td><td>COOPERATIVA DE CR�DITO DE LIVRE ADMISS�O DA REGI�O CENTRAL DE ROND�NIA   SICOOB OUROCREDI</td></tr><tr><td>S5</td><td>1736516</td><td>COOPERATIVA DE CR�DITO DE LIVRE ADMISS�O DA REGI�O CENTRAL E OESTE MINEIRO LTDA. - SICOOB DIVICRED</td></tr><tr><td>S5</td><td>25387713</td><td>COOPERATIVA DE CR�DITO DE LIVRE ADMISS�O DA REGI�O DE  PAR� DE MINAS LTDA - SICOOB CREDIRURAL</td></tr><tr><td>S5</td><td>25353939</td><td>COOPERATIVA DE CR�DITO DE LIVRE ADMISS�O DA REGI�O DE ALPIN�POLIS LTDA. - SICOOB CREDIALP</td></tr><tr><td>S5</td><td>66398496</td><td>COOPERATIVA DE CR�DITO DE LIVRE ADMISS�O DA REGI�O DE ARAX� LTDA. - SICOOB CREDIARA</td></tr><tr><td>S5</td><td>71237184</td><td>COOPERATIVA DE CR�DITO DE LIVRE ADMISS�O DA REGI�O DE CAMPO BELO LTDA.   SICOOB CREDIBELO</td></tr><tr><td>S5</td><td>19449602</td><td>COOPERATIVA DE CR�DITO DE LIVRE ADMISS�O DA REGI�O DE CARATINGA LTDA.   SICOOB CREDCOOPER</td></tr><tr><td>S5</td><td>23949522</td><td>COOPERATIVA DE CR�DITO DE LIVRE ADMISS�O DA REGI�O DE CARMO DO PARANA�BA LTDA - SICOOB CREDICARPA</td></tr><tr><td>S5</td><td>25528753</td><td>COOPERATIVA DE CR�DITO DE LIVRE ADMISS�O DA REGI�O DE DIVIN�POLIS LTDA - SICOOB CREDIVERDE</td></tr><tr><td>S5</td><td>71419600</td><td>COOPERATIVA DE CR�DITO DE LIVRE ADMISS�O DA REGI�O DE FRUTAL LTDA.   SICOOB FRUTAL</td></tr><tr><td>S5</td><td>1699652</td><td>COOPERATIVA DE CR�DITO DE LIVRE ADMISS�O DA REGI�O DE GUAXUP� LTDA. - SICOOB ACICREDI</td></tr><tr><td>S5</td><td>64237530</td><td>COOPERATIVA DE CR�DITO DE LIVRE ADMISS�O DA REGI�O DE ITA�NA LTDA. - SICOOB CREDIUNA</td></tr><tr><td>S5</td><td>3412878</td><td>COOPERATIVA DE CR�DITO DE LIVRE ADMISS�O DA REGI�O DE ITURAMA LTDA. - SICOOB CREDIRAMA</td></tr><tr><td>S5</td><td>1657678</td><td>COOPERATIVA DE CR�DITO DE LIVRE ADMISS�O DA REGI�O DE S�O SEBASTI�O DO PARA�SO LTDA. - SICOOB PARA�SOCRED</td></tr><tr><td>S5</td><td>42880617</td><td>COOPERATIVA DE CR�DITO DE LIVRE ADMISS�O DA REGI�O DE TIROS E MATUTINA LTDA - SICOOB CREDITIROS</td></tr><tr><td>S5</td><td>18966739</td><td>COOPERATIVA DE CR�DITO DE LIVRE ADMISS�O DA REGI�O DE TR�S PONTAS LTDA. - SICOOB COPERSUL</td></tr><tr><td>S5</td><td>7026923</td><td>COOPERATIVA DE CR�DITO DE LIVRE ADMISS�O DA REGI�O DE UMUARAMA - SICOOB ARENITO</td></tr><tr><td>S5</td><td>3645752</td><td>COOPERATIVA DE CR�DITO DE LIVRE ADMISS�O DA REGI�O DO ALTO PARANA�BA LTDA - SICOOB CREDISG</td></tr><tr><td>S5</td><td>26178111</td><td>COOPERATIVA DE CR�DITO DE LIVRE ADMISS�O DA REGI�O DO ALTO S�O FRANCISCO LTDA. � SICOOB CREDIPRATA</td></tr><tr><td>S5</td><td>2232383</td><td>COOPERATIVA DE CR�DITO DE LIVRE ADMISS�O DA REGI�O DO CIRCUITO CAMPOS DAS VERTENTES LTDA - SICOOB COPERMEC</td></tr><tr><td>S5</td><td>5158093</td><td>COOPERATIVA DE CR�DITO DE LIVRE ADMISS�O DA REGI�O LESTE DA BACIA DO RIO DOCE LTDA   SICOOB CREDILESTE</td></tr><tr><td>S5</td><td>7599206</td><td>COOPERATIVA DE CR�DITO DE LIVRE ADMISS�O DA REGI�O METROPOLITANA DE GOI�NIA LTDA. - SECOVICRED</td></tr><tr><td>S5</td><td>42887133</td><td>COOPERATIVA DE CREDITO DE LIVRE ADMISS�O DA REGI�O SUDESTE DE MINAS GERAIS LTDA. - SICOOB CREDISUCESSO</td></tr><tr><td>S5</td><td>5247312</td><td>COOPERATIVA DE CREDITO DE LIVRE ADMISSAO DA REGIAO SUL DE MATO GROSSO - SICOOB SUL</td></tr><tr><td>S5</td><td>2804469</td><td>COOPERATIVA DE CR�DITO DE LIVRE ADMISS�O DA SERRA GERAL DE MINAS LTDA. - SICOOB CREDIGERAIS</td></tr><tr><td>S5</td><td>1060307</td><td>COOPERATIVA DE CR�DITO DE LIVRE ADMISS�O DA UNI�O DOS VALES DO PIRANGA E MATIP� LTDA.   SICOOB UNI�O</td></tr><tr><td>S5</td><td>41697103</td><td>COOPERATIVA DE CR�DITO DE LIVRE ADMISS�O DA ZONA DA MATA DE MINAS LTDA - SICOOB CREDILIVRE</td></tr><tr><td>S5</td><td>2335109</td><td>COOPERATIVA DE CR�DITO DE LIVRE ADMISS�O DA ZONA DA MATA LTDA   SICOOB COOPEMATA</td></tr><tr><td>S5</td><td>2935307</td><td>COOPERATIVA DE CR�DITO DE LIVRE ADMISS�O DAS MICRO-REGI�ES DE GOI�NIA E AN�POLIS LTDA</td></tr><tr><td>S5</td><td>3047549</td><td>COOPERATIVA DE CR�DITO DE LIVRE ADMISS�O DAS REGI�ES SUDOESTE, SUL E OESTE DE GOI�S</td></tr><tr><td>S5</td><td>1739375</td><td>COOPERATIVA DE CR�DITO DE LIVRE ADMISS�O DE  LAGOA DA PRATA E REGI�O LTDA.   SICOOB LAGOACRED GERAIS</td></tr><tr><td>S5</td><td>33615055</td><td>COOPERATIVA DE CR�DITO DE LIVRE ADMISS�O DE AN�POLIS E REGI�O LTDA</td></tr><tr><td>S5</td><td>71378426</td><td>COOPERATIVA DE CR�DITO DE LIVRE ADMISS�O DE ARAX� LTDA - SICOOB COOCREZ</td></tr><tr><td>S5</td><td>71230338</td><td>COOPERATIVA DE CR�DITO DE LIVRE ADMISS�O DE ARCOS LTDA. - SICOOB ARCOMCREDI</td></tr><tr><td>S5</td><td>3222753</td><td>COOPERATIVA DE CR�DITO DE LIVRE ADMISS�O DE ARIQUEMES LTDA. - CREDISIS CREDIARI</td></tr><tr><td>S5</td><td>80959612</td><td>COOPERATIVA DE CR�DITO DE LIVRE ADMISS�O DE ASSOCIADOS ALTO VALE DO ITAJA� - SICOOB ALTO VALE</td></tr><tr><td>S5</td><td>78858107</td><td>COOPERATIVA DE CR�DITO DE LIVRE ADMISS�O DE ASSOCIADOS AURIVERDE   SICOOB CREDIAL/SC</td></tr><tr><td>S5</td><td>78862083</td><td>COOPERATIVA DE CR�DITO DE LIVRE ADMISS�O DE ASSOCIADOS CAMPOS NOVOS - SICOOB CAMPOS NOVOS</td></tr><tr><td>S5</td><td>88530142</td><td>COOPERATIVA DE CR�DITO DE LIVRE ADMISS�O DE ASSOCIADOS DA FRONTEIRA SUL - SICREDI FRONTEIRA SUL RS</td></tr><tr><td>S5</td><td>87784088</td><td>COOPERATIVA DE CR�DITO DE LIVRE ADMISS�O DE ASSOCIADOS DA GRANDE GET�LIO VARGAS DO RIO GRANDE DO SUL - SICREDI ESTA��O RS</td></tr><tr><td>S5</td><td>87789178</td><td>COOPERATIVA DE CR�DITO DE LIVRE ADMISS�O DE ASSOCIADOS DA REGI�O DE PALMEIRA DAS MISS�ES - SICREDI GRANDE PALMEIRA/RS</td></tr><tr><td>S5</td><td>1042487</td><td>COOPERATIVA DE CR�DITO DE LIVRE ADMISS�O DE ASSOCIADOS DAS REGI�ES NORTE E NORDESTE DO PAR� - SICOOB UNIDAS</td></tr><tr><td>S5</td><td>86791837</td><td>COOPERATIVA DE CR�DITO DE LIVRE ADMISS�O DE ASSOCIADOS DE CA�ADOR   SICOOB CA�ADOR SC</td></tr><tr><td>S5</td><td>3042597</td><td>COOPERATIVA DE CR�DITO DE LIVRE ADMISS�O DE ASSOCIADOS DE CAMPO GRANDE E REGI�O - SICREDI CAMPO GRANDE MS</td></tr><tr><td>S5</td><td>2254376</td><td>COOPERATIVA DE CR�DITO DE LIVRE ADMISS�O DE ASSOCIADOS DE DORES DO INDAI� LTDA - COOPCREDI</td></tr><tr><td>S5</td><td>10143743</td><td>COOPERATIVA DE CR�DITO DE LIVRE ADMISS�O DE ASSOCIADOS DE GUARAMIRIM - CREVISC</td></tr><tr><td>S5</td><td>12384953</td><td>COOPERATIVA DE CR�DITO DE LIVRE ADMISS�O DE ASSOCIADOS DE JARAGU� DO SUL E REGI�O - SICOOB CEJASCRED</td></tr><tr><td>S5</td><td>1566038</td><td>COOPERATIVA DE CR�DITO DE LIVRE ADMISS�O DE ASSOCIADOS DE MANAUS - SICOOB UNIAM</td></tr><tr><td>S5</td><td>1664968</td><td>COOPERATIVA DE CR�DITO DE LIVRE ADMISS�O DE ASSOCIADOS DE PORTO VELHO E REGI�O NORTE DE ROND�NIA LTDA.</td></tr><tr><td>S5</td><td>78840071</td><td>COOPERATIVA DE CR�DITO DE LIVRE ADMISS�O DE ASSOCIADOS DO ALTO URUGUAI CATARINENSE - SICOOB - CREDIAUC/SC</td></tr><tr><td>S5</td><td>74114042</td><td>COOPERATIVA DE CR�DITO DE LIVRE ADMISS�O DE ASSOCIADOS DO LESTE DE SANTA CATARINA E DO PARAN� LTDA - UNICRED UNI�O</td></tr><tr><td>S5</td><td>1205736</td><td>COOPERATIVA DE CR�DITO DE LIVRE ADMISS�O DE ASSOCIADOS DO M�DIO SUL BAIANO LTDA. - SICOOB COSTA DO DESCOBRIMENTO</td></tr><tr><td>S5</td><td>80959638</td><td>COOPERATIVA DE CR�DITO DE LIVRE ADMISS�O DE ASSOCIADOS DO MEIO OESTE CATARINENSE - SICOOB CREDIMOC SC</td></tr><tr><td>S5</td><td>21866694</td><td>COOPERATIVA DE CR�DITO DE LIVRE ADMISS�O DE ASSOCIADOS DO NORTE DE MINAS LTDA - SICOOB CREDINOR</td></tr><tr><td>S5</td><td>2843443</td><td>COOPERATIVA DE CR�DITO DE LIVRE ADMISS�O DE ASSOCIADOS DO NORTE E NORDESTE DE SANTA CATARINA - SICREDI NORTE SC</td></tr><tr><td>S5</td><td>1389651</td><td>COOPERATIVA DE CR�DITO DE LIVRE ADMISS�O DE ASSOCIADOS DO PLANALTO CATARINENSE SICOOB CREDIPLANALTO SC/RS</td></tr><tr><td>S5</td><td>1692448</td><td>COOPERATIVA DE CR�DITO DE LIVRE ADMISS�O DE ASSOCIADOS DO PLANALTO SERRANO - SICOOB CREDISERRA SC</td></tr><tr><td>S5</td><td>2057584</td><td>COOPERATIVA DE CR�DITO DE LIVRE ADMISS�O DE ASSOCIADOS DO SERT�O BAIANO LTDA   SICOOB SERT�O</td></tr><tr><td>S5</td><td>2282165</td><td>COOPERATIVA DE CR�DITO DE LIVRE ADMISS�O DE ASSOCIADOS DO SUDOESTE BAIANO LTDA - SICOOB CREDICONQUISTA</td></tr><tr><td>S5</td><td>78834975</td><td>COOPERATIVA DE CR�DITO DE LIVRE ADMISS�O DE ASSOCIADOS DO VALE DO CANOINHAS - SICOOB CREDICANOINHAS/SC</td></tr><tr><td>S5</td><td>81016131</td><td>COOPERATIVA DE CR�DITO DE LIVRE ADMISS�O DE ASSOCIADOS DO VALE DO VINHO - SICOOB VIDEIRA/SC</td></tr><tr><td>S5</td><td>81014060</td><td>COOPERATIVA DE CREDITO DE LIVRE ADMISS�O DE ASSOCIADOS ITAIPU SICOOB CREDITAIPU</td></tr><tr><td>S5</td><td>78483310</td><td>COOPERATIVA DE CR�DITO DE LIVRE ADMISS�O DE ASSOCIADOS ITAPIRANGA - SICOOB CREDITAPIRANGA SC/RS</td></tr><tr><td>S5</td><td>85291086</td><td>COOPERATIVA DE CR�DITO DE LIVRE ADMISS�O DE ASSOCIADOS LITOR�NEA</td></tr><tr><td>S5</td><td>2641969</td><td>COOPERATIVA DE CR�DITO DE LIVRE ADMISS�O DE ASSOCIADOS NOVA TRENTO   SICOOB TRENTOCREDI SC</td></tr><tr><td>S5</td><td>78825023</td><td>COOPERATIVA DE CR�DITO DE LIVRE ADMISS�O DE ASSOCIADOS OESTE CATARINENSE</td></tr><tr><td>S5</td><td>82133182</td><td>COOPERATIVA DE CR�DITO DE LIVRE ADMISS�O DE ASSOCIADOS P�ROLA DO VALE - SICOOB CREDIP�ROLA</td></tr><tr><td>S5</td><td>90729369</td><td>COOPERATIVA DE CR�DITO DE LIVRE ADMISS�O DE ASSOCIADOS REGI�O DAS CULTURAS - SICREDI DAS CULTURAS RS</td></tr><tr><td>S5</td><td>694389</td><td>COOPERATIVA DE CR�DITO DE LIVRE ADMISS�O DE ASSOCIADOS S�O JOS� DO CERRITO - SICOOB CREDICARU SC</td></tr><tr><td>S5</td><td>81607046</td><td>COOPERATIVA DE CR�DITO DE LIVRE ADMISS�O DE ASSOCIADOS S�O MIGUEL DO OESTE - SICOOB S�O MIGUEL SC</td></tr><tr><td>S5</td><td>11565109</td><td>COOPERATIVA DE CR�DITO DE LIVRE ADMISS�O DE ASSOCIADOS SICOOB ECOCREDI</td></tr><tr><td>S5</td><td>81367880</td><td>COOPERATIVA DE CR�DITO DE LIVRE ADMISS�O DE ASSOCIADOS SUL CATARINENSE - SICOOB CREDISULCA SC</td></tr><tr><td>S5</td><td>2447120</td><td>COOPERATIVA DE CR�DITO DE LIVRE ADMISS�O DE ASSOCIADOS TEIXEIRA DE FREITAS LTDA. - SICOOB EXTREMO SUL</td></tr><tr><td>S5</td><td>2587492</td><td>COOPERATIVA DE CR�DITO DE LIVRE ADMISS�O DE ASSOCIADOS URUBICI - SICOOB-CREDIARAUC�RIA/SC</td></tr><tr><td>S5</td><td>2090126</td><td>COOPERATIVA DE CR�DITO DE LIVRE ADMISS�O DE ASSOCIADOS VALE DO CHAPECOZINHO - SICOOB VALCREDI SUL</td></tr><tr><td>S5</td><td>78865995</td><td>COOPERATIVA DE CR�DITO DE LIVRE ADMISS�O DE ASSOCIADOS VALE DO RIO DO PEIXE - SICOOB CREDIRIO SC</td></tr><tr><td>S5</td><td>66259110</td><td>COOPERATIVA DE CR�DITO DE LIVRE ADMISS�O DE BAMBU� LTDA. - SICOOB CREDIBAM</td></tr><tr><td>S5</td><td>869687</td><td>COOPERATIVA DE CR�DITO DE LIVRE ADMISS�O DE BOA ESPERAN�A LTDA. - SICOOB BELCREDI</td></tr><tr><td>S5</td><td>2137018</td><td>COOPERATIVA DE CR�DITO DE LIVRE ADMISS�O DE BOA VISTA LTDA.</td></tr><tr><td>S5</td><td>21670187</td><td>COOPERATIVA DE CR�DITO DE LIVRE ADMISS�O DE BOM DESPACHO LTDA - SICOOB CREDIBOM</td></tr><tr><td>S5</td><td>1609345</td><td>COOPERATIVA DE CR�DITO DE LIVRE ADMISS�O DE CAMPINA VERDE LTDA. - SICOOB CREDICAMPINA</td></tr><tr><td>S5</td><td>429890</td><td>COOPERATIVA DE CR�DITO DE LIVRE ADMISS�O DE CAMPOS ALTOS LTDA - SICOOB CREDIAGRO</td></tr><tr><td>S5</td><td>71146450</td><td>COOPERATIVA DE CR�DITO DE LIVRE ADMISS�O DE CAMPOS GERAIS E CAMPO DO MEIO LTDA - SICOOB CREDCAM</td></tr><tr><td>S5</td><td>66788142</td><td>COOPERATIVA DE CREDITO DE LIVRE ADMISS�O DE C�NDIDO MOTA E REGI�O.</td></tr><tr><td>S5</td><td>804046</td><td>COOPERATIVA DE CR�DITO DE LIVRE ADMISS�O DE CAPIT�LIO LTDA   SICOOB CREDICAPI</td></tr><tr><td>S5</td><td>65239402</td><td>COOPERATIVA DE CR�DITO DE LIVRE ADMISS�O DE CARMO DO CAJURU LTDA. - SICOOB CARMOCREDI</td></tr><tr><td>S5</td><td>25743311</td><td>COOPERATIVA DE CR�DITO DE LIVRE ADMISS�O DE CARMO DO RIO CLARO LTDA - SICOOB CREDICARMO</td></tr><tr><td>S5</td><td>9576849</td><td>COOPERATIVA DE CR�DITO DE LIVRE ADMISS�O DE CERES E RIALMA LTDA</td></tr><tr><td>S5</td><td>38588174</td><td>COOPERATIVA DE CR�DITO DE LIVRE ADMISS�O DE CONSELHEIRO PENA E REGI�O LTDA. - SICOOB CREDICOPE</td></tr><tr><td>S5</td><td>21682737</td><td>COOPERATIVA DE CR�DITO DE LIVRE ADMISS�O DE CURVELO LTDA. - SICOOB CREDICENTRO</td></tr><tr><td>S5</td><td>71069587</td><td>COOPERATIVA DE CR�DITO DE LIVRE ADMISS�O DE DORES DO INDAI� LTDA. - SICOOB CREDINDAI�</td></tr><tr><td>S5</td><td>68512748</td><td>COOPERATIVA DE CR�DITO DE LIVRE ADMISS�O DE ESMERALDAS E REGI�O LTDA - SICOOB CREDIESMERALDAS</td></tr><tr><td>S5</td><td>41931445</td><td>COOPERATIVA DE CREDITO DE LIVRE ADMISSAO DE FORMIGA LTDA - SICOOB CREDIFOR</td></tr><tr><td>S5</td><td>1720488</td><td>COOPERATIVA DE CR�DITO DE LIVRE ADMISS�O DE GOI�NIA E MICRORREGI�ES LTDA.</td></tr><tr><td>S5</td><td>4388688</td><td>COOPERATIVA DE CR�DITO DE LIVRE ADMISS�O DE GOI�NIA E REGI�O LTDA</td></tr><tr><td>S5</td><td>37255049</td><td>COOPERATIVA DE CR�DITO DE LIVRE ADMISS�O DE GOI�NIA, SENADOR CANEDO E REGI�ES LTDA. - CREDIGOI�S</td></tr><tr><td>S5</td><td>26359745</td><td>COOPERATIVA DE CR�DITO DE LIVRE ADMISS�O DE IGUATAMA LTDA. - SICOOB CREDITAMA</td></tr><tr><td>S5</td><td>4079285</td><td>COOPERATIVA DE CR�DITO DE LIVRE ADMISS�O DE ITAJUB� LTDA - SICOOB SUL DE MINAS</td></tr><tr><td>S5</td><td>66463407</td><td>COOPERATIVA DE CR�DITO DE LIVRE ADMISS�O DE ITA�NA E REGI�O LTDA - SICOOB CENTRO-OESTE</td></tr><tr><td>S5</td><td>10143499</td><td>COOPERATIVA DE CR�DITO DE LIVRE ADMISS�O DE JATA� E REGI�O LTDA.</td></tr><tr><td>S5</td><td>25536764</td><td>COOPERATIVA DE CR�DITO DE LIVRE ADMISS�O DE LUZ LTDA.   SICOOB CREDILUZ</td></tr><tr><td>S5</td><td>5580585</td><td>COOPERATIVA DE CR�DITO DE LIVRE ADMISS�O DE MANAUS   SICOOB MANAUS</td></tr><tr><td>S5</td><td>7097064</td><td>COOPERATIVA DE CR�DITO DE LIVRE ADMISS�O DE MARECHAL C�NDIDO RONDON E REGI�O - SICOOB MARECHAL</td></tr><tr><td>S5</td><td>64480833</td><td>COOPERATIVA DE CREDITO DE LIVRE ADMISS�O DE MARTINHO CAMPOS LTDA - SICOOB CREDIMAC</td></tr><tr><td>S5</td><td>1601342</td><td>COOPERATIVA DE CR�DITO DE LIVRE ADMISS�O DE MICRO REGI�ES DE GOI�NIA E ADJACENTES LTDA.</td></tr><tr><td>S5</td><td>71392047</td><td>COOPERATIVA DE CR�DITO DE LIVRE ADMISS�O DE MONTE CARMELO E REGI�O LTDA - SICOOB MONTECREDI</td></tr><tr><td>S5</td><td>24431221</td><td>COOPERATIVA DE CR�DITO DE LIVRE ADMISS�O DE PACAJ� E REGI�O - SICOOB TRANSAMAZ�NICA</td></tr><tr><td>S5</td><td>37631058</td><td>COOPERATIVA DE CR�DITO DE LIVRE ADMISS�O DE PALMEIRAS E REGI�O LTDA.</td></tr><tr><td>S5</td><td>1009908</td><td>COOPERATIVA DE CREDITO DE LIVRE ADMISSAO DE PARA DE MINAS LTDA - SICOOB ASCICRED</td></tr><tr><td>S5</td><td>26960328</td><td>COOPERATIVA DE CR�DITO DE LIVRE ADMISS�O DE PARA�SO DO TOCANTINS E REGI�O LTDA</td></tr><tr><td>S5</td><td>22749014</td><td>COOPERATIVA DE CR�DITO DE LIVRE ADMISS�O DE PARAOPEBA LTDA. - SICOOB CREDIPARAOPEBA</td></tr><tr><td>S5</td><td>65229254</td><td>COOPERATIVA DE CR�DITO DE LIVRE ADMISS�O DE PATROC�NIO E REGI�O LTDA. - SICOOB COOPACREDI</td></tr><tr><td>S5</td><td>71441406</td><td>COOPERATIVA DE CR�DITO DE LIVRE ADMISS�O DE PEDRO LEOPOLDO LTDA - SICOOB CREDIPEL</td></tr><tr><td>S5</td><td>42934794</td><td>COOPERATIVA DE CR�DITO DE LIVRE ADMISS�O DE PIMENTA LTDA. - SICOOB CREDIPIMENTA</td></tr><tr><td>S5</td><td>5222094</td><td>COOPERATIVA DE CR�DITO DE LIVRE ADMISS�O DE PIRACANJUBA LTDA</td></tr><tr><td>S5</td><td>4181542</td><td>COOPERATIVA DE CREDITO DE LIVRE ADMISSAO DE PITANGUI E REGIAO LTDA. - SICOOB CREDPIT</td></tr><tr><td>S5</td><td>66262643</td><td>COOPERATIVA DE CR�DITO DE LIVRE ADMISS�O DE POMP�U LTDA. - SICOOB CREDIP�U</td></tr><tr><td>S5</td><td>1608685</td><td>COOPERATIVA DE CR�DITO DE LIVRE ADMISS�O DE RIO BRANCO LTDA</td></tr><tr><td>S5</td><td>9033698</td><td>COOPERATIVA DE CR�DITO DE LIVRE ADMISS�O DE RIO VERDE E REGI�O LTDA.</td></tr><tr><td>S5</td><td>73422792</td><td>COOPERATIVA DE CREDITO DE LIVRE ADMISSAO DE RUBIATABA E REGIAO LTDA</td></tr><tr><td>S5</td><td>71154256</td><td>COOPERATIVA DE CR�DITO DE LIVRE ADMISS�O DE SACRAMENTO LTDA. - SICOOB SACRAMENTO</td></tr><tr><td>S5</td><td>6910457</td><td>COOPERATIVA DE CR�DITO DE LIVRE ADMISS�O DE SANTA CRUZ DAS PALMEIRAS E REGI�O</td></tr><tr><td>S5</td><td>41707258</td><td>COOPERATIVA DE CR�DITO DE LIVRE ADMISS�O DE SANTO ANT�NIO DO MONTE LTDA.   SICOOB CREDIMONTE</td></tr><tr><td>S5</td><td>1374196</td><td>COOPERATIVA DE CR�DITO DE LIVRE ADMISS�O DE S�O FRANCISCO DE SALES LTDA.- SICOOB CREDICOOPERTRIL</td></tr><tr><td>S5</td><td>41683228</td><td>COOPERATIVA DE CREDITO DE LIVRE ADMISS�O DE SAO GON�ALO DO PARA LTDA - SICOOB CREDISAOGON�ALO</td></tr><tr><td>S5</td><td>66402207</td><td>COOPERATIVA DE CR�DITO DE LIVRE ADMISS�O DE S�O ROQUE DE MINAS LTDA.   SICOOB SAROMCREDI</td></tr><tr><td>S5</td><td>22753982</td><td>COOPERATIVA DE CR�DITO DE LIVRE ADMISS�O DE SETE LAGOAS LTDA - SICOOB CREDISETE</td></tr><tr><td>S5</td><td>86564051</td><td>COOPERATIVA DE CR�DITO DE LIVRE ADMISS�O DE UNA� E NOROESTE DE MINAS LTDA. - SICOOB NOROESTE DE MINAS</td></tr><tr><td>S5</td><td>803287</td><td>COOPERATIVA DE CR�DITO DE LIVRE ADMISS�O DE VAZANTE LTDA. - SICOOB CREDIVAZ</td></tr><tr><td>S5</td><td>71243034</td><td>COOPERATIVA DE CREDITO DE LIVRE ADMISSAO DO ALTO E MEDIO JEQUITINHONHA LTDA - SICOOB CREDIJEQUITINHONHA</td></tr><tr><td>S5</td><td>1727929</td><td>COOPERATIVA DE CR�DITO DE LIVRE ADMISS�O DO ALTO PARANA�BA, NOROESTE E OESTE DE MINAS LTDA - UNICRED INTEGRA��O DE MINAS</td></tr><tr><td>S5</td><td>41805003</td><td>COOPERATIVA DE CR�DITO DE LIVRE ADMISS�O DO ALTO S�O FRANCISCO LTDA.</td></tr><tr><td>S5</td><td>16779741</td><td>COOPERATIVA DE CR�DITO DE LIVRE ADMISS�O DO ALTO VALE DO ITAJA� - VIACREDI ALTO VALE</td></tr><tr><td>S5</td><td>3730508</td><td>COOPERATIVA DE CR�DITO DE LIVRE ADMISS�O DO CENTRO GOIANO LTDA.</td></tr><tr><td>S5</td><td>3612764</td><td>COOPERATIVA DE CREDITO DE LIVRE ADMISS�O DO CENTRO LESTE DE ROND�NIA LTDA - CREDISIS LESTE</td></tr><tr><td>S5</td><td>9403026</td><td>COOPERATIVA DE CR�DITO DE LIVRE ADMISS�O DO CENTRO LESTE MARANHENSE   SICOOB CENTRO LESTE MARANHENSE</td></tr><tr><td>S5</td><td>2173447</td><td>COOPERATIVA DE CREDITO DE LIVRE ADMISSAO DO CENTRO NORDESTE MINEIRO LTDA - SICOOB CREDICENM</td></tr><tr><td>S5</td><td>2282709</td><td>COOPERATIVA DE CR�DITO DE LIVRE ADMISS�O DO CENTRO NORTE GOIANO</td></tr><tr><td>S5</td><td>26072728</td><td>COOPERATIVA DE CR�DITO DE LIVRE ADMISS�O DO CENTRO OESTE MINEIRO LTDA.   SICOOB UNI�O CENTRO OESTE</td></tr><tr><td>S5</td><td>2015588</td><td>COOPERATIVA DE CR�DITO DE LIVRE ADMISS�O DO CENTRO SUL RONDONIENSE - SICOOB CREDIP.</td></tr><tr><td>S5</td><td>71238232</td><td>COOPERATIVA DE CR�DITO DE LIVRE ADMISS�O DO CENTRO-OESTE DE MINAS LTDA - SICOOB CREDICARMOMINAS</td></tr><tr><td>S5</td><td>33579731</td><td>COOPERATIVA DE CR�DITO DE LIVRE ADMISS�O DO CENTRO-SUL GOIANO LTDA</td></tr><tr><td>S5</td><td>3941182</td><td>COOPERATIVA DE CR�DITO DE LIVRE ADMISS�O DO CIRCUITO DAS MALHAS LTDA. - SICOOB CREDMALHAS</td></tr><tr><td>S5</td><td>13517050</td><td>COOPERATIVA DE CR�DITO DE LIVRE ADMISS�O DO ESTADO DO AMAP� - SICOOB AMAP�</td></tr><tr><td>S5</td><td>83836114</td><td>COOPERATIVA DE CR�DITO DE LIVRE ADMISS�O DO ESTADO DO PAR� - SICOOB COOESA</td></tr><tr><td>S5</td><td>2931668</td><td>COOPERATIVA DE CR�DITO DE LIVRE ADMISS�O DO ESTADO DO RIO DE JANEIRO - SICOOB FLUMINENSE</td></tr><tr><td>S5</td><td>25395435</td><td>COOPERATIVA DE CR�DITO DE LIVRE ADMISS�O DO LESTE DE MINAS LTDA. - SICOOB CREDICAF</td></tr><tr><td>S5</td><td>1110032</td><td>COOPERATIVA DE CR�DITO DE LIVRE ADMISS�O DO LESTE MINEIRO LTDA.- UNICRED LESTE MINEIRO</td></tr><tr><td>S5</td><td>5241619</td><td>COOPERATIVA DE CR�DITO DE LIVRE ADMISS�O DO M�DIO LESTE DE MATO GROSSO - SICOOB PRIMAVERA MT</td></tr><tr><td>S5</td><td>1644264</td><td>COOPERATIVA DE CR�DITO DE LIVRE ADMISS�O DO M�DIO PIRACICABA E DO CIRCUITO DO OURO LTDA. - SICOOB CREDIMEPI</td></tr><tr><td>S5</td><td>64276058</td><td>COOPERATIVA DE CR�DITO DE LIVRE ADMISS�O DO NORDESTE DE MINAS GERAIS E SUL DA BAHIA LTDA - SICOOB CREDINORTE</td></tr><tr><td>S5</td><td>41753500</td><td>COOPERATIVA DE CREDITO DE LIVRE ADMISS�O DO NORDESTE DE MINAS GERAIS LTDA - SICOOB CARLOS CHAGAS</td></tr><tr><td>S5</td><td>73398646</td><td>COOPERATIVA DE CR�DITO DE LIVRE ADMISS�O DO NORDESTE E CENTRO SUL DA BAHIA LTDA.   SICOOB COOPERE</td></tr><tr><td>S5</td><td>71154876</td><td>COOPERATIVA DE CR�DITO DE LIVRE ADMISS�O DO NOROESTE DE MINAS GERAIS LTDA.   SICOOB CREDIPINHO</td></tr><tr><td>S5</td><td>698609</td><td>COOPERATIVA DE CR�DITO DE LIVRE ADMISS�O DO NOROESTE DE MINAS LTDA. SICOOB CREDIPARNOR</td></tr><tr><td>S5</td><td>23623636</td><td>COOPERATIVA DE CR�DITO DE LIVRE ADMISS�O DO NORTE DE MATO GROSSO - SICOOB NORTE MT</td></tr><tr><td>S5</td><td>5582619</td><td>COOPERATIVA DE CR�DITO DE LIVRE ADMISS�O DO NORTE DO PARAN� - SICOOB NORTE DO PARAN�</td></tr><tr><td>S5</td><td>9424988</td><td>COOPERATIVA DE CR�DITO DE LIVRE ADMISS�O DO OESTE MARANHENSE - SICOOB OESTE MARANHENSE</td></tr><tr><td>S5</td><td>71297899</td><td>COOPERATIVA DE CR�DITO DE LIVRE ADMISS�O DO OESTE MINEIRO LTDA. - SICOOB CREDICOPA</td></tr><tr><td>S5</td><td>3732359</td><td>COOPERATIVA DE CR�DITO DE LIVRE ADMISS�O DO PAJE�, AGRESTE E RECIFE - SICOOB PERNAMBUCO</td></tr><tr><td>S5</td><td>26178533</td><td>COOPERATIVA DE CR�DITO DE LIVRE ADMISS�O DO PONTAL DO TRIANGULO LTDA - SICOOB CREDIPONTAL</td></tr><tr><td>S5</td><td>1667352</td><td>COOPERATIVA DE CR�DITO DE LIVRE ADMISS�O DO SERT�O DE MINAS GERAIS LTDA. - SICOOB SERT�O MINAS</td></tr><tr><td>S5</td><td>3632872</td><td>COOPERATIVA DE CR�DITO DE LIVRE ADMISS�O DO SUDOESTE DA AMAZ�NIA LTDA. - SICOOB CREDISUL.</td></tr><tr><td>S5</td><td>24795049</td><td>COOPERATIVA DE CR�DITO DE LIVRE ADMISS�O DO SUDOESTE GOIANO</td></tr><tr><td>S5</td><td>3985375</td><td>COOPERATIVA DE CR�DITO DE LIVRE ADMISS�O DO SUDOESTE RONDONIENSE LTDA. - CREDISIS ROLIMCREDI</td></tr><tr><td>S5</td><td>3427097</td><td>COOPERATIVA DE CR�DITO DE LIVRE ADMISS�O DO SUL CATARINENSE � CECRISACRED</td></tr><tr><td>S5</td><td>1604998</td><td>COOPERATIVA DE CREDITO DE LIVRE ADMISS�O DO SUL DE MINAS LTDA - SICOOB CREDIVASS</td></tr><tr><td>S5</td><td>24048910</td><td>COOPERATIVA DE CR�DITO DE LIVRE ADMISS�O DO SUL E SUDOESTE DE MINAS GERAIS, BAIXA MOGIANA E REGI�O LTDA. - SICOOB CREDINTER</td></tr><tr><td>S5</td><td>68987</td><td>COOPERATIVA DE CR�DITO DE LIVRE ADMISS�O DO TRI�NGULO MINEIRO E SUDESTE DE GOI�S LTDA. - SICOOB ARACREDI</td></tr><tr><td>S5</td><td>86829827</td><td>COOPERATIVA DE CR�DITO DE LIVRE ADMISS�O DO VALE - SICOOB CREDIVALE/SC</td></tr><tr><td>S5</td><td>19869338</td><td>COOPERATIVA DE CREDITO DE LIVRE ADMISSAO DO VALE DO A�O LTDA - SICOOB VALE DO A�O</td></tr><tr><td>S5</td><td>5244177</td><td>COOPERATIVA DE CREDITO DE LIVRE ADMISSAO DO VALE DO ARAGUAIA - SICOOB ARAGUAIA</td></tr><tr><td>S5</td><td>24830879</td><td>COOPERATIVA DE CR�DITO DE LIVRE ADMISS�O DO VALE DO ARAGUAIA LTDA.</td></tr><tr><td>S5</td><td>25404542</td><td>COOPERATIVA DE CREDITO DE LIVRE ADMISS�O DO VALE DO GORUTUBA LTDA - SICOOB CREDIVAG</td></tr><tr><td>S5</td><td>5203605</td><td>COOPERATIVA DE CR�DITO DE LIVRE ADMISS�O DO VALE DO JAMARI - SICOOB VALE DO JAMARI</td></tr><tr><td>S5</td><td>2309070</td><td>COOPERATIVA DE CR�DITO DE LIVRE ADMISS�O DO VALE DO MACHADO - CREDISIS JICRED</td></tr><tr><td>S5</td><td>24799033</td><td>COOPERATIVA DE CR�DITO DE LIVRE ADMISS�O DO VALE DO PARANA�BA LTDA.</td></tr><tr><td>S5</td><td>1637949</td><td>COOPERATIVA DE CR�DITO DE LIVRE ADMISS�O DO VALE DO PARANAPANEMA</td></tr><tr><td>S5</td><td>25683475</td><td>COOPERATIVA DE CR�DITO DE LIVRE ADMISS�O DO VALE DO RIO GRANDE LTDA. - SICOOB UBERABA</td></tr><tr><td>S5</td><td>968602</td><td>COOPERATIVA DE CREDITO DE LIVRE ADMISS�O DO VALE DO S�O PATRICIO LTDA.</td></tr><tr><td>S5</td><td>4544165</td><td>COOPERATIVA DE CR�DITO DE LIVRE ADMISS�O DO VALE MADEIRA-MAMOR� - SICOOB PORTOCREDI</td></tr><tr><td>S5</td><td>7108146</td><td>COOPERATIVA DE CR�DITO DE LIVRE ADMISS�O DO VALE RIO CRIX�S LTDA.</td></tr><tr><td>S5</td><td>32430233</td><td>COOPERATIVA DE CR�DITO DE LIVRE ADMISS�O LESTE CAPIXABA - SICOOB LESTE CAPIXABA</td></tr><tr><td>S5</td><td>7318874</td><td>COOPERATIVA DE CR�DITO DE LIVRE ADMISS�O M�DIO OESTE - SICOOB M�DIO OESTE</td></tr><tr><td>S5</td><td>31815293</td><td>COOPERATIVA DE CR�DITO DE LIVRE ADMISS�O NORTE DO ESP�RITO SANTO - SICOOB NORTE</td></tr><tr><td>S5</td><td>2876918</td><td>COOPERATIVA DE CR�DITO DE LIVRE ADMISS�O NORTE SUL DA BAHIA LTDA.   SICOOB NORTE SUL</td></tr><tr><td>S5</td><td>1259518</td><td>COOPERATIVA DE CR�DITO DE LIVRE ADMISS�O SICOOB UNIMAIS RIO CLARO LTDA - SICOOB UNIMAIS RIO CLARO</td></tr><tr><td>S5</td><td>32467086</td><td>COOPERATIVA DE CR�DITO DE LIVRE ADMISS�O SUL DO ESP�RITO SANTO - SICOOB SUL</td></tr><tr><td>S5</td><td>32474884</td><td>COOPERATIVA DE CR�DITO DE LIVRE ADMISS�O SUL-LITOR�NEA DO ESP�RITO SANTO</td></tr><tr><td>S5</td><td>815319</td><td>COOPERATIVA DE CR�DITO DE LIVRE ADMISS�O SUL-SERRANA DO ESP�RITO SANTO</td></tr><tr><td>S5</td><td>4876393</td><td>COOPERATIVA DE CR�DITO DE LIVRE ADMISS�O TR�S FRONTEIRAS - SICOOB TR�S FRONTEIRAS</td></tr><tr><td>S5</td><td>1703620</td><td>COOPERATIVA DE CR�DITO DE LIVRE ADMISS�O UNI�O DO CENTRO OESTE DE MINAS LTDA</td></tr><tr><td>S5</td><td>8742188</td><td>COOPERATIVA DE CR�DITO DE LIVRE ADMISS�O UNI�O E NEG�CIOS - SICOOB INTEGRA��O</td></tr><tr><td>S5</td><td>25387655</td><td>COOPERATIVA DE CR�DITO DE LIVRE ADMISS�O VALE DO MUCURI LTDA. - SICOOB CREDIVALE</td></tr><tr><td>S5</td><td>28572261</td><td>COOPERATIVA DE CREDITO DE MENDES LTDA</td></tr><tr><td>S5</td><td>41669227</td><td>COOPERATIVA DE CR�DITO DE PRODUTORES RURAIS E DE LIVRE ADMISS�O DO TRI�NGULO LTDA    SICOOB CREDITRIL</td></tr><tr><td>S5</td><td>2245493</td><td>COOPERATIVA DE CREDITO DE SALVADOR - SICREDI SALVADOR</td></tr><tr><td>S5</td><td>10548608</td><td>COOPERATIVA DE CR�DITO DE SERVIDORES DA UESC - UESCOOP</td></tr><tr><td>S5</td><td>2674113</td><td>COOPERATIVA DE CR�DITO DE SERVIDORES P�BLICOS COOPERPLAN LTDA. - SICOOB COOPERPLAN</td></tr><tr><td>S5</td><td>17361536</td><td>COOPERATIVA DE CR�DITO DE SERVIDORES P�BLICOS E TRABALHADORES DA REDE DE ENSINO DA REGI�O E COLAR METROPOLITANO DO VALE DO A�O LTDA. - SICOOB COSMIPA</td></tr><tr><td>S5</td><td>25387671</td><td>COOPERATIVA DE CR�DITO DO ALTO PARNA�BA E REGI�O LTDA.</td></tr><tr><td>S5</td><td>9576038</td><td>COOPERATIVA DE CR�DITO DO CENTRO OESTE DE GOIAS - SICREDI CENTRO OESTE GO</td></tr><tr><td>S5</td><td>1187961</td><td>COOPERATIVA DE CR�DITO DO DISTRITO FEDERAL E ENTORNO LTDA. - SICOOB</td></tr><tr><td>S5</td><td>7122321</td><td>COOPERATIVA DE CR�DITO DO IGUA�U INTEGRADO - SICOOB INTEGRADO</td></tr><tr><td>S5</td><td>5772229</td><td>COOPERATIVA DE CR�DITO DO NOROESTE DO PARAN� - SICOOB NOROESTE DO PARAN�</td></tr><tr><td>S5</td><td>3461243</td><td>COOPERATIVA DE CR�DITO DO NORTE CATARINENSE - ACREDICOOP</td></tr><tr><td>S5</td><td>81011686</td><td>COOPERATIVA DE CR�DITO DO NORTE CATARINENSE E SUL PARANAENSE - SICOOB CREDINORTE</td></tr><tr><td>S5</td><td>25420696</td><td>COOPERATIVA DE CR�DITO DO OESTE MINEIRO E REGI�O METROPOLITANA DE BELO HORIZONTE LTDA. - SICOOB CREDIOESTE</td></tr><tr><td>S5</td><td>3033469</td><td>COOPERATIVA DE CREDITO DO PLANALTO SUL - SICOOB CREDISSERRANA</td></tr><tr><td>S5</td><td>952415</td><td>COOPERATIVA DE CR�DITO DO SERVIDOR FEDERAL LTDA   SICOOB CREDFAZ SERVIDOR FEDERAL</td></tr><tr><td>S5</td><td>3320525</td><td>COOPERATIVA DE CR�DITO DO TRI�NGULO MINEIRO E S�O FRANCISCO LTDA. - SICOOB ARACOOP</td></tr><tr><td>S5</td><td>2883398</td><td>COOPERATIVA DE CR�DITO DO VALE DO ITAJA� E VALE DO ITAPOC� - SICOOB MULTICREDI</td></tr><tr><td>S5</td><td>4237413</td><td>COOPERATIVA DE CR�DITO DO VALE DO S�O FRANCISCO - SICREDI VALE DO S�O FRANCISCO</td></tr><tr><td>S5</td><td>3422007</td><td>COOPERATIVA DE CR�DITO DOS BANC�RIOS DE S�O PAULO E MUNIC�PIOS LIM�TROFES</td></tr><tr><td>S5</td><td>2295034</td><td>COOPERATIVA DE CR�DITO DOS CORRETORES E DEMAIS T�CNICOS DE SEGUROS DO ESTADO DE SANTA CATARINA, E EMPRES�RIOS DE BLUMENAU - SICOOB CREDICOR-SC</td></tr><tr><td>S5</td><td>19495266</td><td>COOPERATIVA DE CR�DITO DOS EMPREGADOS DA COMPANHIA INDUSTRIAL CATAGUASES E DA BAUMINAS LTDA. - COOPECIC</td></tr><tr><td>S5</td><td>62605290</td><td>COOPERATIVA DE CR�DITO DOS EMPREGADOS DAS EMPRESAS DO GRUPPO M&G NO BRASIL</td></tr><tr><td>S5</td><td>43730498</td><td>COOPERATIVA DE CR�DITO DOS EMPREGADOS DE ELEVADORES ATLAS</td></tr><tr><td>S5</td><td>57996878</td><td>COOPERATIVA DE CR�DITO DOS EMPREGADOS DO GRUPO AKZO NOBEL BRASIL - COOP AKZONOBEL</td></tr><tr><td>S5</td><td>977212</td><td>COOPERATIVA DE CR�DITO DOS EMPREGADOS DO GRUPO COPERSUCAR E CTC - UNICOPER</td></tr><tr><td>S5</td><td>64293582</td><td>COOPERATIVA DE CR�DITO DOS EMPREGADOS DO GRUPO VALLOUREC NO BRASIL - COOVALL LTDA.</td></tr><tr><td>S5</td><td>42153585</td><td>COOPERATIVA DE CR�DITO DOS EMPREGADOS DO IRB-BRASIL RE LTDA.</td></tr><tr><td>S5</td><td>2405189</td><td>COOPERATIVA DE CR�DITO DOS EMPREGADOS DO SISTEMA FIESC - CREDIFIESC</td></tr><tr><td>S5</td><td>5888589</td><td>COOPERATIVA DE CR�DITO DOS EMPRES�RIOS DA GRANDE CURITIBA E CAMPOS GERAIS - SICOOB SUL</td></tr><tr><td>S5</td><td>10319386</td><td>COOPERATIVA DE CR�DITO DOS EMPRES�RIOS DA GRANDE DOURADOS - SICOOB DOURADOS</td></tr><tr><td>S5</td><td>4406371</td><td>COOPERATIVA DE CR�DITO DOS EMPRES�RIOS DE GOI�NIA LTDA.</td></tr><tr><td>S5</td><td>10808037</td><td>COOPERATIVA DE CR�DITO DOS EMPRES�RIOS DE MANAUS   SICOOB CREDEMPRESAS AM</td></tr><tr><td>S5</td><td>10311218</td><td>COOPERATIVA DE CR�DITO DOS EMPRES�RIOS EM TRANSPORTES RODOVI�RIOS DE FRANCISCO BELTR�O E REGI�O - RODOCR�DITO</td></tr><tr><td>S5</td><td>7469260</td><td>COOPERATIVA DE CR�DITO DOS EMPRES�RIOS INDUSTRIAIS VINCULADOS � FIEMG LTDA - SICOOB CREDIFIEMG</td></tr><tr><td>S5</td><td>44746352</td><td>COOPERATIVA DE CR�DITO DOS FORNECEDORES DE CANA DE BARRA BONITA E REGI�O</td></tr><tr><td>S5</td><td>53623781</td><td>COOPERATIVA DE CR�DITO DOS FORNECEDORES DE CANA E AGROPECUARISTAS DA REGI�O OESTE PAULISTA - SICOOB COOPCRED</td></tr><tr><td>S5</td><td>53776852</td><td>COOPERATIVA DE CREDITO DOS FORNECEDORES DE CANA E DEMAIS PRODUTORES RURAIS DO CENTRO DO ESTADO DE SAO PAULO - CREDICENTRO</td></tr><tr><td>S5</td><td>51010858</td><td>COOPERATIVA DE CR�DITO DOS FUNCION�RIOS DA ABB - COOPERABB</td></tr><tr><td>S5</td><td>2208747</td><td>COOPERATIVA DE CR�DITO DOS FUNCION�RIOS DAS  SECRETARIAS DA AGRICULTURA, MEIO AMBIENTE E DESENVOLVIMENTO AGR�COLA DO ESTADO DE S�O PAULO - COOPERCERES</td></tr><tr><td>S5</td><td>3657230</td><td>COOPERATIVA DE CR�DITO DOS FUNCION�RIOS DO GRUPO PPG</td></tr><tr><td>S5</td><td>25363615</td><td>COOPERATIVA DE CR�DITO DOS INTEGRANTES DO PODER JUDICI�RIO E DAS INSTITUI��ES JUR�DICAS DA UNI�O EM MINAS GERAIS LTDA.   SICOOB COOPJUS</td></tr><tr><td>S5</td><td>3519240</td><td>COOPERATIVA DE CR�DITO DOS INTEGRANTES DO PODER JUDICI�RIO E DO MINIST�RIO P�BLICO DO ESTADO DE MINAS GERAIS LTDA. - SICOOB JUS-MP</td></tr><tr><td>S5</td><td>7836458</td><td>COOPERATIVA DE CR�DITO DOS LOJISTAS DO DISTRITO FEDERAL - SICOOB CREDILOJISTA</td></tr><tr><td>S5</td><td>5040680</td><td>COOPERATIVA DE CR�DITO DOS MAGISTRADOS DO ESTADO DO RIO DE JANEIRO LTDA. - MAGICREDI-RJ</td></tr><tr><td>S5</td><td>9552111</td><td>COOPERATIVA DE CR�DITO DOS MAGISTRADOS, SERVIDORES DA JUSTI�A DO ESTADO DE GOI�S E EMPREGADOS DA CELG LTDA.</td></tr><tr><td>S5</td><td>2833202</td><td>COOPERATIVA DE CR�DITO DOS M�DICOS E DEMAIS PROFISSIONAIS DA SA�DE DE VIT�RIA DA CONQUISTA</td></tr><tr><td>S5</td><td>71418784</td><td>COOPERATIVA DE CR�DITO DOS M�DICOS E DEMAIS PROFISSIONAIS DA SA�DE DO SUL DE MINAS LTDA. - UNICRED SUL DE MINAS</td></tr><tr><td>S5</td><td>73443863</td><td>COOPERATIVA DE CR�DITO DOS M�DICOS E DEMAIS PROFISSIONAIS DA SA�DE, CONTABILISTAS, PROFESSORES E EMPRES�RIOS DE BLUMENAU E VALE DO ITAJA� LTDA ? UNICRED BLUMENAU</td></tr><tr><td>S5</td><td>3055269</td><td>COOPERATIVA DE CR�DITO DOS M�DICOS E DEMAIS PROFISSIONAIS DA SA�DE, PEQUENOS EMPRES�RIOS, MICROEMPRES�RIOS E MICROEMPREENDEDORES - SICOOB UNIMAIS BANDEIRANTE</td></tr><tr><td>S5</td><td>8143326</td><td>COOPERATIVA DE CR�DITO DOS M�DICOS E PROFISSIONAIS DE SA�DE DE S�O LU�S - SICREDI S�O LU�S</td></tr><tr><td>S5</td><td>26191078</td><td>COOPERATIVA DE CR�DITO DOS M�DICOS, DEMAIS PROFISSIONAIS DE SA�DE E DOS EMPRES�RIOS DA REGI�O DO SUL DO MARANH�O - CREDI SUL DO MARANH�O</td></tr><tr><td>S5</td><td>74064502</td><td>COOPERATIVA DE CR�DITO DOS M�DICOS, PROFISSIONAIS DA �REA DA SA�DE, PROFESSORES, CONTABILISTAS E EMPRES�RIOS DA GRANDE FLORIAN�POLIS LTDA. - UNICRED FLORIAN�POLIS</td></tr><tr><td>S5</td><td>3234384</td><td>COOPERATIVA DE CR�DITO DOS M�DICOS, PROFISSIONAIS DA �REA DE SA�DE E EMPRES�RIOS DA REGI�O DOS CAMPOS GERAIS LTDA.</td></tr><tr><td>S5</td><td>36900256</td><td>COOPERATIVA DE CR�DITO DOS M�DICOS, PROFISSIONAIS DA SA�DE E EMPRES�RIOS DE MATO GROSSO</td></tr><tr><td>S5</td><td>5740092</td><td>COOPERATIVA DE CR�DITO DOS METAL�RGICOS DO ABC - CREDABC</td></tr><tr><td>S5</td><td>6324872</td><td>COOPERATIVA DE CR�DITO DOS PEQUENOS EMPRES�RIOS, MICROEMPRES�RIOS E MICROEMPREENDEDORES DO NORTE DE MINAS LTDA - SICOOB CREDINOSSO</td></tr><tr><td>S5</td><td>50848910</td><td>COOPERATIVA DE CR�DITO DOS PLANTADORES DE CANA DA REGI�O DE LEN��IS PAULISTA</td></tr><tr><td>S5</td><td>2412022</td><td>COOPERATIVA DE CR�DITO DOS PROFISSIONAIS DA �REA DA SA�DE DE FRANCISCO BELTR�O-PR E REGI�O, UNIPRIME FRANCISCO BELTR�O</td></tr><tr><td>S5</td><td>70937271</td><td>COOPERATIVA DE CR�DITO DOS PROFISSIONAIS DA SA�DE DAS REGI�ES DO TRI�NGULO, CIRCUITO DAS �GUAS E CENTRO DE MINAS LTDA. - UNICRED MINEIRA</td></tr><tr><td>S5</td><td>1039011</td><td>COOPERATIVA DE CR�DITO DOS PROFISSIONAIS DA SA�DE, CONTABILISTAS, EMPRES�RIOS E PROFESSORES DO OESTE E SERRA LTDA - UNICRED OESTE E SERRA</td></tr><tr><td>S5</td><td>2250781</td><td>COOPERATIVA DE CR�DITO DOS PROFISSIONAIS DA SA�DE, DA EDUCA��O, PEQUENOS EMPRES�RIOS, MICROEMPRES�RIOS E MICROEMPREENDEDORES DO NORTE PAULISTA - SICOOB UNIMAIS NORTE PAULISTA</td></tr><tr><td>S5</td><td>71432926</td><td>COOPERATIVA DE CR�DITO DOS PROFISSIONAIS DE SA�DE DO TRI�NGULO MINEIRO E SUL DE MINAS LTDA.</td></tr><tr><td>S5</td><td>3358914</td><td>COOPERATIVA DE CR�DITO DOS PROPRIET�RIOS DA IND�STRIA DE ROCHAS ORNAMENTAIS, CAL E CALC�RIOS DO ESTADO DO ESP�RITO SANTO - SICOOB CREDIROCHAS</td></tr><tr><td>S5</td><td>3102185</td><td>COOPERATIVA DE CR�DITO DOS SERVIDORES DA UNI�O NO NORDESTE - SICREDI FEDERALCRED NE</td></tr><tr><td>S5</td><td>83347294</td><td>COOPERATIVA DE CR�DITO DOS SERVIDORES DO MINIST�RIO DA AGRICULTURA, PECU�RIA E ABASTECIMENTO NA REGI�O METROPOLITANA DE BEL�M</td></tr><tr><td>S5</td><td>5728016</td><td>COOPERATIVA DE CR�DITO DOS SERVIDORES DO MINIST�RIO DA SA�DE EM MACEI� - SICREDI SAUDECRED</td></tr><tr><td>S5</td><td>21797311</td><td>COOPERATIVA DE CR�DITO DOS SERVIDORES DOS PODERES LEGISLATIVOS DO ESTADO DE MINAS GERAIS E DO SEU �RG�O AUXILIAR LTDA. - SICOOB COFAL</td></tr><tr><td>S5</td><td>20833976</td><td>COOPERATIVA DE CR�DITO DOS SERVIDORES P�BLICOS MUNICIPAIS DE TIM�TEO LTDA. - COOPERTIM</td></tr><tr><td>S5</td><td>4321309</td><td>COOPERATIVA DE CR�DITO DOS SERVIDORES P�BLICOS NO ESTADO DA BAHIA LTDA. � SICOOB CRED EXECUTIVO</td></tr><tr><td>S5</td><td>19535009</td><td>COOPERATIVA DE CR�DITO DOS TRANSPORTADORES RODOVI�RIOS E DE LOG�STICA DO RIO GRANDE DO SUL - TRANSULCRED</td></tr><tr><td>S5</td><td>4484490</td><td>COOPERATIVA DE CR�DITO E INVESTIMENTO DE LIVRE ADMISS�O DA ALTA NOROESTE DE S�O PAULO - SICREDI ALTA NOROESTE SP</td></tr><tr><td>S5</td><td>4463602</td><td>COOPERATIVA DE CR�DITO E INVESTIMENTO DE LIVRE ADMISS�O DA REGI�O CENTRO OESTE PAULISTA - SICREDI CENTRO OESTE SP</td></tr><tr><td>S5</td><td>57647653</td><td>COOPERATIVA DE CR�DITO E INVESTIMENTO DE LIVRE ADMISS�O DE ASSOCIADOS DA REGI�O DAS FLORES, DAS �GUAS E DOS VENTOS SP - SICREDI FOR�A DOS VENTOS SP</td></tr><tr><td>S5</td><td>7206072</td><td>COOPERATIVA DE CR�DITO E INVESTIMENTO DE LIVRE ADMISS�O DO ALTO PARANAPANEMA - SICREDI CAPAL PR/SP</td></tr><tr><td>S5</td><td>78907607</td><td>COOPERATIVA DE CR�DITO E INVESTIMENTO DE LIVRE ADMISS�O DO CENTRO SUL DO PARAN� - SICREDI CENTRO SUL PR/SC</td></tr><tr><td>S5</td><td>79063574</td><td>COOPERATIVA DE CR�DITO E INVESTIMENTO DE LIVRE ADMISS�O DO NORTE DO PARAN� E SUL DE S�O PAULO - SICREDI NORTE SUL PR/SP</td></tr><tr><td>S5</td><td>81115149</td><td>COOPERATIVA DE CR�DITO E INVESTIMENTO DE LIVRE ADMISS�O GRANDES LAGOS DO PARAN� E LITORAL PAULISTA - SICREDI GRANDES LAGOS PR/SP</td></tr><tr><td>S5</td><td>81192106</td><td>COOPERATIVA DE CR�DITO E INVESTIMENTO DE LIVRE ADMISS�O NOSSA TERRA   SICREDI NOSSA TERRA PR/SP</td></tr><tr><td>S5</td><td>81206039</td><td>COOPERATIVA DE CR�DITO E INVESTIMENTO DE LIVRE ADMISS�O RIO PARAN� - SICREDI RIO PARAN� PR/SP</td></tr><tr><td>S5</td><td>3065046</td><td>COOPERATIVA DE CR�DITO E INVESTIMENTO DO NOROESTE DO ESTADO DE S�O PAULO - SICREDI NOROESTE SP</td></tr><tr><td>S5</td><td>72128440</td><td>COOPERATIVA DE CREDITO E INVESTIMENTO DO RIO DE JANEIRO - SICREDI RIO</td></tr><tr><td>S5</td><td>4306351</td><td>COOPERATIVA DE CR�DITO E INVESTIMENTO SICOOB INDEPEND�NCIA - SICOOB INDEPEND�NCIA</td></tr><tr><td>S5</td><td>77984870</td><td>COOPERATIVA DE CR�DITO E INVESTIMENTO TERRA DOS PINHEIRAIS DO PARAN� E NOROESTE PAULISTA - SICREDI PLANALTO DAS �GUAS PR/SP</td></tr><tr><td>S5</td><td>81706616</td><td>COOPERATIVA DE CR�DITO E INVESTIMENTOS DE LIVRE ADMISS�O DO VALE DO IVA� - SICREDI VALE DO IVA� PR</td></tr><tr><td>S5</td><td>7194313</td><td>COOPERATIVA DE CR�DITO HORIZONTE - SICOOB HORIZONTE</td></tr><tr><td>S5</td><td>78825270</td><td>COOPERATIVA DE CR�DITO MAXI ALFA DE LIVRE ADMISS�O DE ASSOCIADOS - SICOOB MAXICR�DITO</td></tr><tr><td>S5</td><td>4546162</td><td>COOPERATIVA DE CR�DITO M�TUO DE SERVIDORES P�BLICOS DO ESTADO DE S�O PAULO - CREDIFISCO</td></tr><tr><td>S5</td><td>5861932</td><td>COOPERATIVA DE CR�DITO M�TUO DOS ADVOGADOS DE SANTA CATARINA</td></tr><tr><td>S5</td><td>7070495</td><td>COOPERATIVA DE CR�DITO M�TUO DOS COMERCIANTES DE VE�CULOS, PE�AS E ACESS�RIOS PARA VE�CULOS DE CURITIBA E REGI�O - SICREDI SINCOCRED PR</td></tr><tr><td>S5</td><td>8030602</td><td>COOPERATIVA DE CR�DITO M�TUO DOS CORRETORES DE SEGUROS DO ESTADO DE S�O PAULO - SICOOB CREDICOR/SP</td></tr><tr><td>S5</td><td>4853988</td><td>COOPERATIVA DE CR�DITO M�TUO DOS DENTISTAS E DEMAIS PROFISSIONAIS DA SA�DE DE S�O CARLOS - SICREDI S�O CARLOS SP</td></tr><tr><td>S5</td><td>4715685</td><td>COOPERATIVA DE CR�DITO M�TUO DOS DESPACHANTES DE TR�NSITO DE SANTA CATARINA E RIO GRANDE DO SUL - SICOOB CREDITRAN</td></tr><tr><td>S5</td><td>7753938</td><td>COOPERATIVA DE CR�DITO M�TUO DOS DISTRIBUIDORES DE BEBIDAS DO ESTADO DE S�O PAULO - SICOOB CREDIBESP</td></tr><tr><td>S5</td><td>46642294</td><td>COOPERATIVA DE CR�DITO M�TUO DOS EMPREGADOS DA EMBRAER</td></tr><tr><td>S5</td><td>55319370</td><td>COOPERATIVA DE CR�DITO M�TUO DOS EMPREGADOS DA FIA��O ALPINA - COOPERALPINA</td></tr><tr><td>S5</td><td>58290800</td><td>COOPERATIVA DE CR�DITO M�TUO DOS EMPREGADOS DA MAXION - CREDMAXION</td></tr><tr><td>S5</td><td>2104058</td><td>COOPERATIVA DE CR�DITO M�TUO DOS EMPREGADOS DA PILKINGTON BRASIL</td></tr><tr><td>S5</td><td>49091119</td><td>COOPERATIVA DE CR�DITO M�TUO DOS EMPREGADOS DA SKF E COLIGADAS</td></tr><tr><td>S5</td><td>6369729</td><td>COOPERATIVA DE CR�DITO M�TUO DOS EMPREGADOS DAS IND�STRIAS DO PAPEL, PAPEL�O E CORTI�A DE OTAC�LIO COSTA, LAGES E CORREA PINTO - PAPELCREDI</td></tr><tr><td>S5</td><td>20833992</td><td>COOPERATIVA DE CR�DITO M�TUO DOS EMPREGADOS DO CENTRO UNIVERSIT�RIO NEWTON PAIVA LTDA. - CREDIPAIVA</td></tr><tr><td>S5</td><td>2093154</td><td>COOPERATIVA DE CR�DITO M�TUO DOS EMPREGADOS DO MAGAZINE LUIZA, EMPRESAS CONTROLADAS E COLIGADAS - COOPLUIZA</td></tr><tr><td>S5</td><td>66555665</td><td>COOPERATIVA DE CR�DITO M�TUO DOS EMPREGADOS E SERVIDORES DA DERSA, SECRETARIA ESTADUAL DE LOG�STICA E TRANSPORTES E �RG�OS SUBORDINADOS DO ESTADO DE S�O PAULO - COOPTRANSP</td></tr><tr><td>S5</td><td>5292849</td><td>COOPERATIVA DE CR�DITO M�TUO DOS EMPREGADOS EM EMPRESAS ADMINISTRADORAS DE AEROPORTOS - AEROCRED</td></tr><tr><td>S5</td><td>3674133</td><td>COOPERATIVA DE CR�DITO M�TUO DOS EMPREGADOS EM INSTITUI��ES DO SISTEMA FINANCEIRO NAS REGI�ES DE S�O PAULO E CAMPINAS (SP) - CREDISCOOP</td></tr><tr><td>S5</td><td>7814673</td><td>COOPERATIVA DE CR�DITO M�TUO DOS EMPREGADOS NA CAIXA ECON�MICA FEDERAL NO ESTADO DE S�O PAULO - APCEFCREDI-SP</td></tr><tr><td>S5</td><td>4013172</td><td>COOPERATIVA DE CR�DITO M�TUO DOS EMPRES�RIOS DE FRANCA E REGI�O SICOOB CRED-ACIF</td></tr><tr><td>S5</td><td>6078926</td><td>COOPERATIVA DE CR�DITO M�TUO DOS ESCRIV�ES, NOT�RIOS E REGISTRADORES NO ESTADO DO PARAN� - SICREDI CREDENOREG PR.</td></tr><tr><td>S5</td><td>5165103</td><td>COOPERATIVA DE CR�DITO M�TUO DOS FUNCION�RIOS DA CAMDA-COCREALPA - CREDI-CAMDA</td></tr><tr><td>S5</td><td>45421856</td><td>COOPERATIVA DE CR�DITO M�TUO DOS FUNCION�RIOS DA F�BRICA DE CIMENTO VOTORAN</td></tr><tr><td>S5</td><td>5747018</td><td>COOPERATIVA DE CR�DITO M�TUO DOS FUNCION�RIOS DA FIEP, SESI, SENAI, IEL E COND EDIF�CIO AGOSTINHO VELLOSO DA SILVEIRA (CEAVS) - CREDFISP LTDA.</td></tr><tr><td>S5</td><td>11356599</td><td>COOPERATIVA DE CR�DITO M�TUO DOS FUNCION�RIOS DA PERPART E DO IPA - COOPEMATER</td></tr><tr><td>S5</td><td>6077760</td><td>COOPERATIVA DE CR�DITO M�TUO DOS FUNCION�RIOS DA RICLAN</td></tr><tr><td>S5</td><td>53932869</td><td>COOPERATIVA DE CR�DITO M�TUO DOS FUNCION�RIOS DAS EMPRESAS FERROVI�RIAS NO ESTADO DE S�O PAULO</td></tr><tr><td>S5</td><td>4414354</td><td>COOPERATIVA DE CR�DITO M�TUO DOS FUNCION�RIOS DO GRUPO ABC - COOPER 7</td></tr><tr><td>S5</td><td>7651495</td><td>COOPERATIVA DE CR�DITO M�TUO DOS FUNCION�RIOS P�BLICOS DO PODER JUDICI�RIO DA CAPITAL DO ESTADO DE S�O PAULO - JUDCRED</td></tr><tr><td>S5</td><td>7946216</td><td>COOPERATIVA DE CR�DITO M�TUO DOS MICRO E PEQUENOS EMPRES�RIOS E MICROEMPREENDEDORES DO GRANDE ABC - SICOOB GRANDE ABC.</td></tr><tr><td>S5</td><td>7669921</td><td>COOPERATIVA DE CR�DITO M�TUO DOS MICROS E PEQUENOS EMPRES�RIOS E MICROEMPREENDEDORES DE S�O CARLOS - SICOOB CREDIACISC</td></tr><tr><td>S5</td><td>3620772</td><td>COOPERATIVA DE CR�DITO M�TUO DOS POLICIAIS FEDERAIS E SERVIDORES DA UNI�O NO CEAR� - SICOOB CEAR�</td></tr><tr><td>S5</td><td>2083914</td><td>COOPERATIVA DE CR�DITO M�TUO DOS POLICIAIS FEDERAIS E SERVIDORES DA UNI�O NO ESP�RITO SANTO - CREDFEDERAL</td></tr><tr><td>S5</td><td>7030145</td><td>COOPERATIVA DE CR�DITO M�TUO DOS PRA�AS E OFICIAIS DA POL�CIA MILITAR DO ESTADO DE S�O PAULO - COOPERACS- SP</td></tr><tr><td>S5</td><td>4525997</td><td>COOPERATIVA DE CR�DITO M�TUO DOS PROFESSORES E FUNCION�RIOS DA UNIVERSIDADE DE CAXIAS DO SUL - SICREDI COOPERUCS</td></tr><tr><td>S5</td><td>4791645</td><td>COOPERATIVA DE CR�DITO M�TUO DOS SERVIDORES DA ASSEMBLEIA LEGISLATIVA DO ESTADO DE S�O PAULO - COOPERALESP</td></tr><tr><td>S5</td><td>4804353</td><td>COOPERATIVA DE CR�DITO M�TUO DOS SERVIDORES DA SEGURAN�A P�BLICA DE S�O PAULO - CREDIAFAM</td></tr><tr><td>S5</td><td>53800488</td><td>COOPERATIVA DE CR�DITO M�TUO DOS SERVIDORES DE �RGAOS GESTORES DE RECURSOS H�DRICOS DO ESTADO DE S�O PAULO - COOPERHIDRO</td></tr><tr><td>S5</td><td>2275781</td><td>COOPERATIVA DE CR�DITO M�TUO DOS SERVIDORES DO INSTITUTO FEDERAL DE EDUCA��O, CI�NCIA E TECNOLOGIA DA PARA�BA   SICOOB COOPERCRET</td></tr><tr><td>S5</td><td>73092827</td><td>COOPERATIVA DE CR�DITO M�TUO DOS SERVIDORES DO MINISTERIO DA EDUCA��O EM S�O PAULO - COOPEMESP</td></tr><tr><td>S5</td><td>5969937</td><td>COOPERATIVA DE CR�DITO M�TUO DOS SERVIDORES MUNICIPAIS DE BEBEDOURO - COOCRESB.</td></tr><tr><td>S5</td><td>4587402</td><td>COOPERATIVA DE CR�DITO M�TUO DOS SERVIDORES P�BLICOS DA EST�NCIA TUR�STICA DE RIBEIR�O PIRES - CREDIRP</td></tr><tr><td>S5</td><td>4219215</td><td>COOPERATIVA DE CREDITO MUTUO DOS SERVIDORES P�BLICOS ESTADUAIS CIVIS,MILITARES E PENSIONISTAS EM ARARAQUARA E REGI�O, SERVIDORES E MAGISTRADOS  JUDICI�RIO FEDERAL NO ESTADO DE S�O PAULO-SICOOB COOPARA</td></tr><tr><td>S5</td><td>881829</td><td>COOPERATIVA DE CR�DITO M�TUO DOS SERVIDORES P�BLICOS MUNICIPAIS DE JABOTICABAL - COOPERSERV</td></tr><tr><td>S5</td><td>5667301</td><td>COOPERATIVA DE CR�DITO M�TUO DOS SERVIDORES P�BLICOS MUNICIPAIS DE LEN��IS PAULISTA - COOPERSERV</td></tr><tr><td>S5</td><td>3612679</td><td>COOPERATIVA DE CR�DITO M�TUO DOS SERVIDORES P�BLICOS MUNICIPAIS DE S�O BERNARDO DO CAMPO - CREDIABC</td></tr><tr><td>S5</td><td>2191265</td><td>COOPERATIVA DE CR�DITO M�TUO DOS SERVIDORES P�BLICOS MUNICIPAIS DO MUNIC�PIO DE BAURU - CREDISERV</td></tr><tr><td>S5</td><td>8227676</td><td>COOPERATIVA DE CR�DITO M�TUO DOS TRABALHADORES DO SETOR AEROESPACIAL DE S�O JOSE DOS CAMPOS - COSAE</td></tr><tr><td>S5</td><td>6942423</td><td>COOPERATIVA DE CR�DITO M�TUO DOS TRABALHADORES DO SISTEMA FINANCEIRO DE CURITIBA E REGI�O - COOPCREFI</td></tr><tr><td>S5</td><td>7789195</td><td>COOPERATIVA DE CR�DITO M�TUO DOS TRANSPORTADORES RODOVI�RIOS DE VE�CULOS DO ABCD, MA�A, RIBEIR�O PIRES E VALE DO PARA�BA - SICOOB CREDCEG</td></tr><tr><td>S5</td><td>4886317</td><td>COOPERATIVA DE CR�DITO M�TUO E INVESTIMENTO DOS INTEGRANTES DA MAGISTRATURA E DO MINIST�RIO P�BLICO NO ESTADO DO PARAN� - SICREDI CREDJURIS</td></tr><tr><td>S5</td><td>73113243</td><td>COOPERATIVA DE CR�DITO M�TUO E INVESTIMENTO DOS PROFISSIONAIS DA �REA DA SA�DE E DOS PEQUENOS EMPRES�RIOS, MICROEMPRES�RIOS E MICROEMPREENDEDORES DE ARARAQUARA E REGI�O - SICREDI CENTRO NORTE SP</td></tr><tr><td>S5</td><td>5097757</td><td>COOPERATIVA DE CR�DITO M�TUO E SERVI�OS FINANCEIROS DOS EMPREGADOS DO SISTEMA FINANCEIRO E DOS CONTABILISTAS NO ESTADO DO PARAN�</td></tr><tr><td>S5</td><td>86803939</td><td>COOPERATIVA DE CR�DITO M�TUO SERRA MAR LTDA. - UNICRED SERRA MAR</td></tr><tr><td>S5</td><td>81292278</td><td>COOPERATIVA DE CR�DITO NOROESTE - SICOOB NOROESTE</td></tr><tr><td>S5</td><td>3419786</td><td>COOPERATIVA DE CR�DITO NOSSA SENHORA DO DESTERRO - SICOOB CREDISC</td></tr><tr><td>S5</td><td>25626490</td><td>COOPERATIVA DE CR�DITO RURAL ALTO RIO GRANDE LTDA. - SICOOB CREDIGRANDE</td></tr><tr><td>S5</td><td>9244973</td><td>COOPERATIVA DE CR�DITO RURAL ASCOOB COOPEC - ASCOOB COOPEC</td></tr><tr><td>S5</td><td>2025743</td><td>COOPERATIVA DE CR�DITO RURAL ASCOOB COOPERAR</td></tr><tr><td>S5</td><td>3087263</td><td>COOPERATIVA DE CR�DITO RURAL ASCOOB COSTA DO DEND�</td></tr><tr><td>S5</td><td>3921543</td><td>COOPERATIVA DE CR�DITO RURAL ASCOOB ITAPICURU</td></tr><tr><td>S5</td><td>4588258</td><td>COOPERATIVA DE CR�DITO RURAL ASCOOB PARAGUASSU</td></tr><tr><td>S5</td><td>63229629</td><td>COOPERATIVA DE CREDITO RURAL ASCOOB SISAL</td></tr><tr><td>S5</td><td>3071386</td><td>COOPERATIVA DE CR�DITO RURAL ASCOOB SUDOESTE</td></tr><tr><td>S5</td><td>315406</td><td>COOPERATIVA DE CR�DITO RURAL CAZOLA - SICOOB CREDICAZOLA</td></tr><tr><td>S5</td><td>5138766</td><td>COOPERATIVA DE CR�DITO RURAL COM INTERA��O SOLID�RIA ALIAN�A - CRESOL ALIAN�A</td></tr><tr><td>S5</td><td>6100881</td><td>COOPERATIVA DE CR�DITO RURAL COM INTERA��O SOLID�RIA C�NDIDO DE ABREU - CRESOL C�NDIDO DE ABREU</td></tr><tr><td>S5</td><td>5425526</td><td>COOPERATIVA DE CREDITO RURAL COM INTERACAO SOLIDARIA CONCORDIA- CRESOL CONC�RDIA</td></tr><tr><td>S5</td><td>3485130</td><td>COOPERATIVA DE CR�DITO RURAL COM INTERA��O SOLID�RIA DAS ENCOSTAS DA SERRA GERAL - CRESOL ENCOSTAS DA SERRA GERAL</td></tr><tr><td>S5</td><td>7512780</td><td>COOPERATIVA DE CR�DITO RURAL COM INTERA��O SOLID�RIA DE �GUAS MORNAS - CRESOL �GUAS MORNAS</td></tr><tr><td>S5</td><td>5494591</td><td>COOPERATIVA DE CR�DITO RURAL COM INTERA��O SOLID�RIA DE ALFREDO WAGNER - CRESOL ALFREDO WAGNER</td></tr><tr><td>S5</td><td>11453724</td><td>COOPERATIVA DE CR�DITO RURAL COM INTERA��O SOLID�RIA DE ALTO PARAN� - CRESOL ALTO PARAN�</td></tr><tr><td>S5</td><td>3066193</td><td>COOPERATIVA DE CREDITO RURAL COM INTERACAO SOLIDARIA DE AMPERE - CRESOL AMPERE</td></tr><tr><td>S5</td><td>7215632</td><td>COOPERATIVA DE CR�DITO RURAL COM INTERA��O SOLID�RIA DE API�NA - CRESOL API�NA</td></tr><tr><td>S5</td><td>7016503</td><td>COOPERATIVA DE CR�DITO RURAL COM INTERA��O SOLID�RIA DE ARAPONGA - CRESOL ARAPONGA</td></tr><tr><td>S5</td><td>4565791</td><td>COOPERATIVA DE CREDITO RURAL COM INTERACAO SOLIDARIA DE ARATIBA-CRESOL ARATIBA</td></tr><tr><td>S5</td><td>2904138</td><td>COOPERATIVA DE CR�DITO RURAL COM INTERA��O SOLID�RIA DE �UREA - CRESOL �UREA</td></tr><tr><td>S5</td><td>8658915</td><td>COOPERATIVA DE CR�DITO RURAL COM INTERA��O SOLID�RIA DE BOM CONSELHO - CRESOL BOM CONSELHO</td></tr><tr><td>S5</td><td>3356447</td><td>COOPERATIVA DE CREDITO RURAL COM INTERACAO SOLIDARIA DE CANDOI - CRESOL CANDOI</td></tr><tr><td>S5</td><td>1201006</td><td>COOPERATIVA DE CR�DITO RURAL COM INTERA��O SOLID�RIA DE CAPANEMA - CRESOL CAPANEMA</td></tr><tr><td>S5</td><td>9476168</td><td>COOPERATIVA DE CR�DITO RURAL COM INTERA��O SOLID�RIA DE CAP�O BONITO - CRESOL CAP�O BONITO</td></tr><tr><td>S5</td><td>2448310</td><td>COOPERATIVA DE CREDITO RURAL COM INTERACAO SOLIDARIA DE CASCAVEL - CRESOL CASCAVEL</td></tr><tr><td>S5</td><td>4281182</td><td>COOPERATIVA DE CREDITO RURAL COM INTERACAO SOLIDARIA DE CHAPECO-CRESOL CHAPEC�</td></tr><tr><td>S5</td><td>2511232</td><td>COOPERATIVA DE CREDITO RURAL COM INTERACAO SOLIDARIA DE CHOPINZINHO - CRESOL CHOPINZINHO</td></tr><tr><td>S5</td><td>2663426</td><td>COOPERATIVA DE CREDITO RURAL COM INTERACAO SOLIDARIA DE CONSTANTINA-CRESOL CONSTANTINA.</td></tr><tr><td>S5</td><td>8647473</td><td>COOPERATIVA DE CR�DITO RURAL COM INTERA��O SOLID�RIA DE CORONEL FREITAS - CRESOL CORONEL FREITAS</td></tr><tr><td>S5</td><td>5070112</td><td>COOPERATIVA DE CREDITO RURAL COM INTERACAO SOLIDARIA DE CORONEL MARTINS-CRESOL PEDRA BRANCA</td></tr><tr><td>S5</td><td>5277312</td><td>COOPERATIVA DE CREDITO RURAL COM INTERACAO SOLIDARIA DE CRUZ MACHADO - CRESOL CRUZ MACHADO</td></tr><tr><td>S5</td><td>1155801</td><td>COOPERATIVA DE CR�DITO RURAL COM INTERA��O SOLID�RIA DE CURITIBANOS - CRESOL CURITIBANOS</td></tr><tr><td>S5</td><td>2844024</td><td>COOPERATIVA DE CREDITO RURAL COM INTERACAO SOLIDARIA DE DIONISIO CERQUEIRA-CRESOL DION�SIO CERQUEIRA</td></tr><tr><td>S5</td><td>971300</td><td>COOPERATIVA DE CREDITO RURAL COM INTERACAO SOLIDARIA DE DOIS VIZINHOS - CRESOL DOIS VIZINHOS</td></tr><tr><td>S5</td><td>4261151</td><td>COOPERATIVA DE CR�DITO RURAL COM INTERA��O SOLID�RIA DE DONA EMMA - CRESOL DONA EMMA</td></tr><tr><td>S5</td><td>8812388</td><td>COOPERATIVA DE CR�DITO RURAL COM INTERA��O SOLID�RIA DE EN�AS MARQUES - CRESOL EN�AS MARQUES</td></tr><tr><td>S5</td><td>2910987</td><td>COOPERATIVA DE CREDITO RURAL COM INTERACAO SOLIDARIA DE ERECHIM - CRESOL ERECHIM</td></tr><tr><td>S5</td><td>4490531</td><td>COOPERATIVA DE CR�DITO RURAL COM INTERA��O SOLID�RIA DE ESTRADA DE FERRO - CRESOL ESTRADA DE FERRO</td></tr><tr><td>S5</td><td>8624548</td><td>COOPERATIVA DE CR�DITO RURAL COM INTERA��O SOLID�RIA DE FERVEDOURO - CRESOL FERVEDOURO</td></tr><tr><td>S5</td><td>5269976</td><td>COOPERATIVA DE CREDITO RURAL COM INTERACAO SOLIDARIA DE FORMOSA DO SUL-CRESOL FORMOSA</td></tr><tr><td>S5</td><td>2698001</td><td>COOPERATIVA DE CREDITO RURAL COM INTERACAO SOLIDARIA DE FRANCISCO BELTRAO - CRESOL FRANCISCO BELTRAO</td></tr><tr><td>S5</td><td>17343510</td><td>COOPERATIVA DE CR�DITO RURAL COM INTERA��O SOLID�RIA DE FREDERICO WESTPHALEN - CRESOL FREDERICO WESTPHALEN</td></tr><tr><td>S5</td><td>6890201</td><td>COOPERATIVA DE CR�DITO RURAL COM INTERA��O SOLID�RIA DE FREI ROG�RIO - CRESOL FREI ROG�RIO</td></tr><tr><td>S5</td><td>5241145</td><td>COOPERATIVA DE CREDITO RURAL COM INTERACAO SOLIDARIA DE GETULIO VARGAS-CRESOL GET�LIO VARGAS</td></tr><tr><td>S5</td><td>7925729</td><td>COOPERATIVA DE CR�DITO RURAL COM INTERA��O SOLID�RIA DE GRANDES RIOS - CRESOL GRANDES RIOS</td></tr><tr><td>S5</td><td>5400634</td><td>COOPERATIVA DE CREDITO RURAL COM INTERACAO SOLIDARIA DE GUARACIABA-CRESOL GUARACIABA</td></tr><tr><td>S5</td><td>8488377</td><td>COOPERATIVA DE CR�DITO RURAL COM INTERA��O SOLID�RIA DE GUARANI DAS MISS�ES - CRESOL GUARANI DAS MISS�ES</td></tr><tr><td>S5</td><td>5121687</td><td>COOPERATIVA DE CREDITO RURAL COM INTERACAO SOLIDARIA DE GUARANIA�U - CRESOL GUARANIA�U</td></tr><tr><td>S5</td><td>2565350</td><td>COOPERATIVA DE CREDITO RURAL COM INTERACAO SOLIDARIA DE HONORIO SERPA - CRESOL HONORIO SERPA</td></tr><tr><td>S5</td><td>5983995</td><td>COOPERATIVA DE CR�DITO RURAL COM INTERA��O SOLID�RIA DE HUMAIT� - CRESOL HUMAIT�</td></tr><tr><td>S5</td><td>11239236</td><td>COOPERATIVA DE CR�DITO RURAL COM INTERA��O SOLID�RIA DE IBAITI - CRESOL IBAITI</td></tr><tr><td>S5</td><td>4232022</td><td>COOPERATIVA DE CREDITO RURAL COM INTERACAO SOLIDARIA DE IBEMA - CRESOL IBEMA</td></tr><tr><td>S5</td><td>5427501</td><td>COOPERATIVA DE CREDITO RURAL COM INTERACAO SOLIDARIA DE IPUMIRIM - CRESOL IPUMIRIM</td></tr><tr><td>S5</td><td>9433005</td><td>COOPERATIVA DE CR�DITO RURAL COM INTERA��O SOLID�RIA DE IRINE�POLIS - CRESOL IRINE�POLIS</td></tr><tr><td>S5</td><td>4973378</td><td>COOPERATIVA DE CREDITO RURAL COM INTERACAO SOLIDARIA DE ITAPEJARA D`OESTE - CRESOL ITAPEJARA D`OESTE</td></tr><tr><td>S5</td><td>5745533</td><td>COOPERATIVA DE CR�DITO RURAL COM INTERA��O SOLID�RIA DE ITATIBA DO SUL - CRESOL ITATIBA DO SUL</td></tr><tr><td>S5</td><td>7507647</td><td>COOPERATIVA DE CR�DITO RURAL COM INTERA��O SOLID�RIA DE ITUPORANGA - CRESOL ITUPORANGA</td></tr><tr><td>S5</td><td>5231945</td><td>COOPERATIVA DE CREDITO RURAL COM INTERACAO SOLIDARIA DE IVAIPORA - CRESOL IVAIPORA</td></tr><tr><td>S5</td><td>9463721</td><td>COOPERATIVA DE CR�DITO RURAL COM INTERA��O SOLID�RIA DE JACINTO MACHADO - CRESOL JACINTO MACHADO</td></tr><tr><td>S5</td><td>5410056</td><td>COOPERATIVA DE CREDITO RURAL COM INTERACAO SOLIDARIA DE JAGUARUNA-CRESOL JAGUARUNA</td></tr><tr><td>S5</td><td>10520232</td><td>COOPERATIVA DE CR�DITO RURAL COM INTERA��O SOLID�RIA DE JI - PARAN� - CRESOL JI - PARAN�</td></tr><tr><td>S5</td><td>1086342</td><td>COOPERATIVA DE CR�DITO RURAL COM INTERA��O SOLID�RIA DE LARANJEIRAS DO SUL - CRESOL LARANJEIRAS DO SUL</td></tr><tr><td>S5</td><td>7211698</td><td>COOPERATIVA DE CR�DITO RURAL COM INTERA��O SOLID�RIA DE LONDRINA - CRESOL LONDRINA</td></tr><tr><td>S5</td><td>2961072</td><td>COOPERATIVA DE CREDITO RURAL COM INTERACAO SOLIDARIA DE MANGUEIRINHA - CRESOL MANGUEIRINHA</td></tr><tr><td>S5</td><td>5211129</td><td>COOPERATIVA DE CREDITO RURAL COM INTERACAO SOLIDARIA DE MARCELINO RAMOS-CRESOL MARCELINO RAMOS</td></tr><tr><td>S5</td><td>971297</td><td>COOPERATIVA DE CREDITO RURAL COM INTERACAO SOLIDARIA DE MARMELEIRO - CRESOL MARMELEIRO</td></tr><tr><td>S5</td><td>8850098</td><td>COOPERATIVA DE CR�DITO RURAL COM INTERA��O SOLID�RIA DE MEDIANEIRA - CRESOL MEDIANEIRA</td></tr><tr><td>S5</td><td>7926510</td><td>COOPERATIVA DE CR�DITO RURAL COM INTERA��O SOLID�RIA DE NOVA ESPERAN�A DO SUDOESTE - CRESOL NOVA ESPERAN�A DO SUDOESTE</td></tr><tr><td>S5</td><td>3014407</td><td>COOPERATIVA DE CREDITO RURAL COM INTERACAO SOLIDARIA DE NOVA PRATA DO IGUACU - CRESOL NOVA PRATA DO IGUACU</td></tr><tr><td>S5</td><td>5428587</td><td>COOPERATIVA DE CREDITO RURAL COM INTERACAO SOLIDARIA DE OLIVEIRA DOS BREJINHOS - CRESOL OLIVEIRA DOS BREJINHOS</td></tr><tr><td>S5</td><td>8087331</td><td>COOPERATIVA DE CR�DITO RURAL COM INTERA��O SOLID�RIA DE OURICURI - CRESOL ARARIPE</td></tr><tr><td>S5</td><td>7252614</td><td>COOPERATIVA DE CR�DITO RURAL COM INTERA��O SOLID�RIA DE PAIM FILHO - CRESOL PAIM FILHO</td></tr><tr><td>S5</td><td>5413161</td><td>COOPERATIVA DE CR�DITO RURAL COM INTERA��O SOLID�RIA DE PETROLINA   CRESOL PETROLINA</td></tr><tr><td>S5</td><td>7412987</td><td>COOPERATIVA DE CR�DITO RURAL COM INTERA��O SOLID�RIA DE PINHALZINHO - CRESOL PINHALZINHO</td></tr><tr><td>S5</td><td>2645093</td><td>COOPERATIVA DE CREDITO RURAL COM INTERACAO SOLIDARIA DE PITANGA - CRESOL PITANGA</td></tr><tr><td>S5</td><td>4225119</td><td>COOPERATIVA DE CREDITO RURAL COM INTERACAO SOLIDARIA DE PLANALTO - CRESOL PLANALTO</td></tr><tr><td>S5</td><td>9051765</td><td>COOPERATIVA DE CR�DITO RURAL COM INTERA��O SOLID�RIA DE PORTO LUCENA - CRESOL PORTO LUCENA</td></tr><tr><td>S5</td><td>5442759</td><td>COOPERATIVA DE CREDITO RURAL COM INTERACAO SOLIDARIA DE PORTO XAVIER-CRESOL PORTO XAVIER</td></tr><tr><td>S5</td><td>10453077</td><td>COOPERATIVA DE CR�DITO RURAL COM INTERA��O SOLID�RIA DE POUSO REDONDO - CRESOL POUSO REDONDO</td></tr><tr><td>S5</td><td>3190530</td><td>COOPERATIVA DE CREDITO RURAL COM INTERACAO SOLIDARIA DE PRANCHITA - CRESOL PRANCHITA</td></tr><tr><td>S5</td><td>6126780</td><td>COOPERATIVA DE CR�DITO RURAL COM INTERA��O SOLID�RIA DE PRUDENT�POLIS - CRESOL PRUDENT�POLIS</td></tr><tr><td>S5</td><td>73254757</td><td>COOPERATIVA DE CREDITO RURAL COM INTERACAO SOLIDARIA DE QUILOMBO -  CRESOL QUILOMBO</td></tr><tr><td>S5</td><td>7076644</td><td>COOPERATIVA DE CREDITO RURAL COM INTERA��O SOLIDARIA DE REALEZA - CRESOL REALEZA</td></tr><tr><td>S5</td><td>4350225</td><td>COOPERATIVA DE CREDITO RURAL COM INTERACAO SOLIDARIA DE RENASCEN�A - CRESOL RENASCEN�A</td></tr><tr><td>S5</td><td>10512171</td><td>COOPERATIVA DE CR�DITO RURAL COM INTERA��O SOLID�RIA DE RIO BRANCO DO SUL - CRESOL RIO BRANCO DO SUL</td></tr><tr><td>S5</td><td>7958405</td><td>COOPERATIVA DE CR�DITO RURAL COM INTERA��O SOLID�RIA DE RIO FORTUNA - CRESOL RIO FORTUNA</td></tr><tr><td>S5</td><td>5135542</td><td>COOPERATIVA DE CREDITO RURAL COM INTERACAO SOLIDARIA DE SALTO DO LONTRA - CRESOL SALTO DO LONTRA</td></tr><tr><td>S5</td><td>5276770</td><td>COOPERATIVA DE CREDITO RURAL COM INTERACAO SOLIDARIA DE SANTA IZABEL DO OESTE - CRESOL SANTA IZABEL DO OESTE</td></tr><tr><td>S5</td><td>7268499</td><td>COOPERATIVA DE CR�DITO RURAL COM INTERA��O SOLID�RIA DE SANTA L�CIA - CRESOL SANTA L�CIA</td></tr><tr><td>S5</td><td>5220232</td><td>COOPERATIVA DE CREDITO RURAL COM INTERACAO SOLIDARIA DE SANTA MARIA-CRESOL SANTA MARIA</td></tr><tr><td>S5</td><td>8652872</td><td>COOPERATIVA DE CR�DITO RURAL COM INTERA��O SOLID�RIA DE SANTA TEREZINHA DO PROGRESSO - CRESOL SANTA TEREZINHA DO PROGRESSO</td></tr><tr><td>S5</td><td>3661027</td><td>COOPERATIVA DE CR�DITO RURAL COM INTERA��O SOLID�RIA DE SANTIAGO DO SUL - CRESOL SANTIAGO</td></tr><tr><td>S5</td><td>4649750</td><td>COOPERATIVA DE CREDITO RURAL COM INTERACAO SOLIDARIA DE SANTO ANTONIO DO SUDOESTE - CRESOL SANTO ANTONIO DO SUDOESTE</td></tr><tr><td>S5</td><td>6031727</td><td>COOPERATIVA DE CR�DITO RURAL COM INTERA��O SOLID�RIA DE SANTO CRISTO - CRESOL SANTO CRISTO</td></tr><tr><td>S5</td><td>7557462</td><td>COOPERATIVA DE CR�DITO RURAL COM INTERA��O SOLID�RIA DE S�O JO�O - CRESOL S�O JO�O</td></tr><tr><td>S5</td><td>7542211</td><td>COOPERATIVA DE CR�DITO RURAL COM INTERA��O SOLID�RIA DE S�O JO�O DA URTIGA - CRESOL S�O JO�O DA URTIGA</td></tr><tr><td>S5</td><td>13059232</td><td>COOPERATIVA DE CR�DITO RURAL COM INTERA��O SOLID�RIA DE S�O JO�O DO ITAPERI�   CRESOL S�O JO�O DO ITAPERI�</td></tr><tr><td>S5</td><td>9488496</td><td>COOPERATIVA DE CR�DITO RURAL COM INTERA��O SOLID�RIA DE S�O JO�O DO SUL - CRESOL S�O JO�O DO SUL</td></tr><tr><td>S5</td><td>8560508</td><td>COOPERATIVA DE CR�DITO RURAL COM INTERA��O SOLID�RIA DE S�O JO�O DO TRIUNFO - CRESOL S�O JO�O DO TRIUNFO</td></tr><tr><td>S5</td><td>2766672</td><td>COOPERATIVA DE CREDITO RURAL COM INTERACAO SOLIDARIA DE SAO JOAQUIM-CRESOL S�O JOAQUIM</td></tr><tr><td>S5</td><td>2934201</td><td>COOPERATIVA DE CREDITO RURAL COM INTERACAO SOLIDARIA DE SAO JORGE D'OESTE - CRESOL SAO JORGE D'OESTE</td></tr><tr><td>S5</td><td>11969853</td><td>COOPERATIVA DE CR�DITO RURAL COM INTERA��O SOLID�RIA DE S�O MIGUEL DO IGUA�U - CRESOL S�O MIGUEL DO IGUA�U</td></tr><tr><td>S5</td><td>3015152</td><td>COOPERATIVA DE CREDITO RURAL COM INTERA��O SOLID�RIA DE SAO VALENTIM-CRESOL SAO VALENTIM</td></tr><tr><td>S5</td><td>5220243</td><td>COOPERATIVA DE CREDITO RURAL COM INTERACAO SOLIDARIA DE SARANDI-CRESOL SARANDI</td></tr><tr><td>S5</td><td>8387258</td><td>COOPERATIVA DE CR�DITO RURAL COM INTERA��O SOLID�RIA DE SCHROEDER - CRESOL SCHROEDER</td></tr><tr><td>S5</td><td>5533128</td><td>COOPERATIVA DE CR�DITO RURAL COM INTERA��O SOLID�RIA DE SERRA GERAL - CRESOL SERRA GERAL</td></tr><tr><td>S5</td><td>5478479</td><td>COOPERATIVA DE CR�DITO RURAL COM INTERA��O SOLID�RIA DE TABOCAS DO BREJO VELHO - CRESOL TABOCAS DO BREJO VELHO</td></tr><tr><td>S5</td><td>7946451</td><td>COOPERATIVA DE CR�DITO RURAL COM INTERA��O SOLID�RIA DE TANGAR� - CRESOL TANGAR�</td></tr><tr><td>S5</td><td>4622657</td><td>COOPERATIVA DE CREDITO RURAL COM INTERA��O SOLID�RIA DE TENENTE PORTELA - CRESOL TENENTE PORTELA</td></tr><tr><td>S5</td><td>8805562</td><td>COOPERATIVA DE CR�DITO RURAL COM INTERA��O SOLID�RIA DE TIRADENTES DO SUL - CRESOL TIRADENTES DO SUL</td></tr><tr><td>S5</td><td>7208637</td><td>COOPERATIVA DE CREDITO RURAL COM INTERA��O SOLIDARIA DE TOMBOS-CRESOL TOMBOS</td></tr><tr><td>S5</td><td>4273001</td><td>COOPERATIVA DE CREDITO RURAL COM INTERACAO SOLIDARIA DE TRES BARRAS DO PARANA - CRESOL TRES BARRAS DO PARANA</td></tr><tr><td>S5</td><td>9330158</td><td>COOPERATIVA DE CR�DITO RURAL COM INTERA��O SOLID�RIA DE TREZE DE MAIO - CRESOL TREZE DE MAIO</td></tr><tr><td>S5</td><td>8597482</td><td>COOPERATIVA DE CR�DITO RURAL COM INTERA��O SOLID�RIA DE UNI�O DOS PLANALTOS - CRESOL UNI�O DOS PLANALTOS</td></tr><tr><td>S5</td><td>3348165</td><td>COOPERATIVA DE CREDITO RURAL COM INTERACAO SOLIDARIA DE VERE - CRESOL VERE</td></tr><tr><td>S5</td><td>4663561</td><td>COOPERATIVA DE CREDITO RURAL COM INTERACAO SOLIDARIA DE VIRMOND - CRESOL VIRMOND</td></tr><tr><td>S5</td><td>7320890</td><td>COOPERATIVA DE CR�DITO RURAL COM INTERA��O SOLID�RIA DE VITOR MEIRELES - CRESOL VITOR MEIRELES</td></tr><tr><td>S5</td><td>7465539</td><td>COOPERATIVA DE CR�DITO RURAL COM INTERA��O SOLID�RIA DE WITMARSUM - CRESOL WITMARSUM</td></tr><tr><td>S5</td><td>7509426</td><td>COOPERATIVA DE CR�DITO RURAL COM INTERA��O SOLID�RIA DE XANXER� - CRESOL XANXER�</td></tr><tr><td>S5</td><td>8055016</td><td>COOPERATIVA DE CR�DITO RURAL COM INTERA��O SOLID�RIA DE XAVANTINA - CRESOL XAVANTINA</td></tr><tr><td>S5</td><td>7356021</td><td>COOPERATIVA DE CR�DITO RURAL COM INTERA��O SOLID�RIA DO ALTO DO VALE DO TAQUARI - CRESOL ILOPOLIS</td></tr><tr><td>S5</td><td>9280638</td><td>COOPERATIVA DE CR�DITO RURAL COM INTERA��O SOLID�RIA DO ALTO VALE - CRESOL ALTO VALE</td></tr><tr><td>S5</td><td>7642803</td><td>COOPERATIVA DE CR�DITO RURAL COM INTERA��O SOLID�RIA DO EXTREMO NORTE DO ESP�RITO SANTO   CRESOL EXTREMO NORTE ES</td></tr><tr><td>S5</td><td>23256599</td><td>COOPERATIVA DE CR�DITO RURAL COM INTERA��O SOLID�RIA DO MATO GROSSO DO SUL - CRESOL MS</td></tr><tr><td>S5</td><td>7475376</td><td>COOPERATIVA DE CR�DITO RURAL COM INTERA��O SOLID�RIA DO NOROESTE CAPIXABA   CRESOL NOROESTE CAPIXABA</td></tr><tr><td>S5</td><td>5863726</td><td>COOPERATIVA DE CR�DITO RURAL COM INTERA��O SOLID�RIA DO PLANALTO SERRA DO RIO GRANDE DO SUL - CRESOL  PLANALTO SERRA</td></tr><tr><td>S5</td><td>8197413</td><td>COOPERATIVA DE CR�DITO RURAL COM INTERA��O SOLID�RIA DO SERT�O CENTRAL DO CEAR� - CRESOL SERT�O CENTRAL</td></tr><tr><td>S5</td><td>2483330</td><td>COOPERATIVA DE CR�DITO RURAL COM INTERA�AO SOLID�RIA DO VALE DAS ARAUC�RIAS - CRESOL VALE DAS ARAUC�RIAS</td></tr><tr><td>S5</td><td>8297831</td><td>COOPERATIVA DE CR�DITO RURAL COM INTERA��O SOLID�RIA DO VALE EUROPEU - CRESOL VALE EUROPEU</td></tr><tr><td>S5</td><td>5326643</td><td>COOPERATIVA DE CR�DITO RURAL COM INTERA��O SOLID�RIA LESTE PARANAENSE - CRESOL LESTE PARANAENSE</td></tr><tr><td>S5</td><td>3965737</td><td>COOPERATIVA DE CR�DITO RURAL COM INTERA��O SOLID�RIA OESTE CATARINENSE - CRESOL OESTE CATARINENSE</td></tr><tr><td>S5</td><td>6036510</td><td>COOPERATIVA DE CR�DITO RURAL COM INTERA��O SOLID�RIA TRIUNFO/FLORES - CRESOL TRIUNFO/FLORES</td></tr><tr><td>S5</td><td>2446089</td><td>COOPERATIVA DE CR�DITO RURAL COM INTERA��O SOLID�RIA UNI�O DOS PINHAIS - CRESOL UNI�O DOS PINHAIS</td></tr><tr><td>S5</td><td>2904125</td><td>COOPERATIVA DE CREDITO RURAL COM INTERA��O SOLID�RIA. DE JACUTINGA - CRESOL JACUTINGA</td></tr><tr><td>S5</td><td>76461557</td><td>COOPERATIVA DE CR�DITO RURAL COOPAVEL</td></tr><tr><td>S5</td><td>62109566</td><td>COOPERATIVA DE CR�DITO RURAL DA REGI�O DA MOGIANA</td></tr><tr><td>S5</td><td>1073966</td><td>COOPERATIVA DE CR�DITO RURAL DE ABELARDO LUZ - SULCREDI/CREDILUZ</td></tr><tr><td>S5</td><td>71437123</td><td>COOPERATIVA DE CR�DITO RURAL DE ALTEROSA LTDA - SICOOB COOPEROSA</td></tr><tr><td>S5</td><td>17015842</td><td>COOPERATIVA DE CR�DITO RURAL DE ECONOMIA SOLID�RIA DE CODAJ�S - CODCRED</td></tr><tr><td>S5</td><td>4985665</td><td>COOPERATIVA DE CR�DITO RURAL DE ESPIG�O DO OESTE LTDA.</td></tr><tr><td>S5</td><td>32422628</td><td>COOPERATIVA DE CREDITO RURAL DE GUACUI - CREDIGUA�U�</td></tr><tr><td>S5</td><td>26014175</td><td>COOPERATIVA DE CR�DITO RURAL DE GUARANI LTDA - SICOOB GUARANICREDI</td></tr><tr><td>S5</td><td>8240446</td><td>COOPERATIVA DE CREDITO RURAL DE IBIAM - SULCREDI/IBIAM</td></tr><tr><td>S5</td><td>71207740</td><td>COOPERATIVA DE CR�DITO RURAL DE IRA� DE MINAS LTDA -SICOOB CREDIMIL</td></tr><tr><td>S5</td><td>4174720</td><td>COOPERATIVA DE CR�DITO RURAL DE MAIRI LTDA. - SICOOB COOPEMAR</td></tr><tr><td>S5</td><td>5597773</td><td>COOPERATIVA DE CR�DITO RURAL DE NOVA BRASIL�NDIA D'OESTE LTDA.</td></tr><tr><td>S5</td><td>7853842</td><td>COOPERATIVA DE CR�DITO RURAL DE OURO   SULCREDI/OURO</td></tr><tr><td>S5</td><td>1330387</td><td>COOPERATIVA DE CR�DITO RURAL DE PEQUENOS AGRICULTORES E DA REFORMA AGR�RIA DO CENTRO OESTE DO PARAN� - CREHNOR LARANJEIRAS</td></tr><tr><td>S5</td><td>41931221</td><td>COOPERATIVA DE CR�DITO RURAL DE PITANGUI LTDA-SICOOB CREDICOOP</td></tr><tr><td>S5</td><td>26563270</td><td>COOPERATIVA DE CREDITO RURAL DE PRIMAVERA DO LESTE</td></tr><tr><td>S5</td><td>5439425</td><td>COOPERATIVA DE CR�DITO RURAL DE RIO BRANCO LTDA.</td></tr><tr><td>S5</td><td>2448839</td><td>COOPERATIVA DE CREDITO RURAL DE RIO RUFINO - SICOOB/SC CREDIUNI�O</td></tr><tr><td>S5</td><td>8253539</td><td>COOPERATIVA DE CR�DITO RURAL DE S�O MIGUEL DO OESTE - SULCREDI/S�O MIGUEL</td></tr><tr><td>S5</td><td>86476199</td><td>COOPERATIVA DE CR�DITO RURAL DE S�O VICENTE DE MINAS LTDA. - SICOOB CREDISAVI</td></tr><tr><td>S5</td><td>8482873</td><td>COOPERATIVA DE CR�DITO RURAL DO AGRESTE ALAGOANO - COOPERAGRE</td></tr><tr><td>S5</td><td>8202793</td><td>COOPERATIVA DE CR�DITO RURAL DO AGRESTE CENTRAL ALAGOANO LTDA. - COOPCRAL</td></tr><tr><td>S5</td><td>7564184</td><td>COOPERATIVA DE CR�DITO RURAL DO SERT�O ALAGOANO ASCOOB COCREAL</td></tr><tr><td>S5</td><td>50334234</td><td>COOPERATIVA DE CR�DITO RURAL DOS AGROPECUARISTAS DA REGI�O DE PORTO FELIZ</td></tr><tr><td>S5</td><td>49654502</td><td>COOPERATIVA DE CR�DITO RURAL DOS FORNECEDORES DE CANA DA REGI�O DE CATANDUVA-COFOCRED</td></tr><tr><td>S5</td><td>52623311</td><td>COOPERATIVA DE CR�DITO RURAL DOS PLANTADORES DE CANA DA REGI�O DE IGARAPAVA</td></tr><tr><td>S5</td><td>12272183</td><td>COOPERATIVA DE CR�DITO RURAL DOS PLANTADORES DE CANA DE ALAGOAS</td></tr><tr><td>S5</td><td>44373041</td><td>COOPERATIVA DE CR�DITO RURAL DOS PRODUTORES AGR�COLAS E PECU�RIOS DA M�DIA SOROCABANA - CREDICANA</td></tr><tr><td>S5</td><td>5853210</td><td>COOPERATIVA DE CR�DITO RURAL DOS PRODUTORES DA REGI�O DE IREC� - CREDIRURAL</td></tr><tr><td>S5</td><td>86585049</td><td>COOPERATIVA DE CR�DITO RURAL DOS PRODUTORES DE LEITE DO VALE DO RIO GRANDE LTDA - SICOOB CREDILEITE</td></tr><tr><td>S5</td><td>8044854</td><td>COOPERATIVA DE CR�DITO RURAL E DOS EMPRES�RIOS DO CENTRO DO ESTADO DE ROND�NIA - SICOOB CENTRO</td></tr><tr><td>S5</td><td>49389307</td><td>COOPERATIVA DE CR�DITO RURAL E DOS PEQUENOS EMPRES�RIOS, MICROEMPRESARIOS E MICROEMPREENDEDORES DA REGI�O DE CAPIVARI</td></tr><tr><td>S5</td><td>5491616</td><td>COOPERATIVA DE CR�DITO RURAL E SERVIDORES P�BLICOS DE MINEIROS GOI�S</td></tr><tr><td>S5</td><td>5996245</td><td>COOPERATIVA DE CR�DITO RURAL HORIZONTES NOVOS DE BAR�O DE COTEGIPE - CREHNOR NORTE</td></tr><tr><td>S5</td><td>5132104</td><td>COOPERATIVA DE CREDITO RURAL HORIZONTES NOVOS DE CANGUCU - CREHNOR SUL</td></tr><tr><td>S5</td><td>6139650</td><td>COOPERATIVA DE CR�DITO RURAL HORIZONTES NOVOS DE IBIRAIARAS LTDA - CREHNOR NORDESTE</td></tr><tr><td>S5</td><td>7268732</td><td>COOPERATIVA DE CR�DITO RURAL HORIZONTES NOVOS DE IJU� - CREHNOR NOROESTE</td></tr><tr><td>S5</td><td>1869822</td><td>COOPERATIVA DE CREDITO RURAL HORIZONTES NOVOS DE NOVO SARANDI-CREHNOR SARANDI</td></tr><tr><td>S5</td><td>16348005</td><td>COOPERATIVA DE CR�DITO RURAL ILH�US LTDA</td></tr><tr><td>S5</td><td>5644916</td><td>COOPERATIVA DE CR�DITO RURAL NORTE DO ITAPICURU</td></tr><tr><td>S5</td><td>204963</td><td>COOPERATIVA DE CREDITO RURAL SEARA - CREDISEARA</td></tr><tr><td>S5</td><td>4317316</td><td>COOPERATIVA DE CR�DITO RURAL SENHOR DO BONFIM LTDA. - SICOOB BONFIM</td></tr><tr><td>S5</td><td>6174009</td><td>COOPERATIVA DE CR�DITO SICOOB ALIAN�A</td></tr><tr><td>S5</td><td>2466552</td><td>COOPERATIVA DE CR�DITO SICOOB VALE DO IGUA�U</td></tr><tr><td>S5</td><td>9343038</td><td>COOPERATIVA DE CR�DITO SICREDI ALTO SERT�O PARAIBANO - SICREDI ALTO SERT�O PARAIBANO</td></tr><tr><td>S5</td><td>2923389</td><td>COOPERATIVA DE CR�DITO SICREDI ARACAJU</td></tr><tr><td>S5</td><td>41255225</td><td>COOPERATIVA DE CR�DITO SICREDI CENTRO PERNAMBUCANA</td></tr><tr><td>S5</td><td>35571249</td><td>COOPERATIVA DE CR�DITO SICREDI JO�O PESSOA</td></tr><tr><td>S5</td><td>70027388</td><td>COOPERATIVA DE CR�DITO SICREDI MOSSOR� - SICREDI MOSSOR�</td></tr><tr><td>S5</td><td>97489280</td><td>COOPERATIVA DE CR�DITO SICREDI REGI�O SUL DA BAHIA -SICREDI REGI�O SUL DA BAHIA</td></tr><tr><td>S5</td><td>75847</td><td>COOPERATIVA DE CR�DITO UNICRED SUL CATARINENSE LTDA ? UNICRED SUL CATARINENSE</td></tr><tr><td>S5</td><td>707903</td><td>COOPERATIVA DE CR�DITO VALE DO CANOAS - SICOOB/SC CREDICANOAS</td></tr><tr><td>S5</td><td>82639451</td><td>COOPERATIVA DE CREDITO VALE DO ITAJAI - VIACREDI</td></tr><tr><td>S5</td><td>49069990</td><td>COOPERATIVA DE ECONOMIA E CR�DITO DE LIVRE ADMISS�O DA SERRA DA CANTAREIRA - SICOOB CANTAREIRA</td></tr><tr><td>S5</td><td>14913919</td><td>COOPERATIVA DE ECONOMIA E CR�DITO DOS EMPRES�RIOS, PROFISSIONAIS DO MERCADO IMOBILI�RIO E DA CMI / SECOVI - SICOOB SECOVICRED MG</td></tr><tr><td>S5</td><td>2999687</td><td>COOPERATIVA DE ECONOMIA E CREDITO MUTUO  DOS CORRETORES DE SEGUROS DE PORTO ALEGRE</td></tr><tr><td>S5</td><td>52935442</td><td>COOPERATIVA DE ECONOMIA E CR�DITO M�TUO ALIAN�A - COOPERNITRO</td></tr><tr><td>S5</td><td>82096447</td><td>COOPERATIVA DE ECONOMIA E CR�DITO M�TUO BRF - CREDIBRF</td></tr><tr><td>S5</td><td>67087569</td><td>COOPERATIVA DE ECONOMIA E CR�DITO M�TUO CECREB</td></tr><tr><td>S5</td><td>3149086</td><td>COOPERATIVA DE ECONOMIA E CR�DITO M�TUO DA ALIAN�A DOS M�DICOS E DEMAIS PROFISSIONAIS DA �REA DE SA�DE DA REGI�O NOROESTE PAULISTA - GRANCRED NOROESTE PAULISTA</td></tr><tr><td>S5</td><td>4093627</td><td>COOPERATIVA DE ECONOMIA E CR�DITO M�TUO DA ALIAN�A DOS PROFISSIONAIS DA �REA DE SA�DE DA REGI�O DE S�O ROQUE - SICOOB ALCOOP S�O ROQUE</td></tr><tr><td>S5</td><td>4120633</td><td>COOPERATIVA DE ECONOMIA E CR�DITO M�TUO DA �REA DE INFORM�TICA, VESTU�RIO EM GERAL E PEQ EMPRES�RIOS MICROEMPRES�RIOS MICROEMPREENDEDORES REGI�O METROPOLITANA RIO DE JANEIRO - SICOOB EMPRESAS RJ</td></tr><tr><td>S5</td><td>4649337</td><td>COOPERATIVA DE ECONOMIA E CR�DITO M�TUO DAS FOR�AS ARMADAS, DO CORPO DE BOMBEIROS E POL�CIA MILITAR DO DISTRITO FEDERAL LTDA. - SICOOB CABECRED</td></tr><tr><td>S5</td><td>53236808</td><td>COOPERATIVA DE ECONOMIA E CR�DITO M�TUO DE LIVRE ADMISS�O DE ARARAQUARA E REGI�O - SICOOB</td></tr><tr><td>S5</td><td>56396682</td><td>COOPERATIVA DE ECONOMIA E CR�DITO M�TUO DE RIO CLARO - COOPRIOCLARO</td></tr><tr><td>S5</td><td>74244344</td><td>COOPERATIVA DE ECONOMIA E CR�DITO M�TUO DO GRUPO BASF</td></tr><tr><td>S5</td><td>94243839</td><td>COOPERATIVA DE ECONOMIA E CR�DITO M�TUO DO VALE DAS ANTAS LTDA. - UNICRED VALE DAS ANTAS</td></tr><tr><td>S5</td><td>2827982</td><td>COOPERATIVA DE ECONOMIA E CR�DITO M�TUO DOS  EMPREGADOS DO BANCO DA AMAZ�NIA</td></tr><tr><td>S5</td><td>2480577</td><td>COOPERATIVA DE ECONOMIA E CR�DITO M�TUO DOS ADVOGADOS DE GOI�S LTDA - SICOOB CREDIJUR</td></tr><tr><td>S5</td><td>7755335</td><td>COOPERATIVA DE ECONOMIA E CREDITO MUTUO DOS ADVOGADOS DO ESTADO DO RIO DE JANEIRO LTDA.</td></tr><tr><td>S5</td><td>19962468</td><td>COOPERATIVA DE ECONOMIA E CR�DITO M�TUO DOS ADVOGADOS DO RIO GRANDE DO SUL - SICREDI COOABCRED/RS</td></tr><tr><td>S5</td><td>14729710</td><td>COOPERATIVA DE ECONOMIA E CR�DITO M�TUO DOS ADVOGADOS P�BLICOS , DEFENSORES P�BLICOS  E DELEGADOS DA POL�CIA FEDERAL DO DISTRITO FEDERAL</td></tr><tr><td>S5</td><td>16564240</td><td>COOPERATIVA DE ECONOMIA E CREDITO MUTUO DOS APOSENTADOS, PENSIONISTAS E IDOSOS LIGADOS AO SINDICATO NACIONAL DOS APOSENTADOS, PENSIONISTAS E IDOSOS DA FOR�A SINDICAL - SICOOB COOPERNAPI</td></tr><tr><td>S5</td><td>71502181</td><td>COOPERATIVA DE ECONOMIA E CR�DITO M�TUO DOS BANC�RIOS DE BELO HORIZONTE E REGI�O METROPOLITANA LTDA. - COOPEB</td></tr><tr><td>S5</td><td>4158581</td><td>COOPERATIVA DE ECONOMIA E CR�DITO M�TUO DOS BANC�RIOS DE JUIZ DE FORA LTDA. - COCBAN</td></tr><tr><td>S5</td><td>71491609</td><td>COOPERATIVA DE ECONOMIA E CR�DITO M�TUO DOS BANC�RIOS DE SOROCABA E REGI�O</td></tr><tr><td>S5</td><td>1301541</td><td>COOPERATIVA DE ECONOMIA E CR�DITO M�TUO DOS BANC�RIOS DO TRI�NGULO LTDA.</td></tr><tr><td>S5</td><td>53184438</td><td>COOPERATIVA DE ECONOMIA E CR�DITO M�TUO DOS COLABORADORES DA CEBRACE</td></tr><tr><td>S5</td><td>21130869</td><td>COOPERATIVA DE ECONOMIA E CR�DITO M�TUO DOS COLABORADORES DA COOPEDER LTDA. - CREDER</td></tr><tr><td>S5</td><td>61039038</td><td>COOPERATIVA DE ECONOMIA E CREDITO MUTUO DOS COLABORADORES DA SG INDUSTRIA E COMERCIO DE MATERIAIS DE CONSTRUCAO, VIDROS E AFINS</td></tr><tr><td>S5</td><td>2588819</td><td>COOPERATIVA DE ECONOMIA E CR�DITO M�TUO DOS COLABORADORES DA UNI�O BRASILEIRA DE EDUCA��O E ENSINO, UNI�O NORTE BRASILEIRA DE EDUCA��O E CULTURA & UNI�O BRASILIENSE DE EDUCA��O E CULTURA LTDA � COOMAR</td></tr><tr><td>S5</td><td>20961629</td><td>COOPERATIVA DE ECONOMIA E CR�DITO M�TUO DOS COLABORADORES DA VALE S.A. - LTDA. - SICOOB CREDIVALE</td></tr><tr><td>S5</td><td>20062766</td><td>COOPERATIVA DE ECONOMIA E CR�DITO M�TUO DOS COLABORADORES DO GRUPO EMPRESARIAL A COSTA LTDA.</td></tr><tr><td>S5</td><td>2330334</td><td>COOPERATIVA DE ECONOMIA E CR�DITO M�TUO DOS COMERCIANTES DO VESTU�RIO, CONFEC��ES E ROCHAS ORNAMENTAIS - CREDSUL.</td></tr><tr><td>S5</td><td>2217068</td><td>COOPERATIVA DE ECONOMIA E CR�DITO M�TUO DOS CONTABILISTAS E CORRETORES DE SEGUROS DA GRANDE BELO HORIZONTE LTDA. - SICOOB CREDITABIL</td></tr><tr><td>S5</td><td>17314501</td><td>COOPERATIVA DE ECONOMIA E CR�DITO M�TUO DOS EMPREGADOS DA A�O MINAS GERAIS S.A. - A�OMINAS E EMPRESAS SUBSIDI�RIAS EM OURO BRANCO LTDA. - COOPA�O</td></tr><tr><td>S5</td><td>62781232</td><td>COOPERATIVA DE ECONOMIA E CR�DITO M�TUO DOS EMPREGADOS DA ALCATEL-LUCENT BRASIL</td></tr><tr><td>S5</td><td>88043187</td><td>COOPERATIVA DE ECONOMIA E CR�DITO M�TUO DOS EMPREGADOS DA ALSTOM</td></tr><tr><td>S5</td><td>21597133</td><td>COOPERATIVA DE ECONOMIA E CR�DITO M�TUO DOS EMPREGADOS DA BECTON DICKINSON IND�STRIAS CIR�RGICAS LTDA., LTDA.</td></tr><tr><td>S5</td><td>73156218</td><td>COOPERATIVA DE ECONOMIA E CR�DITO M�TUO DOS EMPREGADOS DA BORCOL</td></tr><tr><td>S5</td><td>18140913</td><td>COOPERATIVA DE ECONOMIA E CR�DITO M�TUO DOS EMPREGADOS DA CBMM LTDA.</td></tr><tr><td>S5</td><td>17502881</td><td>COOPERATIVA DE ECONOMIA E CR�DITO M�TUO DOS EMPREGADOS DA CEMIG E DAS IND�STRIAS METAL�RGICAS E DE MATERIAL EL�TRICO DE JUIZ DE FORA LTDA. - SICOOB CECREMEC</td></tr><tr><td>S5</td><td>8850613</td><td>COOPERATIVA DE ECONOMIA E CR�DITO M�TUO DOS EMPREGADOS DA CENTRAIS EL�TRICAS DE SANTA CATARINA - CREDELESC</td></tr><tr><td>S5</td><td>30138226</td><td>COOPERATIVA DE ECONOMIA E CREDITO MUTUO DOS EMPREGADOS DA CIA DE ELETRICIDADE DO ESTADO DO RJ CREDICERJ LTDA</td></tr><tr><td>S5</td><td>86784089</td><td>COOPERATIVA DE ECONOMIA E CR�DITO M�TUO DOS EMPREGADOS DA COELBA E DA CHESF LTDA.   SICOOB COPELBA</td></tr><tr><td>S5</td><td>54335401</td><td>COOPERATIVA DE ECONOMIA E CR�DITO M�TUO DOS EMPREGADOS DA COMPANHIA BRASILEIRA DE ALUM�NIO</td></tr><tr><td>S5</td><td>59305565</td><td>COOPERATIVA DE ECONOMIA E CR�DITO M�TUO DOS EMPREGADOS DA CONFAB</td></tr><tr><td>S5</td><td>47074323</td><td>COOPERATIVA DE ECONOMIA E CR�DITO M�TUO DOS EMPREGADOS DA COOP - COOPERATIVA DE CONSUMO</td></tr><tr><td>S5</td><td>73077398</td><td>COOPERATIVA DE ECONOMIA E CR�DITO M�TUO DOS EMPREGADOS DA EATON DE VALINHOS</td></tr><tr><td>S5</td><td>43553049</td><td>COOPERATIVA DE ECONOMIA E CR�DITO M�TUO DOS EMPREGADOS DA EATON LTDA.</td></tr><tr><td>S5</td><td>3862898</td><td>COOPERATIVA DE ECONOMIA E CR�DITO M�TUO DOS EMPREGADOS DA EMPRESA BRASILEIRA DE CORREIOS E TEL�GRAFOS DO ESTADO DE MINAS GERAIS LTDA. - SICOOB COOPERCORREIOS</td></tr><tr><td>S5</td><td>3400651</td><td>COOPERATIVA DE ECONOMIA E CR�DITO M�TUO DOS EMPREGADOS DA EMPRESA SUPERMERCADOS JAU SERVE - COOPERJS</td></tr><tr><td>S5</td><td>42240382</td><td>COOPERATIVA DE ECONOMIA E CREDITO MUTUO DOS EMPREGADOS DA FABRIMAR S.A. INDUSTRIA E COMERCIO LTDA</td></tr><tr><td>S5</td><td>59301762</td><td>COOPERATIVA DE ECONOMIA E CR�DITO M�TUO DOS EMPREGADOS DA FLAMMA AUTOMOTIVA LTDA.</td></tr><tr><td>S5</td><td>2738981</td><td>COOPERATIVA DE ECONOMIA E CR�DITO M�TUO DOS EMPREGADOS DA FUNDA��O ARTHUR BERNARDES LTDA. - COOFAB</td></tr><tr><td>S5</td><td>41790809</td><td>COOPERATIVA DE ECONOMIA E CR�DITO M�TUO DOS EMPREGADOS DA HELIBRAS - HELICOOP</td></tr><tr><td>S5</td><td>18340695</td><td>COOPERATIVA DE ECONOMIA E CR�DITO M�TUO DOS EMPREGADOS DA IND�STRIA DE PAP�IS SUDESTE LTDA . - CREDESTE</td></tr><tr><td>S5</td><td>45691128</td><td>COOPERATIVA DE ECONOMIA E CR�DITO M�TUO DOS EMPREGADOS DA JOHNSON & JOHNSON</td></tr><tr><td>S5</td><td>28244622</td><td>COOPERATIVA DE ECONOMIA E CR�DITO M�TUO DOS EMPREGADOS DA JOLIMODE ROUPAS E EMPRESAS COLIGADAS LTDA</td></tr><tr><td>S5</td><td>913314</td><td>COOPERATIVA DE ECONOMIA E CR�DITO M�TUO DOS EMPREGADOS DA MAGNESITA REFRAT�RIOS S.A. LTDA. - CECREM</td></tr><tr><td>S5</td><td>4998845</td><td>COOPERATIVA DE ECONOMIA E CR�DITO M�TUO DOS EMPREGADOS DA MINERAC�O RIO DO NORTE S/A, EM PORTO TROMBETAS LIMITADA -  CREDNORTE</td></tr><tr><td>S5</td><td>62795257</td><td>COOPERATIVA DE ECONOMIA E CR�DITO M�TUO DOS EMPREGADOS DA MONDELEZ BRASIL, PHILIP MORRIS BRASIL E K&S ALIMENTOS</td></tr><tr><td>S5</td><td>59133793</td><td>COOPERATIVA DE ECONOMIA E CR�DITO M�TUO DOS EMPREGADOS DA MONSANTO</td></tr><tr><td>S5</td><td>57545436</td><td>COOPERATIVA DE ECONOMIA E CR�DITO M�TUO DOS EMPREGADOS DA NOVELIS</td></tr><tr><td>S5</td><td>42445122</td><td>COOPERATIVA DE ECONOMIA E CR�DITO M�TUO DOS EMPREGADOS DA PONTIF�CIA UNIVERSIDADE CAT�LICA DO RIO DE JANEIRO E EMPREGADOS EM ESTABELECIMENTOS PRIVADOS DE ENSINO DO MUNIC�PIO DO RIO DE JANEIRO LTDA.</td></tr><tr><td>S5</td><td>67031757</td><td>COOPERATIVA DE ECONOMIA E CR�DITO M�TUO DOS EMPREGADOS DA PRODAM/SP - CREDIPRODAM</td></tr><tr><td>S5</td><td>44223196</td><td>COOPERATIVA DE ECONOMIA E CR�DITO M�TUO DOS EMPREGADOS DA RECKITT BENCKISER</td></tr><tr><td>S5</td><td>46058731</td><td>COOPERATIVA DE ECONOMIA E CR�DITO M�TUO DOS EMPREGADOS DA RHODIA PAULINIA</td></tr><tr><td>S5</td><td>48140925</td><td>COOPERATIVA DE ECONOMIA E CR�DITO M�TUO DOS EMPREGADOS DA SAINT-GOBAIN DO BRASIL PRODUTOS INDUSTRIAIS E PARA CONSTRU��O - DIVIS�O VIDRO PLANO</td></tr><tr><td>S5</td><td>20622809</td><td>COOPERATIVA DE ECONOMIA E CR�DITO M�TUO DOS EMPREGADOS DA SAMARCO MINERA��O S.A. LTDA - CREDISAM</td></tr><tr><td>S5</td><td>47944277</td><td>COOPERATIVA DE ECONOMIA E CR�DITO M�TUO DOS EMPREGADOS DA TAKATA-PETRI</td></tr><tr><td>S5</td><td>27669753</td><td>COOPERATIVA DE ECONOMIA E CREDITO MUTUO DOS EMPREGADOS DA TEADIT E OUTRAS EMPRESAS ASSOCIADAS LTDA</td></tr><tr><td>S5</td><td>4249235</td><td>COOPERATIVA DE ECONOMIA E CR�DITO M�TUO DOS EMPREGADOS DA TEKSID DO BRASIL LTDA., E NEMAK ALUM�NIO DO BRASIL LTDA.</td></tr><tr><td>S5</td><td>3685335</td><td>COOPERATIVA DE ECONOMIA E CR�DITO M�TUO DOS EMPREGADOS DA UNIFI - CREDIUNIFI</td></tr><tr><td>S5</td><td>17607375</td><td>COOPERATIVA DE ECONOMIA E CR�DITO M�TUO DOS EMPREGADOS DA VALE FERTILIZANTES DE UBERABA - COPERURA LTDA.</td></tr><tr><td>S5</td><td>968834</td><td>COOPERATIVA DE ECONOMIA E CR�DITO M�TUO DOS EMPREGADOS DA VALE FERTILIZANTES S/A - COCRESGO LTDA.</td></tr><tr><td>S5</td><td>68969625</td><td>COOPERATIVA DE ECONOMIA E CR�DITO M�TUO DOS EMPREGADOS DAS EMPRESAS CONTROLADAS E COLIGADAS DA USINA SANTA ADELIA - USAGRO</td></tr><tr><td>S5</td><td>68314921</td><td>COOPERATIVA DE ECONOMIA E CR�DITO M�TUO DOS EMPREGADOS DAS EMPRESAS DE DIVERS�ES DO ESTADO DE S�O PAULO</td></tr><tr><td>S5</td><td>62035456</td><td>COOPERATIVA DE ECONOMIA E CR�DITO M�TUO DOS EMPREGADOS DAS EMPRESAS DE REDUTORES DE TRANSMISS�O DO ESTADO DE S�O PAULO - COOPER-PTI</td></tr><tr><td>S5</td><td>141155</td><td>COOPERATIVA DE ECONOMIA E CREDITO MUTUO DOS EMPREGADOS DAS EMPRESAS DE TRANSPORTES COLETIVOS RODOVI�RIOS DE PASSAGEIROS DO GRANDE RIO LTDA</td></tr><tr><td>S5</td><td>57563728</td><td>COOPERATIVA DE ECONOMIA E CR�DITO M�TUO DOS EMPREGADOS DAS EMPRESAS DO GRUPO ECON�MICO RHODIA</td></tr><tr><td>S5</td><td>19875244</td><td>COOPERATIVA DE ECONOMIA E CR�DITO M�TUO DOS EMPREGADOS DAS EMPRESAS E PRESTADORES DE SERVI�O DO GRUPO ARCELORMITTAL - SICOOB COPESITA</td></tr><tr><td>S5</td><td>53505681</td><td>COOPERATIVA DE ECONOMIA E CR�DITO M�TUO DOS EMPREGADOS DAS EMPRESAS METAL�RGICAS DE MAT�O - METALCOOPERCRED</td></tr><tr><td>S5</td><td>3535065</td><td>COOPERATIVA DE ECONOMIA E CR�DITO M�TUO DOS EMPREGADOS DAS EMPRESAS METAL�RGICAS DE OSASCO E REGI�O - CREDMETAL</td></tr><tr><td>S5</td><td>17411307</td><td>COOPERATIVA DE ECONOMIA E CR�DITO M�TUO DOS EMPREGADOS DAS EMPRESAS PLASCAR</td></tr><tr><td>S5</td><td>89280960</td><td>COOPERATIVA DE ECONOMIA E CREDITO MUTUO DOS EMPREGADOS DAS EMPRESAS RANDON</td></tr><tr><td>S5</td><td>24235459</td><td>COOPERATIVA DE ECONOMIA E CR�DITO M�TUO DOS EMPREGADOS DAS EMPRESAS SIDER�RGICAS, METAL�RGICAS E ELETRO-MEC�NICAS DE JO�O MONLEVADE LTDA. - SICOOB CREDIBELGO</td></tr><tr><td>S5</td><td>129753</td><td>COOPERATIVA DE ECONOMIA E CR�DITO M�TUO DOS EMPREGADOS DAS EMPRESAS SOMART LTDA.</td></tr><tr><td>S5</td><td>53272365</td><td>COOPERATIVA DE ECONOMIA E CR�DITO M�TUO DOS EMPREGADOS DAS IND�STRIAS UNILEVER DO BRASIL</td></tr><tr><td>S5</td><td>2414044</td><td>COOPERATIVA DE ECONOMIA E CR�DITO M�TUO DOS EMPREGADOS DAS INSTITUI��ES DE ENSINO SUPERIOR DO SUL DE MINAS LTDA. - CREDFENAS</td></tr><tr><td>S5</td><td>30949267</td><td>COOPERATIVA DE ECONOMIA E CREDITO MUTUO DOS EMPREGADOS DE CHOCOLATES GAROTO LTDA. - CREDI-GAROTO</td></tr><tr><td>S5</td><td>42107706</td><td>COOPERATIVA DE ECONOMIA E CREDITO MUTUO DOS EMPREGADOS DE ELEVADORES ATLAS SCHINDLER LTDA.</td></tr><tr><td>S5</td><td>31746993</td><td>COOPERATIVA DE ECONOMIA E CREDITO MUTUO DOS EMPREGADOS DE ESTABELECIMENTOS HOSPITALARES DO SUL DO ESTADO DO ESPIRITO SANTO - SULCRED</td></tr><tr><td>S5</td><td>92935741</td><td>COOPERATIVA DE ECONOMIA E CR�DITO M�TUO DOS EMPREGADOS DO BANRISUL</td></tr><tr><td>S5</td><td>2447184</td><td>COOPERATIVA DE ECONOMIA E CREDITO MUTUO DOS EMPREGADOS DO COLEGIO SANTO INACIO - COESI</td></tr><tr><td>S5</td><td>8931800</td><td>COOPERATIVA DE ECONOMIA E CR�DITO M�TUO DOS EMPREGADOS DO GRUPO ALCOA EM PERNAMBUCO</td></tr><tr><td>S5</td><td>1296040</td><td>COOPERATIVA DE ECONOMIA E CR�DITO M�TUO DOS EMPREGADOS DO GRUPO ALGAR LTDA. - SICOOB CREDIEMPAR</td></tr><tr><td>S5</td><td>73631483</td><td>COOPERATIVA DE ECONOMIA E CREDITO MUTUO DOS EMPREGADOS DO GRUPO BAYER LTDA</td></tr><tr><td>S5</td><td>33916883</td><td>COOPERATIVA DE ECONOMIA E CREDITO MUTUO DOS EMPREGADOS DO GRUPO BEZERRA DE MELLO LTDA</td></tr><tr><td>S5</td><td>2024442</td><td>COOPERATIVA DE ECONOMIA E CR�DITO M�TUO DOS EMPREGADOS DO GRUPO COLORADO</td></tr><tr><td>S5</td><td>33924028</td><td>COOPERATIVA DE ECONOMIA E CREDITO MUTUO DOS EMPREGADOS DO GRUPO CVRD E ENTIDADES VINCULADAS LTDA.</td></tr><tr><td>S5</td><td>43488782</td><td>COOPERATIVA DE ECONOMIA E CR�DITO M�TUO DOS EMPREGADOS DO GRUPO FEMSA BRASIL</td></tr><tr><td>S5</td><td>29985421</td><td>COOPERATIVA DE ECONOMIA E CREDITO MUTUO DOS EMPREGADOS DO GRUPO JOSE NEFFA LTDA</td></tr><tr><td>S5</td><td>65594772</td><td>COOPERATIVA DE ECONOMIA E CR�DITO M�TUO DOS EMPREGADOS DO GRUPO METALAC - COOPERMETA</td></tr><tr><td>S5</td><td>46277273</td><td>COOPERATIVA DE ECONOMIA E CR�DITO M�TUO DOS EMPREGADOS DO GRUPO P�O DE A��CAR</td></tr><tr><td>S5</td><td>88183173</td><td>COOPERATIVA DE ECONOMIA E CR�DITO M�TUO DOS EMPREGADOS DO GRUPO PARAMOUNT</td></tr><tr><td>S5</td><td>88325097</td><td>COOPERATIVA DE ECONOMIA E CREDITO MUTUO DOS EMPREGADOS DO GRUPO SAINT GOBAIN</td></tr><tr><td>S5</td><td>2232228</td><td>COOPERATIVA DE ECONOMIA E CR�DITO M�TUO DOS EMPREGADOS DO GRUPO SBF LTDA. - COOPER ATIVA SBF</td></tr><tr><td>S5</td><td>62284385</td><td>COOPERATIVA DE ECONOMIA E CR�DITO M�TUO DOS EMPREGADOS DO GRUPO SCHAEFFLER</td></tr><tr><td>S5</td><td>57598120</td><td>COOPERATIVA DE ECONOMIA E CR�DITO M�TUO DOS EMPREGADOS DO GRUPO TELEF�NICA</td></tr><tr><td>S5</td><td>27140946</td><td>COOPERATIVA DE ECONOMIA E CREDITO MUTUO DOS EMPREGADOS DO GRUPO USINA PAINEIRAS LTDA - CRED-PAN</td></tr><tr><td>S5</td><td>5658367</td><td>COOPERATIVA DE ECONOMIA E CR�DITO M�TUO DOS EMPREGADOS DO SEBRAE BAHIA - COOPSOL</td></tr><tr><td>S5</td><td>92675578</td><td>COOPERATIVA DE ECONOMIA E CR�DITO M�TUO DOS EMPREGADOS DO SISTEMA FIERGS - CRESUL</td></tr><tr><td>S5</td><td>30586895</td><td>COOPERATIVA DE ECONOMIA E CREDITO MUTUO DOS EMPREGADOS DOS LABORATORIOS B.BRAUN LTDA</td></tr><tr><td>S5</td><td>2230138</td><td>COOPERATIVA DE ECONOMIA E CR�DITO M�TUO DOS EMPREGADOS DOS SUPERMERCADOS RUSSI</td></tr><tr><td>S5</td><td>54603022</td><td>COOPERATIVA DE ECONOMIA E CR�DITO M�TUO DOS EMPREGADOS E SERVIDORES DA SABESP E EM EMPRESAS DE SANEAMENTO AMBIENTAL DO ESTADO DE S�O PAULO - CECRES</td></tr><tr><td>S5</td><td>3973743</td><td>COOPERATIVA DE ECONOMIA E CREDITO MUTUO DOS EMPREGADOS IND.ALIMENTACAO REG.GRDE.VITORIA EST.ES-CREDI-ALIMENTO</td></tr><tr><td>S5</td><td>5424088</td><td>COOPERATIVA DE ECONOMIA E CREDITO MUTUO DOS EMPREGADOS NAS INDUSTRIAS QUIMICAS, FARMACEUTICAS E SIMILARES DA REGIAO METROPOLITANA DO RIO DE JANEIRO LTDA</td></tr><tr><td>S5</td><td>92825397</td><td>COOPERATIVA DE ECONOMIA E CR�DITO M�TUO DOS EMPREGADOS, APOSENTADOS E PENSIONISTAS DA COMPANHIA ESTADUAL DE ENERGIA EL�TRICA E ELETRICIT�RIOS DO RIO GRANDE DO SUL   CRECE</td></tr><tr><td>S5</td><td>23295315</td><td>COOPERATIVA DE ECONOMIA E CR�DITO M�TUO DOS EMPRES�RIOS DA REGI�O METROPOLITANA DE JO�O PESSOA E LITORAL DA PARA�BA - SICOOB LITORAL PARAIBANO</td></tr><tr><td>S5</td><td>22150505</td><td>COOPERATIVA DE ECONOMIA E CR�DITO M�TUO DOS EMPRES�RIOS DA REGI�O METROPOLITANA DE PATOS - SICOOB SERT�O PARAIBANO</td></tr><tr><td>S5</td><td>22491263</td><td>COOPERATIVA DE ECONOMIA E CR�DITO M�TUO DOS EMPRES�RIOS DA REGI�O NORTE MARANHENSE - SICOOB NORTE MARANHENSE</td></tr><tr><td>S5</td><td>9579249</td><td>COOPERATIVA DE ECONOMIA E CR�DITO M�TUO DOS EMPRES�RIOS DE AMERICANA, LIMEIRA E REGI�O - SICOOB ACICRED</td></tr><tr><td>S5</td><td>8844074</td><td>COOPERATIVA DE ECONOMIA E CR�DITO M�TUO DOS EMPRES�RIOS DE ITAPETININGA - SICOOB CRED-ACI</td></tr><tr><td>S5</td><td>8795285</td><td>COOPERATIVA DE ECONOMIA E CR�DITO M�TUO DOS EMPRES�RIOS DE LEME - SICOOB CREDIACIL</td></tr><tr><td>S5</td><td>9004796</td><td>COOPERATIVA DE ECONOMIA E CR�DITO M�TUO DOS EMPRES�RIOS DE LEN��IS PAULISTA - SICOOB CRED-ACILPA</td></tr><tr><td>S5</td><td>9639338</td><td>COOPERATIVA DE ECONOMIA E CR�DITO M�TUO DOS EMPRES�RIOS DE PRAIA GRANDE E REGI�O - SICOOB COOPERACE</td></tr><tr><td>S5</td><td>8937938</td><td>COOPERATIVA DE ECONOMIA E CR�DITO M�TUO DOS EMPRES�RIOS DE PRESIDENTE VENCESLAU - SICOOB CREDIACIPREV</td></tr><tr><td>S5</td><td>8071414</td><td>COOPERATIVA DE ECONOMIA E CR�DITO M�TUO DOS EMPRES�RIOS DE RIBEIR�O PRETO E REGI�O - SICOOB COOPERAC</td></tr><tr><td>S5</td><td>9527069</td><td>COOPERATIVA DE ECONOMIA E CR�DITO M�TUO DOS EMPRES�RIOS DE RIO CLARO - SICOOB CREDIACIRC</td></tr><tr><td>S5</td><td>10175348</td><td>COOPERATIVA DE ECONOMIA E CR�DITO M�TUO DOS EMPRES�RIOS DE SOROCABA E REGI�O - SICOOB</td></tr><tr><td>S5</td><td>8075352</td><td>COOPERATIVA DE ECONOMIA E CR�DITO M�TUO DOS EMPRES�RIOS DE TRANSPORTES DO ESTADO DE SANTA CATARINA   TRANSPOCRED</td></tr><tr><td>S5</td><td>9187555</td><td>COOPERATIVA DE ECONOMIA E CR�DITO M�TUO DOS ENGENHEIROS, ARQUITETOS, AGR�NOMOS E AFINS DO ESTADO DO RIO GRANDE DO SUL</td></tr><tr><td>S5</td><td>5841967</td><td>COOPERATIVA DE ECONOMIA E CR�DITO M�TUO DOS FABRICANTES DE CAL�ADOS DE SAPIRANGA LTDA.</td></tr><tr><td>S5</td><td>43438662</td><td>COOPERATIVA DE ECONOMIA E CR�DITO M�TUO DOS FUNCION�RIOS DA ABRIL</td></tr><tr><td>S5</td><td>45068632</td><td>COOPERATIVA DE ECONOMIA E CR�DITO M�TUO DOS FUNCION�RIOS DA ACUMENT BRASIL</td></tr><tr><td>S5</td><td>9128022</td><td>COOPERATIVA DE ECONOMIA E CR�DITO M�TUO DOS FUNCION�RIOS DA AFFINIA</td></tr><tr><td>S5</td><td>64761471</td><td>COOPERATIVA DE ECONOMIA E CR�DITO M�TUO DOS FUNCION�RIOS DA ANDORINHA - COFASA</td></tr><tr><td>S5</td><td>41146382</td><td>COOPERATIVA DE ECONOMIA E CR�DITO M�TUO DOS FUNCION�RIOS DA ASSEMBL�IA LEGISLATIVA DO ESTADO DA PARA�BA LTDA. -  COOPERLEGIS</td></tr><tr><td>S5</td><td>65560658</td><td>COOPERATIVA DE ECONOMIA E CR�DITO M�TUO DOS FUNCION�RIOS DA ASSOCIA��O CONGREGA��O DE SANTA CATARINA</td></tr><tr><td>S5</td><td>1288797</td><td>COOPERATIVA DE ECONOMIA E CR�DITO M�TUO DOS FUNCION�RIOS DA ASTRAZENECA DO BRASIL</td></tr><tr><td>S5</td><td>57038408</td><td>COOPERATIVA DE ECONOMIA E CR�DITO M�TUO DOS FUNCION�RIOS DA BOMBRIL</td></tr><tr><td>S5</td><td>68228006</td><td>COOPERATIVA DE ECONOMIA E CR�DITO M�TUO DOS FUNCION�RIOS DA CARGILL</td></tr><tr><td>S5</td><td>32615247</td><td>COOPERATIVA DE ECONOMIA E CR�DITO M�TUO DOS FUNCION�RIOS DA CEPLAC LTDA</td></tr><tr><td>S5</td><td>44958981</td><td>COOPERATIVA DE ECONOMIA E CR�DITO M�TUO DOS FUNCION�RIOS DA CIA A�UCAREIRA VALE DO ROS�RIO - COOPERVALE</td></tr><tr><td>S5</td><td>1062439</td><td>COOPERATIVA DE ECONOMIA E CREDITO MUTUO DOS FUNCIONARIOS DA COMIGO</td></tr><tr><td>S5</td><td>1530136</td><td>COOPERATIVA DE ECONOMIA E CR�DITO M�TUO DOS FUNCION�RIOS DA COMPANHIA PAULISTA DE TRENS METROPOLITANOS</td></tr><tr><td>S5</td><td>67607564</td><td>COOPERATIVA DE ECONOMIA E CR�DITO M�TUO DOS FUNCION�RIOS DA CORREIAS MERC�RIO</td></tr><tr><td>S5</td><td>50654300</td><td>COOPERATIVA DE ECONOMIA E CR�DITO M�TUO DOS FUNCION�RIOS DA DANA</td></tr><tr><td>S5</td><td>91018408</td><td>COOPERATIVA DE ECONOMIA E CR�DITO M�TUO DOS FUNCION�RIOS DA DANA IND�STRIAS</td></tr><tr><td>S5</td><td>45045671</td><td>COOPERATIVA DE ECONOMIA E CR�DITO M�TUO DOS FUNCION�RIOS DA ELGIN</td></tr><tr><td>S5</td><td>48718183</td><td>COOPERATIVA DE ECONOMIA E CR�DITO M�TUO DOS FUNCION�RIOS DA ERICSSON</td></tr><tr><td>S5</td><td>2825208</td><td>COOPERATIVA DE ECONOMIA E CREDITO MUTUO DOS FUNCIONARIOS DA EVANIL - COOFE</td></tr><tr><td>S5</td><td>57259525</td><td>COOPERATIVA DE ECONOMIA E CR�DITO M�TUO DOS FUNCION�RIOS DA FACULDADE DE CI�NCIAS AGR�RIAS E VETERIN�RIAS - CAMPUS DE JABOTICABAL/SP - SICOOB COOPERFAC</td></tr><tr><td>S5</td><td>42258376</td><td>COOPERATIVA DE ECONOMIA E CREDITO MUTUO DOS FUNCIONARIOS DA FMC LTDA</td></tr><tr><td>S5</td><td>2846074</td><td>COOPERATIVA DE ECONOMIA E CR�DITO M�TUO DOS FUNCION�RIOS DA FUNDACAO EDUCACIONAL DE BARRETOS - COOPERFEB</td></tr><tr><td>S5</td><td>1997612</td><td>COOPERATIVA DE ECONOMIA E CR�DITO M�TUO DOS FUNCION�RIOS DA FUNDACAO ZERBINI - COOPINCOR</td></tr><tr><td>S5</td><td>60219045</td><td>COOPERATIVA DE ECONOMIA E CR�DITO M�TUO DOS FUNCION�RIOS DA GERDAU S.A. - UNIDADE PINDAMONHANGABA</td></tr><tr><td>S5</td><td>52575206</td><td>COOPERATIVA DE ECONOMIA E CR�DITO M�TUO DOS FUNCION�RIOS DA GERDAU S/A-UNIDADE MOGI DAS CRUZES</td></tr><tr><td>S5</td><td>5331882</td><td>COOPERATIVA DE ECONOMIA E CREDITO MUTUO DOS FUNCIONARIOS DA GKN DO BRASIL LTDA</td></tr><tr><td>S5</td><td>59620708</td><td>COOPERATIVA DE ECONOMIA E CR�DITO M�TUO DOS FUNCION�RIOS DA INTERNATIONAL IND�STRIA AUTOMOTIVA DA AM�RICA DO SUL</td></tr><tr><td>S5</td><td>44378586</td><td>COOPERATIVA DE ECONOMIA E CR�DITO M�TUO DOS FUNCION�RIOS DA MAXION LTDA - COOPERMAXION</td></tr><tr><td>S5</td><td>731320</td><td>COOPERATIVA DE ECONOMIA E CR�DITO M�TUO DOS FUNCION�RIOS DA MORLAN</td></tr><tr><td>S5</td><td>62562012</td><td>COOPERATIVA DE ECONOMIA E CR�DITO M�TUO DOS FUNCION�RIOS DA NESTL� - CREDI NESTL�</td></tr><tr><td>S5</td><td>48172860</td><td>COOPERATIVA DE ECONOMIA E CR�DITO M�TUO DOS FUNCION�RIOS DA OWENS CORNING FIBERGLAS AM�RICA DO SUL</td></tr><tr><td>S5</td><td>3165497</td><td>COOPERATIVA DE ECONOMIA E CREDITO MUTUO DOS FUNCIONARIOS DA SANEPAR - CREDISANEPAR</td></tr><tr><td>S5</td><td>16721078</td><td>COOPERATIVA DE ECONOMIA E CR�DITO M�TUO DOS FUNCION�RIOS DA SECRETARIA DE ESTADO DA FAZENDA DE MINAS GERAIS E �RG�OS OFICIAIS DO ESTADO DE MINAS GERAIS LTDA   SICOOB COOPSEF</td></tr><tr><td>S5</td><td>72952138</td><td>COOPERATIVA DE ECONOMIA E CR�DITO M�TUO DOS FUNCION�RIOS DA SELENE</td></tr><tr><td>S5</td><td>67341487</td><td>COOPERATIVA DE ECONOMIA E CR�DITO M�TUO DOS FUNCION�RIOS DA TETRA PAK</td></tr><tr><td>S5</td><td>57440521</td><td>COOPERATIVA DE ECONOMIA E CR�DITO M�TUO DOS FUNCION�RIOS DA TICKET SERVI�OS COM�RCIO E ADMINISTRA��O</td></tr><tr><td>S5</td><td>1107759</td><td>COOPERATIVA DE ECONOMIA E CR�DITO M�TUO DOS FUNCION�RIOS DA USINA SANTA MARIA - PILONCRED</td></tr><tr><td>S5</td><td>51920502</td><td>COOPERATIVA DE ECONOMIA E CR�DITO M�TUO DOS FUNCION�RIOS DA VB TRANSPORTES E TURISMO</td></tr><tr><td>S5</td><td>2192115</td><td>COOPERATIVA DE ECONOMIA E CREDITO MUTUO DOS FUNCIONARIOS DA VIACAO NOSSA SENHORA DO AMPARO LTDA. - COPERFAMP</td></tr><tr><td>S5</td><td>53846242</td><td>COOPERATIVA DE ECONOMIA E CR�DITO M�TUO DOS FUNCION�RIOS DA VILLARES METALS</td></tr><tr><td>S5</td><td>2541707</td><td>COOPERATIVA DE ECONOMIA E CR�DITO M�TUO DOS FUNCION�RIOS DAS EMPRESAS DE CER�MICA - COOPASPACER</td></tr><tr><td>S5</td><td>52301496</td><td>COOPERATIVA DE ECONOMIA E CR�DITO M�TUO DOS FUNCION�RIOS DAS EMPRESAS DE ENERGIA EL�TRICA DO ESTADO DE S�O PAULO - COOPENERG</td></tr><tr><td>S5</td><td>43446335</td><td>COOPERATIVA DE ECONOMIA E CR�DITO M�TUO DOS FUNCION�RIOS DAS EMPRESAS ITA�</td></tr><tr><td>S5</td><td>1504952</td><td>COOPERATIVA DE ECONOMIA E CR�DITO M�TUO DOS FUNCION�RIOS DAS EMPRESAS MELHORAMENTOS DE S�O PAULO</td></tr><tr><td>S5</td><td>2321862</td><td>COOPERATIVA DE ECONOMIA E CR�DITO M�TUO DOS FUNCION�RIOS DAS INSTITUI��ES DE SERVI�O SOCIAL AUT�NOMO EM MANAUS LTDA.</td></tr><tr><td>S5</td><td>2869663</td><td>COOPERATIVA DE ECONOMIA E CREDITO MUTUO DOS FUNCIONARIOS DE INSTITUICOES FINANCEIRAS PUBLICAS NO ESTADO DO ESPIRITO SANTO - CREDBRASIL-ES</td></tr><tr><td>S5</td><td>45214947</td><td>COOPERATIVA DE ECONOMIA E CR�DITO M�TUO DOS FUNCION�RIOS DE PARKER HANNIFIN</td></tr><tr><td>S5</td><td>42123000</td><td>COOPERATIVA DE ECONOMIA E CREDITO MUTUO DOS FUNCIONARIOS DE PRODUTOS ROCHE QUIMICOS E FARMACEUTICOS S.A., LTDA</td></tr><tr><td>S5</td><td>52218849</td><td>COOPERATIVA DE ECONOMIA E CR�DITO M�TUO DOS FUNCION�RIOS DE ZANETTINI BAROSSI</td></tr><tr><td>S5</td><td>52046299</td><td>COOPERATIVA DE ECONOMIA E CR�DITO M�TUO DOS FUNCION�RIOS DO ATACAD�O</td></tr><tr><td>S5</td><td>3219207</td><td>COOPERATIVA DE ECONOMIA E CR�DITO M�TUO DOS FUNCION�RIOS DO BANESPA DE BOTUCATU E CIDADES LIM�TROFES</td></tr><tr><td>S5</td><td>1551820</td><td>COOPERATIVA DE ECONOMIA E CREDITO MUTUO DOS FUNCIONARIOS DO EXPRESSO PRINCESA DOS CAMPOS</td></tr><tr><td>S5</td><td>71965313</td><td>COOPERATIVA DE ECONOMIA E CR�DITO M�TUO DOS FUNCION�RIOS DO FLEURY</td></tr><tr><td>S5</td><td>43268960</td><td>COOPERATIVA DE ECONOMIA E CR�DITO M�TUO DOS FUNCION�RIOS DO GRUPO AVIBRAS</td></tr><tr><td>S5</td><td>47196084</td><td>COOPERATIVA DE ECONOMIA E CR�DITO M�TUO DOS FUNCION�RIOS DO GRUPO COMOLATTI - S�O PAULO</td></tr><tr><td>S5</td><td>1439107</td><td>COOPERATIVA DE ECONOMIA E CR�DITO M�TUO DOS FUNCION�RIOS DO GRUPO COSAN - BARRACRED COSAN</td></tr><tr><td>S5</td><td>1499278</td><td>COOPERATIVA DE ECONOMIA E CR�DITO M�TUO DOS FUNCION�RIOS DO GRUPO GARD�NIA LTDA. - COOPERGARD�NIA</td></tr><tr><td>S5</td><td>88952130</td><td>COOPERATIVA DE ECONOMIA E CR�DITO M�TUO DOS FUNCION�RIOS DO GRUPO GERDAU - A�OS FINOS PIRATINI</td></tr><tr><td>S5</td><td>2786691</td><td>COOPERATIVA DE ECONOMIA E CREDITO MUTUO DOS FUNCIONARIOS DO GRUPO HELIO ALONSO-COOPERHA-LTDA</td></tr><tr><td>S5</td><td>5548335</td><td>COOPERATIVA DE ECONOMIA E CR�DITO M�TUO DOS FUNCION�RIOS DO GRUPO JAL LTDA.</td></tr><tr><td>S5</td><td>44905255</td><td>COOPERATIVA DE ECONOMIA E CR�DITO M�TUO DOS FUNCION�RIOS DO GRUPO LORENZETTI</td></tr><tr><td>S5</td><td>5048575</td><td>COOPERATIVA DE ECONOMIA E CREDITO MUTUO DOS FUNCIONARIOS DO GRUPO MAUA LTDA</td></tr><tr><td>S5</td><td>43182278</td><td>COOPERATIVA DE ECONOMIA E CR�DITO M�TUO DOS FUNCION�RIOS DO GRUPO OWENS-ILLINOIS DO BRASIL</td></tr><tr><td>S5</td><td>2931166</td><td>COOPERATIVA DE ECONOMIA E CREDITO MUTUO DOS FUNCIONARIOS DO GRUPO PROGRESSO LTDA - PROCRED</td></tr><tr><td>S5</td><td>548980</td><td>COOPERATIVA DE ECONOMIA E CR�DITO M�TUO DOS FUNCION�RIOS DO GRUPO SUGGAR LTDA.</td></tr><tr><td>S5</td><td>89523518</td><td>COOPERATIVA DE ECONOMIA E CR�DITO M�TUO DOS FUNCION�RIOS DO GRUPO VONPAR</td></tr><tr><td>S5</td><td>75174953</td><td>COOPERATIVA DE ECONOMIA E CR�DITO M�TUO DOS FUNCION�RIOS DO GRUPO VOTORANTIM LIMITADA.</td></tr><tr><td>S5</td><td>74026998</td><td>COOPERATIVA DE ECONOMIA E CR�DITO M�TUO DOS FUNCION�RIOS DO GRUPO WALMART LTDA. - SICOOB COOPERBOM</td></tr><tr><td>S5</td><td>44588366</td><td>COOPERATIVA DE ECONOMIA E CR�DITO M�TUO DOS FUNCION�RIOS DO HOSPITAL VERA CRUZ E VERA CRUZ ASSOCIA��O DE SA�DE</td></tr><tr><td>S5</td><td>2312896</td><td>COOPERATIVA DE ECONOMIA E CR�DITO M�TUO DOS FUNCION�RIOS DO R�PIDO LUXO CAMPINAS</td></tr><tr><td>S5</td><td>87956355</td><td>COOPERATIVA DE ECONOMIA E CR�DITO M�TUO DOS FUNCION�RIOS DOS CORREIOS NOS ESTADOS DO RIO GRANDE DO SUL, SANTA CATARINA E PARAN� - CREDCORREIOS</td></tr><tr><td>S5</td><td>64739121</td><td>COOPERATIVA DE ECONOMIA E CR�DITO M�TUO DOS FUNCION�RIOS E PRESTADORES DE SERVI�OS DA COCRED-COPERCANA-CANAOESTE - SICOOB CRED COPERCANA</td></tr><tr><td>S5</td><td>24610065</td><td>COOPERATIVA DE ECONOMIA E CR�DITO M�TUO DOS FUNCION�RIOS E SERVIDORES P�BLICOS DO ESTADO DE MATO GROSSO DO SUL - SICOOB COCRESUL</td></tr><tr><td>S5</td><td>2115870</td><td>COOPERATIVA DE ECONOMIA E CR�DITO M�TUO DOS FUNCION�RIOS P�BLICOS MUNICIPAIS DE ITAPIRA</td></tr><tr><td>S5</td><td>3212823</td><td>COOPERATIVA DE ECONOMIA E CR�DITO M�TUO DOS INTEGRANTES DA BRIGADA MILITAR DO RIO GRANDE DO SUL - SICREDI MIL RS</td></tr><tr><td>S5</td><td>4751713</td><td>COOPERATIVA DE ECONOMIA E CR�DITO M�TUO DOS INTEGRANTES DAS CARREIRAS JUR�DICAS E DOS SERVENTU�RIOS DE �RG�OS DA JUSTI�A E AFINS, NO ESTADO DE ROND�NIA   SICOOB CREDJURD</td></tr><tr><td>S5</td><td>84156470</td><td>COOPERATIVA DE ECONOMIA E CR�DITO M�TUO DOS INTEGRANTES DO  MINIST�RIO P�BLICO E DO PODER JUDICI�RIO DO ESTADO DO PAR� LTDA - COIMPPA</td></tr><tr><td>S5</td><td>3662047</td><td>COOPERATIVA DE ECONOMIA E CREDITO MUTUO DOS INTEGRANTES DO MINISTERIO PUBLICO DO RIO GRANDE DO SUL - SICREDI MP</td></tr><tr><td>S5</td><td>4694278</td><td>COOPERATIVA DE ECONOMIA E CR�DITO M�TUO DOS INTEGRANTES DO MINIST�RIO P�BLICO E DA DEFENSORIA P�BLICA NO ESTADO DO RIO DE JANEIRO LIMITADA. - SICOOB COMPERJ</td></tr><tr><td>S5</td><td>3750034</td><td>COOPERATIVA DE ECONOMIA E CREDITO MUTUO DOS JUIZES DO RIO GRANDE DO SUL - SICREDI AJURIS</td></tr><tr><td>S5</td><td>51489318</td><td>COOPERATIVA DE ECONOMIA E CR�DITO M�TUO DOS MAGISTRADOS DE S�O PAULO - MAGISCRED</td></tr><tr><td>S5</td><td>5477038</td><td>COOPERATIVA DE ECONOMIA E CR�DITO M�TUO DOS MAGISTRADOS E SERVIDORES DO PODER JUDICI�RIO E �RG�OS JUR�DICOS ESTADUAIS E FEDERAIS NA GRANDE TERESINA - SICOOB JURISCRED/PI</td></tr><tr><td>S5</td><td>4355489</td><td>COOPERATIVA DE ECONOMIA E CREDITO MUTUO DOS MAGISTRADOS, MEMBROS DO MINIST�RIO P�BLICO E PROFISSIONAIS DO DIREITO CATARINENSES LTDA - COOMARCA</td></tr><tr><td>S5</td><td>8041950</td><td>COOPERATIVA DE ECONOMIA E CR�DITO M�TUO DOS MAGISTRADOS, MEMBROS DO MINIST�RIO P�BLICO, DEFENSORES P�BLICOS E SERVIDORES DO PODER JUDICI�RIO NO ESTADO DO CEAR� - SICREDI COOPERJURIS</td></tr><tr><td>S5</td><td>95163002</td><td>COOPERATIVA DE ECONOMIA E CR�DITO M�TUO DOS M�DICOS DA REGI�O DAS MISS�ES E NOROESTE DO RS LTDA</td></tr><tr><td>S5</td><td>2159014</td><td>COOPERATIVA DE ECONOMIA E CR�DITO M�TUO DOS M�DICOS DE JABOTICABAL - COPERMED JABOTICABAL</td></tr><tr><td>S5</td><td>94433109</td><td>COOPERATIVA DE ECONOMIA E CREDITO MUTUO DOS MEDICOS DE PORTO ALEGRE LTDA-UNICRED PORTO ALEGRE</td></tr><tr><td>S5</td><td>97259253</td><td>COOPERATIVA DE ECONOMIA E CREDITO M�TUO DOS M�DICOS DO PLANALTO M�DIO DO RIO GRANDE DO SUL LTDA - CREDIPLAN</td></tr><tr><td>S5</td><td>1635462</td><td>COOPERATIVA DE ECONOMIA E CR�DITO M�TUO DOS M�DICOS DOS VALES DO TAQUARI E RIO PARDO E REGI�O DA PRODU��O LTDA</td></tr><tr><td>S5</td><td>1090027</td><td>COOPERATIVA DE ECONOMIA E CREDITO MUTUO DOS MEDICOS E CATEGORIAS AFINS-UNICRED NITEROI LTDA</td></tr><tr><td>S5</td><td>39808449</td><td>COOPERATIVA DE ECONOMIA E CR�DITO M�TUO DOS M�DICOS E DEMAIS PROFISSIONAIS  DE N�VEL SUPERIOR DA SA�DE DE VIT�RIA LTDA. - UNICRED VIT�RIA</td></tr><tr><td>S5</td><td>3575699</td><td>COOPERATIVA DE ECONOMIA E CR�DITO M�TUO DOS M�DICOS E DEMAIS PROFISSIONAIS DA �REA DE SA�DE DA REGI�O DE RIBEIR�O PRETO - MEDCRED DE RIBEIR�O PRETO</td></tr><tr><td>S5</td><td>71884498</td><td>COOPERATIVA DE ECONOMIA E CR�DITO M�TUO DOS M�DICOS E DEMAIS PROFISSIONAIS DA �REA DE SA�DE DE CAMPINAS E REGI�O LTDA. - UNICRED CAMPINAS</td></tr><tr><td>S5</td><td>71479653</td><td>COOPERATIVA DE ECONOMIA E CR�DITO M�TUO DOS M�DICOS E DEMAIS PROFISSIONAIS DA �REA DE SA�DE DE N�VEL SUPERIOR DE JUIZ DE FORA LTDA. - UNICRED JUIZ DE FORA</td></tr><tr><td>S5</td><td>1796302</td><td>COOPERATIVA DE ECONOMIA E CR�DITO M�TUO DOS M�DICOS E DEMAIS PROFISSIONAIS DA REGI�O DOS VALES DO SINOS, PARANHANA E CA� LTDA - UNICRED REGI�O DOS VALES</td></tr><tr><td>S5</td><td>71988653</td><td>COOPERATIVA DE ECONOMIA E CR�DITO M�TUO DOS M�DICOS E DEMAIS PROFISSIONAIS DA SA�DE DA REGI�O CENTRO PAULISTA � SICOOB UNIMAIS CENTRO PAULISTA</td></tr><tr><td>S5</td><td>2641032</td><td>COOPERATIVA DE ECONOMIA E CR�DITO M�TUO DOS M�DICOS E DEMAIS PROFISSIONAIS DA SA�DE DA REGI�O CENTRO-OESTE DO RS LTDA. � UNICRED CENTRO-OESTE RS</td></tr><tr><td>S5</td><td>2853045</td><td>COOPERATIVA DE ECONOMIA E CREDITO MUTUO DOS MEDICOS E DEMAIS PROFISSIONAIS DA SAUDE DE JOACABA</td></tr><tr><td>S5</td><td>1709266</td><td>COOPERATIVA DE ECONOMIA E CR�DITO M�TUO DOS M�DICOS E DEMAIS PROFISSIONAIS DA SA�DE DE TE�FILO OTONI LTDA.</td></tr><tr><td>S5</td><td>1286361</td><td>COOPERATIVA DE ECONOMIA E CR�DITO M�TUO DOS M�DICOS E DEMAIS PROFISSIONAIS DA SA�DE DE TOLEDO E REGI�O LTDA. - UNIPRIME PIONEIRA DO PARAN�</td></tr><tr><td>S5</td><td>2197569</td><td>COOPERATIVA DE ECONOMIA E CR�DITO M�TUO DOS M�DICOS E DEMAIS PROFISSIONAIS DA SA�DE DO VALE DO PARA�BA LTDA ? SICOOB VALE DO PARAIBA</td></tr><tr><td>S5</td><td>1572667</td><td>COOPERATIVA DE ECONOMIA E CR�DITO M�TUO DOS M�DICOS E DEMAIS PROFISSIONAIS DA SA�DE, ENGENHARIA, ARQUITETURA, CONTABILIDADE, ADMINISTRA��O E ECONOMIA DE ERECHIM LTDA.</td></tr><tr><td>S5</td><td>2179673</td><td>COOPERATIVA DE ECONOMIA E CR�DITO M�TUO DOS M�DICOS E DEMAIS PROFISSIONAIS DE N�VEL SUPERIOR DA �REA DE SA�DE DE OURINHOS - OURICRED</td></tr><tr><td>S5</td><td>7440317</td><td>COOPERATIVA DE ECONOMIA E CR�DITO MUTUO DOS MEDICOS E DEMAIS PROFISSIONAIS DE NIVEL SUPERIOR DA AREA DE SAUDE DE SALVADOR E REGIAO METROPOLITANA LTDA - SICOOB CREDMED</td></tr><tr><td>S5</td><td>71163315</td><td>COOPERATIVA DE ECONOMIA E CR�DITO M�TUO DOS M�DICOS E DEMAIS PROFISSIONAIS DE N�VEL SUPERIOR DA SA�DE DE SETE LAGOAS LTDA.</td></tr><tr><td>S5</td><td>69181709</td><td>COOPERATIVA DE ECONOMIA E CR�DITO M�TUO DOS M�DICOS E PROFISSIONAIS DA �REA DE SA�DE DE S�O PAULO - SICOOB GRANDE S�O PAULO</td></tr><tr><td>S5</td><td>71261184</td><td>COOPERATIVA DE ECONOMIA E CR�DITO M�TUO DOS M�DICOS E PROFISSIONAIS DA SA�DE DA REGI�O DE CARATINGA, MANHUA�U E CARANGOLA LTDA. - SICOOB PROFISSIONAIS DA SA�DE</td></tr><tr><td>S5</td><td>73326449</td><td>COOPERATIVA DE ECONOMIA E CR�DITO M�TUO DOS M�DICOS, DEMAIS PROFISSIONAIS DA SA�DE E EMPRES�RIOS DE CRUZ ALTA LTDA.</td></tr><tr><td>S5</td><td>2250794</td><td>COOPERATIVA DE ECONOMIA E CR�DITO M�TUO DOS M�DICOS, DEMAIS PROFISSIONAIS DE N�VEL SUPERIOR DA �REA DE SA�DE E EMPRES�RIOS DE GUARULHOS E REGI�O</td></tr><tr><td>S5</td><td>70038237</td><td>COOPERATIVA DE ECONOMIA E CR�DITO M�TUO DOS M�DICOS, DOS PROFISSIONAIS DE N�VEL SUPERIOR DA �REA DA SA�DE, DOS MEMBROS E SERV DO PODER JUD, DO MP E DE �RG�OS JUR DA REG METROP DE NATAL - SICREDI NATAL</td></tr><tr><td>S5</td><td>1736243</td><td>COOPERATIVA DE ECONOMIA E CR�DITO M�TUO DOS M�DICOS, PROFISSIONAIS DAS CI�NCIAS E DAS ARTES E EMPRES�RIOS DA REGI�O OESTE DO PARAN� LTDA. - UNIPRIME OESTE DO PARAN�</td></tr><tr><td>S5</td><td>2602922</td><td>COOPERATIVA DE ECONOMIA E CR�DITO M�TUO DOS M�DICOS, SERVIDORES P�BLICOS E PROFISSIONAIS DA �REA DE SA�DE DA BAHIA LTDA. - UNICRED DA BAHIA</td></tr><tr><td>S5</td><td>4478231</td><td>COOPERATIVA DE ECONOMIA E CR�DITO M�TUO DOS MEMBROS DO MINIST�RIO P�BLICO DE S�O PAULO - PROMOCRED</td></tr><tr><td>S5</td><td>4833655</td><td>COOPERATIVA DE ECONOMIA E CR�DITO M�TUO DOS METAL�RGICOS DA GRANDE S�O PAULO - SICOOB METALCRED</td></tr><tr><td>S5</td><td>7950031</td><td>COOPERATIVA DE ECONOMIA E CR�DITO M�TUO DOS MILITARES E DEMAIS SERV. DOS �RG�OS FEDERAIS E ESTADUAIS DA SEG.P�BLICA, DA ADMINISTRA��O, DO PLANEJ.E DOS ORG�OS VINCULADOS DE MANAUS LTDA-MILICRED MANAUS</td></tr><tr><td>S5</td><td>4572960</td><td>COOPERATIVA DE ECONOMIA E CR�DITO M�TUO DOS MILITARES ESTADUAIS DE SANTA CATARINA - CREDPOM</td></tr><tr><td>S5</td><td>6975532</td><td>COOPERATIVA DE ECONOMIA E CR�DITO M�TUO DOS PEQUENOS EMPRES�RIOS, MICROEMPRES�RIOS E MICROEMPREENDEDORES DA REGI�O METROPOLITANA DE PORTO ALEGRE - COOPESA</td></tr><tr><td>S5</td><td>5856736</td><td>COOPERATIVA DE ECONOMIA E CR�DITO M�TUO DOS PEQUENOS EMPRES�RIOS, MICROEMPRES�RIOS E MICROEMPREENDEDORES DO DISTRITO FEDERAL LTDA - SICOOB EMPRESARIAL</td></tr><tr><td>S5</td><td>26758433</td><td>COOPERATIVA DE ECONOMIA E CR�DITO M�TUO DOS PETROLEIROS NO ESTADO DE MINAS GERAIS LTDA. - COPETRO</td></tr><tr><td>S5</td><td>3000142</td><td>COOPERATIVA DE ECONOMIA E CREDITO MUTUO DOS POLICIAIS FEDERAIS DO RIO GRANDE DO SUL - SICREDI POL RS</td></tr><tr><td>S5</td><td>5419025</td><td>COOPERATIVA DE ECONOMIA E CREDITO M�TUO DOS PROFESSORES ESTADUAIS DA REGI�O METROPOLITANA DE PORTO ALEGRE - EDUCREDI</td></tr><tr><td>S5</td><td>2072790</td><td>COOPERATIVA DE ECONOMIA E CR�DITO M�TUO DOS PROFISSIONAIS DA �REA DE SA�DE DE PIRACICABA E REGI�O</td></tr><tr><td>S5</td><td>7714057</td><td>COOPERATIVA DE ECONOMIA E CR�DITO M�TUO DOS PROFISSIONAIS DA �REA NOTARIAL E REGISTRAL - COOPNORE</td></tr><tr><td>S5</td><td>69346856</td><td>COOPERATIVA DE ECONOMIA E CR�DITO M�TUO DOS PROFISSIONAIS DA SA�DE DA REGI�O DA ALTA MOGIANA   SICOOB CREDIMOGIANA</td></tr><tr><td>S5</td><td>86389236</td><td>COOPERATIVA DE ECONOMIA E CR�DITO M�TUO DOS PROFISSIONAIS DA SA�DE DA ZONA DA MATA MINEIRA E SUL DO ESP�RITO SANTO</td></tr><tr><td>S5</td><td>259231</td><td>COOPERATIVA DE ECONOMIA E CR�DITO M�TUO DOS PROFISSIONAIS DA SA�DE DAS REGI�ES METROPOLITANAS DA BAIXADA SANTISTA E GRANDE S�O PAULO LTDA. - SICOOB UNIMAIS METROPOLITANA</td></tr><tr><td>S5</td><td>5608957</td><td>COOPERATIVA DE ECONOMIA E CR�DITO M�TUO DOS PROFISSIONAIS DA SA�DE DO SUDESTE PAULISTA LTDA. ? SICOOB UNIMAIS SUDESTE PAULISTA</td></tr><tr><td>S5</td><td>1848322</td><td>COOPERATIVA DE ECONOMIA E CR�DITO M�TUO DOS PROFISSIONAIS DA SA�DE E EMPRES�RIOS DA REGI�O DO IGUA�U - UNIPRIME DO IGUA�U</td></tr><tr><td>S5</td><td>2647564</td><td>COOPERATIVA DE ECONOMIA E CR�DITO M�TUO DOS PROFISSIONAIS DA SA�DE E EMPRES�RIOS DE ARARAS E REGI�O - SICOOB UNIMAIS ANHANGUERA</td></tr><tr><td>S5</td><td>37554441</td><td>COOPERATIVA DE ECONOMIA E CR�DITO M�TUO DOS PROFISSIONAIS DA SA�DE, DAS CI�NCIAS E DAS ARTES DE DOURADOS - UNIPRIME DOURADOS</td></tr><tr><td>S5</td><td>71698674</td><td>COOPERATIVA DE ECONOMIA E CR�DITO M�TUO DOS PROFISSIONAIS DA SA�DE, EMPRES�RIOS, PEQUENOS EMPRES�RIOS, MICROEMPRES�RIOS E MICROEMPREENDEDORES DAS REGI�ES SERRANAS E DO M�DIO VALE DO PARA�BA</td></tr><tr><td>S5</td><td>2606305</td><td>COOPERATIVA DE ECONOMIA E CR�DITO M�TUO DOS PROFISSIONAIS DAS �REAS DE TECNOLOGIA, DE ENGENHARIA E DE ARQUITETURA DE BELO HORIZONTE E REGI�O METROPOLITANA DE BELO HORIZONTE LTDA - SICOOB ENGECRED</td></tr><tr><td>S5</td><td>73647935</td><td>COOPERATIVA DE ECONOMIA E CR�DITO M�TUO DOS PROFISSIONAIS DAS CI�NCIAS E DAS ARTES DO CENTRO OESTE DO BRASIL LTDA</td></tr><tr><td>S5</td><td>5979692</td><td>COOPERATIVA DE ECONOMIA E CR�DITO M�TUO DOS PROFISSIONAIS DO CREA DOS ESTADOS DE SANTA CATARINA E PARAN� - CREDCREA</td></tr><tr><td>S5</td><td>3930587</td><td>COOPERATIVA DE ECONOMIA E CR�DITO M�TUO DOS SECURITARIOS, DOS CORRETORES DE SEGUROS E DE CAPITALIZACAO DO RIO DE JANEIRO LTDA.</td></tr><tr><td>S5</td><td>915950</td><td>COOPERATIVA DE ECONOMIA E CR�DITO M�TUO DOS SERV. MUNICIPAIS DE S�O PAULO E MAU�, SERV. P�BLICOS, EMPRES�RIOS E PROF. LIBERAIS DA REGI�O METROP. OESTE DA CAPITAL DE S�O PAULO   SICOOB COOPERCREDI-SP</td></tr><tr><td>S5</td><td>19551787</td><td>COOPERATIVA DE ECONOMIA E CR�DITO M�TUO DOS SERVENTU�RIOS DA CIMENTO TUPI S.A. E EMPRESAS COLIGADAS LTDA. - TUPICRED</td></tr><tr><td>S5</td><td>5460750</td><td>COOPERATIVA DE ECONOMIA E CR�DITO M�TUO DOS SERVIDORES DA ADMINISTRA��O P�BLICA MUNICIPAL DE PORTO ALEGRE</td></tr><tr><td>S5</td><td>90278987</td><td>COOPERATIVA DE ECONOMIA E CREDITO MUTUO DOS SERVIDORES DA ASCAR/EMATER-RS LTDA-CRESAL</td></tr><tr><td>S5</td><td>30304919</td><td>COOPERATIVA DE ECONOMIA E CR�DITO M�TUO DOS SERVIDORES DA CNC SESC E SENAC ADMINISTRA��ES NACIONAIS LTDA</td></tr><tr><td>S5</td><td>29341260</td><td>COOPERATIVA DE ECONOMIA E CREDITO MUTUO DOS SERVIDORES DA COMLURB LTDA</td></tr><tr><td>S5</td><td>42100982</td><td>COOPERATIVA DE ECONOMIA E CREDITO MUTUO DOS SERVIDORES DA EMPRESA BRASILEIRA DE CORREIOS E TELEGRAFOS LTDA</td></tr><tr><td>S5</td><td>96409263</td><td>COOPERATIVA DE ECONOMIA E CR�DITO M�TUO DOS SERVIDORES DA FACULDADE DE ENGENHARIA DE ILHA SOLTEIRA - COOPERFEIS</td></tr><tr><td>S5</td><td>62928320</td><td>COOPERATIVA DE ECONOMIA E CR�DITO M�TUO DOS SERVIDORES DA FEDERA��O DO COM�RCIO, SESC E SENAC DE S�O PAULO</td></tr><tr><td>S5</td><td>19402130</td><td>COOPERATIVA DE ECONOMIA E CR�DITO M�TUO DOS SERVIDORES DA FUNDA��O HOSPITALAR E EMPREGADOS DOS ESTABELECIMENTOS HOSPITALARES DE BELO HORIZONTE, REGI�O METROPOLITANA E ZONA DA MATA LTDA. - CECREF</td></tr><tr><td>S5</td><td>4894460</td><td>COOPERATIVA DE ECONOMIA E CR�DITO M�TUO DOS SERVIDORES DA JUSTI�A DO ESTADO DE MINAS GERAIS LTDA. - SICOOB CREDJUS</td></tr><tr><td>S5</td><td>4152107</td><td>COOPERATIVA DE ECONOMIA E CR�DITO M�TUO DOS SERVIDORES DA POL�CIA MILITAR DO ESTADO DE S�O PAULO DA REGI�O CENTRO-OESTE PAULISTA - CREDMIL</td></tr><tr><td>S5</td><td>946465</td><td>COOPERATIVA DE ECONOMIA E CR�DITO M�TUO DOS SERVIDORES DA PREFEITURA MUNICIPAL DE ORL�NDIA - CRED SERV</td></tr><tr><td>S5</td><td>52137361</td><td>COOPERATIVA DE ECONOMIA E CR�DITO M�TUO DOS SERVIDORES DA PREFEITURA MUNICIPAL DE VOTORANTIM</td></tr><tr><td>S5</td><td>5746715</td><td>COOPERATIVA DE ECONOMIA E CR�DITO M�TUO DOS SERVIDORES DA SECRETARIA DE DEFESA SOCIAL DO ESTADO DE MINAS GERAIS LTDA. - COOPSESP</td></tr><tr><td>S5</td><td>2382755</td><td>COOPERATIVA DE ECONOMIA E CR�DITO M�TUO DOS SERVIDORES DA SECRETARIA DE ESTADO DA SEGURAN�A P�BLICA E DA DEFESA SOCIAL DO ESTADO DO RIO GRANDE DO NORTE - CREDIPOL</td></tr><tr><td>S5</td><td>28885036</td><td>COOPERATIVA DE ECONOMIA E CREDITO MUTUO DOS SERVIDORES DA UERJ LTDA. - COOPUERJ</td></tr><tr><td>S5</td><td>69136075</td><td>COOPERATIVA DE ECONOMIA E CR�DITO M�TUO DOS SERVIDORES DA UNESP - COOPUNESP</td></tr><tr><td>S5</td><td>2285107</td><td>COOPERATIVA DE ECONOMIA E CR�DITO M�TUO DOS SERVIDORES DA UNIVERSIDADE ESTADUAL DE CAMPINAS - COOPERUNICAMP</td></tr><tr><td>S5</td><td>3606488</td><td>COOPERATIVA DE ECONOMIA E CR�DITO M�TUO DOS SERVIDORES DA UNIVERSIDADE ESTADUAL DO SUDOESTE DA BAHIA (UESB) - CREDIUESB</td></tr><tr><td>S5</td><td>2794761</td><td>COOPERATIVA DE ECONOMIA E CR�DITO M�TUO DOS SERVIDORES DA UNIVERSIDADE FEDERAL DE VI�OSA LTDA. - SICOOB UFVCREDI</td></tr><tr><td>S5</td><td>29283884</td><td>COOPERATIVA DE ECONOMIA E CR�DITO M�TUO DOS SERVIDORES DA UNIVERSIDADE FEDERAL FLUMINENSE E DOS SERVIDORES P�BLICOS DA EDUCA��O, SA�DE E CULTURA NOS MUNIC�PIOS DO RIO DE JANEIRO E NITER�I LTDA.</td></tr><tr><td>S5</td><td>1825968</td><td>COOPERATIVA DE ECONOMIA E CR�DITO M�TUO DOS SERVIDORES DO  INSTITUTO NACIONAL DO SEGURO SOCIAL NA PARA�BA - COOPREV LTDA</td></tr><tr><td>S5</td><td>2910387</td><td>COOPERATIVA DE ECONOMIA E CREDITO MUTUO DOS SERVIDORES DO COLEGIO PEDRO II</td></tr><tr><td>S5</td><td>778858</td><td>COOPERATIVA DE ECONOMIA E CR�DITO M�TUO DOS SERVIDORES DO DISTRITO FEDERAL LTDA. - COOSERVCRED</td></tr><tr><td>S5</td><td>3497143</td><td>COOPERATIVA DE ECONOMIA E CR�DITO M�TUO DOS SERVIDORES DO PODER EXECUTIVO FEDERAL DO ESTADO DE ROND�NIA   SICOOB CREDIFORTE</td></tr><tr><td>S5</td><td>694877</td><td>COOPERATIVA DE ECONOMIA E CR�DITO M�TUO DOS SERVIDORES DO PODER EXECUTIVO FEDERAL, DOS SERVIDORES DA SECRETARIA DE SA�DE E DOS TRABALHADORES EM ENSINO DO DISTRITO FEDERAL LTDA.   SICOOB EXECUTIVO</td></tr><tr><td>S5</td><td>3326437</td><td>COOPERATIVA DE ECONOMIA E CREDITO MUTUO DOS SERVIDORES DO PODER JUDICIARIO DO ESTADO DE MATO GROSSO - SICOOB CREDIJUD</td></tr><tr><td>S5</td><td>3453295</td><td>COOPERATIVA DE ECONOMIA E CR�DITO M�TUO DOS SERVIDORES DO PODER JUDICI�RIO DO RIO GRANDE DO SUL - SICOOB JUSTI�A</td></tr><tr><td>S5</td><td>37076205</td><td>COOPERATIVA DE ECONOMIA E CR�DITO M�TUO DOS SERVIDORES DO PODER JUDICI�RIO, MINIST�RIO P�BLICO E ENSINO SUPERIOR - SICOOB JUDICI�RIO</td></tr><tr><td>S5</td><td>3329154</td><td>COOPERATIVA DE ECONOMIA E CR�DITO M�TUO DOS SERVIDORES DO PODER LEGISLATIVO FEDERAL E DO DISTRITO FEDERAL - SICOOB LEGISLATIVO</td></tr><tr><td>S5</td><td>512839</td><td>COOPERATIVA DE ECONOMIA E CR�DITO M�TUO DOS SERVIDORES DO SEMASA - SICOOB CECRESA</td></tr><tr><td>S5</td><td>2966385</td><td>COOPERATIVA DE ECONOMIA E CREDITO MUTUO DOS SERVIDORES DOS ORGAOS DO MINISTERIO DA SAUDE NO ESTADO DO RIO DE JANEIRO - CREDISAU</td></tr><tr><td>S5</td><td>3232959</td><td>COOPERATIVA DE ECONOMIA E CR�DITO M�TUO DOS SERVIDORES ESTADUAIS DO PODER EXECUTIVO DO ESTADO DO ACRE EM RIO BRANCO - CBCRED-ACRE</td></tr><tr><td>S5</td><td>2475222</td><td>COOPERATIVA DE ECONOMIA E CREDITO MUTUO DOS SERVIDORES ESTATUTARIOS DA ADMINISTRACAO DIRETA DO ESTADO DO ESPIRITO SANTO - COOPFISCO</td></tr><tr><td>S5</td><td>3269540</td><td>COOPERATIVA DE ECONOMIA E CR�DITO M�TUO DOS SERVIDORES MILITARES, POL�CIA CIVIL E DA SECRETARIA DA EDUCA��O DO ESTADO DE MINAS GERAIS LTDA. - SICOOB COOPEMG</td></tr><tr><td>S5</td><td>16651002</td><td>COOPERATIVA DE ECONOMIA E CR�DITO M�TUO DOS SERVIDORES MUNICIPAIS DE ITABIRA LTDA. - SICOOB COSEMI</td></tr><tr><td>S5</td><td>41791005</td><td>COOPERATIVA DE ECONOMIA E CR�DITO M�TUO DOS SERVIDORES MUNICIPAIS DE PO�OS DE CALDAS LTDA. - COOPO�OS</td></tr><tr><td>S5</td><td>74248949</td><td>COOPERATIVA DE ECONOMIA E CR�DITO M�TUO DOS SERVIDORES MUNICIPAIS DE S�O JO�O DA BOA VISTA - CREDIVISTA</td></tr><tr><td>S5</td><td>2528151</td><td>COOPERATIVA DE ECONOMIA E CR�DITO M�TUO DOS SERVIDORES MUNICIPAIS DE VIT�RIA DA CONQUISTA LTDA. - SICOOB CREDCOOP</td></tr><tr><td>S5</td><td>1819799</td><td>COOPERATIVA DE ECONOMIA E CREDITO MUTUO DOS SERVIDORES MUNICIPAIS DO SUL FLUMINENSE LTDA.</td></tr><tr><td>S5</td><td>54190525</td><td>COOPERATIVA DE ECONOMIA E CR�DITO M�TUO DOS SERVIDORES MUNICIPAIS DO VALE DO PARAIBA, LITORAL NORTE PAULISTA E SERRA DA MANTIQUEIRA - CRESSEM</td></tr><tr><td>S5</td><td>991739</td><td>COOPERATIVA DE ECONOMIA E CR�DITO M�TUO DOS SERVIDORES P�BLICOS DA REGI�O METROPOLITANA DE BEL�M LTDA.</td></tr><tr><td>S5</td><td>4831810</td><td>COOPERATIVA DE ECONOMIA E CREDITO MUTUO DOS SERVIDORES PUBLICOS DE PINH�O - CRESERV-PINH�O</td></tr><tr><td>S5</td><td>3139644</td><td>COOPERATIVA DE ECONOMIA E CR�DITO M�TUO DOS SERVIDORES P�BLICOS DO ESTADO DE S�O PAULO - CREDIPAULISTA</td></tr><tr><td>S5</td><td>11051952</td><td>COOPERATIVA DE ECONOMIA E CR�DITO M�TUO DOS SERVIDORES P�BLICOS DO LITORAL NORTE DO RIO GRANDE DO SUL   CRESOL COOPERSLIN</td></tr><tr><td>S5</td><td>3639902</td><td>COOPERATIVA DE ECONOMIA E CR�DITO M�TUO DOS SERVIDORES P�BLICOS DO PODER EXECUTIVO FEDERAL NO ESTADO DO ESP�RITO SANTO - COOPSEFES</td></tr><tr><td>S5</td><td>1235921</td><td>COOPERATIVA DE ECONOMIA E CR�DITO M�TUO DOS SERVIDORES P�BLICOS DOS MUNIC�PIOS DA REGI�O METROPOLITANA DA GRANDE VIT�RIA/ES</td></tr><tr><td>S5</td><td>4346379</td><td>COOPERATIVA DE ECONOMIA E CREDITO MUTUO DOS SERVIDORES PUBLICOS DOS PODERES EXECUTIVO E LEGISLATIVO NO ESTADO DE MATO GROSSO - SICOOB SERVIDOR</td></tr><tr><td>S5</td><td>3373150</td><td>COOPERATIVA DE ECONOMIA E CR�DITO M�TUO DOS SERVIDORES P�BLICOS ESTADUAIS DA PARA�BA - CREDS LTDA.</td></tr><tr><td>S5</td><td>3973814</td><td>COOPERATIVA DE ECONOMIA E CREDITO MUTUO DOS SERVIDORES P�BLICOS ESTADUAIS DO RIO GRANDE DO SUL EM PORTO ALEGRE E GRANDE PORTO ALEGRE</td></tr><tr><td>S5</td><td>65308447</td><td>COOPERATIVA DE ECONOMIA E CR�DITO M�TUO DOS SERVIDORES P�BLICOS FEDERAIS DE UBERL�NDIA LTDA.</td></tr><tr><td>S5</td><td>71336432</td><td>COOPERATIVA DE ECONOMIA E CR�DITO M�TUO DOS SERVIDORES P�BLICOS FEDERAIS DO MUNIC�PIO DE UBERABA E SUAS FUNDA��ES - SICOOB - CREDIMED LTDA.</td></tr><tr><td>S5</td><td>3990888</td><td>COOPERATIVA DE ECONOMIA E CREDITO MUTUO DOS SERVIDORES PUBLICOS MUNICIPAIS DE PORTO ALEGRE</td></tr><tr><td>S5</td><td>18310649</td><td>COOPERATIVA DE ECONOMIA E CR�DITO M�TUO DOS SERVIDORES P�BLICOS MUNICIPAIS EM JO�O MONLEVADE LTDA.</td></tr><tr><td>S5</td><td>3528402</td><td>COOPERATIVA DE ECONOMIA E CR�DITO M�TUO DOS SERVIDORES P�BLICOS NO ESTADO DO ACRE   SICOOB ACRE</td></tr><tr><td>S5</td><td>1330295</td><td>COOPERATIVA DE ECONOMIA E CR�DITO M�TUO DOS SERVIDORES P�BLICOS NO ESTADO DO ESP�RITO SANTO</td></tr><tr><td>S5</td><td>2493000</td><td>COOPERATIVA DE ECONOMIA E CR�DITO M�TUO DOS SERVIDORES P�BLICOS NOS ESTADOS DE ALAGOAS, SERGIPE, BAHIA E EMPRES�RIOS DA REGI�O METROPOLITANA DO AGRESTE ALAGOANO - SICOOB LESTE</td></tr><tr><td>S5</td><td>27302181</td><td>COOPERATIVA DE ECONOMIA E CREDITO MUTUO DOS SERVIDORES UNIVERSIDADE FEDERAL DO ESPIRITO SANTO - CRED-UFES</td></tr><tr><td>S5</td><td>67915868</td><td>COOPERATIVA DE ECONOMIA E CR�DITO M�TUO DOS TRABALHADORES DA CIA. DE PROCESSAMENTO DE DADOS DO ESTADO DE S�O PAULO - CREDIPRODESP</td></tr><tr><td>S5</td><td>4464352</td><td>COOPERATIVA DE ECONOMIA E CR�DITO M�TUO DOS TRABALHADORES DA COOPER STANDARD AUTOMOTIVE BRASIL SEALING LTDA. E FLUID SYSTEMS LTDA.</td></tr><tr><td>S5</td><td>1918144</td><td>COOPERATIVA DE ECONOMIA E CR�DITO M�TUO DOS TRABALHADORES DA UNIVERSIDADE FEDERAL DE MINAS GERAIS LTDA. - COOPECREMT-UFMG</td></tr><tr><td>S5</td><td>90560434</td><td>COOPERATIVA DE ECONOMIA E CR�DITO M�TUO DOS TRABALHADORES DAS IND�STRIAS METAL�RGICAS DE PORTO ALEGRE E GRANDE PORTO ALEGRE</td></tr><tr><td>S5</td><td>20177390</td><td>COOPERATIVA DE ECONOMIA E CREDITO MUTUO DOS TRABALHADORES DO GRUPO EMPRESARIAL ITATIAIA LTDA. - COOPERITA</td></tr><tr><td>S5</td><td>2562412</td><td>COOPERATIVA DE ECONOMIA E CR�DITO M�TUO DOS TRABALHADORES DO GRUPO S�O MARTINHO   USICRED</td></tr><tr><td>S5</td><td>2850075</td><td>COOPERATIVA DE ECONOMIA E CREDITO MUTUO DOS TRABALHADORES EM CONSELHOS DE FISCALIZACAO PROFISSIONAL NO MUNICIPIO DO RIO DE JANEIRO LTDA.</td></tr><tr><td>S5</td><td>27418557</td><td>COOPERATIVA DE ECONOMIA E CR�DITO M�TUO DOS TRABALHADORES EM SANEAMENTO B�SICO NO ESTADO DO ESP�RITO SANTO - CECMESB-ES</td></tr><tr><td>S5</td><td>7494300</td><td>COOPERATIVA DE ECONOMIA E CR�DITO M�TUO DOS TRABALHADORES NA �REA DE SA�DE, AFINS E EMPRES�RIOS VINCULADOS � ACCI DE ERECHIM-RS-CREDISUL</td></tr><tr><td>S5</td><td>71384697</td><td>COOPERATIVA DE ECONOMIA E CR�DITO M�TUO DOS TRABALHADORES NAS IND�STRIAS DE EXTRA��O DE FERRO E METAIS B�SICOS DA REGI�O DE CONGONHAS LTDA. - COOFERSE</td></tr><tr><td>S5</td><td>10719496</td><td>COOPERATIVA DE ECONOMIA E CR�DITO M�TUO DOS TRABALHADORES NAS IND�STRIAS METAL�RGICAS, MEC�NICA E MATERIAL EL�TRICO DE S�O LEOPOLDO E REGI�O - COOPERMETAL</td></tr><tr><td>S5</td><td>3844699</td><td>COOPERATIVA DE ECONOMIA E CREDITO MUTUO DOS TRABALHADORES PORTUARIOS DA GRANDE VITORIA - CREDESTIVA.</td></tr><tr><td>S5</td><td>33735192</td><td>COOPERATIVA DE ECONOMIA E CREDITO MUTUO JOHN F. KENNEDY LTDA</td></tr><tr><td>S5</td><td>37079720</td><td>COOPERATIVA DE ECONOMIA E CR�DITO M�TUO SERV MEMBROS JUSTI�A TRABALHO MPT TERRIT�RIO NACIONAL PODER JUDICI�RIO FEDERAL MPU PA SC TSE  STM DF BOMBEIROS PA-SICOOB CREDIJUSTRA</td></tr><tr><td>S5</td><td>5591437</td><td>COOPERATIVA DE ECONOMIA E CR�DITO M�TUO SERVIDORES P�BLICOS ATIVOS, INATIVOS E PENSIONISTAS DA ADMINISTRA��O DIRETA, INDIRETA E ASSEMBL�IA LEGISLATIVA DO ESTADO DO RIO GRANDE SUL - COOPSERGS</td></tr><tr><td>S5</td><td>1526924</td><td>COOPERATIVA DE ECONOMIA E CR�DITO M�TUO UNICRED IJU� LTDA - UNICRED IJU�</td></tr><tr><td>S5</td><td>73750424</td><td>COOPERATIVA DE ECONOMIA E CR�DITO M�TUO UNICRED INTEGRA��O LTDA.</td></tr><tr><td>S5</td><td>1705236</td><td>COOPERATIVA DE ECONOMIA E CR�DITO M�TUO UNICRED REGI�O DA CAMPANHA LTDA - UNICRED REGI�O DA CAMPANHA</td></tr><tr><td>S5</td><td>3459850</td><td>COOPERATIVA DE POUPAN�A E CR�DITO DE LIVRE ADMISS�O DA REGI�O DE MARING� - SICOOB METROPOLITANO</td></tr><tr><td>S5</td><td>25606237</td><td>COOPERATIVA DE POUPAN�A E CR�DITO DE LIVRE ADMISS�O DO VALE DO RIO DOCE LTDA. - SICOOB CREDIRIODOCE</td></tr><tr><td>S5</td><td>10262276</td><td>COOPERATIVA DE POUPANCA E CR�DITO M�TUO DOS EMPRES�RIOS E PROFISSIONAIS LIBERAIS DO OESTE PAULISTA - SICOOB PAULISTA</td></tr><tr><td>S5</td><td>1864151</td><td>COOPERATIVA ECONOMIA CR�DITO M�TUO SERVIDORES E EMPREGADOS MUNIC PREF MUNIC BELO HORIZONTE BETIM BRUMADINHO CONTAGEM IBIRIT� NOVA LIMA RIBEIR�O DAS NEVES SABAR� SANTA LUZIA VESPASIANO SICOOB CREDISERV</td></tr><tr><td>S5</td><td>2000895</td><td>COOPERATIVA ECONOMIA CR�DITO M�TUO SERVIDORES PODER JUDICI�RIO, TRIBUNAL CONTAS ESTADUAL E SERVIDORES �RG�OS ENTIDADES �REA CI�NCIA TECNOLOGIA NO ESTADO DO RIO DE JANEIRO LTDA.</td></tr><tr><td>S5</td><td>22760839</td><td>COOPERATIVA REGIONAL DE CR�DITO DE LIVRE ADMISS�O DO SUDOESTE MINEIRO E NORDESTE PAULISTA LTDA - SICOOB NOSSO CR�DITO</td></tr><tr><td>S5</td><td>1658426</td><td>COOPERFORTE - COOPERATIVA DE ECONOMIA E CR�DITO M�TUO DOS FUNCION�RIOS DE INSTITUI��ES FINANCEIRAS P�BLICAS FEDERAIS LTDA.</td></tr><tr><td>S5</td><td>83332700</td><td>COOPERJUS - COOPERATIVA DE ECONOMIA E CR�DITO M�TUO DOS SERVIDORES DO PODER JUDICI�RIO FEDERAL E MINIST�RIO P�BLICO DA UNI�O NO ESTADO DO PAR�.</td></tr><tr><td>S5</td><td>83325811</td><td>COOPERUFPA  - COOPERATIVA DE ECONOMIA E CR�DITO M�TUO DOS SERVIDORES P�BLICOS FEDERAIS E ESTADUAIS E DAS ENTIDADES DE ENSINO COM SEUS RESPECTIVOS FUNCION�RIOS NO ESTADO DO PAR�</td></tr><tr><td>S5</td><td>68848563</td><td>COOPESA-COOPERATIVA DE ECONOMIA E CREDITO MUTUO DOS FUNCIONARIOS DA COESA TRANSPORTES E EMPRESAS COLIGADAS LTDA</td></tr><tr><td>S5</td><td>4995006</td><td>COOPESTADO - COOPERATIVA DE ECONOMIA E CR�DITO M�TUO DOS SERVIDORES P�BLICOS NA REGI�O METROPOLITANA DO ESTADO DO RIO DE JANEIRO LIMITADA</td></tr><tr><td>S5</td><td>41219353</td><td>COOPSEBRAE - COOPERATIVA DE CR�DITO M�TUO DOS FUNCION�RIOS DO SEBRAE/PB, SEBRAE/RN E SESC, SENAC E SENAR EM JO�O PESSOA</td></tr><tr><td>S5</td><td>2723075</td><td>COOPSERJ - COOPERATIVA DE CR�DITO M�TUO DOS SERVIDORES P�BLICOS DO PODER EXECUTIVO DO ESTADO DO RIO DE JANEIRO LTDA.</td></tr><tr><td>S5</td><td>58022195</td><td>COPERCRED - COOPERATIVA DE ECONOMIA E CR�DITO M�TUO DOS EMPREGADOS DAS EMPRESAS ZILLO LORENZETTI</td></tr><tr><td>S5</td><td>7327045</td><td>CORPAL SCMEPP LTDA</td></tr><tr><td>S5</td><td>23241540</td><td>CREBEL - COOPERATIVA DE ECONOMIA E CR�DITO M�TUO DOS COLABORADORES DAS EMPRESAS BELGO BEKAERT - CREBEL LTDA.</td></tr><tr><td>S5</td><td>3635061</td><td>CREDBRASIL - SCM LTDA</td></tr><tr><td>S5</td><td>4899135</td><td>CREDEXTRA - COOPERATIVA DE ECONOMIA E CR�DITO M�TUO DOS EMPREGADOS DA REALMAR DISTRIBUIDORA LTDA</td></tr><tr><td>S5</td><td>78157146</td><td>CREDIALIAN�A COOPERATIVA DE CR�DITO RURAL</td></tr><tr><td>S5</td><td>2996857</td><td>CREDICORES - COOPERATIVA DE ECONOMIA E CR�DITO M�TUO DOS PROFISSIONAIS DA �REA DE SEGUROS DO ESP�RITO SANTO</td></tr><tr><td>S5</td><td>4223451</td><td>CREDILON SCM REG. LONDRINA LTD</td></tr><tr><td>S5</td><td>4608925</td><td>CREDJUST - COOPERATIVA DE CR�DITO M�TUO DOS INTEGRANTES DA JUSTI�A DO TRABALHO DA 13� REGI�O LTDA.</td></tr><tr><td>S5</td><td>3603683</td><td>CREDSEF - COOPERATIVA DE ECONOMIA E CR�DITO M�TUO DOS SERVIDORES DA SECRETARIA DE FAZENDA DO DISTRITO FEDERAL</td></tr><tr><td>S5</td><td>18188384</td><td>CREFAZ SCMEPP LTDA</td></tr><tr><td>S5</td><td>28145589</td><td>CRETOVALE - COOPERATIVA DE ECONOMIA E CR�DITO M�TUO DOS TRABALHADORES DA VALE</td></tr><tr><td>S5</td><td>11545653</td><td>DOURADA SCMEPP LTDA</td></tr><tr><td>S5</td><td>20251847</td><td>EGONCRED SCMEPP LTDA.</td></tr><tr><td>S5</td><td>4849745</td><td>FACILICRED SCM LTDA</td></tr><tr><td>S5</td><td>24537861</td><td>FFA SCMEPP LTDA.</td></tr><tr><td>S5</td><td>4986548</td><td>FID SCMEPP LTDA</td></tr><tr><td>S5</td><td>4307598</td><td>FIDUCIA SCMEPP LTDA</td></tr><tr><td>S5</td><td>4275302</td><td>FINACRED SCM LTDA</td></tr><tr><td>S5</td><td>18810553</td><td>FINSOL SCMEPP S.A.</td></tr><tr><td>S5</td><td>7584094</td><td>FLEX SCM LTDA</td></tr><tr><td>S5</td><td>6039009</td><td>FUTURA SCM LTDA</td></tr><tr><td>S5</td><td>11165756</td><td>GLOBAL SCM LTDA</td></tr><tr><td>S5</td><td>2347114</td><td>GREENCRED COOPERATIVA DE ECONOMIA E CR�DITO M�TUO  DOS M�DICOS, DEMAIS CATEGORIAS AFINS E PROFESSORES DE ENSINO SUPERIOR DE CURITIBA, REGI�O METROPOLITANA E LITORAL</td></tr><tr><td>S5</td><td>20158571</td><td>HR SCMEPP LTDA.</td></tr><tr><td>S5</td><td>7693858</td><td>HSCM SCMEPP LTDA.</td></tr><tr><td>S5</td><td>4230630</td><td>JBCRED S.A. SCME</td></tr><tr><td>S5</td><td>19324634</td><td>LAMARA SCMEPP LTDA.</td></tr><tr><td>S5</td><td>11581339</td><td>MONEY PLUS SCMEPP LTDA</td></tr><tr><td>S5</td><td>17826860</td><td>MS SCMEPP LTDA</td></tr><tr><td>S5</td><td>49204605</td><td>NOSSA TERRA COOPERATIVA DE CR�DITO DOS EMPREGADOS DAS EMPRESAS DE AGRONEG�CIO E AFINS</td></tr><tr><td>S5</td><td>7945233</td><td>P�LOCRED SCMEPP LTDA.</td></tr><tr><td>S5</td><td>6249129</td><td>RPW SCMEPP S.A.</td></tr><tr><td>S5</td><td>8430732</td><td>SCB CR�DITO SCMEPP LTDA</td></tr><tr><td>S5</td><td>1559914</td><td>SICOOB AC CREDI - COOPERATIVA DE CR�DITO DE LIVRE ADMISS�O DO LESTE E NORDESTE MINEIRO LTDA.</td></tr><tr><td>S5</td><td>56882988</td><td>SICOOB CREDICONT - COOPERATIVA ECONOMIA CR�DITO M�TUO EMPREGADOS EMPRESAS INDUSTRIAIS, COMERCIAIS,DE ASSIST. T�CNICA E LOCADORAS, NAS �REAS DE METALURGIA E MAT. EL�TRICO REGI�ES S�O PAULO E CAMPINAS</td></tr><tr><td>S5</td><td>2031139</td><td>SICOOB CREDIMONTES - COOPERATIVA DE CR�DITO DE LIVRE ADMISS�O REGIONAL DE MONTES CLAROS LTDA</td></tr><tr><td>S5</td><td>1667766</td><td>SICOOB CREDINOVA - COOPERATIVA DE CR�DITO DE LIVRE ADMISS�O DE NOVA SERRANA E REGI�O CENTRO-OESTE LTDA.</td></tr><tr><td>S5</td><td>1760242</td><td>SICOOB NOSSACOOP - COOPERATIVA DE ECONOMIA E CR�DITO DOS EMPREGADOS DAS INSTITUI��ES DE ENSINO E PESQUISA E DE SERVIDORES P�BLICOS DE MINAS GERAIS LTDA.</td></tr><tr><td>S5</td><td>41180092</td><td>SICREDI ALAGOAS - COOPERATIVA DE CR�DITO</td></tr><tr><td>S5</td><td>83315408</td><td>SICREDI BELEM - COOPERATIVA DE CR�DITO</td></tr><tr><td>S5</td><td>86913993</td><td>SICREDI CARIRI � COOPERATIVA DE ECONOMIA E CR�DITO M�TUO DOS M�DICOS E DEMAIS PROFISSIONAIS DA SA�DE DA REGI�O DO CARIRI</td></tr><tr><td>S5</td><td>72257793</td><td>SICREDI CEAR� CENTRO NORTE ? COOPERATIVA DE ECONOMIA E CR�DITO M�TUO DOS PROFISSIONAIS DA SA�DE E DE PEQUENOS EMPRES�RIOS, MICROEMPRES�RIOS OU MICROEMPREENDEDORES DA REGI�O CENTRO NORTE DO CEAR� LTDA.</td></tr><tr><td>S5</td><td>5545390</td><td>SICREDI COOMAMP - COOPERATIVA DE CR�DITO DOS MEMBROS DE INSTITUI��ES P�BLICAS DAS CARREIRAS JUR�DICAS E DOS SERVIDORES P�BLICOS FEDERAIS, ESTADUAIS E MUNICIPAIS EM S�O LU�S/MA E MUNIC�PIOS CIRCUNVIZIN</td></tr><tr><td>S5</td><td>68389</td><td>SICREDI CRATE�S - COOPERATIVA DE CR�DITO DE PEQUENOS EMPRES�RIOS, MICROEMPRES�RIOS E MICROEMPREENDEDORES DA REGI�O DE CRATE�S</td></tr><tr><td>S5</td><td>4138455</td><td>SICREDI CREDSUPER � COOPERATIVA DE CR�DITO SICREDI CREDSUPER</td></tr><tr><td>S5</td><td>3428338</td><td>SICREDI CREDUNI - COOPERATIVA DE ECONOMIA E CR�DITO M�TUO DOS SERVIDORES DAS INSTITUI��ES P�BLICAS DE ENSINO SUPERIOR DO ESTADO DA PARA�BA LTDA.</td></tr><tr><td>S5</td><td>4179861</td><td>SICREDI JURISCRED � COOPERATIVA DE CR�DITO DOS MEMBROS DO PODER JUDICI�RIO, DO MINIST�RIO P�BLICO, DA ADVOCACIA, DE �RG�OS JUR�DICOS E DE SERVIDORES P�BLICOS ESTADUAIS E MUNICIPAIS EM ALAGOAS</td></tr><tr><td>S5</td><td>4146333</td><td>SICREDI PERNAMBUCRED - COOPERATIVA DE CR�DITO DOS SERVIDORES P�BLICOS DOS PODERES EXECUTIVO, LEGISLATIVO, JUDICI�RIO E DO MINIST�RIO P�BLICO EM PERNAMBUCO</td></tr><tr><td>S5</td><td>3128973</td><td>SICREDI PIAU� - COOPERATIVA DE CR�DITO DOS PROFISSIONAIS DA SA�DE DAS REGI�ES CENTRO E NORTE DO PIAU�</td></tr><tr><td>S5</td><td>70241658</td><td>SICREDI RECIFE - COOPERATIVA DE CR�DITO DO GRANDE RECIFE, ZONA DA MATA NORTE E SUL</td></tr><tr><td>S5</td><td>4316357</td><td>SOCIALCRED S/A SCMEPP</td></tr><tr><td>S5</td><td>5289612</td><td>SOCICRED SCMEPP LTDA.</td></tr><tr><td>S5</td><td>9210106</td><td>SOCRED S.A. SCM</td></tr><tr><td>S5</td><td>18394228</td><td>TORRES MENDES SCMEPP LTDA.</td></tr><tr><td>S5</td><td>4445917</td><td>UNICRED CAMPOS - COOPERATIVA DE ECONOMIA E CR�DITO M�TUO DOS M�DICOS E DEMAIS PROFISSIONAIS DA SA�DE DE CAMPOS LTDA.</td></tr><tr><td>S5</td><td>39231527</td><td>UNICRED COSTA DO SOL RJ - COOPERATIVA DE ECONOMIA E CR�DITO M�TUO DOS PROFISSIONAIS DE SA�DE DA COSTA DO SOL LTDA.</td></tr><tr><td>S5</td><td>74220948</td><td>UNIPRIME OESTE PAULISTA � COOPERATIVA DE CR�DITO DOS PROFISSIONAIS DA �REA DA SA�DE DE PRESIDENTE PRUDENTE E REGI�O</td></tr><tr><td>S5</td><td>7799277</td><td>VALOR</td></tr><tr><td>S5</td><td>20269566</td><td>VNK SCMEPP</td></tr><tr><td>S1</td><td>0</td><td>BANCO DO BRASIL S/A</td></tr><tr><td>S2</td><td>92702067</td><td>BANCO DO ESTADO DO RIO GRANDE DO SUL SA</td></tr><tr><td>S3</td><td>58616418</td><td>BANCO FIBRA SA</td></tr><tr><td>S3</td><td>59274605</td><td>BANCO GMAC S.A.</td></tr><tr><td>S1</td><td>33058660</td><td>BANCO ITAU S/A</td></tr><tr><td>S1</td><td>60394079</td><td>BANCO ITAUBANK S.A.</td></tr><tr><td>S3</td><td>17184037</td><td>BANCO MERCANTIL DO BRASIL S.A</td></tr><tr><td>S3</td><td>92894922</td><td>BANCO ORIGINAL S/A</td></tr><tr><td>S3</td><td>13258615</td><td>BANCO PAN</td></tr><tr><td>S3</td><td>59285411</td><td>BANCO PAN S.A</td></tr><tr><td>S2</td><td>58160789</td><td>BANCO SAFRA S/A</td></tr><tr><td>S2</td><td>7002898</td><td>BANCO SAFRA S/A</td></tr><tr><td>S1</td><td>33517640</td><td>BANCO SANTADER S/A.</td></tr><tr><td>S1</td><td>90400888</td><td>BANCO SANTANDER (BRASIL) S/A</td></tr><tr><td>S3</td><td>59109165</td><td>BANCO VOLKSWAGEN</td></tr><tr><td>S2</td><td>59588111</td><td>BANCO VOTORANTIM S.A.</td></tr><tr><td>S3</td><td>28127603</td><td>BANESTES S/A BANCO DO ESTADO DO ESPIRITO SANTO</td></tr><tr><td>S3</td><td>208</td><td>BRB BANCO DE BRASILIA S/A</td></tr><tr><td>S3</td><td>7450604</td><td>CHINA CONSTRUCTION BANK (BRASIL) BANCO MULTIPLO S/</td></tr><tr><td>S1</td><td>60872504</td><td>ITAU UNIBANCO HOLDING S.A.</td></tr></tbody></table></div>"
      ]
     },
     "metadata": {
      "application/vnd.databricks.v1+output": {
       "addedWidgets": {},
       "aggData": [],
       "aggError": "",
       "aggOverflow": false,
       "aggSchema": [],
       "aggSeriesLimitReached": false,
       "aggType": "",
       "arguments": {},
       "columnCustomDisplayInfos": {},
       "data": [
        [
         "S1",
         0,
         "BANCO DO BRASIL"
        ],
        [
         "S1",
         60746948,
         "BRADESCO"
        ],
        [
         "S1",
         30306294,
         "BTG PACTUAL"
        ],
        [
         "S1",
         360305,
         "CAIXA ECONOMICA FEDERAL"
        ],
        [
         "S1",
         60872504,
         "ITAU"
        ],
        [
         "S1",
         90400888,
         "SANTANDER"
        ],
        [
         "S2",
         92702067,
         "BANRISUL"
        ],
        [
         "S2",
         7237373,
         "BANCO DO NORDESTE DO BRASIL S.A."
        ],
        [
         "S2",
         33657248,
         "BNDES"
        ],
        [
         "S2",
         33479023,
         "CITIBANK"
        ],
        [
         "S2",
         33987793,
         "CREDIT SUISSE"
        ],
        [
         "S2",
         58160789,
         "SAFRA"
        ],
        [
         "S2",
         59588111,
         "VOTORANTIM"
        ],
        [
         "S3",
         28195667,
         "ABC-BRASIL"
        ],
        [
         "S3",
         60770336,
         "ALFA"
        ],
        [
         "S3",
         655522,
         "APE POUPEX"
        ],
        [
         "S3",
         2992446,
         "BANCO CNH INDUSTRIAL CAPITAL S.A"
        ],
        [
         "S3",
         2038232,
         "BANCOOB"
        ],
        [
         "S3",
         28127603,
         "BANESTES"
        ],
        [
         "S3",
         31597552,
         "BANCO CLASSICO S.A."
        ],
        [
         "S3",
         8357240,
         "BANCO CSF S.A."
        ],
        [
         "S3",
         4902979,
         "BANCO DA AMAZONIA S.A."
        ],
        [
         "S3",
         62232889,
         "BANCO DAYCOVAL S.A"
        ],
        [
         "S3",
         38486817,
         "BANCO DES. DE MG S.A."
        ],
        [
         "S3",
         58616418,
         "BANCO FIBRA S.A."
        ],
        [
         "S3",
         1023570,
         "BANCO RABOBANK INTL BRASIL S.A."
        ],
        [
         "S3",
         60518222,
         "BANCO SUMITOMO MITSUI BRASIL S.A."
        ],
        [
         "S3",
         60498557,
         "BANCO TOKYO-MITSUBISHI BM S.A."
        ],
        [
         "S3",
         92816560,
         "BD REGIONAL DO EXTREMO SUL"
        ],
        [
         "S3",
         61186680,
         "BMG"
        ],
        [
         "S3",
         1522368,
         "BNP PARIBAS"
        ],
        [
         "S3",
         62073200,
         "BOFA MERRILL LYNCH"
        ],
        [
         "S3",
         208,
         "BRB"
        ],
        [
         "S3",
         7450604,
         "CCB"
        ],
        [
         "S3",
         87437687,
         "COOPERATIVA CENTRAL DE CREDITO DO RIO GRANDE DO SUL E SANTA CATARINA - CENTRAL SICREDI SUL"
        ],
        [
         "S3",
         80230774,
         "COOPERATIVA CENTRAL DE CREDITO E INVESTIMENTO DOS ESTADOS DO PARANA, SAO PAULO E RIO DE JANEIRO - CENTRAL SICREDI PR/SP/RJ"
        ],
        [
         "S3",
         75647891,
         "CREDIT AGRICOLE"
        ],
        [
         "S3",
         62331228,
         "DEUTSCHE"
        ],
        [
         "S3",
         59274605,
         "GMAC"
        ],
        [
         "S3",
         4332281,
         "GOLDMAN SACHS"
        ],
        [
         "S3",
         34111187,
         "HAITONG"
        ],
        [
         "S3",
         49336860,
         "ING"
        ],
        [
         "S3",
         33172537,
         "JP MORGAN CHASE"
        ],
        [
         "S3",
         17184037,
         "MERCANTIL DO BRASIL"
        ],
        [
         "S3",
         60814191,
         "MERCEDES-BENZ"
        ],
        [
         "S3",
         2801938,
         "MORGAN STANLEY"
        ],
        [
         "S3",
         92894922,
         "ORIGINAL"
        ],
        [
         "S3",
         59285411,
         "PAN"
        ],
        [
         "S3",
         62144175,
         "PINE"
        ],
        [
         "S3",
         1181521,
         "SICREDI"
        ],
        [
         "S3",
         61533584,
         "SOCIETE GENERALE"
        ],
        [
         "S3",
         59109165,
         "VOLKSWAGEN"
        ],
        [
         "S4",
         33824012,
         "ADVALOR DTVM LTDA"
        ],
        [
         "S4",
         92856905,
         "ADVANCED CC LTDA"
        ],
        [
         "S4",
         10663610,
         "AF DESENVOLVE SP S.A."
        ],
        [
         "S4",
         82937293,
         "AF DO ESTADO DE SC S.A."
        ],
        [
         "S4",
         13178690,
         "AF ESTADO DE PERNAMBUCO S.A."
        ],
        [
         "S4",
         3584906,
         "AF PARAN�"
        ],
        [
         "S4",
         10769660,
         "AFAL S.A."
        ],
        [
         "S4",
         3183937,
         "AFEAM"
        ],
        [
         "S4",
         2929977,
         "AG. FOMENTO AMAPA S.A."
        ],
        [
         "S4",
         3058464,
         "AG. FOMENTO ESTADO DE RORAIMA"
        ],
        [
         "S4",
         5474540,
         "AG. FOMENTO ESTADO DO TOCANTINS"
        ],
        [
         "S4",
         3848103,
         "AGENCIA DE FOMENTO DO RN S.A."
        ],
        [
         "S4",
         6284531,
         "AG�NCIA DE FOMENTO MATO GROSSO"
        ],
        [
         "S4",
         5940203,
         "AGENCIA FOMENTO EST RJ S.A."
        ],
        [
         "S4",
         3918382,
         "AGENCIA FOMENTO GOIAS"
        ],
        [
         "S4",
         10664513,
         "AGIPLAN FINANCEIRA S.A. - CFI"
        ],
        [
         "S4",
         250699,
         "AGK CC S.A."
        ],
        [
         "S4",
         36321990,
         "AGORACRED S/A SCFI"
        ],
        [
         "S4",
         2678955,
         "AKRO DTVM S.A."
        ],
        [
         "S4",
         5452073,
         "ALBATROSS CCV S.A"
        ],
        [
         "S4",
         3882245,
         "ALPES CCTVM LTDA"
        ],
        [
         "S4",
         17312661,
         "AMARIL FRANKLIN CTV LTDA"
        ],
        [
         "S4",
         16927221,
         "AMAZ�NIA CC LTDA."
        ],
        [
         "S4",
         48795256,
         "ANDBANK"
        ],
        [
         "S4",
         12719654,
         "APEAL CREDITO IMOBILIARIO S/A"
        ],
        [
         "S4",
         4684647,
         "ARC CORRETORA CAMBIO S.A."
        ],
        [
         "S4",
         14425205,
         "�TICO DTVM LTDA."
        ],
        [
         "S4",
         33775974,
         "ATIVA S.A. INVESTIMENTOS CCTVM"
        ],
        [
         "S4",
         5956581,
         "ATRIA S.A. - CFI"
        ],
        [
         "S4",
         3443143,
         "AVIPAM CC LTDA."
        ],
        [
         "S4",
         23862762,
         "AVISTA S.A. CFI"
        ],
        [
         "S4",
         25280945,
         "AVS CC LTDA."
        ],
        [
         "S4",
         73622748,
         "B & T ASSOCIADOS CC LTDA."
        ],
        [
         "S4",
         2885855,
         "BADESUL DESENVOLVIMENTO AF/RS"
        ],
        [
         "S4",
         61688131,
         "BALUARTE SA CC"
        ],
        [
         "S4",
         997185,
         "BANCO BM&FBOVESPA"
        ],
        [
         "S4",
         62237425,
         "BANCO FIDIS"
        ],
        [
         "S4",
         34270520,
         "BANCO IBM S.A."
        ],
        [
         "S4",
         23903068,
         "BANCO KOMATSU DO BRASIL"
        ],
        [
         "S4",
         7441209,
         "BANCO MONEO S.A."
        ],
        [
         "S4",
         40429946,
         "BANCO PORTO REAL DE INVEST.S.A"
        ],
        [
         "S4",
         517645,
         "BANCO RIBEIR�O PRETO"
        ],
        [
         "S4",
         795423,
         "BANCO SEMEAR"
        ],
        [
         "S4",
         7679404,
         "BANCO TOP�ZIO S.A."
        ],
        [
         "S4",
         9526594,
         "BANCO VIPAL"
        ],
        [
         "S4",
         33884941,
         "BANIF"
        ],
        [
         "S4",
         61146577,
         "BARCLAYS"
        ],
        [
         "S4",
         556603,
         "BARIGUI"
        ],
        [
         "S4",
         15114366,
         "BBM"
        ],
        [
         "S4",
         45283173,
         "BBVA BRASIL BI S.A."
        ],
        [
         "S4",
         92874270,
         "BANCO A.J. RENNER S.A."
        ],
        [
         "S4",
         3532415,
         "BANCO ABN AMRO S.A."
        ],
        [
         "S4",
         54403563,
         "BANCO ARBI S.A."
        ],
        [
         "S4",
         15173776,
         "BANCO CAPITAL S.A."
        ],
        [
         "S4",
         3609817,
         "BANCO CARGILL S.A."
        ],
        [
         "S4",
         2658435,
         "BANCO CATERPILLAR S.A."
        ],
        [
         "S4",
         33132044,
         "BANCO CEDULA S.A."
        ],
        [
         "S4",
         10690848,
         "BANCO DA CHINA BRASIL S.A."
        ],
        [
         "S4",
         5040481,
         "BANCO DE LAGE LANDEN BRASIL S.A."
        ],
        [
         "S4",
         28145829,
         "BANCO DES. DO ES S.A."
        ],
        [
         "S4",
         13009717,
         "BANCO DO EST. DE SE S.A."
        ],
        [
         "S4",
         4913711,
         "BANCO DO EST. DO PA S.A."
        ],
        [
         "S4",
         61348538,
         "BANCO FICSA S.A."
        ],
        [
         "S4",
         90731688,
         "BANCO FORD S.A."
        ],
        [
         "S4",
         31880826,
         "BANCO GUANABARA S.A."
        ],
        [
         "S4",
         33588252,
         "BANCO INDUSCRED DE INVESTIM. S/A"
        ],
        [
         "S4",
         7656500,
         "BANCO KDB BRASIL S.A."
        ],
        [
         "S4",
         2318507,
         "BANCO KEB DO BRASIL SA"
        ],
        [
         "S4",
         33042151,
         "BANCO LA NACION ARGENTINA"
        ],
        [
         "S4",
         44189447,
         "BANCO LA PROVINCIA B AIRES BCE"
        ],
        [
         "S4",
         59118133,
         "BANCO LUSO BRASILEIRO S.A."
        ],
        [
         "S4",
         80271455,
         "BANCO MAXINVEST S.A."
        ],
        [
         "S4",
         30723886,
         "BANCO MODAL S.A."
        ],
        [
         "S4",
         253448,
         "BANCO POTTENCIAL S.A."
        ],
        [
         "S4",
         51938876,
         "BANCO REP ORIENTAL URUGUAY BCE"
        ],
        [
         "S4",
         4866275,
         "BANCO STANDARD INV S.A."
        ],
        [
         "S4",
         3215790,
         "BANCO TOYOTA DO BRASIL S.A."
        ],
        [
         "S4",
         17351180,
         "BANCO TRIANGULO S.A."
        ],
        [
         "S4",
         57839805,
         "BANCO TRICURY S.A."
        ],
        [
         "S4",
         15357060,
         "BANCO WOORI BANK DO BRASIL S.A."
        ],
        [
         "S4",
         20443996,
         "BECKER FINANCEIRA SA - CFI"
        ],
        [
         "S4",
         13059145,
         "BEXS"
        ],
        [
         "S4",
         33862244,
         "BGC LIQUIDEZ DTVM LTDA"
        ],
        [
         "S4",
         11285104,
         "BIORC FINANCEIRA - CFI S.A."
        ],
        [
         "S4",
         4452473,
         "BMW"
        ],
        [
         "S4",
         42272526,
         "BNY MELLON"
        ],
        [
         "S4",
         6373777,
         "BOA VIAGEM SCC LTDA."
        ],
        [
         "S4",
         71027866,
         "BONSUCESSO"
        ],
        [
         "S4",
         61033106,
         "BPN BRASIL BM S.A."
        ],
        [
         "S4",
         13220493,
         "BR PARTNERS"
        ],
        [
         "S4",
         45246410,
         "BRASIL PLURAL"
        ],
        [
         "S4",
         44077014,
         "BR-CAPITAL DTVM S.A."
        ],
        [
         "S4",
         12865507,
         "BRICKELL S.A. CFI"
        ],
        [
         "S4",
         13486793,
         "BRL TRUST DTVM SA"
        ],
        [
         "S4",
         16944141,
         "BROKER BRASIL CC LTDA."
        ],
        [
         "S4",
         33923111,
         "BROOKFIELD"
        ],
        [
         "S4",
         17904906,
         "BRX CC LTDA."
        ],
        [
         "S4",
         10694628,
         "C H B - CIA HIPOT. BRASILEIRA"
        ],
        [
         "S4",
         33466988,
         "CAIXA GERAL"
        ],
        [
         "S4",
         14652687,
         "CAMBIALL CASH CC LTDA."
        ],
        [
         "S4",
         14190547,
         "CAMBIONET CC LTDA"
        ],
        [
         "S4",
         62237649,
         "CAROL DTVM LTDA."
        ],
        [
         "S4",
         9313766,
         "CARUANA SCFI"
        ],
        [
         "S4",
         15761217,
         "CC A�ORIANA LTDA."
        ],
        [
         "S4",
         4243780,
         "CENTRAL DAS COOPERATIVAS DE CR�DITO DO BRASIL CENTRAL, AMAZONAS OCIDENTAL E MUNIC�PIO DE UB�"
        ],
        [
         "S4",
         62931522,
         "CENTRAL DAS COOPERATIVAS DE CR�DITO DO ESTADO DE S�O PAULO - SICOOB CENTRAL CECRESP"
        ],
        [
         "S4",
         106180,
         "CENTRAL DAS COOPERATIVAS DE CR�DITO DOS ESTADOS DE MATO GROSSO E MATO GROSSO DO SUL"
        ],
        [
         "S4",
         3618104,
         "CENTRAL DAS COOPERATIVAS DE CREDITO MUTUO DO RIO GRANDE DO SUL"
        ],
        [
         "S4",
         5036532,
         "CENTRAL DAS COOPERATIVAS DE CREDITO UNICOOB - SICOOB CENTRAL UNICOOB"
        ],
        [
         "S4",
         309024,
         "CENTRAL DAS COOPERATIVAS DE ECONOMIA E CREDITO DO ESTADO DE MINAS GERAIS LTDA. - SICOOB CENTRAL CECREMGE"
        ],
        [
         "S4",
         692214,
         "CENTRAL DAS COOPERATIVAS DE ECONOMIA E CR�DITO DO PLANALTO CENTRAL LTDA - SICOOB PLANALTO CENTRAL"
        ],
        [
         "S4",
         1634601,
         "CENTRAL DE COOPERATIVAS DE ECONOMIA E CR�DITO M�TUO DO ESTADO DO RIO GRANDE DO SUL LTDA - UNICRED CENTRAL RS"
        ],
        [
         "S4",
         18539102,
         "CHG-MERIDIAN DO BRASIL AM S.A."
        ],
        [
         "S4",
         16657210,
         "CHLOE DTVM LTDA."
        ],
        [
         "S4",
         2685483,
         "CM CAPITAL MARKETS"
        ],
        [
         "S4",
         53263331,
         "COBANSA CH S.A."
        ],
        [
         "S4",
         9512542,
         "CODEPE CVC S.A."
        ],
        [
         "S4",
         336036,
         "COINVALORES"
        ],
        [
         "S4",
         460065,
         "COLUNA S.A. DTVM"
        ],
        [
         "S4",
         23522214,
         "COMMERZBANK BRASIL"
        ],
        [
         "S4",
         87091716,
         "COMPANHIA PROVINCIA DE CREDITO IMOBILIARIO"
        ],
        [
         "S4",
         52904364,
         "CONCORDIA SA CVMC COMMODITIES"
        ],
        [
         "S4",
         18287740,
         "CONECTA CC LTDA"
        ],
        [
         "S4",
         17635177,
         "CONEXION CC LTDA."
        ],
        [
         "S4",
         10398952,
         "CONFEDERACAO NACIONAL DAS COOPERATIVAS CENTRAIS DE CREDITO E ECONOMIA FAMILIAR E SOLIDARIA - CONFESOL"
        ],
        [
         "S4",
         315557,
         "CONFEDERA��O NACIONAL DAS COOPERATIVAS CENTRAIS UNICRED'S - UNICRED DO BRASIL"
        ],
        [
         "S4",
         11703662,
         "CONFIDENCE"
        ],
        [
         "S4",
         15168152,
         "CONSEGTUR CC LTDA"
        ],
        [
         "S4",
         95424891,
         "COOPERATIVA   DE   CR�DITO   DE  LIVRE  ADMISS�O  DE  ASSOCIADOS DO VALE DO RIO PARDO - SICREDI VALE DO RIO PARDO RS"
        ],
        [
         "S4",
         34148882,
         "COOPERATIVA CENTRAL DE CR�DITO DA BAHIA - SICOOB CENTRAL BA"
        ],
        [
         "S4",
         33416108,
         "COOPERATIVA CENTRAL DE CR�DITO DE GOI�S LTDA"
        ],
        [
         "S4",
         33737818,
         "COOPERATIVA CENTRAL DE CR�DITO DE MATO GROSSO DO SUL, GOI�S, DISTRITO FEDERAL E TOCANTINS - CENTRAL SICREDI BRASIL CENTRAL"
        ],
        [
         "S4",
         25683434,
         "COOPERATIVA CENTRAL DE CR�DITO DE MINAS GERAIS LTDA. - SICOOB CENTRAL CREDIMINAS"
        ],
        [
         "S4",
         80160260,
         "COOPERATIVA CENTRAL DE CR�DITO DE SANTA CATARINA E RIO GRANDE DO SUL - SICOOB CENTRAL SC/RS"
        ],
        [
         "S4",
         33667205,
         "COOPERATIVA CENTRAL DE CR�DITO DO CENTRO NORTE DO BRASIL   CENTRAL SICREDI CENTRO NORTE"
        ],
        [
         "S4",
         32428294,
         "COOPERATIVA CENTRAL DE CREDITO DO ESPIRITO SANTO - SICOOB CENTRAL ES"
        ],
        [
         "S4",
         63917579,
         "COOPERATIVA CENTRAL DE CR�DITO DO ESTADO DE S�O PAULO - SICOOB S�O PAULO"
        ],
        [
         "S4",
         3502131,
         "COOPERATIVA CENTRAL DE CR�DITO DO NORTE DO BRASIL - SICOOB NORTE"
        ],
        [
         "S4",
         70119680,
         "COOPERATIVA CENTRAL DE CR�DITO DO NORTE/NORDESTE � CENTRAL SICREDI NORTE/NORDESTE"
        ],
        [
         "S4",
         14568725,
         "COOPERATIVA CENTRAL DE CR�DITO DO RIO DE JANEIRO LTDA."
        ],
        [
         "S4",
         4632856,
         "COOPERATIVA CENTRAL DE CR�DITO NOROESTE BRASILEIRO LTDA."
        ],
        [
         "S4",
         21198087,
         "COOPERATIVA CENTRAL DE CREDITO RURAL COM INTERA��O SOLID�RIA   CENTRAL CRESOL SICOPER"
        ],
        [
         "S4",
         1401771,
         "COOPERATIVA CENTRAL DE CR�DITO RURAL COM INTERA��O SOLID�RIA - CENTRAL CRESOL BASER"
        ],
        [
         "S4",
         7202627,
         "COOPERATIVA CENTRAL DE CR�DITO RURAL COM INTERA��O SOLID�RIA - CRESOL CENTRAL SC/RS"
        ],
        [
         "S4",
         5463212,
         "COOPERATIVA CENTRAL DE CR�DITO URBANO - CECRED"
        ],
        [
         "S4",
         543968,
         "COOPERATIVA CENTRAL DE ECONOMIA E CR�DITO M�TUO DAS UNICRED�S DE SANTA CATARINA E DO PARAN� LTDA � UNICRED CENTRAL SC/PR"
        ],
        [
         "S4",
         73085573,
         "COOPERATIVA CENTRAL DE ECONOMIA E CR�DITO M�TUO DAS UNICREDS DO ESTADO DE S�O PAULO - UNICRED CENTRAL SP"
        ],
        [
         "S4",
         86774775,
         "COOPERATIVA CENTRAL DE ECONOMIA E CR�DITO M�TUO DAS UNICREDS DO ESTADO DO RIO DE JANEIRO E DO MATO GROSSO LTDA   UNICRED CENTRAL RJ/MT"
        ],
        [
         "S4",
         53935029,
         "COOPERATIVA DE CR�DITO COOCRELIVRE"
        ],
        [
         "S4",
         54037916,
         "COOPERATIVA DE CREDITO CREDICITRUS"
        ],
        [
         "S4",
         67096909,
         "COOPERATIVA DE CREDITO DE LIVRE ADMISSAO DA ALTA MOGIANA"
        ],
        [
         "S4",
         44469161,
         "COOPERATIVA DE CR�DITO DE LIVRE ADMISS�O DA REGI�O DE GUARIBA"
        ],
        [
         "S4",
         25798596,
         "COOPERATIVA DE CR�DITO DE LIVRE ADMISS�O DA REGI�O DE VARGINHA LTDA - SICOOB CREDIVAR"
        ],
        [
         "S4",
         87795639,
         "COOPERATIVA DE CR�DITO DE LIVRE ADMISS�O DE ASSOCIADOS ALIAN�A RS/SC - SICREDI ALIAN�A RS/SC"
        ],
        [
         "S4",
         87779625,
         "COOPERATIVA DE CR�DITO DE LIVRE ADMISS�O DE ASSOCIADOS ALTO JACU� - SICREDI ALTO JACU� RS"
        ],
        [
         "S4",
         87733770,
         "COOPERATIVA DE CR�DITO DE LIVRE ADMISS�O DE ASSOCIADOS ALTO URUGUAI - SICREDI ALTO URUGUAI RS/SC"
        ],
        [
         "S4",
         92555150,
         "COOPERATIVA DE CR�DITO DE LIVRE ADMISS�O DE ASSOCIADOS ALTOS DA SERRA - SICREDI ALTOS DA SERRA RS/SC"
        ],
        [
         "S4",
         87900601,
         "COOPERATIVA DE CR�DITO DE LIVRE ADMISS�O DE ASSOCIADOS BOTUCARA� - SICREDI BOTUCARA� RS"
        ],
        [
         "S4",
         88099247,
         "COOPERATIVA DE CR�DITO DE LIVRE ADMISS�O DE ASSOCIADOS CELEIRO - SICREDI CELEIRO RS/SC"
        ],
        [
         "S4",
         3566655,
         "COOPERATIVA DE CR�DITO DE LIVRE ADMISS�O DE ASSOCIADOS CELEIRO CENTRO OESTE - SICREDI CELEIRO CENTRO OESTE"
        ],
        [
         "S4",
         88471024,
         "COOPERATIVA DE CR�DITO DE LIVRE ADMISS�O DE ASSOCIADOS CENTRO LESTE - SICREDI CENTRO LESTE RS"
        ],
        [
         "S4",
         95594941,
         "COOPERATIVA DE CR�DITO DE LIVRE ADMISS�O DE ASSOCIADOS DA REGI�O CENTRO DO RGS - SICREDI REGI�O CENTRO"
        ],
        [
         "S4",
         89468565,
         "COOPERATIVA DE CR�DITO DE LIVRE ADMISS�O DE ASSOCIADOS DA REGI�O DA PRODU��O - SICREDI REGI�O DA PRODU��O"
        ],
        [
         "S4",
         6332931,
         "COOPERATIVA DE CR�DITO DE LIVRE ADMISS�O DE ASSOCIADOS DA REGI�O SUDOESTE DE GOI�S - SICREDI SUDOESTE GO"
        ],
        [
         "S4",
         90497256,
         "COOPERATIVA DE CR�DITO DE LIVRE ADMISS�O DE ASSOCIADOS DA ZONA SUL - SICREDI ZONA SUL RS"
        ],
        [
         "S4",
         87900411,
         "COOPERATIVA DE CR�DITO DE LIVRE ADMISS�O DE ASSOCIADOS DE ESPUMOSO - SICREDI ESPUMOSO RS"
        ],
        [
         "S4",
         89990501,
         "COOPERATIVA DE CR�DITO DE LIVRE ADMISS�O DE ASSOCIADOS DE IBIRAIARAS - SICREDI IBIRAIARAS - RS"
        ],
        [
         "S4",
         33021064,
         "COOPERATIVA DE CR�DITO DE LIVRE ADMISS�O DE ASSOCIADOS DO ARAGUAIA E XINGU - SICREDI ARAXINGU"
        ],
        [
         "S4",
         26408161,
         "COOPERATIVA DE CR�DITO DE LIVRE ADMISS�O DE ASSOCIADOS DO CENTRO SUL DO MATO GROSSO DO SUL - SICREDI CENTRO-SUL MS"
        ],
        [
         "S4",
         10772401,
         "COOPERATIVA DE CR�DITO DE LIVRE ADMISS�O DE ASSOCIADOS DO NORDESTE DO PAR� - SICREDI NORDESTE PA"
        ],
        [
         "S4",
         33022690,
         "COOPERATIVA DE CREDITO DE LIVRE ADMISS�O DE ASSOCIADOS DO NOROESTE DE MATO GROSSO E ACRE - SICREDI NOROESTE MT E ACRE"
        ],
        [
         "S4",
         87780268,
         "COOPERATIVA DE CR�DITO DE LIVRE ADMISS�O DE ASSOCIADOS DO NORTE DO RIO GRANDE DO SUL E OESTE DE SANTA CATARINA - SICREDI NORTE RS/SC"
        ],
        [
         "S4",
         10736214,
         "COOPERATIVA DE CR�DITO DE LIVRE ADMISS�O DE ASSOCIADOS DO PLANALTO CENTRAL - SICREDI PLANALTO CENTRAL"
        ],
        [
         "S4",
         26549311,
         "COOPERATIVA DE CR�DITO DE LIVRE ADMISS�O DE ASSOCIADOS DO SUL DE MATO GROSSO - SICREDI SUL MT"
        ],
        [
         "S4",
         3793242,
         "COOPERATIVA DE CR�DITO DE LIVRE ADMISS�O DE ASSOCIADOS DO SUL DO ESTADO DE SANTA CATARINA   SICREDI SUL SC"
        ],
        [
         "S4",
         10348181,
         "COOPERATIVA DE CR�DITO DE LIVRE ADMISS�O DE ASSOCIADOS DO VALE DO ITAJA� E LITORAL CATARINENSE - SICREDI VALE LITORAL SC"
        ],
        [
         "S4",
         70431630,
         "COOPERATIVA DE CR�DITO DE LIVRE ADMISS�O DE ASSOCIADOS DO VALE DO JURUENA - SICREDI UNIVALES MT/RO"
        ],
        [
         "S4",
         95213211,
         "COOPERATIVA DE CR�DITO DE LIVRE ADMISS�O DE ASSOCIADOS ENCOSTA SUPERIOR DO NORDESTE RS - SICREDI NORDESTE RS"
        ],
        [
         "S4",
         87781530,
         "COOPERATIVA DE CR�DITO DE LIVRE ADMISS�O DE ASSOCIADOS INTEGRA��O DE ESTADOS DO RIO GRANDE DO SUL E SANTA CATARINA - SICREDI INTEGRA��O DE ESTADOS RS/SC"
        ],
        [
         "S4",
         87510475,
         "COOPERATIVA DE CR�DITO DE LIVRE ADMISS�O DE ASSOCIADOS INTEGRA��O ROTA DAS TERRAS - SICREDI INTEGRA��O ROTA DAS TERRAS RS"
        ],
        [
         "S4",
         89049738,
         "COOPERATIVA DE CR�DITO DE LIVRE ADMISS�O DE ASSOCIADOS NOROESTE DO RIO GRANDE DO SUL - SICREDI NOROESTE RS"
        ],
        [
         "S4",
         37442605,
         "COOPERATIVA DE CR�DITO DE LIVRE ADMISS�O DE ASSOCIADOS NORTE MATO-GROSSENSE - SICREDI NORTE MT"
        ],
        [
         "S4",
         87853206,
         "COOPERATIVA DE CR�DITO DE LIVRE ADMISS�O DE ASSOCIADOS OURO BRANCO - SICREDI OURO BRANCO RS"
        ],
        [
         "S4",
         87733077,
         "COOPERATIVA DE CR�DITO DE LIVRE ADMISS�O DE ASSOCIADOS PAMPA GA�CHO - SICREDI PAMPA GA�CHO"
        ],
        [
         "S4",
         26408187,
         "COOPERATIVA DE CR�DITO DE LIVRE ADMISS�O DE ASSOCIADOS PANTANAL DO MATO GROSSO DO SUL - SICREDI PANTANAL MS"
        ],
        [
         "S4",
         88038260,
         "COOPERATIVA DE CR�DITO DE LIVRE ADMISS�O DE ASSOCIADOS PLANALTO   SICREDI PLANALTO RS/SC"
        ],
        [
         "S4",
         88894548,
         "COOPERATIVA DE CR�DITO DE LIVRE ADMISS�O DE ASSOCIADOS SERRO AZUL - SICREDI UNI�O RS"
        ],
        [
         "S4",
         24654881,
         "COOPERATIVA DE CR�DITO DE LIVRE ADMISS�O DE ASSOCIADOS UNI�O DOS ESTADOS DE MATO GROSSO DO SUL, TOCANTINS E OESTE DA BAHIA - SICREDI UNI�O MS/TO"
        ],
        [
         "S4",
         32983165,
         "COOPERATIVA DE CR�DITO DE LIVRE ADMISS�O DE ASSOCIADOS VALE DO CERRADO - SICREDI VALE DO CERRADO"
        ],
        [
         "S4",
         87780284,
         "COOPERATIVA DE CR�DITO DE LIVRE ADMISS�O DE ASSOCIADOS VALE DO JAGUARI - SICREDI VALE DO JAGUARI RS"
        ],
        [
         "S4",
         966246,
         "COOPERATIVA DE CR�DITO DE LIVRE ADMISS�O DE ITA�-PARANAPANEMA-AVAR�"
        ],
        [
         "S4",
         42873828,
         "COOPERATIVA DE CR�DITO DE LIVRE ADMISS�O DO SUDOESTE DE MINAS GERAIS E NORDESTE DE S�O PAULO LTDA - SICOOB AGROCREDI"
        ],
        [
         "S4",
         67960229,
         "COOPERATIVA DE CR�DITO DE LIVRE ADMISS�O DO VALE DO MOGI GUA�U E SUDOESTE PAULISTA - SICOOB CREDIGUA�U"
        ],
        [
         "S4",
         81099491,
         "COOPERATIVA DE CR�DITO DE LIVRE ADMISS�O VALE DO PIQUIRI ABCD - SICREDI VALE DO PIQUIRI ABCD PR/SP"
        ],
        [
         "S4",
         54401286,
         "COOPERATIVA DE CR�DITO DOS FORNECEDORES DE CANA, AGROPECUARISTAS E EMPRES�RIOS DA REGI�O DE PIRACICABA"
        ],
        [
         "S4",
         71328769,
         "COOPERATIVA DE CR�DITO DOS PRODUTORES RURAIS E EMPRES�RIOS DO INTERIOR PAULISTA"
        ],
        [
         "S4",
         82527557,
         "COOPERATIVA DE CR�DITO E DE INVESTIMENTO DE LIVRE ADMISS�O FRONTEIRAS DO IGUA�U E SUDESTE PAULISTA - SICREDI FRONTEIRAS PR/SC/SP"
        ],
        [
         "S4",
         79457883,
         "COOPERATIVA DE CR�DITO E INVESTIMENTO DE LIVRE ADMISS�O AGROEMPRESARIAL - SICREDI AGROEMPRESARIAL PR/SP"
        ],
        [
         "S4",
         84974278,
         "COOPERATIVA DE CR�DITO E INVESTIMENTO DE LIVRE ADMISS�O IGUA�U - SICREDI IGUA�U PR/SC/SP"
        ],
        [
         "S4",
         81054686,
         "COOPERATIVA DE CR�DITO E INVESTIMENTO DE LIVRE ADMISS�O INTEGRA��O - SICREDI INTEGRA��O PR/SC"
        ],
        [
         "S4",
         76059997,
         "COOPERATIVA DE CR�DITO E INVESTIMENTO DE LIVRE ADMISS�O PROGRESSO - SICREDI PROGRESSO PR/SP"
        ],
        [
         "S4",
         79342069,
         "COOPERATIVA DE CR�DITO E INVESTIMENTO DE LIVRE ADMISS�O UNI�O PARAN�/S�O PAULO - SICREDI UNI�O PR/SP"
        ],
        [
         "S4",
         78414067,
         "COOPERATIVA DE CR�DITO E INVESTIMENTO DE LIVRE ADMISS�O VANGUARDA DA REGI�O DAS CATARATAS DO IGUA�U E VALE DO PARA�BA - SICREDI VANGUARDA PR/SP/RJ"
        ],
        [
         "S4",
         2924977,
         "COOPERATIVA DE CR�DITO M�TUO DOS PROFISSIONAIS M�DICOS E DA SA�DE DE CURITIBA E REGI�O METROPOLITANA - SICREDI MEDICRED PR"
        ],
        [
         "S4",
         8418804,
         "COOPERATIVA DE CR�DITO SOLID�RIO DA AGRICULTURA FAMILIAR DO OESTE POTIGUAR - CREDIOESTE-SOL"
        ],
        [
         "S4",
         92796564,
         "COOPERATIVA DE CR�DITO SUL RIOGRANDENSE - SICREDI UNI�O METROPOLITANA RS"
        ],
        [
         "S4",
         184068,
         "COOPERATIVA DE CR�DITO UNICRED CENTRAL MULTIRREGIONAL LTDA. � UCM"
        ],
        [
         "S4",
         79052122,
         "COOPERATIVA DE CREDITO, POUPAN�A E INVESTIMENTO ALIAN�A - SICREDI ALIAN�A PR/SP"
        ],
        [
         "S4",
         81466286,
         "COOPERATIVA DE CR�DITO, POUPAN�A E INVESTIMENTO CAMPOS GERAIS - SICREDI CAMPOS GERAIS PR/SP"
        ],
        [
         "S4",
         87067757,
         "COOPERATIVA DE CR�DITO, POUPAN�A E INVESTIMENTO CENTRO SERRA - SICREDI CENTRO SERRA RS"
        ],
        [
         "S4",
         89126130,
         "COOPERATIVA DE CR�DITO, POUPAN�A E INVESTIMENTO DA REGI�O DOS VALES - SICREDI REGI�O DOS VALES RS"
        ],
        [
         "S4",
         90608712,
         "COOPERATIVA DE CR�DITO, POUPAN�A E INVESTIMENTO DE CARLOS BARBOSA - SICREDI SERRANA RS"
        ],
        [
         "S4",
         91159764,
         "COOPERATIVA DE CR�DITO, POUPAN�A E INVESTIMENTO DE LAJEADO - SICREDI VALE DO TAQUARI RS"
        ],
        [
         "S4",
         32995755,
         "COOPERATIVA DE CR�DITO, POUPAN�A E INVESTIMENTO DO SUDOESTE MT/PA - SICREDI SUDOESTE MT/PA"
        ],
        [
         "S4",
         26529420,
         "COOPERATIVA DE CR�DITO, POUPAN�A E INVESTIMENTO OURO VERDE DO MATO GROSSO � SICREDI OURO VERDE MT"
        ],
        [
         "S4",
         79086997,
         "COOPERATIVA DE CR�DITO, POUPAN�A E INVESTIMENTO PARANAPANEMA PR/SP - SICREDI PARANAPANEMA PR/SP"
        ],
        [
         "S4",
         82065285,
         "COOPERATIVA DE CREDITO, POUPAN�A E INVESTIMENTO PARQUE DAS ARAUCARIAS - SICREDI PARQUE DAS ARAUCARIAS PR/SC/SP"
        ],
        [
         "S4",
         91586982,
         "COOPERATIVA DE CR�DITO, POUPAN�A E INVESTIMENTO SICREDI PIONEIRA RS � SICREDI PIONEIRA RS"
        ],
        [
         "S4",
         26555235,
         "COOPERATIVA DE CR�DITO, POUPAN�A E INVESTIMENTO SORRISO - SICREDI CELEIRO DO MT"
        ],
        [
         "S4",
         33370115,
         "COOPERATIVA DE ECONOMIA E CR�DITO M�TUO DOS EMPREGADOS DE FURNAS E DEMAIS EMPRESAS DO SISTEMA ELETROBR�S LTDA."
        ],
        [
         "S4",
         62673470,
         "COOPERATIVA DE ECONOMIA E CR�DITO M�TUO DOS POLICIAIS MILITARES E SERVIDORES DA SECRETARIA DOS NEG�CIOS DA SEGURAN�A P�BLICA DO ESTADO DE S�O PAULO"
        ],
        [
         "S4",
         80202872,
         "CORREPARTI CC LTDA"
        ],
        [
         "S4",
         4623781,
         "CORRET. AMAZONENSE CAMBIO LTDA"
        ],
        [
         "S4",
         62264924,
         "CP & FRIZZO - DTVM LTDA"
        ],
        [
         "S4",
         81723108,
         "CREDICOAMO CREDITO RURAL COOPERATIVA"
        ],
        [
         "S4",
         12599971,
         "CREDIT� S.A. CFI"
        ],
        [
         "S4",
         60779196,
         "CREFISA S.A. CFI"
        ],
        [
         "S4",
         5883884,
         "CSILATINA A.M. S.A."
        ],
        [
         "S4",
         27406222,
         "DACASA FINANCEIRA"
        ],
        [
         "S4",
         65645137,
         "DASCAM CC LTDA"
        ],
        [
         "S4",
         77162881,
         "DEBONI DTVM LTDA"
        ],
        [
         "S4",
         94968518,
         "DECYSEO CC LTDA."
        ],
        [
         "S4",
         15163587,
         "DESENBAHIA AG FOMENTO BAHIA SA"
        ],
        [
         "S4",
         23511655,
         "DEUTSCHE LEASING BRASIL AM S.A."
        ],
        [
         "S4",
         62280490,
         "DIBRAN DTVM LTDA"
        ],
        [
         "S4",
         33851064,
         "DILLON S/A DTVM"
        ],
        [
         "S4",
         58158387,
         "DIRECAO S.A. CFI"
        ],
        [
         "S4",
         10372647,
         "DOMUS CH"
        ],
        [
         "S4",
         76641497,
         "DOURADA CORRETORA"
        ],
        [
         "S4",
         62169875,
         "EASYNVEST - T�TULO CV SA"
        ],
        [
         "S4",
         89784367,
         "EBADIVAL - E BAGGIO DTVM LTDA"
        ],
        [
         "S4",
         17441197,
         "ECONOMISA"
        ],
        [
         "S4",
         28048783,
         "ELITE - CCVM LTDA"
        ],
        [
         "S4",
         17305319,
         "ESC RUY LAGE SOC CT LTDA"
        ],
        [
         "S4",
         5351887,
         "ESTRELA MINEIRA"
        ],
        [
         "S4",
         34190991,
         "EUROINVEST S/A CCTVM"
        ],
        [
         "S4",
         19086249,
         "EXECUTIVE CC LTDA."
        ],
        [
         "S4",
         73302408,
         "EXIM CC LTDA"
        ],
        [
         "S4",
         8673569,
         "F D GOLD DTVM LTDA"
        ],
        [
         "S4",
         15581638,
         "FACTA S.A. CFI"
        ],
        [
         "S4",
         32648370,
         "FAIR CC S.A."
        ],
        [
         "S4",
         53146221,
         "FAM�LIA PAULISTA"
        ],
        [
         "S4",
         33644196,
         "FATOR"
        ],
        [
         "S4",
         10280601,
         "FIDUCIAL DTVM LTDA"
        ],
        [
         "S4",
         411939,
         "FINAMAX S.A. CFI"
        ],
        [
         "S4",
         91669747,
         "FINANSINOS S.A. CFI"
        ],
        [
         "S4",
         329598,
         "FOCO DTVM LTDA"
        ],
        [
         "S4",
         40353377,
         "FOURTRADE COR. DE CAMBIO LTDA"
        ],
        [
         "S4",
         13673855,
         "FRAM CAPITAL DTVM S.A."
        ],
        [
         "S4",
         71677850,
         "FRENTE CC LTDA."
        ],
        [
         "S4",
         18684408,
         "FUTURAINVEST DTVM"
        ],
        [
         "S4",
         7253654,
         "GAVEA DTVM LTDA"
        ],
        [
         "S4",
         11760553,
         "GAZINCRED S.A. SCFI"
        ],
        [
         "S4",
         10749264,
         "GDC PART SERV FIDUC DTVM LTDA"
        ],
        [
         "S4",
         92858380,
         "GERAL CCVM LTDA"
        ],
        [
         "S4",
         10853017,
         "GET MONEY CC LTDA"
        ],
        [
         "S4",
         21040668,
         "GLOBAL EXCHANGE BR SOC. CC LTDA"
        ],
        [
         "S4",
         7631026,
         "GOLCRED S/A - CFI"
        ],
        [
         "S4",
         23010182,
         "GOOD CC LTDA"
        ],
        [
         "S4",
         65982589,
         "GRACO C.C. S.A."
        ],
        [
         "S4",
         33918160,
         "GRADUAL CCTVM S.A."
        ],
        [
         "S4",
         6339468,
         "GRAZZIOTIN FINANCIADORA SA CFI"
        ],
        [
         "S4",
         24074692,
         "GUITTA CC LTDA"
        ],
        [
         "S4",
         1788147,
         "H.COMMCOR DTVM LTDA."
        ],
        [
         "S4",
         17312083,
         "H.H.PICCHIONI"
        ],
        [
         "S4",
         3634220,
         "HONDA"
        ],
        [
         "S4",
         34974170,
         "HOYA CVC LTDA."
        ],
        [
         "S4",
         97406706,
         "HP FINANCIAL SERVICES AM S.A"
        ],
        [
         "S4",
         7512441,
         "HS FINANCEIRA"
        ],
        [
         "S4",
         53518684,
         "HSBC"
        ],
        [
         "S4",
         9105360,
         "ICAP DO BRASIL CTVM LTDA."
        ],
        [
         "S4",
         72556996,
         "ICARO CC LTDA"
        ],
        [
         "S4",
         3282508,
         "ICATU DTVM LTDA"
        ],
        [
         "S4",
         17453575,
         "ICBC DO BRASIL BM S.A."
        ],
        [
         "S4",
         31895683,
         "INDUSTRIAL DO BRASIL"
        ],
        [
         "S4",
         61024352,
         "INDUSVAL"
        ],
        [
         "S4",
         3014007,
         "INFINITY CCTVM S.A."
        ],
        [
         "S4",
         34265629,
         "INTERCAM CC LTDA"
        ],
        [
         "S4",
         416968,
         "INTERMEDIUM"
        ],
        [
         "S4",
         55230916,
         "INTESA SANPAOLO BRASIL S.A."
        ],
        [
         "S4",
         62090873,
         "INTL FCSTONE DTVM LTDA."
        ],
        [
         "S4",
         15489568,
         "INTRADER DTVM LTDA"
        ],
        [
         "S4",
         69078350,
         "J ALVES CC LTDA"
        ],
        [
         "S4",
         14388334,
         "J.MALUCELLI"
        ],
        [
         "S4",
         14035129,
         "JGP DTVM LTDA."
        ],
        [
         "S4",
         20283069,
         "JN-MAXI CC LTDA."
        ],
        [
         "S4",
         91884981,
         "JOHN DEERE"
        ],
        [
         "S4",
         1852137,
         "JSL A.M. S.A."
        ],
        [
         "S4",
         34266668,
         "KRAUS - SCC LTDA"
        ],
        [
         "S4",
         6040559,
         "KREDILIG S.A. - CFI"
        ],
        [
         "S4",
         6132348,
         "LABOR CC"
        ],
        [
         "S4",
         71590442,
         "LASTRO RDV DTVM LTDA"
        ],
        [
         "S4",
         4836002,
         "LEASEPLAN AM S.A."
        ],
        [
         "S4",
         11271860,
         "LEBES FINANCEIRA CFI SA"
        ],
        [
         "S4",
         7652226,
         "LECCA"
        ],
        [
         "S4",
         61973863,
         "LEROSA S.A. CVC"
        ],
        [
         "S4",
         50579044,
         "LEVYCAM CCV LTDA"
        ],
        [
         "S4",
         24361690,
         "LIMINE TRUST DTVM LTDA."
        ],
        [
         "S4",
         15122605,
         "LUMINA CC"
        ],
        [
         "S4",
         61723847,
         "MAGLIANO S.A. CCVM"
        ],
        [
         "S4",
         33923798,
         "M�XIMA"
        ],
        [
         "S4",
         15077393,
         "MEGA CC LTDA."
        ],
        [
         "S4",
         13839639,
         "MELHOR CC LTDA."
        ],
        [
         "S4",
         9464032,
         "MIDWAY S.A. - SCFI"
        ],
        [
         "S4",
         12392983,
         "MIRAE ASSET CCTVM LTDA"
        ],
        [
         "S4",
         61088183,
         "MIZUHO"
        ],
        [
         "S4",
         97447304,
         "MOMENTO DTVM LTDA."
        ],
        [
         "S4",
         12063256,
         "MONETAR DTVM"
        ],
        [
         "S4",
         34666362,
         "MONOP�LIO CC LTDA."
        ],
        [
         "S4",
         19307785,
         "MSB BANK S.A. BANCO C�MBIO"
        ],
        [
         "S4",
         12586596,
         "MULTIMONEY CC LTDA."
        ],
        [
         "S4",
         25674235,
         "MUNDINVEST S.A. - CCVM"
        ],
        [
         "S4",
         18941229,
         "MUTUAL APETRIM CI S/A"
        ],
        [
         "S4",
         9274232,
         "NATIXIS BRASIL S.A. BM"
        ],
        [
         "S4",
         4379829,
         "NEGRESCO S.A. - CFI"
        ],
        [
         "S4",
         65635377,
         "NGO ASSOCIADOS CC LTDA."
        ],
        [
         "S4",
         76637263,
         "NOMINAL DTVM LTDA"
        ],
        [
         "S4",
         4257795,
         "NOVA FUTURA CTVM LTDA."
        ],
        [
         "S4",
         43060029,
         "NOVINVEST CVM LTDA"
        ],
        [
         "S4",
         74828799,
         "NOVO BANCO CONTINENTAL S.A. - BM"
        ],
        [
         "S4",
         8609934,
         "NOVO MUNDO CC S.A."
        ],
        [
         "S4",
         40161713,
         "NSG CAPITAL"
        ],
        [
         "S4",
         18145784,
         "NUMATUR CC LTDA"
        ],
        [
         "S4",
         68742204,
         "NUMBER ONE SCC LTDA."
        ],
        [
         "S4",
         76633486,
         "OLIVEIRA FRANCO SCVM"
        ],
        [
         "S4",
         36113876,
         "OLIVEIRA TRUST DTVM S.A."
        ],
        [
         "S4",
         11495073,
         "OM DTVM LTDA"
        ],
        [
         "S4",
         92228410,
         "OMNI"
        ],
        [
         "S4",
         7333726,
         "ONNIX CC LTDA."
        ],
        [
         "S4",
         1582158,
         "OPPORTUNITY DTVM LTDA"
        ],
        [
         "S4",
         13293225,
         "�RAMA DTVM S.A."
        ],
        [
         "S4",
         92904564,
         "ORLA DTVM S.A."
        ],
        [
         "S4",
         78632767,
         "OURINVEST"
        ],
        [
         "S4",
         73279093,
         "PACIFIC INVEST DTVM LTDA"
        ],
        [
         "S4",
         3311443,
         "PARATI - CFI S.A."
        ],
        [
         "S4",
         20155248,
         "PARMETAL DTVM LTDA"
        ],
        [
         "S4",
         59615005,
         "PATA��O DTVM LTDA."
        ],
        [
         "S4",
         17343682,
         "PENTAGONO S/A DTVM"
        ],
        [
         "S4",
         43180355,
         "PERNAMBUCANAS"
        ],
        [
         "S4",
         11758741,
         "PETRA"
        ],
        [
         "S4",
         11836226,
         "PIAU� FOMENTO"
        ],
        [
         "S4",
         92875780,
         "PILLA CCVM LTDA"
        ],
        [
         "S4",
         806535,
         "PLANNER"
        ],
        [
         "S4",
         17902616,
         "POLO CC LTDA."
        ],
        [
         "S4",
         4862600,
         "PORTO SEGURO"
        ],
        [
         "S4",
         1800019,
         "PORTOCRED S.A. - CFI"
        ],
        [
         "S4",
         36178887,
         "PROSPER S/A CVC"
        ],
        [
         "S4",
         11476673,
         "RANDON"
        ],
        [
         "S4",
         89960090,
         "RB CAPITAL DTVM LTDA."
        ],
        [
         "S4",
         4215594,
         "RELIANCE DTVM LTDA."
        ],
        [
         "S4",
         62287735,
         "RENASCENCA DTVM LTDA"
        ],
        [
         "S4",
         68900810,
         "RENDIMENTO"
        ],
        [
         "S4",
         13434335,
         "RICO CTVM S.A."
        ],
        [
         "S4",
         72600026,
         "RIO BRAVO INV. DTVM LTDA"
        ],
        [
         "S4",
         42066258,
         "RJI"
        ],
        [
         "S4",
         33603457,
         "RODOBENS"
        ],
        [
         "S4",
         67391821,
         "S. HAYATA CC S.A."
        ],
        [
         "S4",
         5503849,
         "SANTANA S.A. - CFI"
        ],
        [
         "S4",
         122327,
         "SANTINVEST"
        ],
        [
         "S4",
         7747410,
         "SAX S.A. CFI"
        ],
        [
         "S4",
         11417016,
         "SCANIA"
        ],
        [
         "S4",
         29030467,
         "SCOTIABANK BRASIL"
        ],
        [
         "S4",
         21148439,
         "SEALANDAIR CC LTDA."
        ],
        [
         "S4",
         11970623,
         "SENFF S.A. - CFI"
        ],
        [
         "S4",
         17352220,
         "SENSO CCVM S.A."
        ],
        [
         "S4",
         42898825,
         "SICOOB CREDICOM - COOPERATIVA DE ECONOMIA E CR�DITO M�TUO DOS M�DICOS E PROFISSIONAIS DA �REA DE SA�DE DE MINAS GERAIS LTDA."
        ],
        [
         "S4",
         15227994,
         "SIMPLIFIC PAVARINI"
        ],
        [
         "S4",
         16854999,
         "SINGRATUR CC LTDA."
        ],
        [
         "S4",
         22639377,
         "SINOSSERRA S/A - SCFI"
        ],
        [
         "S4",
         17315359,
         "SITA SCCVM S.A."
        ],
        [
         "S4",
         50657675,
         "SLW CVC LTDA"
        ],
        [
         "S4",
         3881423,
         "SOCINAL S.A. CFI"
        ],
        [
         "S4",
         61820817,
         "SOCOPA"
        ],
        [
         "S4",
         60889128,
         "SOFISA"
        ],
        [
         "S4",
         8520517,
         "SOL CC"
        ],
        [
         "S4",
         96477906,
         "SOLIDEZ CCTVM LTDA."
        ],
        [
         "S4",
         68757681,
         "SOLIDUS S.A. CCVM"
        ],
        [
         "S4",
         4814563,
         "SOROCRED CFI S.A."
        ],
        [
         "S4",
         61739629,
         "SPINELLI S.A. CVMC"
        ],
        [
         "S4",
         11932017,
         "STANDARD CHARTERED BI S.A."
        ],
        [
         "S4",
         17359351,
         "STARA FINANCEIRA S.A. - CFI"
        ],
        [
         "S4",
         32206435,
         "SUL AMERICA INVEST DTVM S.A."
        ],
        [
         "S4",
         66616632,
         "TATICA S.A. DTVM"
        ],
        [
         "S4",
         58506221,
         "TEND�NCIA CCTVM LTDA"
        ],
        [
         "S4",
         3751794,
         "TERRA INVESTIMENTOS DTVM"
        ],
        [
         "S4",
         9473806,
         "TODESCREDI S/A - CFI"
        ],
        [
         "S4",
         57582264,
         "TORRE CC LTDA"
        ],
        [
         "S4",
         2992317,
         "TREVISO CC S.A."
        ],
        [
         "S4",
         61747085,
         "TULLETT PREBON BRASIL CVC LTDA"
        ],
        [
         "S4",
         15482499,
         "TURCAMBIO CC LTDA."
        ],
        [
         "S4",
         16789470,
         "TURISCAM CC LTDA."
        ],
        [
         "S4",
         18520834,
         "UBS"
        ],
        [
         "S4",
         33968066,
         "UM INVESTIMENTOS S/A CTVM"
        ],
        [
         "S4",
         17508380,
         "UNI�O ALTERNATIVA CC LTDA."
        ],
        [
         "S4",
         3046391,
         "UNIPRIME CENTRAL - CENTRAL INTERESTADUAL DE COOPERATIVAS DE CREDITO LTDA."
        ],
        [
         "S4",
         2398976,
         "UNIPRIME NORTE DO PARANA - COOPERATIVA DE ECONOMIA E CR�DITO M�TUO DOS M�DICOS, PROFISSIONAIS DAS CI�NCIAS E DAS ARTES E EMPRES�RIOS LTDA."
        ],
        [
         "S4",
         5192316,
         "VIA CERTA FINANCIADORA S.A. - CFI"
        ],
        [
         "S4",
         14388516,
         "VIC DTVM S/A"
        ],
        [
         "S4",
         21112244,
         "VINCI DTVM LTDA."
        ],
        [
         "S4",
         17772370,
         "VIPS CC LTDA."
        ],
        [
         "S4",
         4062902,
         "VISION S.A. CC"
        ],
        [
         "S4",
         58017179,
         "VOLVO"
        ],
        [
         "S4",
         22610500,
         "VORTX DTVM LTDA."
        ],
        [
         "S4",
         78626983,
         "VR"
        ],
        [
         "S4",
         61769790,
         "WALPIRES S.A. CCTVM"
        ],
        [
         "S4",
         7437241,
         "WESTERN ASSET DTVM LTDA."
        ],
        [
         "S4",
         13720915,
         "WESTERN UNION"
        ],
        [
         "S4",
         2332886,
         "XP INVESTIMENTOS"
        ],
        [
         "S4",
         10371492,
         "YAMAHA MOTOR"
        ],
        [
         "S5",
         2814832,
         "A COOPERATIVA DE ECONOMIA E CR�DITO M�TUO DOS EMPREGADOS DA MERCK SHARP & DOHME FARMAC�UTICA ? COOPERMSD"
        ],
        [
         "S5",
         13058743,
         "ACCESSCR�DITO SCMEPP"
        ],
        [
         "S5",
         4772908,
         "ATLANTA SCM LTDA"
        ],
        [
         "S5",
         7835244,
         "BNS SCM LTDA."
        ],
        [
         "S5",
         5669150,
         "BOM CR�DITO SCMEPP LTDA."
        ],
        [
         "S5",
         21332862,
         "CARTOS SCMEPP LTDA."
        ],
        [
         "S5",
         5442029,
         "CASA CREDITO S.A. SCM"
        ],
        [
         "S5",
         70116611,
         "CENTRAL DAS COOPERATIVAS DE CR�DITO DO NORDESTE - SICOOB CENTRAL NE"
        ],
        [
         "S5",
         5790149,
         "CENTRAL DAS COOPERATIVAS DE ECONOMIA E CR�DITO M�TUO DO ESTADO DO ESP�RITO SANTO LTDA. - CECOOPES"
        ],
        [
         "S5",
         27171974,
         "COOPER�GUIA - COOPERATIVA DE ECONOMIA E CR�DITO M�TUO DOS EMPREGADOS DO GRUPO �GUIA BRANCA"
        ],
        [
         "S5",
         5296712,
         "COOPERASA - COOPERATIVA DE ECONOMIA E CR�DITO M�TUO DOS FUNCIONARIOS DAS EMPRESAS DA AGUIA PARTICIPA��ES"
        ],
        [
         "S5",
         88325113,
         "COOPERATIVA    DE    ECONOMIA    E    CR�DITO   M�TUO  MINUANO"
        ],
        [
         "S5",
         10013534,
         "COOPERATIVA CENTRAL DE CR�DITO DA AGRICULTURA FAMILIAR E ECONOMIA SOLID�RIA - ASCOOB CENTRAL"
        ],
        [
         "S5",
         5879577,
         "COOPERATIVA CENTRAL DE CREDITO RURAL HORIZONTES NOVOS - CREHNOR CENTRAL"
        ],
        [
         "S5",
         21110927,
         "COOPERATIVA DE CREDITO CLASSICA DOS FUNCIONARIOS E PRESTADORES DE SERVI�OS DAS EMPRESAS LIGADAS AO GRUPO EUCATUR LTDA. - EUCRED"
        ],
        [
         "S5",
         44401800,
         "COOPERATIVA DE CR�DITO COGEM"
        ],
        [
         "S5",
         5463934,
         "COOPERATIVA DE CREDITO CREDLIDER - SICOOB CREDLIDER"
        ],
        [
         "S5",
         9512539,
         "COOPERATIVA DE CR�DITO DA FOZ DO RIO ITAJA� A�U - CREDIFOZ"
        ],
        [
         "S5",
         10218474,
         "COOPERATIVA DE CR�DITO DA REGI�O DO CONTESTADO - SCRCRED"
        ],
        [
         "S5",
         5392810,
         "COOPERATIVA DE CR�DITO DA REGI�O MERIDIONAL DO BRASIL - SICOOB UNICOOB MERIDIONAL"
        ],
        [
         "S5",
         9590601,
         "COOPERATIVA DE CR�DITO DA SERRA CATARINENSE � CREDICOMIN"
        ],
        [
         "S5",
         22656789,
         "COOPERATIVA DE CR�DITO DAS MATAS DE MINAS LTDA. - SICOOB CREDISUDESTE"
        ],
        [
         "S5",
         1151186,
         "COOPERATIVA DE CR�DITO DE CAMPINA GRANDE - SICREDI CENTRO PARAIBANA"
        ],
        [
         "S5",
         57987273,
         "COOPERATIVA DE CR�DITO DE CAPITAL E EMPR�STIMO DOS EMPREGADOS CELETISTAS DE COOPERATIVAS DOS ESTADOS DE S�O PAULO E MINAS GERAIS - COCREUNI"
        ],
        [
         "S5",
         34503581,
         "COOPERATIVA DE CR�DITO DE CAPITAL E EMPR�STIMO DOS FUNCION�RIOS DA SA�DE DO SETOR PRIVADO DE MANAUS LTDA � COOPCRESP MANAUS"
        ],
        [
         "S5",
         4529074,
         "COOPERATIVA DE CR�DITO DE CASCAVEL E REGI�O - SICOOB CREDICAPITAL"
        ],
        [
         "S5",
         4247370,
         "COOPERATIVA DE CR�DITO DE EMPRES�RIOS - SICOOB/TRANSCREDI"
        ],
        [
         "S5",
         71009237,
         "COOPERATIVA DE CR�DITO DE GUAP� LTDA - SICOOB CREDIGUAP�"
        ],
        [
         "S5",
         71506513,
         "COOPERATIVA DE CREDITO DE ITAPAGIPE LTDA - SICOOB ITAPAGIPE"
        ],
        [
         "S5",
         53923116,
         "COOPERATIVA DE CR�DITO DE LIVRE ADMISS�O - SICOOB CREDICOONAI"
        ],
        [
         "S5",
         21661202,
         "COOPERATIVA DE CR�DITO DE LIVRE ADMISS�O CAMPOS DA MANTIQUEIRA LTDA. - SICOOB CREDICAMPO"
        ],
        [
         "S5",
         22724710,
         "COOPERATIVA DE CR�DITO DE LIVRE ADMISS�O CAMPOS DAS VERTENTES LTDA. - SICOOB CREDIVERTENTES"
        ],
        [
         "S5",
         37395399,
         "COOPERATIVA DE CR�DITO DE LIVRE ADMISS�O CENTRO BRASILEIRA LTDA."
        ],
        [
         "S5",
         7502031,
         "COOPERATIVA DE CR�DITO DE LIVRE ADMISS�O CENTRO OESTE GOIANO LTDA."
        ],
        [
         "S5",
         31804966,
         "COOPERATIVA DE CR�DITO DE LIVRE ADMISS�O CENTRO-SERRANA DO ESP�RITO SANTO - SICOOB CENTRO-SERRANO"
        ],
        [
         "S5",
         2338666,
         "COOPERATIVA DE CR�DITO DE LIVRE ADMISS�O CREDIEMBRAPA LTDA - SICOOB."
        ],
        [
         "S5",
         59869560,
         "COOPERATIVA DE CREDITO DE LIVRE ADMISS�O DA ALTA PAULISTA - SICOOB COCREALPA"
        ],
        [
         "S5",
         11907520,
         "COOPERATIVA DE CR�DITO DE LIVRE ADMISS�O DA BORBOREMA E AGRESTE PARAIBANO - SICOOB BORBOREMA PARAIBANO"
        ],
        [
         "S5",
         97360804,
         "COOPERATIVA DE CR�DITO DE LIVRE ADMISS�O DA CIDADE DE GOI�NIA E ENTORNO LTDA."
        ],
        [
         "S5",
         10209619,
         "COOPERATIVA DE CR�DITO DE LIVRE ADMISS�O DA GRANDE GOI�NIA LTDA."
        ],
        [
         "S5",
         14046512,
         "COOPERATIVA DE CR�DITO DE LIVRE ADMISS�O DA MARGEM ESQUERDA DO URUCUIA E S�O FRANCISCO LTDA - SICOOB CREDICHAPADA"
        ],
        [
         "S5",
         1152097,
         "COOPERATIVA DE CREDITO DE LIVRE ADMISSAO DA MATA MINEIRA LTDA - SICOOB CREDIMATA"
        ],
        [
         "S5",
         2144899,
         "COOPERATIVA DE CR�DITO DE LIVRE ADMISS�O DA REGI�O CENTRAL DE ROND�NIA   SICOOB OUROCREDI"
        ],
        [
         "S5",
         1736516,
         "COOPERATIVA DE CR�DITO DE LIVRE ADMISS�O DA REGI�O CENTRAL E OESTE MINEIRO LTDA. - SICOOB DIVICRED"
        ],
        [
         "S5",
         25387713,
         "COOPERATIVA DE CR�DITO DE LIVRE ADMISS�O DA REGI�O DE  PAR� DE MINAS LTDA - SICOOB CREDIRURAL"
        ],
        [
         "S5",
         25353939,
         "COOPERATIVA DE CR�DITO DE LIVRE ADMISS�O DA REGI�O DE ALPIN�POLIS LTDA. - SICOOB CREDIALP"
        ],
        [
         "S5",
         66398496,
         "COOPERATIVA DE CR�DITO DE LIVRE ADMISS�O DA REGI�O DE ARAX� LTDA. - SICOOB CREDIARA"
        ],
        [
         "S5",
         71237184,
         "COOPERATIVA DE CR�DITO DE LIVRE ADMISS�O DA REGI�O DE CAMPO BELO LTDA.   SICOOB CREDIBELO"
        ],
        [
         "S5",
         19449602,
         "COOPERATIVA DE CR�DITO DE LIVRE ADMISS�O DA REGI�O DE CARATINGA LTDA.   SICOOB CREDCOOPER"
        ],
        [
         "S5",
         23949522,
         "COOPERATIVA DE CR�DITO DE LIVRE ADMISS�O DA REGI�O DE CARMO DO PARANA�BA LTDA - SICOOB CREDICARPA"
        ],
        [
         "S5",
         25528753,
         "COOPERATIVA DE CR�DITO DE LIVRE ADMISS�O DA REGI�O DE DIVIN�POLIS LTDA - SICOOB CREDIVERDE"
        ],
        [
         "S5",
         71419600,
         "COOPERATIVA DE CR�DITO DE LIVRE ADMISS�O DA REGI�O DE FRUTAL LTDA.   SICOOB FRUTAL"
        ],
        [
         "S5",
         1699652,
         "COOPERATIVA DE CR�DITO DE LIVRE ADMISS�O DA REGI�O DE GUAXUP� LTDA. - SICOOB ACICREDI"
        ],
        [
         "S5",
         64237530,
         "COOPERATIVA DE CR�DITO DE LIVRE ADMISS�O DA REGI�O DE ITA�NA LTDA. - SICOOB CREDIUNA"
        ],
        [
         "S5",
         3412878,
         "COOPERATIVA DE CR�DITO DE LIVRE ADMISS�O DA REGI�O DE ITURAMA LTDA. - SICOOB CREDIRAMA"
        ],
        [
         "S5",
         1657678,
         "COOPERATIVA DE CR�DITO DE LIVRE ADMISS�O DA REGI�O DE S�O SEBASTI�O DO PARA�SO LTDA. - SICOOB PARA�SOCRED"
        ],
        [
         "S5",
         42880617,
         "COOPERATIVA DE CR�DITO DE LIVRE ADMISS�O DA REGI�O DE TIROS E MATUTINA LTDA - SICOOB CREDITIROS"
        ],
        [
         "S5",
         18966739,
         "COOPERATIVA DE CR�DITO DE LIVRE ADMISS�O DA REGI�O DE TR�S PONTAS LTDA. - SICOOB COPERSUL"
        ],
        [
         "S5",
         7026923,
         "COOPERATIVA DE CR�DITO DE LIVRE ADMISS�O DA REGI�O DE UMUARAMA - SICOOB ARENITO"
        ],
        [
         "S5",
         3645752,
         "COOPERATIVA DE CR�DITO DE LIVRE ADMISS�O DA REGI�O DO ALTO PARANA�BA LTDA - SICOOB CREDISG"
        ],
        [
         "S5",
         26178111,
         "COOPERATIVA DE CR�DITO DE LIVRE ADMISS�O DA REGI�O DO ALTO S�O FRANCISCO LTDA. � SICOOB CREDIPRATA"
        ],
        [
         "S5",
         2232383,
         "COOPERATIVA DE CR�DITO DE LIVRE ADMISS�O DA REGI�O DO CIRCUITO CAMPOS DAS VERTENTES LTDA - SICOOB COPERMEC"
        ],
        [
         "S5",
         5158093,
         "COOPERATIVA DE CR�DITO DE LIVRE ADMISS�O DA REGI�O LESTE DA BACIA DO RIO DOCE LTDA   SICOOB CREDILESTE"
        ],
        [
         "S5",
         7599206,
         "COOPERATIVA DE CR�DITO DE LIVRE ADMISS�O DA REGI�O METROPOLITANA DE GOI�NIA LTDA. - SECOVICRED"
        ],
        [
         "S5",
         42887133,
         "COOPERATIVA DE CREDITO DE LIVRE ADMISS�O DA REGI�O SUDESTE DE MINAS GERAIS LTDA. - SICOOB CREDISUCESSO"
        ],
        [
         "S5",
         5247312,
         "COOPERATIVA DE CREDITO DE LIVRE ADMISSAO DA REGIAO SUL DE MATO GROSSO - SICOOB SUL"
        ],
        [
         "S5",
         2804469,
         "COOPERATIVA DE CR�DITO DE LIVRE ADMISS�O DA SERRA GERAL DE MINAS LTDA. - SICOOB CREDIGERAIS"
        ],
        [
         "S5",
         1060307,
         "COOPERATIVA DE CR�DITO DE LIVRE ADMISS�O DA UNI�O DOS VALES DO PIRANGA E MATIP� LTDA.   SICOOB UNI�O"
        ],
        [
         "S5",
         41697103,
         "COOPERATIVA DE CR�DITO DE LIVRE ADMISS�O DA ZONA DA MATA DE MINAS LTDA - SICOOB CREDILIVRE"
        ],
        [
         "S5",
         2335109,
         "COOPERATIVA DE CR�DITO DE LIVRE ADMISS�O DA ZONA DA MATA LTDA   SICOOB COOPEMATA"
        ],
        [
         "S5",
         2935307,
         "COOPERATIVA DE CR�DITO DE LIVRE ADMISS�O DAS MICRO-REGI�ES DE GOI�NIA E AN�POLIS LTDA"
        ],
        [
         "S5",
         3047549,
         "COOPERATIVA DE CR�DITO DE LIVRE ADMISS�O DAS REGI�ES SUDOESTE, SUL E OESTE DE GOI�S"
        ],
        [
         "S5",
         1739375,
         "COOPERATIVA DE CR�DITO DE LIVRE ADMISS�O DE  LAGOA DA PRATA E REGI�O LTDA.   SICOOB LAGOACRED GERAIS"
        ],
        [
         "S5",
         33615055,
         "COOPERATIVA DE CR�DITO DE LIVRE ADMISS�O DE AN�POLIS E REGI�O LTDA"
        ],
        [
         "S5",
         71378426,
         "COOPERATIVA DE CR�DITO DE LIVRE ADMISS�O DE ARAX� LTDA - SICOOB COOCREZ"
        ],
        [
         "S5",
         71230338,
         "COOPERATIVA DE CR�DITO DE LIVRE ADMISS�O DE ARCOS LTDA. - SICOOB ARCOMCREDI"
        ],
        [
         "S5",
         3222753,
         "COOPERATIVA DE CR�DITO DE LIVRE ADMISS�O DE ARIQUEMES LTDA. - CREDISIS CREDIARI"
        ],
        [
         "S5",
         80959612,
         "COOPERATIVA DE CR�DITO DE LIVRE ADMISS�O DE ASSOCIADOS ALTO VALE DO ITAJA� - SICOOB ALTO VALE"
        ],
        [
         "S5",
         78858107,
         "COOPERATIVA DE CR�DITO DE LIVRE ADMISS�O DE ASSOCIADOS AURIVERDE   SICOOB CREDIAL/SC"
        ],
        [
         "S5",
         78862083,
         "COOPERATIVA DE CR�DITO DE LIVRE ADMISS�O DE ASSOCIADOS CAMPOS NOVOS - SICOOB CAMPOS NOVOS"
        ],
        [
         "S5",
         88530142,
         "COOPERATIVA DE CR�DITO DE LIVRE ADMISS�O DE ASSOCIADOS DA FRONTEIRA SUL - SICREDI FRONTEIRA SUL RS"
        ],
        [
         "S5",
         87784088,
         "COOPERATIVA DE CR�DITO DE LIVRE ADMISS�O DE ASSOCIADOS DA GRANDE GET�LIO VARGAS DO RIO GRANDE DO SUL - SICREDI ESTA��O RS"
        ],
        [
         "S5",
         87789178,
         "COOPERATIVA DE CR�DITO DE LIVRE ADMISS�O DE ASSOCIADOS DA REGI�O DE PALMEIRA DAS MISS�ES - SICREDI GRANDE PALMEIRA/RS"
        ],
        [
         "S5",
         1042487,
         "COOPERATIVA DE CR�DITO DE LIVRE ADMISS�O DE ASSOCIADOS DAS REGI�ES NORTE E NORDESTE DO PAR� - SICOOB UNIDAS"
        ],
        [
         "S5",
         86791837,
         "COOPERATIVA DE CR�DITO DE LIVRE ADMISS�O DE ASSOCIADOS DE CA�ADOR   SICOOB CA�ADOR SC"
        ],
        [
         "S5",
         3042597,
         "COOPERATIVA DE CR�DITO DE LIVRE ADMISS�O DE ASSOCIADOS DE CAMPO GRANDE E REGI�O - SICREDI CAMPO GRANDE MS"
        ],
        [
         "S5",
         2254376,
         "COOPERATIVA DE CR�DITO DE LIVRE ADMISS�O DE ASSOCIADOS DE DORES DO INDAI� LTDA - COOPCREDI"
        ],
        [
         "S5",
         10143743,
         "COOPERATIVA DE CR�DITO DE LIVRE ADMISS�O DE ASSOCIADOS DE GUARAMIRIM - CREVISC"
        ],
        [
         "S5",
         12384953,
         "COOPERATIVA DE CR�DITO DE LIVRE ADMISS�O DE ASSOCIADOS DE JARAGU� DO SUL E REGI�O - SICOOB CEJASCRED"
        ],
        [
         "S5",
         1566038,
         "COOPERATIVA DE CR�DITO DE LIVRE ADMISS�O DE ASSOCIADOS DE MANAUS - SICOOB UNIAM"
        ],
        [
         "S5",
         1664968,
         "COOPERATIVA DE CR�DITO DE LIVRE ADMISS�O DE ASSOCIADOS DE PORTO VELHO E REGI�O NORTE DE ROND�NIA LTDA."
        ],
        [
         "S5",
         78840071,
         "COOPERATIVA DE CR�DITO DE LIVRE ADMISS�O DE ASSOCIADOS DO ALTO URUGUAI CATARINENSE - SICOOB - CREDIAUC/SC"
        ],
        [
         "S5",
         74114042,
         "COOPERATIVA DE CR�DITO DE LIVRE ADMISS�O DE ASSOCIADOS DO LESTE DE SANTA CATARINA E DO PARAN� LTDA - UNICRED UNI�O"
        ],
        [
         "S5",
         1205736,
         "COOPERATIVA DE CR�DITO DE LIVRE ADMISS�O DE ASSOCIADOS DO M�DIO SUL BAIANO LTDA. - SICOOB COSTA DO DESCOBRIMENTO"
        ],
        [
         "S5",
         80959638,
         "COOPERATIVA DE CR�DITO DE LIVRE ADMISS�O DE ASSOCIADOS DO MEIO OESTE CATARINENSE - SICOOB CREDIMOC SC"
        ],
        [
         "S5",
         21866694,
         "COOPERATIVA DE CR�DITO DE LIVRE ADMISS�O DE ASSOCIADOS DO NORTE DE MINAS LTDA - SICOOB CREDINOR"
        ],
        [
         "S5",
         2843443,
         "COOPERATIVA DE CR�DITO DE LIVRE ADMISS�O DE ASSOCIADOS DO NORTE E NORDESTE DE SANTA CATARINA - SICREDI NORTE SC"
        ],
        [
         "S5",
         1389651,
         "COOPERATIVA DE CR�DITO DE LIVRE ADMISS�O DE ASSOCIADOS DO PLANALTO CATARINENSE SICOOB CREDIPLANALTO SC/RS"
        ],
        [
         "S5",
         1692448,
         "COOPERATIVA DE CR�DITO DE LIVRE ADMISS�O DE ASSOCIADOS DO PLANALTO SERRANO - SICOOB CREDISERRA SC"
        ],
        [
         "S5",
         2057584,
         "COOPERATIVA DE CR�DITO DE LIVRE ADMISS�O DE ASSOCIADOS DO SERT�O BAIANO LTDA   SICOOB SERT�O"
        ],
        [
         "S5",
         2282165,
         "COOPERATIVA DE CR�DITO DE LIVRE ADMISS�O DE ASSOCIADOS DO SUDOESTE BAIANO LTDA - SICOOB CREDICONQUISTA"
        ],
        [
         "S5",
         78834975,
         "COOPERATIVA DE CR�DITO DE LIVRE ADMISS�O DE ASSOCIADOS DO VALE DO CANOINHAS - SICOOB CREDICANOINHAS/SC"
        ],
        [
         "S5",
         81016131,
         "COOPERATIVA DE CR�DITO DE LIVRE ADMISS�O DE ASSOCIADOS DO VALE DO VINHO - SICOOB VIDEIRA/SC"
        ],
        [
         "S5",
         81014060,
         "COOPERATIVA DE CREDITO DE LIVRE ADMISS�O DE ASSOCIADOS ITAIPU SICOOB CREDITAIPU"
        ],
        [
         "S5",
         78483310,
         "COOPERATIVA DE CR�DITO DE LIVRE ADMISS�O DE ASSOCIADOS ITAPIRANGA - SICOOB CREDITAPIRANGA SC/RS"
        ],
        [
         "S5",
         85291086,
         "COOPERATIVA DE CR�DITO DE LIVRE ADMISS�O DE ASSOCIADOS LITOR�NEA"
        ],
        [
         "S5",
         2641969,
         "COOPERATIVA DE CR�DITO DE LIVRE ADMISS�O DE ASSOCIADOS NOVA TRENTO   SICOOB TRENTOCREDI SC"
        ],
        [
         "S5",
         78825023,
         "COOPERATIVA DE CR�DITO DE LIVRE ADMISS�O DE ASSOCIADOS OESTE CATARINENSE"
        ],
        [
         "S5",
         82133182,
         "COOPERATIVA DE CR�DITO DE LIVRE ADMISS�O DE ASSOCIADOS P�ROLA DO VALE - SICOOB CREDIP�ROLA"
        ],
        [
         "S5",
         90729369,
         "COOPERATIVA DE CR�DITO DE LIVRE ADMISS�O DE ASSOCIADOS REGI�O DAS CULTURAS - SICREDI DAS CULTURAS RS"
        ],
        [
         "S5",
         694389,
         "COOPERATIVA DE CR�DITO DE LIVRE ADMISS�O DE ASSOCIADOS S�O JOS� DO CERRITO - SICOOB CREDICARU SC"
        ],
        [
         "S5",
         81607046,
         "COOPERATIVA DE CR�DITO DE LIVRE ADMISS�O DE ASSOCIADOS S�O MIGUEL DO OESTE - SICOOB S�O MIGUEL SC"
        ],
        [
         "S5",
         11565109,
         "COOPERATIVA DE CR�DITO DE LIVRE ADMISS�O DE ASSOCIADOS SICOOB ECOCREDI"
        ],
        [
         "S5",
         81367880,
         "COOPERATIVA DE CR�DITO DE LIVRE ADMISS�O DE ASSOCIADOS SUL CATARINENSE - SICOOB CREDISULCA SC"
        ],
        [
         "S5",
         2447120,
         "COOPERATIVA DE CR�DITO DE LIVRE ADMISS�O DE ASSOCIADOS TEIXEIRA DE FREITAS LTDA. - SICOOB EXTREMO SUL"
        ],
        [
         "S5",
         2587492,
         "COOPERATIVA DE CR�DITO DE LIVRE ADMISS�O DE ASSOCIADOS URUBICI - SICOOB-CREDIARAUC�RIA/SC"
        ],
        [
         "S5",
         2090126,
         "COOPERATIVA DE CR�DITO DE LIVRE ADMISS�O DE ASSOCIADOS VALE DO CHAPECOZINHO - SICOOB VALCREDI SUL"
        ],
        [
         "S5",
         78865995,
         "COOPERATIVA DE CR�DITO DE LIVRE ADMISS�O DE ASSOCIADOS VALE DO RIO DO PEIXE - SICOOB CREDIRIO SC"
        ],
        [
         "S5",
         66259110,
         "COOPERATIVA DE CR�DITO DE LIVRE ADMISS�O DE BAMBU� LTDA. - SICOOB CREDIBAM"
        ],
        [
         "S5",
         869687,
         "COOPERATIVA DE CR�DITO DE LIVRE ADMISS�O DE BOA ESPERAN�A LTDA. - SICOOB BELCREDI"
        ],
        [
         "S5",
         2137018,
         "COOPERATIVA DE CR�DITO DE LIVRE ADMISS�O DE BOA VISTA LTDA."
        ],
        [
         "S5",
         21670187,
         "COOPERATIVA DE CR�DITO DE LIVRE ADMISS�O DE BOM DESPACHO LTDA - SICOOB CREDIBOM"
        ],
        [
         "S5",
         1609345,
         "COOPERATIVA DE CR�DITO DE LIVRE ADMISS�O DE CAMPINA VERDE LTDA. - SICOOB CREDICAMPINA"
        ],
        [
         "S5",
         429890,
         "COOPERATIVA DE CR�DITO DE LIVRE ADMISS�O DE CAMPOS ALTOS LTDA - SICOOB CREDIAGRO"
        ],
        [
         "S5",
         71146450,
         "COOPERATIVA DE CR�DITO DE LIVRE ADMISS�O DE CAMPOS GERAIS E CAMPO DO MEIO LTDA - SICOOB CREDCAM"
        ],
        [
         "S5",
         66788142,
         "COOPERATIVA DE CREDITO DE LIVRE ADMISS�O DE C�NDIDO MOTA E REGI�O."
        ],
        [
         "S5",
         804046,
         "COOPERATIVA DE CR�DITO DE LIVRE ADMISS�O DE CAPIT�LIO LTDA   SICOOB CREDICAPI"
        ],
        [
         "S5",
         65239402,
         "COOPERATIVA DE CR�DITO DE LIVRE ADMISS�O DE CARMO DO CAJURU LTDA. - SICOOB CARMOCREDI"
        ],
        [
         "S5",
         25743311,
         "COOPERATIVA DE CR�DITO DE LIVRE ADMISS�O DE CARMO DO RIO CLARO LTDA - SICOOB CREDICARMO"
        ],
        [
         "S5",
         9576849,
         "COOPERATIVA DE CR�DITO DE LIVRE ADMISS�O DE CERES E RIALMA LTDA"
        ],
        [
         "S5",
         38588174,
         "COOPERATIVA DE CR�DITO DE LIVRE ADMISS�O DE CONSELHEIRO PENA E REGI�O LTDA. - SICOOB CREDICOPE"
        ],
        [
         "S5",
         21682737,
         "COOPERATIVA DE CR�DITO DE LIVRE ADMISS�O DE CURVELO LTDA. - SICOOB CREDICENTRO"
        ],
        [
         "S5",
         71069587,
         "COOPERATIVA DE CR�DITO DE LIVRE ADMISS�O DE DORES DO INDAI� LTDA. - SICOOB CREDINDAI�"
        ],
        [
         "S5",
         68512748,
         "COOPERATIVA DE CR�DITO DE LIVRE ADMISS�O DE ESMERALDAS E REGI�O LTDA - SICOOB CREDIESMERALDAS"
        ],
        [
         "S5",
         41931445,
         "COOPERATIVA DE CREDITO DE LIVRE ADMISSAO DE FORMIGA LTDA - SICOOB CREDIFOR"
        ],
        [
         "S5",
         1720488,
         "COOPERATIVA DE CR�DITO DE LIVRE ADMISS�O DE GOI�NIA E MICRORREGI�ES LTDA."
        ],
        [
         "S5",
         4388688,
         "COOPERATIVA DE CR�DITO DE LIVRE ADMISS�O DE GOI�NIA E REGI�O LTDA"
        ],
        [
         "S5",
         37255049,
         "COOPERATIVA DE CR�DITO DE LIVRE ADMISS�O DE GOI�NIA, SENADOR CANEDO E REGI�ES LTDA. - CREDIGOI�S"
        ],
        [
         "S5",
         26359745,
         "COOPERATIVA DE CR�DITO DE LIVRE ADMISS�O DE IGUATAMA LTDA. - SICOOB CREDITAMA"
        ],
        [
         "S5",
         4079285,
         "COOPERATIVA DE CR�DITO DE LIVRE ADMISS�O DE ITAJUB� LTDA - SICOOB SUL DE MINAS"
        ],
        [
         "S5",
         66463407,
         "COOPERATIVA DE CR�DITO DE LIVRE ADMISS�O DE ITA�NA E REGI�O LTDA - SICOOB CENTRO-OESTE"
        ],
        [
         "S5",
         10143499,
         "COOPERATIVA DE CR�DITO DE LIVRE ADMISS�O DE JATA� E REGI�O LTDA."
        ],
        [
         "S5",
         25536764,
         "COOPERATIVA DE CR�DITO DE LIVRE ADMISS�O DE LUZ LTDA.   SICOOB CREDILUZ"
        ],
        [
         "S5",
         5580585,
         "COOPERATIVA DE CR�DITO DE LIVRE ADMISS�O DE MANAUS   SICOOB MANAUS"
        ],
        [
         "S5",
         7097064,
         "COOPERATIVA DE CR�DITO DE LIVRE ADMISS�O DE MARECHAL C�NDIDO RONDON E REGI�O - SICOOB MARECHAL"
        ],
        [
         "S5",
         64480833,
         "COOPERATIVA DE CREDITO DE LIVRE ADMISS�O DE MARTINHO CAMPOS LTDA - SICOOB CREDIMAC"
        ],
        [
         "S5",
         1601342,
         "COOPERATIVA DE CR�DITO DE LIVRE ADMISS�O DE MICRO REGI�ES DE GOI�NIA E ADJACENTES LTDA."
        ],
        [
         "S5",
         71392047,
         "COOPERATIVA DE CR�DITO DE LIVRE ADMISS�O DE MONTE CARMELO E REGI�O LTDA - SICOOB MONTECREDI"
        ],
        [
         "S5",
         24431221,
         "COOPERATIVA DE CR�DITO DE LIVRE ADMISS�O DE PACAJ� E REGI�O - SICOOB TRANSAMAZ�NICA"
        ],
        [
         "S5",
         37631058,
         "COOPERATIVA DE CR�DITO DE LIVRE ADMISS�O DE PALMEIRAS E REGI�O LTDA."
        ],
        [
         "S5",
         1009908,
         "COOPERATIVA DE CREDITO DE LIVRE ADMISSAO DE PARA DE MINAS LTDA - SICOOB ASCICRED"
        ],
        [
         "S5",
         26960328,
         "COOPERATIVA DE CR�DITO DE LIVRE ADMISS�O DE PARA�SO DO TOCANTINS E REGI�O LTDA"
        ],
        [
         "S5",
         22749014,
         "COOPERATIVA DE CR�DITO DE LIVRE ADMISS�O DE PARAOPEBA LTDA. - SICOOB CREDIPARAOPEBA"
        ],
        [
         "S5",
         65229254,
         "COOPERATIVA DE CR�DITO DE LIVRE ADMISS�O DE PATROC�NIO E REGI�O LTDA. - SICOOB COOPACREDI"
        ],
        [
         "S5",
         71441406,
         "COOPERATIVA DE CR�DITO DE LIVRE ADMISS�O DE PEDRO LEOPOLDO LTDA - SICOOB CREDIPEL"
        ],
        [
         "S5",
         42934794,
         "COOPERATIVA DE CR�DITO DE LIVRE ADMISS�O DE PIMENTA LTDA. - SICOOB CREDIPIMENTA"
        ],
        [
         "S5",
         5222094,
         "COOPERATIVA DE CR�DITO DE LIVRE ADMISS�O DE PIRACANJUBA LTDA"
        ],
        [
         "S5",
         4181542,
         "COOPERATIVA DE CREDITO DE LIVRE ADMISSAO DE PITANGUI E REGIAO LTDA. - SICOOB CREDPIT"
        ],
        [
         "S5",
         66262643,
         "COOPERATIVA DE CR�DITO DE LIVRE ADMISS�O DE POMP�U LTDA. - SICOOB CREDIP�U"
        ],
        [
         "S5",
         1608685,
         "COOPERATIVA DE CR�DITO DE LIVRE ADMISS�O DE RIO BRANCO LTDA"
        ],
        [
         "S5",
         9033698,
         "COOPERATIVA DE CR�DITO DE LIVRE ADMISS�O DE RIO VERDE E REGI�O LTDA."
        ],
        [
         "S5",
         73422792,
         "COOPERATIVA DE CREDITO DE LIVRE ADMISSAO DE RUBIATABA E REGIAO LTDA"
        ],
        [
         "S5",
         71154256,
         "COOPERATIVA DE CR�DITO DE LIVRE ADMISS�O DE SACRAMENTO LTDA. - SICOOB SACRAMENTO"
        ],
        [
         "S5",
         6910457,
         "COOPERATIVA DE CR�DITO DE LIVRE ADMISS�O DE SANTA CRUZ DAS PALMEIRAS E REGI�O"
        ],
        [
         "S5",
         41707258,
         "COOPERATIVA DE CR�DITO DE LIVRE ADMISS�O DE SANTO ANT�NIO DO MONTE LTDA.   SICOOB CREDIMONTE"
        ],
        [
         "S5",
         1374196,
         "COOPERATIVA DE CR�DITO DE LIVRE ADMISS�O DE S�O FRANCISCO DE SALES LTDA.- SICOOB CREDICOOPERTRIL"
        ],
        [
         "S5",
         41683228,
         "COOPERATIVA DE CREDITO DE LIVRE ADMISS�O DE SAO GON�ALO DO PARA LTDA - SICOOB CREDISAOGON�ALO"
        ],
        [
         "S5",
         66402207,
         "COOPERATIVA DE CR�DITO DE LIVRE ADMISS�O DE S�O ROQUE DE MINAS LTDA.   SICOOB SAROMCREDI"
        ],
        [
         "S5",
         22753982,
         "COOPERATIVA DE CR�DITO DE LIVRE ADMISS�O DE SETE LAGOAS LTDA - SICOOB CREDISETE"
        ],
        [
         "S5",
         86564051,
         "COOPERATIVA DE CR�DITO DE LIVRE ADMISS�O DE UNA� E NOROESTE DE MINAS LTDA. - SICOOB NOROESTE DE MINAS"
        ],
        [
         "S5",
         803287,
         "COOPERATIVA DE CR�DITO DE LIVRE ADMISS�O DE VAZANTE LTDA. - SICOOB CREDIVAZ"
        ],
        [
         "S5",
         71243034,
         "COOPERATIVA DE CREDITO DE LIVRE ADMISSAO DO ALTO E MEDIO JEQUITINHONHA LTDA - SICOOB CREDIJEQUITINHONHA"
        ],
        [
         "S5",
         1727929,
         "COOPERATIVA DE CR�DITO DE LIVRE ADMISS�O DO ALTO PARANA�BA, NOROESTE E OESTE DE MINAS LTDA - UNICRED INTEGRA��O DE MINAS"
        ],
        [
         "S5",
         41805003,
         "COOPERATIVA DE CR�DITO DE LIVRE ADMISS�O DO ALTO S�O FRANCISCO LTDA."
        ],
        [
         "S5",
         16779741,
         "COOPERATIVA DE CR�DITO DE LIVRE ADMISS�O DO ALTO VALE DO ITAJA� - VIACREDI ALTO VALE"
        ],
        [
         "S5",
         3730508,
         "COOPERATIVA DE CR�DITO DE LIVRE ADMISS�O DO CENTRO GOIANO LTDA."
        ],
        [
         "S5",
         3612764,
         "COOPERATIVA DE CREDITO DE LIVRE ADMISS�O DO CENTRO LESTE DE ROND�NIA LTDA - CREDISIS LESTE"
        ],
        [
         "S5",
         9403026,
         "COOPERATIVA DE CR�DITO DE LIVRE ADMISS�O DO CENTRO LESTE MARANHENSE   SICOOB CENTRO LESTE MARANHENSE"
        ],
        [
         "S5",
         2173447,
         "COOPERATIVA DE CREDITO DE LIVRE ADMISSAO DO CENTRO NORDESTE MINEIRO LTDA - SICOOB CREDICENM"
        ],
        [
         "S5",
         2282709,
         "COOPERATIVA DE CR�DITO DE LIVRE ADMISS�O DO CENTRO NORTE GOIANO"
        ],
        [
         "S5",
         26072728,
         "COOPERATIVA DE CR�DITO DE LIVRE ADMISS�O DO CENTRO OESTE MINEIRO LTDA.   SICOOB UNI�O CENTRO OESTE"
        ],
        [
         "S5",
         2015588,
         "COOPERATIVA DE CR�DITO DE LIVRE ADMISS�O DO CENTRO SUL RONDONIENSE - SICOOB CREDIP."
        ],
        [
         "S5",
         71238232,
         "COOPERATIVA DE CR�DITO DE LIVRE ADMISS�O DO CENTRO-OESTE DE MINAS LTDA - SICOOB CREDICARMOMINAS"
        ],
        [
         "S5",
         33579731,
         "COOPERATIVA DE CR�DITO DE LIVRE ADMISS�O DO CENTRO-SUL GOIANO LTDA"
        ],
        [
         "S5",
         3941182,
         "COOPERATIVA DE CR�DITO DE LIVRE ADMISS�O DO CIRCUITO DAS MALHAS LTDA. - SICOOB CREDMALHAS"
        ],
        [
         "S5",
         13517050,
         "COOPERATIVA DE CR�DITO DE LIVRE ADMISS�O DO ESTADO DO AMAP� - SICOOB AMAP�"
        ],
        [
         "S5",
         83836114,
         "COOPERATIVA DE CR�DITO DE LIVRE ADMISS�O DO ESTADO DO PAR� - SICOOB COOESA"
        ],
        [
         "S5",
         2931668,
         "COOPERATIVA DE CR�DITO DE LIVRE ADMISS�O DO ESTADO DO RIO DE JANEIRO - SICOOB FLUMINENSE"
        ],
        [
         "S5",
         25395435,
         "COOPERATIVA DE CR�DITO DE LIVRE ADMISS�O DO LESTE DE MINAS LTDA. - SICOOB CREDICAF"
        ],
        [
         "S5",
         1110032,
         "COOPERATIVA DE CR�DITO DE LIVRE ADMISS�O DO LESTE MINEIRO LTDA.- UNICRED LESTE MINEIRO"
        ],
        [
         "S5",
         5241619,
         "COOPERATIVA DE CR�DITO DE LIVRE ADMISS�O DO M�DIO LESTE DE MATO GROSSO - SICOOB PRIMAVERA MT"
        ],
        [
         "S5",
         1644264,
         "COOPERATIVA DE CR�DITO DE LIVRE ADMISS�O DO M�DIO PIRACICABA E DO CIRCUITO DO OURO LTDA. - SICOOB CREDIMEPI"
        ],
        [
         "S5",
         64276058,
         "COOPERATIVA DE CR�DITO DE LIVRE ADMISS�O DO NORDESTE DE MINAS GERAIS E SUL DA BAHIA LTDA - SICOOB CREDINORTE"
        ],
        [
         "S5",
         41753500,
         "COOPERATIVA DE CREDITO DE LIVRE ADMISS�O DO NORDESTE DE MINAS GERAIS LTDA - SICOOB CARLOS CHAGAS"
        ],
        [
         "S5",
         73398646,
         "COOPERATIVA DE CR�DITO DE LIVRE ADMISS�O DO NORDESTE E CENTRO SUL DA BAHIA LTDA.   SICOOB COOPERE"
        ],
        [
         "S5",
         71154876,
         "COOPERATIVA DE CR�DITO DE LIVRE ADMISS�O DO NOROESTE DE MINAS GERAIS LTDA.   SICOOB CREDIPINHO"
        ],
        [
         "S5",
         698609,
         "COOPERATIVA DE CR�DITO DE LIVRE ADMISS�O DO NOROESTE DE MINAS LTDA. SICOOB CREDIPARNOR"
        ],
        [
         "S5",
         23623636,
         "COOPERATIVA DE CR�DITO DE LIVRE ADMISS�O DO NORTE DE MATO GROSSO - SICOOB NORTE MT"
        ],
        [
         "S5",
         5582619,
         "COOPERATIVA DE CR�DITO DE LIVRE ADMISS�O DO NORTE DO PARAN� - SICOOB NORTE DO PARAN�"
        ],
        [
         "S5",
         9424988,
         "COOPERATIVA DE CR�DITO DE LIVRE ADMISS�O DO OESTE MARANHENSE - SICOOB OESTE MARANHENSE"
        ],
        [
         "S5",
         71297899,
         "COOPERATIVA DE CR�DITO DE LIVRE ADMISS�O DO OESTE MINEIRO LTDA. - SICOOB CREDICOPA"
        ],
        [
         "S5",
         3732359,
         "COOPERATIVA DE CR�DITO DE LIVRE ADMISS�O DO PAJE�, AGRESTE E RECIFE - SICOOB PERNAMBUCO"
        ],
        [
         "S5",
         26178533,
         "COOPERATIVA DE CR�DITO DE LIVRE ADMISS�O DO PONTAL DO TRIANGULO LTDA - SICOOB CREDIPONTAL"
        ],
        [
         "S5",
         1667352,
         "COOPERATIVA DE CR�DITO DE LIVRE ADMISS�O DO SERT�O DE MINAS GERAIS LTDA. - SICOOB SERT�O MINAS"
        ],
        [
         "S5",
         3632872,
         "COOPERATIVA DE CR�DITO DE LIVRE ADMISS�O DO SUDOESTE DA AMAZ�NIA LTDA. - SICOOB CREDISUL."
        ],
        [
         "S5",
         24795049,
         "COOPERATIVA DE CR�DITO DE LIVRE ADMISS�O DO SUDOESTE GOIANO"
        ],
        [
         "S5",
         3985375,
         "COOPERATIVA DE CR�DITO DE LIVRE ADMISS�O DO SUDOESTE RONDONIENSE LTDA. - CREDISIS ROLIMCREDI"
        ],
        [
         "S5",
         3427097,
         "COOPERATIVA DE CR�DITO DE LIVRE ADMISS�O DO SUL CATARINENSE � CECRISACRED"
        ],
        [
         "S5",
         1604998,
         "COOPERATIVA DE CREDITO DE LIVRE ADMISS�O DO SUL DE MINAS LTDA - SICOOB CREDIVASS"
        ],
        [
         "S5",
         24048910,
         "COOPERATIVA DE CR�DITO DE LIVRE ADMISS�O DO SUL E SUDOESTE DE MINAS GERAIS, BAIXA MOGIANA E REGI�O LTDA. - SICOOB CREDINTER"
        ],
        [
         "S5",
         68987,
         "COOPERATIVA DE CR�DITO DE LIVRE ADMISS�O DO TRI�NGULO MINEIRO E SUDESTE DE GOI�S LTDA. - SICOOB ARACREDI"
        ],
        [
         "S5",
         86829827,
         "COOPERATIVA DE CR�DITO DE LIVRE ADMISS�O DO VALE - SICOOB CREDIVALE/SC"
        ],
        [
         "S5",
         19869338,
         "COOPERATIVA DE CREDITO DE LIVRE ADMISSAO DO VALE DO A�O LTDA - SICOOB VALE DO A�O"
        ],
        [
         "S5",
         5244177,
         "COOPERATIVA DE CREDITO DE LIVRE ADMISSAO DO VALE DO ARAGUAIA - SICOOB ARAGUAIA"
        ],
        [
         "S5",
         24830879,
         "COOPERATIVA DE CR�DITO DE LIVRE ADMISS�O DO VALE DO ARAGUAIA LTDA."
        ],
        [
         "S5",
         25404542,
         "COOPERATIVA DE CREDITO DE LIVRE ADMISS�O DO VALE DO GORUTUBA LTDA - SICOOB CREDIVAG"
        ],
        [
         "S5",
         5203605,
         "COOPERATIVA DE CR�DITO DE LIVRE ADMISS�O DO VALE DO JAMARI - SICOOB VALE DO JAMARI"
        ],
        [
         "S5",
         2309070,
         "COOPERATIVA DE CR�DITO DE LIVRE ADMISS�O DO VALE DO MACHADO - CREDISIS JICRED"
        ],
        [
         "S5",
         24799033,
         "COOPERATIVA DE CR�DITO DE LIVRE ADMISS�O DO VALE DO PARANA�BA LTDA."
        ],
        [
         "S5",
         1637949,
         "COOPERATIVA DE CR�DITO DE LIVRE ADMISS�O DO VALE DO PARANAPANEMA"
        ],
        [
         "S5",
         25683475,
         "COOPERATIVA DE CR�DITO DE LIVRE ADMISS�O DO VALE DO RIO GRANDE LTDA. - SICOOB UBERABA"
        ],
        [
         "S5",
         968602,
         "COOPERATIVA DE CREDITO DE LIVRE ADMISS�O DO VALE DO S�O PATRICIO LTDA."
        ],
        [
         "S5",
         4544165,
         "COOPERATIVA DE CR�DITO DE LIVRE ADMISS�O DO VALE MADEIRA-MAMOR� - SICOOB PORTOCREDI"
        ],
        [
         "S5",
         7108146,
         "COOPERATIVA DE CR�DITO DE LIVRE ADMISS�O DO VALE RIO CRIX�S LTDA."
        ],
        [
         "S5",
         32430233,
         "COOPERATIVA DE CR�DITO DE LIVRE ADMISS�O LESTE CAPIXABA - SICOOB LESTE CAPIXABA"
        ],
        [
         "S5",
         7318874,
         "COOPERATIVA DE CR�DITO DE LIVRE ADMISS�O M�DIO OESTE - SICOOB M�DIO OESTE"
        ],
        [
         "S5",
         31815293,
         "COOPERATIVA DE CR�DITO DE LIVRE ADMISS�O NORTE DO ESP�RITO SANTO - SICOOB NORTE"
        ],
        [
         "S5",
         2876918,
         "COOPERATIVA DE CR�DITO DE LIVRE ADMISS�O NORTE SUL DA BAHIA LTDA.   SICOOB NORTE SUL"
        ],
        [
         "S5",
         1259518,
         "COOPERATIVA DE CR�DITO DE LIVRE ADMISS�O SICOOB UNIMAIS RIO CLARO LTDA - SICOOB UNIMAIS RIO CLARO"
        ],
        [
         "S5",
         32467086,
         "COOPERATIVA DE CR�DITO DE LIVRE ADMISS�O SUL DO ESP�RITO SANTO - SICOOB SUL"
        ],
        [
         "S5",
         32474884,
         "COOPERATIVA DE CR�DITO DE LIVRE ADMISS�O SUL-LITOR�NEA DO ESP�RITO SANTO"
        ],
        [
         "S5",
         815319,
         "COOPERATIVA DE CR�DITO DE LIVRE ADMISS�O SUL-SERRANA DO ESP�RITO SANTO"
        ],
        [
         "S5",
         4876393,
         "COOPERATIVA DE CR�DITO DE LIVRE ADMISS�O TR�S FRONTEIRAS - SICOOB TR�S FRONTEIRAS"
        ],
        [
         "S5",
         1703620,
         "COOPERATIVA DE CR�DITO DE LIVRE ADMISS�O UNI�O DO CENTRO OESTE DE MINAS LTDA"
        ],
        [
         "S5",
         8742188,
         "COOPERATIVA DE CR�DITO DE LIVRE ADMISS�O UNI�O E NEG�CIOS - SICOOB INTEGRA��O"
        ],
        [
         "S5",
         25387655,
         "COOPERATIVA DE CR�DITO DE LIVRE ADMISS�O VALE DO MUCURI LTDA. - SICOOB CREDIVALE"
        ],
        [
         "S5",
         28572261,
         "COOPERATIVA DE CREDITO DE MENDES LTDA"
        ],
        [
         "S5",
         41669227,
         "COOPERATIVA DE CR�DITO DE PRODUTORES RURAIS E DE LIVRE ADMISS�O DO TRI�NGULO LTDA    SICOOB CREDITRIL"
        ],
        [
         "S5",
         2245493,
         "COOPERATIVA DE CREDITO DE SALVADOR - SICREDI SALVADOR"
        ],
        [
         "S5",
         10548608,
         "COOPERATIVA DE CR�DITO DE SERVIDORES DA UESC - UESCOOP"
        ],
        [
         "S5",
         2674113,
         "COOPERATIVA DE CR�DITO DE SERVIDORES P�BLICOS COOPERPLAN LTDA. - SICOOB COOPERPLAN"
        ],
        [
         "S5",
         17361536,
         "COOPERATIVA DE CR�DITO DE SERVIDORES P�BLICOS E TRABALHADORES DA REDE DE ENSINO DA REGI�O E COLAR METROPOLITANO DO VALE DO A�O LTDA. - SICOOB COSMIPA"
        ],
        [
         "S5",
         25387671,
         "COOPERATIVA DE CR�DITO DO ALTO PARNA�BA E REGI�O LTDA."
        ],
        [
         "S5",
         9576038,
         "COOPERATIVA DE CR�DITO DO CENTRO OESTE DE GOIAS - SICREDI CENTRO OESTE GO"
        ],
        [
         "S5",
         1187961,
         "COOPERATIVA DE CR�DITO DO DISTRITO FEDERAL E ENTORNO LTDA. - SICOOB"
        ],
        [
         "S5",
         7122321,
         "COOPERATIVA DE CR�DITO DO IGUA�U INTEGRADO - SICOOB INTEGRADO"
        ],
        [
         "S5",
         5772229,
         "COOPERATIVA DE CR�DITO DO NOROESTE DO PARAN� - SICOOB NOROESTE DO PARAN�"
        ],
        [
         "S5",
         3461243,
         "COOPERATIVA DE CR�DITO DO NORTE CATARINENSE - ACREDICOOP"
        ],
        [
         "S5",
         81011686,
         "COOPERATIVA DE CR�DITO DO NORTE CATARINENSE E SUL PARANAENSE - SICOOB CREDINORTE"
        ],
        [
         "S5",
         25420696,
         "COOPERATIVA DE CR�DITO DO OESTE MINEIRO E REGI�O METROPOLITANA DE BELO HORIZONTE LTDA. - SICOOB CREDIOESTE"
        ],
        [
         "S5",
         3033469,
         "COOPERATIVA DE CREDITO DO PLANALTO SUL - SICOOB CREDISSERRANA"
        ],
        [
         "S5",
         952415,
         "COOPERATIVA DE CR�DITO DO SERVIDOR FEDERAL LTDA   SICOOB CREDFAZ SERVIDOR FEDERAL"
        ],
        [
         "S5",
         3320525,
         "COOPERATIVA DE CR�DITO DO TRI�NGULO MINEIRO E S�O FRANCISCO LTDA. - SICOOB ARACOOP"
        ],
        [
         "S5",
         2883398,
         "COOPERATIVA DE CR�DITO DO VALE DO ITAJA� E VALE DO ITAPOC� - SICOOB MULTICREDI"
        ],
        [
         "S5",
         4237413,
         "COOPERATIVA DE CR�DITO DO VALE DO S�O FRANCISCO - SICREDI VALE DO S�O FRANCISCO"
        ],
        [
         "S5",
         3422007,
         "COOPERATIVA DE CR�DITO DOS BANC�RIOS DE S�O PAULO E MUNIC�PIOS LIM�TROFES"
        ],
        [
         "S5",
         2295034,
         "COOPERATIVA DE CR�DITO DOS CORRETORES E DEMAIS T�CNICOS DE SEGUROS DO ESTADO DE SANTA CATARINA, E EMPRES�RIOS DE BLUMENAU - SICOOB CREDICOR-SC"
        ],
        [
         "S5",
         19495266,
         "COOPERATIVA DE CR�DITO DOS EMPREGADOS DA COMPANHIA INDUSTRIAL CATAGUASES E DA BAUMINAS LTDA. - COOPECIC"
        ],
        [
         "S5",
         62605290,
         "COOPERATIVA DE CR�DITO DOS EMPREGADOS DAS EMPRESAS DO GRUPPO M&G NO BRASIL"
        ],
        [
         "S5",
         43730498,
         "COOPERATIVA DE CR�DITO DOS EMPREGADOS DE ELEVADORES ATLAS"
        ],
        [
         "S5",
         57996878,
         "COOPERATIVA DE CR�DITO DOS EMPREGADOS DO GRUPO AKZO NOBEL BRASIL - COOP AKZONOBEL"
        ],
        [
         "S5",
         977212,
         "COOPERATIVA DE CR�DITO DOS EMPREGADOS DO GRUPO COPERSUCAR E CTC - UNICOPER"
        ],
        [
         "S5",
         64293582,
         "COOPERATIVA DE CR�DITO DOS EMPREGADOS DO GRUPO VALLOUREC NO BRASIL - COOVALL LTDA."
        ],
        [
         "S5",
         42153585,
         "COOPERATIVA DE CR�DITO DOS EMPREGADOS DO IRB-BRASIL RE LTDA."
        ],
        [
         "S5",
         2405189,
         "COOPERATIVA DE CR�DITO DOS EMPREGADOS DO SISTEMA FIESC - CREDIFIESC"
        ],
        [
         "S5",
         5888589,
         "COOPERATIVA DE CR�DITO DOS EMPRES�RIOS DA GRANDE CURITIBA E CAMPOS GERAIS - SICOOB SUL"
        ],
        [
         "S5",
         10319386,
         "COOPERATIVA DE CR�DITO DOS EMPRES�RIOS DA GRANDE DOURADOS - SICOOB DOURADOS"
        ],
        [
         "S5",
         4406371,
         "COOPERATIVA DE CR�DITO DOS EMPRES�RIOS DE GOI�NIA LTDA."
        ],
        [
         "S5",
         10808037,
         "COOPERATIVA DE CR�DITO DOS EMPRES�RIOS DE MANAUS   SICOOB CREDEMPRESAS AM"
        ],
        [
         "S5",
         10311218,
         "COOPERATIVA DE CR�DITO DOS EMPRES�RIOS EM TRANSPORTES RODOVI�RIOS DE FRANCISCO BELTR�O E REGI�O - RODOCR�DITO"
        ],
        [
         "S5",
         7469260,
         "COOPERATIVA DE CR�DITO DOS EMPRES�RIOS INDUSTRIAIS VINCULADOS � FIEMG LTDA - SICOOB CREDIFIEMG"
        ],
        [
         "S5",
         44746352,
         "COOPERATIVA DE CR�DITO DOS FORNECEDORES DE CANA DE BARRA BONITA E REGI�O"
        ],
        [
         "S5",
         53623781,
         "COOPERATIVA DE CR�DITO DOS FORNECEDORES DE CANA E AGROPECUARISTAS DA REGI�O OESTE PAULISTA - SICOOB COOPCRED"
        ],
        [
         "S5",
         53776852,
         "COOPERATIVA DE CREDITO DOS FORNECEDORES DE CANA E DEMAIS PRODUTORES RURAIS DO CENTRO DO ESTADO DE SAO PAULO - CREDICENTRO"
        ],
        [
         "S5",
         51010858,
         "COOPERATIVA DE CR�DITO DOS FUNCION�RIOS DA ABB - COOPERABB"
        ],
        [
         "S5",
         2208747,
         "COOPERATIVA DE CR�DITO DOS FUNCION�RIOS DAS  SECRETARIAS DA AGRICULTURA, MEIO AMBIENTE E DESENVOLVIMENTO AGR�COLA DO ESTADO DE S�O PAULO - COOPERCERES"
        ],
        [
         "S5",
         3657230,
         "COOPERATIVA DE CR�DITO DOS FUNCION�RIOS DO GRUPO PPG"
        ],
        [
         "S5",
         25363615,
         "COOPERATIVA DE CR�DITO DOS INTEGRANTES DO PODER JUDICI�RIO E DAS INSTITUI��ES JUR�DICAS DA UNI�O EM MINAS GERAIS LTDA.   SICOOB COOPJUS"
        ],
        [
         "S5",
         3519240,
         "COOPERATIVA DE CR�DITO DOS INTEGRANTES DO PODER JUDICI�RIO E DO MINIST�RIO P�BLICO DO ESTADO DE MINAS GERAIS LTDA. - SICOOB JUS-MP"
        ],
        [
         "S5",
         7836458,
         "COOPERATIVA DE CR�DITO DOS LOJISTAS DO DISTRITO FEDERAL - SICOOB CREDILOJISTA"
        ],
        [
         "S5",
         5040680,
         "COOPERATIVA DE CR�DITO DOS MAGISTRADOS DO ESTADO DO RIO DE JANEIRO LTDA. - MAGICREDI-RJ"
        ],
        [
         "S5",
         9552111,
         "COOPERATIVA DE CR�DITO DOS MAGISTRADOS, SERVIDORES DA JUSTI�A DO ESTADO DE GOI�S E EMPREGADOS DA CELG LTDA."
        ],
        [
         "S5",
         2833202,
         "COOPERATIVA DE CR�DITO DOS M�DICOS E DEMAIS PROFISSIONAIS DA SA�DE DE VIT�RIA DA CONQUISTA"
        ],
        [
         "S5",
         71418784,
         "COOPERATIVA DE CR�DITO DOS M�DICOS E DEMAIS PROFISSIONAIS DA SA�DE DO SUL DE MINAS LTDA. - UNICRED SUL DE MINAS"
        ],
        [
         "S5",
         73443863,
         "COOPERATIVA DE CR�DITO DOS M�DICOS E DEMAIS PROFISSIONAIS DA SA�DE, CONTABILISTAS, PROFESSORES E EMPRES�RIOS DE BLUMENAU E VALE DO ITAJA� LTDA ? UNICRED BLUMENAU"
        ],
        [
         "S5",
         3055269,
         "COOPERATIVA DE CR�DITO DOS M�DICOS E DEMAIS PROFISSIONAIS DA SA�DE, PEQUENOS EMPRES�RIOS, MICROEMPRES�RIOS E MICROEMPREENDEDORES - SICOOB UNIMAIS BANDEIRANTE"
        ],
        [
         "S5",
         8143326,
         "COOPERATIVA DE CR�DITO DOS M�DICOS E PROFISSIONAIS DE SA�DE DE S�O LU�S - SICREDI S�O LU�S"
        ],
        [
         "S5",
         26191078,
         "COOPERATIVA DE CR�DITO DOS M�DICOS, DEMAIS PROFISSIONAIS DE SA�DE E DOS EMPRES�RIOS DA REGI�O DO SUL DO MARANH�O - CREDI SUL DO MARANH�O"
        ],
        [
         "S5",
         74064502,
         "COOPERATIVA DE CR�DITO DOS M�DICOS, PROFISSIONAIS DA �REA DA SA�DE, PROFESSORES, CONTABILISTAS E EMPRES�RIOS DA GRANDE FLORIAN�POLIS LTDA. - UNICRED FLORIAN�POLIS"
        ],
        [
         "S5",
         3234384,
         "COOPERATIVA DE CR�DITO DOS M�DICOS, PROFISSIONAIS DA �REA DE SA�DE E EMPRES�RIOS DA REGI�O DOS CAMPOS GERAIS LTDA."
        ],
        [
         "S5",
         36900256,
         "COOPERATIVA DE CR�DITO DOS M�DICOS, PROFISSIONAIS DA SA�DE E EMPRES�RIOS DE MATO GROSSO"
        ],
        [
         "S5",
         5740092,
         "COOPERATIVA DE CR�DITO DOS METAL�RGICOS DO ABC - CREDABC"
        ],
        [
         "S5",
         6324872,
         "COOPERATIVA DE CR�DITO DOS PEQUENOS EMPRES�RIOS, MICROEMPRES�RIOS E MICROEMPREENDEDORES DO NORTE DE MINAS LTDA - SICOOB CREDINOSSO"
        ],
        [
         "S5",
         50848910,
         "COOPERATIVA DE CR�DITO DOS PLANTADORES DE CANA DA REGI�O DE LEN��IS PAULISTA"
        ],
        [
         "S5",
         2412022,
         "COOPERATIVA DE CR�DITO DOS PROFISSIONAIS DA �REA DA SA�DE DE FRANCISCO BELTR�O-PR E REGI�O, UNIPRIME FRANCISCO BELTR�O"
        ],
        [
         "S5",
         70937271,
         "COOPERATIVA DE CR�DITO DOS PROFISSIONAIS DA SA�DE DAS REGI�ES DO TRI�NGULO, CIRCUITO DAS �GUAS E CENTRO DE MINAS LTDA. - UNICRED MINEIRA"
        ],
        [
         "S5",
         1039011,
         "COOPERATIVA DE CR�DITO DOS PROFISSIONAIS DA SA�DE, CONTABILISTAS, EMPRES�RIOS E PROFESSORES DO OESTE E SERRA LTDA - UNICRED OESTE E SERRA"
        ],
        [
         "S5",
         2250781,
         "COOPERATIVA DE CR�DITO DOS PROFISSIONAIS DA SA�DE, DA EDUCA��O, PEQUENOS EMPRES�RIOS, MICROEMPRES�RIOS E MICROEMPREENDEDORES DO NORTE PAULISTA - SICOOB UNIMAIS NORTE PAULISTA"
        ],
        [
         "S5",
         71432926,
         "COOPERATIVA DE CR�DITO DOS PROFISSIONAIS DE SA�DE DO TRI�NGULO MINEIRO E SUL DE MINAS LTDA."
        ],
        [
         "S5",
         3358914,
         "COOPERATIVA DE CR�DITO DOS PROPRIET�RIOS DA IND�STRIA DE ROCHAS ORNAMENTAIS, CAL E CALC�RIOS DO ESTADO DO ESP�RITO SANTO - SICOOB CREDIROCHAS"
        ],
        [
         "S5",
         3102185,
         "COOPERATIVA DE CR�DITO DOS SERVIDORES DA UNI�O NO NORDESTE - SICREDI FEDERALCRED NE"
        ],
        [
         "S5",
         83347294,
         "COOPERATIVA DE CR�DITO DOS SERVIDORES DO MINIST�RIO DA AGRICULTURA, PECU�RIA E ABASTECIMENTO NA REGI�O METROPOLITANA DE BEL�M"
        ],
        [
         "S5",
         5728016,
         "COOPERATIVA DE CR�DITO DOS SERVIDORES DO MINIST�RIO DA SA�DE EM MACEI� - SICREDI SAUDECRED"
        ],
        [
         "S5",
         21797311,
         "COOPERATIVA DE CR�DITO DOS SERVIDORES DOS PODERES LEGISLATIVOS DO ESTADO DE MINAS GERAIS E DO SEU �RG�O AUXILIAR LTDA. - SICOOB COFAL"
        ],
        [
         "S5",
         20833976,
         "COOPERATIVA DE CR�DITO DOS SERVIDORES P�BLICOS MUNICIPAIS DE TIM�TEO LTDA. - COOPERTIM"
        ],
        [
         "S5",
         4321309,
         "COOPERATIVA DE CR�DITO DOS SERVIDORES P�BLICOS NO ESTADO DA BAHIA LTDA. � SICOOB CRED EXECUTIVO"
        ],
        [
         "S5",
         19535009,
         "COOPERATIVA DE CR�DITO DOS TRANSPORTADORES RODOVI�RIOS E DE LOG�STICA DO RIO GRANDE DO SUL - TRANSULCRED"
        ],
        [
         "S5",
         4484490,
         "COOPERATIVA DE CR�DITO E INVESTIMENTO DE LIVRE ADMISS�O DA ALTA NOROESTE DE S�O PAULO - SICREDI ALTA NOROESTE SP"
        ],
        [
         "S5",
         4463602,
         "COOPERATIVA DE CR�DITO E INVESTIMENTO DE LIVRE ADMISS�O DA REGI�O CENTRO OESTE PAULISTA - SICREDI CENTRO OESTE SP"
        ],
        [
         "S5",
         57647653,
         "COOPERATIVA DE CR�DITO E INVESTIMENTO DE LIVRE ADMISS�O DE ASSOCIADOS DA REGI�O DAS FLORES, DAS �GUAS E DOS VENTOS SP - SICREDI FOR�A DOS VENTOS SP"
        ],
        [
         "S5",
         7206072,
         "COOPERATIVA DE CR�DITO E INVESTIMENTO DE LIVRE ADMISS�O DO ALTO PARANAPANEMA - SICREDI CAPAL PR/SP"
        ],
        [
         "S5",
         78907607,
         "COOPERATIVA DE CR�DITO E INVESTIMENTO DE LIVRE ADMISS�O DO CENTRO SUL DO PARAN� - SICREDI CENTRO SUL PR/SC"
        ],
        [
         "S5",
         79063574,
         "COOPERATIVA DE CR�DITO E INVESTIMENTO DE LIVRE ADMISS�O DO NORTE DO PARAN� E SUL DE S�O PAULO - SICREDI NORTE SUL PR/SP"
        ],
        [
         "S5",
         81115149,
         "COOPERATIVA DE CR�DITO E INVESTIMENTO DE LIVRE ADMISS�O GRANDES LAGOS DO PARAN� E LITORAL PAULISTA - SICREDI GRANDES LAGOS PR/SP"
        ],
        [
         "S5",
         81192106,
         "COOPERATIVA DE CR�DITO E INVESTIMENTO DE LIVRE ADMISS�O NOSSA TERRA   SICREDI NOSSA TERRA PR/SP"
        ],
        [
         "S5",
         81206039,
         "COOPERATIVA DE CR�DITO E INVESTIMENTO DE LIVRE ADMISS�O RIO PARAN� - SICREDI RIO PARAN� PR/SP"
        ],
        [
         "S5",
         3065046,
         "COOPERATIVA DE CR�DITO E INVESTIMENTO DO NOROESTE DO ESTADO DE S�O PAULO - SICREDI NOROESTE SP"
        ],
        [
         "S5",
         72128440,
         "COOPERATIVA DE CREDITO E INVESTIMENTO DO RIO DE JANEIRO - SICREDI RIO"
        ],
        [
         "S5",
         4306351,
         "COOPERATIVA DE CR�DITO E INVESTIMENTO SICOOB INDEPEND�NCIA - SICOOB INDEPEND�NCIA"
        ],
        [
         "S5",
         77984870,
         "COOPERATIVA DE CR�DITO E INVESTIMENTO TERRA DOS PINHEIRAIS DO PARAN� E NOROESTE PAULISTA - SICREDI PLANALTO DAS �GUAS PR/SP"
        ],
        [
         "S5",
         81706616,
         "COOPERATIVA DE CR�DITO E INVESTIMENTOS DE LIVRE ADMISS�O DO VALE DO IVA� - SICREDI VALE DO IVA� PR"
        ],
        [
         "S5",
         7194313,
         "COOPERATIVA DE CR�DITO HORIZONTE - SICOOB HORIZONTE"
        ],
        [
         "S5",
         78825270,
         "COOPERATIVA DE CR�DITO MAXI ALFA DE LIVRE ADMISS�O DE ASSOCIADOS - SICOOB MAXICR�DITO"
        ],
        [
         "S5",
         4546162,
         "COOPERATIVA DE CR�DITO M�TUO DE SERVIDORES P�BLICOS DO ESTADO DE S�O PAULO - CREDIFISCO"
        ],
        [
         "S5",
         5861932,
         "COOPERATIVA DE CR�DITO M�TUO DOS ADVOGADOS DE SANTA CATARINA"
        ],
        [
         "S5",
         7070495,
         "COOPERATIVA DE CR�DITO M�TUO DOS COMERCIANTES DE VE�CULOS, PE�AS E ACESS�RIOS PARA VE�CULOS DE CURITIBA E REGI�O - SICREDI SINCOCRED PR"
        ],
        [
         "S5",
         8030602,
         "COOPERATIVA DE CR�DITO M�TUO DOS CORRETORES DE SEGUROS DO ESTADO DE S�O PAULO - SICOOB CREDICOR/SP"
        ],
        [
         "S5",
         4853988,
         "COOPERATIVA DE CR�DITO M�TUO DOS DENTISTAS E DEMAIS PROFISSIONAIS DA SA�DE DE S�O CARLOS - SICREDI S�O CARLOS SP"
        ],
        [
         "S5",
         4715685,
         "COOPERATIVA DE CR�DITO M�TUO DOS DESPACHANTES DE TR�NSITO DE SANTA CATARINA E RIO GRANDE DO SUL - SICOOB CREDITRAN"
        ],
        [
         "S5",
         7753938,
         "COOPERATIVA DE CR�DITO M�TUO DOS DISTRIBUIDORES DE BEBIDAS DO ESTADO DE S�O PAULO - SICOOB CREDIBESP"
        ],
        [
         "S5",
         46642294,
         "COOPERATIVA DE CR�DITO M�TUO DOS EMPREGADOS DA EMBRAER"
        ],
        [
         "S5",
         55319370,
         "COOPERATIVA DE CR�DITO M�TUO DOS EMPREGADOS DA FIA��O ALPINA - COOPERALPINA"
        ],
        [
         "S5",
         58290800,
         "COOPERATIVA DE CR�DITO M�TUO DOS EMPREGADOS DA MAXION - CREDMAXION"
        ],
        [
         "S5",
         2104058,
         "COOPERATIVA DE CR�DITO M�TUO DOS EMPREGADOS DA PILKINGTON BRASIL"
        ],
        [
         "S5",
         49091119,
         "COOPERATIVA DE CR�DITO M�TUO DOS EMPREGADOS DA SKF E COLIGADAS"
        ],
        [
         "S5",
         6369729,
         "COOPERATIVA DE CR�DITO M�TUO DOS EMPREGADOS DAS IND�STRIAS DO PAPEL, PAPEL�O E CORTI�A DE OTAC�LIO COSTA, LAGES E CORREA PINTO - PAPELCREDI"
        ],
        [
         "S5",
         20833992,
         "COOPERATIVA DE CR�DITO M�TUO DOS EMPREGADOS DO CENTRO UNIVERSIT�RIO NEWTON PAIVA LTDA. - CREDIPAIVA"
        ],
        [
         "S5",
         2093154,
         "COOPERATIVA DE CR�DITO M�TUO DOS EMPREGADOS DO MAGAZINE LUIZA, EMPRESAS CONTROLADAS E COLIGADAS - COOPLUIZA"
        ],
        [
         "S5",
         66555665,
         "COOPERATIVA DE CR�DITO M�TUO DOS EMPREGADOS E SERVIDORES DA DERSA, SECRETARIA ESTADUAL DE LOG�STICA E TRANSPORTES E �RG�OS SUBORDINADOS DO ESTADO DE S�O PAULO - COOPTRANSP"
        ],
        [
         "S5",
         5292849,
         "COOPERATIVA DE CR�DITO M�TUO DOS EMPREGADOS EM EMPRESAS ADMINISTRADORAS DE AEROPORTOS - AEROCRED"
        ],
        [
         "S5",
         3674133,
         "COOPERATIVA DE CR�DITO M�TUO DOS EMPREGADOS EM INSTITUI��ES DO SISTEMA FINANCEIRO NAS REGI�ES DE S�O PAULO E CAMPINAS (SP) - CREDISCOOP"
        ],
        [
         "S5",
         7814673,
         "COOPERATIVA DE CR�DITO M�TUO DOS EMPREGADOS NA CAIXA ECON�MICA FEDERAL NO ESTADO DE S�O PAULO - APCEFCREDI-SP"
        ],
        [
         "S5",
         4013172,
         "COOPERATIVA DE CR�DITO M�TUO DOS EMPRES�RIOS DE FRANCA E REGI�O SICOOB CRED-ACIF"
        ],
        [
         "S5",
         6078926,
         "COOPERATIVA DE CR�DITO M�TUO DOS ESCRIV�ES, NOT�RIOS E REGISTRADORES NO ESTADO DO PARAN� - SICREDI CREDENOREG PR."
        ],
        [
         "S5",
         5165103,
         "COOPERATIVA DE CR�DITO M�TUO DOS FUNCION�RIOS DA CAMDA-COCREALPA - CREDI-CAMDA"
        ],
        [
         "S5",
         45421856,
         "COOPERATIVA DE CR�DITO M�TUO DOS FUNCION�RIOS DA F�BRICA DE CIMENTO VOTORAN"
        ],
        [
         "S5",
         5747018,
         "COOPERATIVA DE CR�DITO M�TUO DOS FUNCION�RIOS DA FIEP, SESI, SENAI, IEL E COND EDIF�CIO AGOSTINHO VELLOSO DA SILVEIRA (CEAVS) - CREDFISP LTDA."
        ],
        [
         "S5",
         11356599,
         "COOPERATIVA DE CR�DITO M�TUO DOS FUNCION�RIOS DA PERPART E DO IPA - COOPEMATER"
        ],
        [
         "S5",
         6077760,
         "COOPERATIVA DE CR�DITO M�TUO DOS FUNCION�RIOS DA RICLAN"
        ],
        [
         "S5",
         53932869,
         "COOPERATIVA DE CR�DITO M�TUO DOS FUNCION�RIOS DAS EMPRESAS FERROVI�RIAS NO ESTADO DE S�O PAULO"
        ],
        [
         "S5",
         4414354,
         "COOPERATIVA DE CR�DITO M�TUO DOS FUNCION�RIOS DO GRUPO ABC - COOPER 7"
        ],
        [
         "S5",
         7651495,
         "COOPERATIVA DE CR�DITO M�TUO DOS FUNCION�RIOS P�BLICOS DO PODER JUDICI�RIO DA CAPITAL DO ESTADO DE S�O PAULO - JUDCRED"
        ],
        [
         "S5",
         7946216,
         "COOPERATIVA DE CR�DITO M�TUO DOS MICRO E PEQUENOS EMPRES�RIOS E MICROEMPREENDEDORES DO GRANDE ABC - SICOOB GRANDE ABC."
        ],
        [
         "S5",
         7669921,
         "COOPERATIVA DE CR�DITO M�TUO DOS MICROS E PEQUENOS EMPRES�RIOS E MICROEMPREENDEDORES DE S�O CARLOS - SICOOB CREDIACISC"
        ],
        [
         "S5",
         3620772,
         "COOPERATIVA DE CR�DITO M�TUO DOS POLICIAIS FEDERAIS E SERVIDORES DA UNI�O NO CEAR� - SICOOB CEAR�"
        ],
        [
         "S5",
         2083914,
         "COOPERATIVA DE CR�DITO M�TUO DOS POLICIAIS FEDERAIS E SERVIDORES DA UNI�O NO ESP�RITO SANTO - CREDFEDERAL"
        ],
        [
         "S5",
         7030145,
         "COOPERATIVA DE CR�DITO M�TUO DOS PRA�AS E OFICIAIS DA POL�CIA MILITAR DO ESTADO DE S�O PAULO - COOPERACS- SP"
        ],
        [
         "S5",
         4525997,
         "COOPERATIVA DE CR�DITO M�TUO DOS PROFESSORES E FUNCION�RIOS DA UNIVERSIDADE DE CAXIAS DO SUL - SICREDI COOPERUCS"
        ],
        [
         "S5",
         4791645,
         "COOPERATIVA DE CR�DITO M�TUO DOS SERVIDORES DA ASSEMBLEIA LEGISLATIVA DO ESTADO DE S�O PAULO - COOPERALESP"
        ],
        [
         "S5",
         4804353,
         "COOPERATIVA DE CR�DITO M�TUO DOS SERVIDORES DA SEGURAN�A P�BLICA DE S�O PAULO - CREDIAFAM"
        ],
        [
         "S5",
         53800488,
         "COOPERATIVA DE CR�DITO M�TUO DOS SERVIDORES DE �RGAOS GESTORES DE RECURSOS H�DRICOS DO ESTADO DE S�O PAULO - COOPERHIDRO"
        ],
        [
         "S5",
         2275781,
         "COOPERATIVA DE CR�DITO M�TUO DOS SERVIDORES DO INSTITUTO FEDERAL DE EDUCA��O, CI�NCIA E TECNOLOGIA DA PARA�BA   SICOOB COOPERCRET"
        ],
        [
         "S5",
         73092827,
         "COOPERATIVA DE CR�DITO M�TUO DOS SERVIDORES DO MINISTERIO DA EDUCA��O EM S�O PAULO - COOPEMESP"
        ],
        [
         "S5",
         5969937,
         "COOPERATIVA DE CR�DITO M�TUO DOS SERVIDORES MUNICIPAIS DE BEBEDOURO - COOCRESB."
        ],
        [
         "S5",
         4587402,
         "COOPERATIVA DE CR�DITO M�TUO DOS SERVIDORES P�BLICOS DA EST�NCIA TUR�STICA DE RIBEIR�O PIRES - CREDIRP"
        ],
        [
         "S5",
         4219215,
         "COOPERATIVA DE CREDITO MUTUO DOS SERVIDORES P�BLICOS ESTADUAIS CIVIS,MILITARES E PENSIONISTAS EM ARARAQUARA E REGI�O, SERVIDORES E MAGISTRADOS  JUDICI�RIO FEDERAL NO ESTADO DE S�O PAULO-SICOOB COOPARA"
        ],
        [
         "S5",
         881829,
         "COOPERATIVA DE CR�DITO M�TUO DOS SERVIDORES P�BLICOS MUNICIPAIS DE JABOTICABAL - COOPERSERV"
        ],
        [
         "S5",
         5667301,
         "COOPERATIVA DE CR�DITO M�TUO DOS SERVIDORES P�BLICOS MUNICIPAIS DE LEN��IS PAULISTA - COOPERSERV"
        ],
        [
         "S5",
         3612679,
         "COOPERATIVA DE CR�DITO M�TUO DOS SERVIDORES P�BLICOS MUNICIPAIS DE S�O BERNARDO DO CAMPO - CREDIABC"
        ],
        [
         "S5",
         2191265,
         "COOPERATIVA DE CR�DITO M�TUO DOS SERVIDORES P�BLICOS MUNICIPAIS DO MUNIC�PIO DE BAURU - CREDISERV"
        ],
        [
         "S5",
         8227676,
         "COOPERATIVA DE CR�DITO M�TUO DOS TRABALHADORES DO SETOR AEROESPACIAL DE S�O JOSE DOS CAMPOS - COSAE"
        ],
        [
         "S5",
         6942423,
         "COOPERATIVA DE CR�DITO M�TUO DOS TRABALHADORES DO SISTEMA FINANCEIRO DE CURITIBA E REGI�O - COOPCREFI"
        ],
        [
         "S5",
         7789195,
         "COOPERATIVA DE CR�DITO M�TUO DOS TRANSPORTADORES RODOVI�RIOS DE VE�CULOS DO ABCD, MA�A, RIBEIR�O PIRES E VALE DO PARA�BA - SICOOB CREDCEG"
        ],
        [
         "S5",
         4886317,
         "COOPERATIVA DE CR�DITO M�TUO E INVESTIMENTO DOS INTEGRANTES DA MAGISTRATURA E DO MINIST�RIO P�BLICO NO ESTADO DO PARAN� - SICREDI CREDJURIS"
        ],
        [
         "S5",
         73113243,
         "COOPERATIVA DE CR�DITO M�TUO E INVESTIMENTO DOS PROFISSIONAIS DA �REA DA SA�DE E DOS PEQUENOS EMPRES�RIOS, MICROEMPRES�RIOS E MICROEMPREENDEDORES DE ARARAQUARA E REGI�O - SICREDI CENTRO NORTE SP"
        ],
        [
         "S5",
         5097757,
         "COOPERATIVA DE CR�DITO M�TUO E SERVI�OS FINANCEIROS DOS EMPREGADOS DO SISTEMA FINANCEIRO E DOS CONTABILISTAS NO ESTADO DO PARAN�"
        ],
        [
         "S5",
         86803939,
         "COOPERATIVA DE CR�DITO M�TUO SERRA MAR LTDA. - UNICRED SERRA MAR"
        ],
        [
         "S5",
         81292278,
         "COOPERATIVA DE CR�DITO NOROESTE - SICOOB NOROESTE"
        ],
        [
         "S5",
         3419786,
         "COOPERATIVA DE CR�DITO NOSSA SENHORA DO DESTERRO - SICOOB CREDISC"
        ],
        [
         "S5",
         25626490,
         "COOPERATIVA DE CR�DITO RURAL ALTO RIO GRANDE LTDA. - SICOOB CREDIGRANDE"
        ],
        [
         "S5",
         9244973,
         "COOPERATIVA DE CR�DITO RURAL ASCOOB COOPEC - ASCOOB COOPEC"
        ],
        [
         "S5",
         2025743,
         "COOPERATIVA DE CR�DITO RURAL ASCOOB COOPERAR"
        ],
        [
         "S5",
         3087263,
         "COOPERATIVA DE CR�DITO RURAL ASCOOB COSTA DO DEND�"
        ],
        [
         "S5",
         3921543,
         "COOPERATIVA DE CR�DITO RURAL ASCOOB ITAPICURU"
        ],
        [
         "S5",
         4588258,
         "COOPERATIVA DE CR�DITO RURAL ASCOOB PARAGUASSU"
        ],
        [
         "S5",
         63229629,
         "COOPERATIVA DE CREDITO RURAL ASCOOB SISAL"
        ],
        [
         "S5",
         3071386,
         "COOPERATIVA DE CR�DITO RURAL ASCOOB SUDOESTE"
        ],
        [
         "S5",
         315406,
         "COOPERATIVA DE CR�DITO RURAL CAZOLA - SICOOB CREDICAZOLA"
        ],
        [
         "S5",
         5138766,
         "COOPERATIVA DE CR�DITO RURAL COM INTERA��O SOLID�RIA ALIAN�A - CRESOL ALIAN�A"
        ],
        [
         "S5",
         6100881,
         "COOPERATIVA DE CR�DITO RURAL COM INTERA��O SOLID�RIA C�NDIDO DE ABREU - CRESOL C�NDIDO DE ABREU"
        ],
        [
         "S5",
         5425526,
         "COOPERATIVA DE CREDITO RURAL COM INTERACAO SOLIDARIA CONCORDIA- CRESOL CONC�RDIA"
        ],
        [
         "S5",
         3485130,
         "COOPERATIVA DE CR�DITO RURAL COM INTERA��O SOLID�RIA DAS ENCOSTAS DA SERRA GERAL - CRESOL ENCOSTAS DA SERRA GERAL"
        ],
        [
         "S5",
         7512780,
         "COOPERATIVA DE CR�DITO RURAL COM INTERA��O SOLID�RIA DE �GUAS MORNAS - CRESOL �GUAS MORNAS"
        ],
        [
         "S5",
         5494591,
         "COOPERATIVA DE CR�DITO RURAL COM INTERA��O SOLID�RIA DE ALFREDO WAGNER - CRESOL ALFREDO WAGNER"
        ],
        [
         "S5",
         11453724,
         "COOPERATIVA DE CR�DITO RURAL COM INTERA��O SOLID�RIA DE ALTO PARAN� - CRESOL ALTO PARAN�"
        ],
        [
         "S5",
         3066193,
         "COOPERATIVA DE CREDITO RURAL COM INTERACAO SOLIDARIA DE AMPERE - CRESOL AMPERE"
        ],
        [
         "S5",
         7215632,
         "COOPERATIVA DE CR�DITO RURAL COM INTERA��O SOLID�RIA DE API�NA - CRESOL API�NA"
        ],
        [
         "S5",
         7016503,
         "COOPERATIVA DE CR�DITO RURAL COM INTERA��O SOLID�RIA DE ARAPONGA - CRESOL ARAPONGA"
        ],
        [
         "S5",
         4565791,
         "COOPERATIVA DE CREDITO RURAL COM INTERACAO SOLIDARIA DE ARATIBA-CRESOL ARATIBA"
        ],
        [
         "S5",
         2904138,
         "COOPERATIVA DE CR�DITO RURAL COM INTERA��O SOLID�RIA DE �UREA - CRESOL �UREA"
        ],
        [
         "S5",
         8658915,
         "COOPERATIVA DE CR�DITO RURAL COM INTERA��O SOLID�RIA DE BOM CONSELHO - CRESOL BOM CONSELHO"
        ],
        [
         "S5",
         3356447,
         "COOPERATIVA DE CREDITO RURAL COM INTERACAO SOLIDARIA DE CANDOI - CRESOL CANDOI"
        ],
        [
         "S5",
         1201006,
         "COOPERATIVA DE CR�DITO RURAL COM INTERA��O SOLID�RIA DE CAPANEMA - CRESOL CAPANEMA"
        ],
        [
         "S5",
         9476168,
         "COOPERATIVA DE CR�DITO RURAL COM INTERA��O SOLID�RIA DE CAP�O BONITO - CRESOL CAP�O BONITO"
        ],
        [
         "S5",
         2448310,
         "COOPERATIVA DE CREDITO RURAL COM INTERACAO SOLIDARIA DE CASCAVEL - CRESOL CASCAVEL"
        ],
        [
         "S5",
         4281182,
         "COOPERATIVA DE CREDITO RURAL COM INTERACAO SOLIDARIA DE CHAPECO-CRESOL CHAPEC�"
        ],
        [
         "S5",
         2511232,
         "COOPERATIVA DE CREDITO RURAL COM INTERACAO SOLIDARIA DE CHOPINZINHO - CRESOL CHOPINZINHO"
        ],
        [
         "S5",
         2663426,
         "COOPERATIVA DE CREDITO RURAL COM INTERACAO SOLIDARIA DE CONSTANTINA-CRESOL CONSTANTINA."
        ],
        [
         "S5",
         8647473,
         "COOPERATIVA DE CR�DITO RURAL COM INTERA��O SOLID�RIA DE CORONEL FREITAS - CRESOL CORONEL FREITAS"
        ],
        [
         "S5",
         5070112,
         "COOPERATIVA DE CREDITO RURAL COM INTERACAO SOLIDARIA DE CORONEL MARTINS-CRESOL PEDRA BRANCA"
        ],
        [
         "S5",
         5277312,
         "COOPERATIVA DE CREDITO RURAL COM INTERACAO SOLIDARIA DE CRUZ MACHADO - CRESOL CRUZ MACHADO"
        ],
        [
         "S5",
         1155801,
         "COOPERATIVA DE CR�DITO RURAL COM INTERA��O SOLID�RIA DE CURITIBANOS - CRESOL CURITIBANOS"
        ],
        [
         "S5",
         2844024,
         "COOPERATIVA DE CREDITO RURAL COM INTERACAO SOLIDARIA DE DIONISIO CERQUEIRA-CRESOL DION�SIO CERQUEIRA"
        ],
        [
         "S5",
         971300,
         "COOPERATIVA DE CREDITO RURAL COM INTERACAO SOLIDARIA DE DOIS VIZINHOS - CRESOL DOIS VIZINHOS"
        ],
        [
         "S5",
         4261151,
         "COOPERATIVA DE CR�DITO RURAL COM INTERA��O SOLID�RIA DE DONA EMMA - CRESOL DONA EMMA"
        ],
        [
         "S5",
         8812388,
         "COOPERATIVA DE CR�DITO RURAL COM INTERA��O SOLID�RIA DE EN�AS MARQUES - CRESOL EN�AS MARQUES"
        ],
        [
         "S5",
         2910987,
         "COOPERATIVA DE CREDITO RURAL COM INTERACAO SOLIDARIA DE ERECHIM - CRESOL ERECHIM"
        ],
        [
         "S5",
         4490531,
         "COOPERATIVA DE CR�DITO RURAL COM INTERA��O SOLID�RIA DE ESTRADA DE FERRO - CRESOL ESTRADA DE FERRO"
        ],
        [
         "S5",
         8624548,
         "COOPERATIVA DE CR�DITO RURAL COM INTERA��O SOLID�RIA DE FERVEDOURO - CRESOL FERVEDOURO"
        ],
        [
         "S5",
         5269976,
         "COOPERATIVA DE CREDITO RURAL COM INTERACAO SOLIDARIA DE FORMOSA DO SUL-CRESOL FORMOSA"
        ],
        [
         "S5",
         2698001,
         "COOPERATIVA DE CREDITO RURAL COM INTERACAO SOLIDARIA DE FRANCISCO BELTRAO - CRESOL FRANCISCO BELTRAO"
        ],
        [
         "S5",
         17343510,
         "COOPERATIVA DE CR�DITO RURAL COM INTERA��O SOLID�RIA DE FREDERICO WESTPHALEN - CRESOL FREDERICO WESTPHALEN"
        ],
        [
         "S5",
         6890201,
         "COOPERATIVA DE CR�DITO RURAL COM INTERA��O SOLID�RIA DE FREI ROG�RIO - CRESOL FREI ROG�RIO"
        ],
        [
         "S5",
         5241145,
         "COOPERATIVA DE CREDITO RURAL COM INTERACAO SOLIDARIA DE GETULIO VARGAS-CRESOL GET�LIO VARGAS"
        ],
        [
         "S5",
         7925729,
         "COOPERATIVA DE CR�DITO RURAL COM INTERA��O SOLID�RIA DE GRANDES RIOS - CRESOL GRANDES RIOS"
        ],
        [
         "S5",
         5400634,
         "COOPERATIVA DE CREDITO RURAL COM INTERACAO SOLIDARIA DE GUARACIABA-CRESOL GUARACIABA"
        ],
        [
         "S5",
         8488377,
         "COOPERATIVA DE CR�DITO RURAL COM INTERA��O SOLID�RIA DE GUARANI DAS MISS�ES - CRESOL GUARANI DAS MISS�ES"
        ],
        [
         "S5",
         5121687,
         "COOPERATIVA DE CREDITO RURAL COM INTERACAO SOLIDARIA DE GUARANIA�U - CRESOL GUARANIA�U"
        ],
        [
         "S5",
         2565350,
         "COOPERATIVA DE CREDITO RURAL COM INTERACAO SOLIDARIA DE HONORIO SERPA - CRESOL HONORIO SERPA"
        ],
        [
         "S5",
         5983995,
         "COOPERATIVA DE CR�DITO RURAL COM INTERA��O SOLID�RIA DE HUMAIT� - CRESOL HUMAIT�"
        ],
        [
         "S5",
         11239236,
         "COOPERATIVA DE CR�DITO RURAL COM INTERA��O SOLID�RIA DE IBAITI - CRESOL IBAITI"
        ],
        [
         "S5",
         4232022,
         "COOPERATIVA DE CREDITO RURAL COM INTERACAO SOLIDARIA DE IBEMA - CRESOL IBEMA"
        ],
        [
         "S5",
         5427501,
         "COOPERATIVA DE CREDITO RURAL COM INTERACAO SOLIDARIA DE IPUMIRIM - CRESOL IPUMIRIM"
        ],
        [
         "S5",
         9433005,
         "COOPERATIVA DE CR�DITO RURAL COM INTERA��O SOLID�RIA DE IRINE�POLIS - CRESOL IRINE�POLIS"
        ],
        [
         "S5",
         4973378,
         "COOPERATIVA DE CREDITO RURAL COM INTERACAO SOLIDARIA DE ITAPEJARA D`OESTE - CRESOL ITAPEJARA D`OESTE"
        ],
        [
         "S5",
         5745533,
         "COOPERATIVA DE CR�DITO RURAL COM INTERA��O SOLID�RIA DE ITATIBA DO SUL - CRESOL ITATIBA DO SUL"
        ],
        [
         "S5",
         7507647,
         "COOPERATIVA DE CR�DITO RURAL COM INTERA��O SOLID�RIA DE ITUPORANGA - CRESOL ITUPORANGA"
        ],
        [
         "S5",
         5231945,
         "COOPERATIVA DE CREDITO RURAL COM INTERACAO SOLIDARIA DE IVAIPORA - CRESOL IVAIPORA"
        ],
        [
         "S5",
         9463721,
         "COOPERATIVA DE CR�DITO RURAL COM INTERA��O SOLID�RIA DE JACINTO MACHADO - CRESOL JACINTO MACHADO"
        ],
        [
         "S5",
         5410056,
         "COOPERATIVA DE CREDITO RURAL COM INTERACAO SOLIDARIA DE JAGUARUNA-CRESOL JAGUARUNA"
        ],
        [
         "S5",
         10520232,
         "COOPERATIVA DE CR�DITO RURAL COM INTERA��O SOLID�RIA DE JI - PARAN� - CRESOL JI - PARAN�"
        ],
        [
         "S5",
         1086342,
         "COOPERATIVA DE CR�DITO RURAL COM INTERA��O SOLID�RIA DE LARANJEIRAS DO SUL - CRESOL LARANJEIRAS DO SUL"
        ],
        [
         "S5",
         7211698,
         "COOPERATIVA DE CR�DITO RURAL COM INTERA��O SOLID�RIA DE LONDRINA - CRESOL LONDRINA"
        ],
        [
         "S5",
         2961072,
         "COOPERATIVA DE CREDITO RURAL COM INTERACAO SOLIDARIA DE MANGUEIRINHA - CRESOL MANGUEIRINHA"
        ],
        [
         "S5",
         5211129,
         "COOPERATIVA DE CREDITO RURAL COM INTERACAO SOLIDARIA DE MARCELINO RAMOS-CRESOL MARCELINO RAMOS"
        ],
        [
         "S5",
         971297,
         "COOPERATIVA DE CREDITO RURAL COM INTERACAO SOLIDARIA DE MARMELEIRO - CRESOL MARMELEIRO"
        ],
        [
         "S5",
         8850098,
         "COOPERATIVA DE CR�DITO RURAL COM INTERA��O SOLID�RIA DE MEDIANEIRA - CRESOL MEDIANEIRA"
        ],
        [
         "S5",
         7926510,
         "COOPERATIVA DE CR�DITO RURAL COM INTERA��O SOLID�RIA DE NOVA ESPERAN�A DO SUDOESTE - CRESOL NOVA ESPERAN�A DO SUDOESTE"
        ],
        [
         "S5",
         3014407,
         "COOPERATIVA DE CREDITO RURAL COM INTERACAO SOLIDARIA DE NOVA PRATA DO IGUACU - CRESOL NOVA PRATA DO IGUACU"
        ],
        [
         "S5",
         5428587,
         "COOPERATIVA DE CREDITO RURAL COM INTERACAO SOLIDARIA DE OLIVEIRA DOS BREJINHOS - CRESOL OLIVEIRA DOS BREJINHOS"
        ],
        [
         "S5",
         8087331,
         "COOPERATIVA DE CR�DITO RURAL COM INTERA��O SOLID�RIA DE OURICURI - CRESOL ARARIPE"
        ],
        [
         "S5",
         7252614,
         "COOPERATIVA DE CR�DITO RURAL COM INTERA��O SOLID�RIA DE PAIM FILHO - CRESOL PAIM FILHO"
        ],
        [
         "S5",
         5413161,
         "COOPERATIVA DE CR�DITO RURAL COM INTERA��O SOLID�RIA DE PETROLINA   CRESOL PETROLINA"
        ],
        [
         "S5",
         7412987,
         "COOPERATIVA DE CR�DITO RURAL COM INTERA��O SOLID�RIA DE PINHALZINHO - CRESOL PINHALZINHO"
        ],
        [
         "S5",
         2645093,
         "COOPERATIVA DE CREDITO RURAL COM INTERACAO SOLIDARIA DE PITANGA - CRESOL PITANGA"
        ],
        [
         "S5",
         4225119,
         "COOPERATIVA DE CREDITO RURAL COM INTERACAO SOLIDARIA DE PLANALTO - CRESOL PLANALTO"
        ],
        [
         "S5",
         9051765,
         "COOPERATIVA DE CR�DITO RURAL COM INTERA��O SOLID�RIA DE PORTO LUCENA - CRESOL PORTO LUCENA"
        ],
        [
         "S5",
         5442759,
         "COOPERATIVA DE CREDITO RURAL COM INTERACAO SOLIDARIA DE PORTO XAVIER-CRESOL PORTO XAVIER"
        ],
        [
         "S5",
         10453077,
         "COOPERATIVA DE CR�DITO RURAL COM INTERA��O SOLID�RIA DE POUSO REDONDO - CRESOL POUSO REDONDO"
        ],
        [
         "S5",
         3190530,
         "COOPERATIVA DE CREDITO RURAL COM INTERACAO SOLIDARIA DE PRANCHITA - CRESOL PRANCHITA"
        ],
        [
         "S5",
         6126780,
         "COOPERATIVA DE CR�DITO RURAL COM INTERA��O SOLID�RIA DE PRUDENT�POLIS - CRESOL PRUDENT�POLIS"
        ],
        [
         "S5",
         73254757,
         "COOPERATIVA DE CREDITO RURAL COM INTERACAO SOLIDARIA DE QUILOMBO -  CRESOL QUILOMBO"
        ],
        [
         "S5",
         7076644,
         "COOPERATIVA DE CREDITO RURAL COM INTERA��O SOLIDARIA DE REALEZA - CRESOL REALEZA"
        ],
        [
         "S5",
         4350225,
         "COOPERATIVA DE CREDITO RURAL COM INTERACAO SOLIDARIA DE RENASCEN�A - CRESOL RENASCEN�A"
        ],
        [
         "S5",
         10512171,
         "COOPERATIVA DE CR�DITO RURAL COM INTERA��O SOLID�RIA DE RIO BRANCO DO SUL - CRESOL RIO BRANCO DO SUL"
        ],
        [
         "S5",
         7958405,
         "COOPERATIVA DE CR�DITO RURAL COM INTERA��O SOLID�RIA DE RIO FORTUNA - CRESOL RIO FORTUNA"
        ],
        [
         "S5",
         5135542,
         "COOPERATIVA DE CREDITO RURAL COM INTERACAO SOLIDARIA DE SALTO DO LONTRA - CRESOL SALTO DO LONTRA"
        ],
        [
         "S5",
         5276770,
         "COOPERATIVA DE CREDITO RURAL COM INTERACAO SOLIDARIA DE SANTA IZABEL DO OESTE - CRESOL SANTA IZABEL DO OESTE"
        ],
        [
         "S5",
         7268499,
         "COOPERATIVA DE CR�DITO RURAL COM INTERA��O SOLID�RIA DE SANTA L�CIA - CRESOL SANTA L�CIA"
        ],
        [
         "S5",
         5220232,
         "COOPERATIVA DE CREDITO RURAL COM INTERACAO SOLIDARIA DE SANTA MARIA-CRESOL SANTA MARIA"
        ],
        [
         "S5",
         8652872,
         "COOPERATIVA DE CR�DITO RURAL COM INTERA��O SOLID�RIA DE SANTA TEREZINHA DO PROGRESSO - CRESOL SANTA TEREZINHA DO PROGRESSO"
        ],
        [
         "S5",
         3661027,
         "COOPERATIVA DE CR�DITO RURAL COM INTERA��O SOLID�RIA DE SANTIAGO DO SUL - CRESOL SANTIAGO"
        ],
        [
         "S5",
         4649750,
         "COOPERATIVA DE CREDITO RURAL COM INTERACAO SOLIDARIA DE SANTO ANTONIO DO SUDOESTE - CRESOL SANTO ANTONIO DO SUDOESTE"
        ],
        [
         "S5",
         6031727,
         "COOPERATIVA DE CR�DITO RURAL COM INTERA��O SOLID�RIA DE SANTO CRISTO - CRESOL SANTO CRISTO"
        ],
        [
         "S5",
         7557462,
         "COOPERATIVA DE CR�DITO RURAL COM INTERA��O SOLID�RIA DE S�O JO�O - CRESOL S�O JO�O"
        ],
        [
         "S5",
         7542211,
         "COOPERATIVA DE CR�DITO RURAL COM INTERA��O SOLID�RIA DE S�O JO�O DA URTIGA - CRESOL S�O JO�O DA URTIGA"
        ],
        [
         "S5",
         13059232,
         "COOPERATIVA DE CR�DITO RURAL COM INTERA��O SOLID�RIA DE S�O JO�O DO ITAPERI�   CRESOL S�O JO�O DO ITAPERI�"
        ],
        [
         "S5",
         9488496,
         "COOPERATIVA DE CR�DITO RURAL COM INTERA��O SOLID�RIA DE S�O JO�O DO SUL - CRESOL S�O JO�O DO SUL"
        ],
        [
         "S5",
         8560508,
         "COOPERATIVA DE CR�DITO RURAL COM INTERA��O SOLID�RIA DE S�O JO�O DO TRIUNFO - CRESOL S�O JO�O DO TRIUNFO"
        ],
        [
         "S5",
         2766672,
         "COOPERATIVA DE CREDITO RURAL COM INTERACAO SOLIDARIA DE SAO JOAQUIM-CRESOL S�O JOAQUIM"
        ],
        [
         "S5",
         2934201,
         "COOPERATIVA DE CREDITO RURAL COM INTERACAO SOLIDARIA DE SAO JORGE D'OESTE - CRESOL SAO JORGE D'OESTE"
        ],
        [
         "S5",
         11969853,
         "COOPERATIVA DE CR�DITO RURAL COM INTERA��O SOLID�RIA DE S�O MIGUEL DO IGUA�U - CRESOL S�O MIGUEL DO IGUA�U"
        ],
        [
         "S5",
         3015152,
         "COOPERATIVA DE CREDITO RURAL COM INTERA��O SOLID�RIA DE SAO VALENTIM-CRESOL SAO VALENTIM"
        ],
        [
         "S5",
         5220243,
         "COOPERATIVA DE CREDITO RURAL COM INTERACAO SOLIDARIA DE SARANDI-CRESOL SARANDI"
        ],
        [
         "S5",
         8387258,
         "COOPERATIVA DE CR�DITO RURAL COM INTERA��O SOLID�RIA DE SCHROEDER - CRESOL SCHROEDER"
        ],
        [
         "S5",
         5533128,
         "COOPERATIVA DE CR�DITO RURAL COM INTERA��O SOLID�RIA DE SERRA GERAL - CRESOL SERRA GERAL"
        ],
        [
         "S5",
         5478479,
         "COOPERATIVA DE CR�DITO RURAL COM INTERA��O SOLID�RIA DE TABOCAS DO BREJO VELHO - CRESOL TABOCAS DO BREJO VELHO"
        ],
        [
         "S5",
         7946451,
         "COOPERATIVA DE CR�DITO RURAL COM INTERA��O SOLID�RIA DE TANGAR� - CRESOL TANGAR�"
        ],
        [
         "S5",
         4622657,
         "COOPERATIVA DE CREDITO RURAL COM INTERA��O SOLID�RIA DE TENENTE PORTELA - CRESOL TENENTE PORTELA"
        ],
        [
         "S5",
         8805562,
         "COOPERATIVA DE CR�DITO RURAL COM INTERA��O SOLID�RIA DE TIRADENTES DO SUL - CRESOL TIRADENTES DO SUL"
        ],
        [
         "S5",
         7208637,
         "COOPERATIVA DE CREDITO RURAL COM INTERA��O SOLIDARIA DE TOMBOS-CRESOL TOMBOS"
        ],
        [
         "S5",
         4273001,
         "COOPERATIVA DE CREDITO RURAL COM INTERACAO SOLIDARIA DE TRES BARRAS DO PARANA - CRESOL TRES BARRAS DO PARANA"
        ],
        [
         "S5",
         9330158,
         "COOPERATIVA DE CR�DITO RURAL COM INTERA��O SOLID�RIA DE TREZE DE MAIO - CRESOL TREZE DE MAIO"
        ],
        [
         "S5",
         8597482,
         "COOPERATIVA DE CR�DITO RURAL COM INTERA��O SOLID�RIA DE UNI�O DOS PLANALTOS - CRESOL UNI�O DOS PLANALTOS"
        ],
        [
         "S5",
         3348165,
         "COOPERATIVA DE CREDITO RURAL COM INTERACAO SOLIDARIA DE VERE - CRESOL VERE"
        ],
        [
         "S5",
         4663561,
         "COOPERATIVA DE CREDITO RURAL COM INTERACAO SOLIDARIA DE VIRMOND - CRESOL VIRMOND"
        ],
        [
         "S5",
         7320890,
         "COOPERATIVA DE CR�DITO RURAL COM INTERA��O SOLID�RIA DE VITOR MEIRELES - CRESOL VITOR MEIRELES"
        ],
        [
         "S5",
         7465539,
         "COOPERATIVA DE CR�DITO RURAL COM INTERA��O SOLID�RIA DE WITMARSUM - CRESOL WITMARSUM"
        ],
        [
         "S5",
         7509426,
         "COOPERATIVA DE CR�DITO RURAL COM INTERA��O SOLID�RIA DE XANXER� - CRESOL XANXER�"
        ],
        [
         "S5",
         8055016,
         "COOPERATIVA DE CR�DITO RURAL COM INTERA��O SOLID�RIA DE XAVANTINA - CRESOL XAVANTINA"
        ],
        [
         "S5",
         7356021,
         "COOPERATIVA DE CR�DITO RURAL COM INTERA��O SOLID�RIA DO ALTO DO VALE DO TAQUARI - CRESOL ILOPOLIS"
        ],
        [
         "S5",
         9280638,
         "COOPERATIVA DE CR�DITO RURAL COM INTERA��O SOLID�RIA DO ALTO VALE - CRESOL ALTO VALE"
        ],
        [
         "S5",
         7642803,
         "COOPERATIVA DE CR�DITO RURAL COM INTERA��O SOLID�RIA DO EXTREMO NORTE DO ESP�RITO SANTO   CRESOL EXTREMO NORTE ES"
        ],
        [
         "S5",
         23256599,
         "COOPERATIVA DE CR�DITO RURAL COM INTERA��O SOLID�RIA DO MATO GROSSO DO SUL - CRESOL MS"
        ],
        [
         "S5",
         7475376,
         "COOPERATIVA DE CR�DITO RURAL COM INTERA��O SOLID�RIA DO NOROESTE CAPIXABA   CRESOL NOROESTE CAPIXABA"
        ],
        [
         "S5",
         5863726,
         "COOPERATIVA DE CR�DITO RURAL COM INTERA��O SOLID�RIA DO PLANALTO SERRA DO RIO GRANDE DO SUL - CRESOL  PLANALTO SERRA"
        ],
        [
         "S5",
         8197413,
         "COOPERATIVA DE CR�DITO RURAL COM INTERA��O SOLID�RIA DO SERT�O CENTRAL DO CEAR� - CRESOL SERT�O CENTRAL"
        ],
        [
         "S5",
         2483330,
         "COOPERATIVA DE CR�DITO RURAL COM INTERA�AO SOLID�RIA DO VALE DAS ARAUC�RIAS - CRESOL VALE DAS ARAUC�RIAS"
        ],
        [
         "S5",
         8297831,
         "COOPERATIVA DE CR�DITO RURAL COM INTERA��O SOLID�RIA DO VALE EUROPEU - CRESOL VALE EUROPEU"
        ],
        [
         "S5",
         5326643,
         "COOPERATIVA DE CR�DITO RURAL COM INTERA��O SOLID�RIA LESTE PARANAENSE - CRESOL LESTE PARANAENSE"
        ],
        [
         "S5",
         3965737,
         "COOPERATIVA DE CR�DITO RURAL COM INTERA��O SOLID�RIA OESTE CATARINENSE - CRESOL OESTE CATARINENSE"
        ],
        [
         "S5",
         6036510,
         "COOPERATIVA DE CR�DITO RURAL COM INTERA��O SOLID�RIA TRIUNFO/FLORES - CRESOL TRIUNFO/FLORES"
        ],
        [
         "S5",
         2446089,
         "COOPERATIVA DE CR�DITO RURAL COM INTERA��O SOLID�RIA UNI�O DOS PINHAIS - CRESOL UNI�O DOS PINHAIS"
        ],
        [
         "S5",
         2904125,
         "COOPERATIVA DE CREDITO RURAL COM INTERA��O SOLID�RIA. DE JACUTINGA - CRESOL JACUTINGA"
        ],
        [
         "S5",
         76461557,
         "COOPERATIVA DE CR�DITO RURAL COOPAVEL"
        ],
        [
         "S5",
         62109566,
         "COOPERATIVA DE CR�DITO RURAL DA REGI�O DA MOGIANA"
        ],
        [
         "S5",
         1073966,
         "COOPERATIVA DE CR�DITO RURAL DE ABELARDO LUZ - SULCREDI/CREDILUZ"
        ],
        [
         "S5",
         71437123,
         "COOPERATIVA DE CR�DITO RURAL DE ALTEROSA LTDA - SICOOB COOPEROSA"
        ],
        [
         "S5",
         17015842,
         "COOPERATIVA DE CR�DITO RURAL DE ECONOMIA SOLID�RIA DE CODAJ�S - CODCRED"
        ],
        [
         "S5",
         4985665,
         "COOPERATIVA DE CR�DITO RURAL DE ESPIG�O DO OESTE LTDA."
        ],
        [
         "S5",
         32422628,
         "COOPERATIVA DE CREDITO RURAL DE GUACUI - CREDIGUA�U�"
        ],
        [
         "S5",
         26014175,
         "COOPERATIVA DE CR�DITO RURAL DE GUARANI LTDA - SICOOB GUARANICREDI"
        ],
        [
         "S5",
         8240446,
         "COOPERATIVA DE CREDITO RURAL DE IBIAM - SULCREDI/IBIAM"
        ],
        [
         "S5",
         71207740,
         "COOPERATIVA DE CR�DITO RURAL DE IRA� DE MINAS LTDA -SICOOB CREDIMIL"
        ],
        [
         "S5",
         4174720,
         "COOPERATIVA DE CR�DITO RURAL DE MAIRI LTDA. - SICOOB COOPEMAR"
        ],
        [
         "S5",
         5597773,
         "COOPERATIVA DE CR�DITO RURAL DE NOVA BRASIL�NDIA D'OESTE LTDA."
        ],
        [
         "S5",
         7853842,
         "COOPERATIVA DE CR�DITO RURAL DE OURO   SULCREDI/OURO"
        ],
        [
         "S5",
         1330387,
         "COOPERATIVA DE CR�DITO RURAL DE PEQUENOS AGRICULTORES E DA REFORMA AGR�RIA DO CENTRO OESTE DO PARAN� - CREHNOR LARANJEIRAS"
        ],
        [
         "S5",
         41931221,
         "COOPERATIVA DE CR�DITO RURAL DE PITANGUI LTDA-SICOOB CREDICOOP"
        ],
        [
         "S5",
         26563270,
         "COOPERATIVA DE CREDITO RURAL DE PRIMAVERA DO LESTE"
        ],
        [
         "S5",
         5439425,
         "COOPERATIVA DE CR�DITO RURAL DE RIO BRANCO LTDA."
        ],
        [
         "S5",
         2448839,
         "COOPERATIVA DE CREDITO RURAL DE RIO RUFINO - SICOOB/SC CREDIUNI�O"
        ],
        [
         "S5",
         8253539,
         "COOPERATIVA DE CR�DITO RURAL DE S�O MIGUEL DO OESTE - SULCREDI/S�O MIGUEL"
        ],
        [
         "S5",
         86476199,
         "COOPERATIVA DE CR�DITO RURAL DE S�O VICENTE DE MINAS LTDA. - SICOOB CREDISAVI"
        ],
        [
         "S5",
         8482873,
         "COOPERATIVA DE CR�DITO RURAL DO AGRESTE ALAGOANO - COOPERAGRE"
        ],
        [
         "S5",
         8202793,
         "COOPERATIVA DE CR�DITO RURAL DO AGRESTE CENTRAL ALAGOANO LTDA. - COOPCRAL"
        ],
        [
         "S5",
         7564184,
         "COOPERATIVA DE CR�DITO RURAL DO SERT�O ALAGOANO ASCOOB COCREAL"
        ],
        [
         "S5",
         50334234,
         "COOPERATIVA DE CR�DITO RURAL DOS AGROPECUARISTAS DA REGI�O DE PORTO FELIZ"
        ],
        [
         "S5",
         49654502,
         "COOPERATIVA DE CR�DITO RURAL DOS FORNECEDORES DE CANA DA REGI�O DE CATANDUVA-COFOCRED"
        ],
        [
         "S5",
         52623311,
         "COOPERATIVA DE CR�DITO RURAL DOS PLANTADORES DE CANA DA REGI�O DE IGARAPAVA"
        ],
        [
         "S5",
         12272183,
         "COOPERATIVA DE CR�DITO RURAL DOS PLANTADORES DE CANA DE ALAGOAS"
        ],
        [
         "S5",
         44373041,
         "COOPERATIVA DE CR�DITO RURAL DOS PRODUTORES AGR�COLAS E PECU�RIOS DA M�DIA SOROCABANA - CREDICANA"
        ],
        [
         "S5",
         5853210,
         "COOPERATIVA DE CR�DITO RURAL DOS PRODUTORES DA REGI�O DE IREC� - CREDIRURAL"
        ],
        [
         "S5",
         86585049,
         "COOPERATIVA DE CR�DITO RURAL DOS PRODUTORES DE LEITE DO VALE DO RIO GRANDE LTDA - SICOOB CREDILEITE"
        ],
        [
         "S5",
         8044854,
         "COOPERATIVA DE CR�DITO RURAL E DOS EMPRES�RIOS DO CENTRO DO ESTADO DE ROND�NIA - SICOOB CENTRO"
        ],
        [
         "S5",
         49389307,
         "COOPERATIVA DE CR�DITO RURAL E DOS PEQUENOS EMPRES�RIOS, MICROEMPRESARIOS E MICROEMPREENDEDORES DA REGI�O DE CAPIVARI"
        ],
        [
         "S5",
         5491616,
         "COOPERATIVA DE CR�DITO RURAL E SERVIDORES P�BLICOS DE MINEIROS GOI�S"
        ],
        [
         "S5",
         5996245,
         "COOPERATIVA DE CR�DITO RURAL HORIZONTES NOVOS DE BAR�O DE COTEGIPE - CREHNOR NORTE"
        ],
        [
         "S5",
         5132104,
         "COOPERATIVA DE CREDITO RURAL HORIZONTES NOVOS DE CANGUCU - CREHNOR SUL"
        ],
        [
         "S5",
         6139650,
         "COOPERATIVA DE CR�DITO RURAL HORIZONTES NOVOS DE IBIRAIARAS LTDA - CREHNOR NORDESTE"
        ],
        [
         "S5",
         7268732,
         "COOPERATIVA DE CR�DITO RURAL HORIZONTES NOVOS DE IJU� - CREHNOR NOROESTE"
        ],
        [
         "S5",
         1869822,
         "COOPERATIVA DE CREDITO RURAL HORIZONTES NOVOS DE NOVO SARANDI-CREHNOR SARANDI"
        ],
        [
         "S5",
         16348005,
         "COOPERATIVA DE CR�DITO RURAL ILH�US LTDA"
        ],
        [
         "S5",
         5644916,
         "COOPERATIVA DE CR�DITO RURAL NORTE DO ITAPICURU"
        ],
        [
         "S5",
         204963,
         "COOPERATIVA DE CREDITO RURAL SEARA - CREDISEARA"
        ],
        [
         "S5",
         4317316,
         "COOPERATIVA DE CR�DITO RURAL SENHOR DO BONFIM LTDA. - SICOOB BONFIM"
        ],
        [
         "S5",
         6174009,
         "COOPERATIVA DE CR�DITO SICOOB ALIAN�A"
        ],
        [
         "S5",
         2466552,
         "COOPERATIVA DE CR�DITO SICOOB VALE DO IGUA�U"
        ],
        [
         "S5",
         9343038,
         "COOPERATIVA DE CR�DITO SICREDI ALTO SERT�O PARAIBANO - SICREDI ALTO SERT�O PARAIBANO"
        ],
        [
         "S5",
         2923389,
         "COOPERATIVA DE CR�DITO SICREDI ARACAJU"
        ],
        [
         "S5",
         41255225,
         "COOPERATIVA DE CR�DITO SICREDI CENTRO PERNAMBUCANA"
        ],
        [
         "S5",
         35571249,
         "COOPERATIVA DE CR�DITO SICREDI JO�O PESSOA"
        ],
        [
         "S5",
         70027388,
         "COOPERATIVA DE CR�DITO SICREDI MOSSOR� - SICREDI MOSSOR�"
        ],
        [
         "S5",
         97489280,
         "COOPERATIVA DE CR�DITO SICREDI REGI�O SUL DA BAHIA -SICREDI REGI�O SUL DA BAHIA"
        ],
        [
         "S5",
         75847,
         "COOPERATIVA DE CR�DITO UNICRED SUL CATARINENSE LTDA ? UNICRED SUL CATARINENSE"
        ],
        [
         "S5",
         707903,
         "COOPERATIVA DE CR�DITO VALE DO CANOAS - SICOOB/SC CREDICANOAS"
        ],
        [
         "S5",
         82639451,
         "COOPERATIVA DE CREDITO VALE DO ITAJAI - VIACREDI"
        ],
        [
         "S5",
         49069990,
         "COOPERATIVA DE ECONOMIA E CR�DITO DE LIVRE ADMISS�O DA SERRA DA CANTAREIRA - SICOOB CANTAREIRA"
        ],
        [
         "S5",
         14913919,
         "COOPERATIVA DE ECONOMIA E CR�DITO DOS EMPRES�RIOS, PROFISSIONAIS DO MERCADO IMOBILI�RIO E DA CMI / SECOVI - SICOOB SECOVICRED MG"
        ],
        [
         "S5",
         2999687,
         "COOPERATIVA DE ECONOMIA E CREDITO MUTUO  DOS CORRETORES DE SEGUROS DE PORTO ALEGRE"
        ],
        [
         "S5",
         52935442,
         "COOPERATIVA DE ECONOMIA E CR�DITO M�TUO ALIAN�A - COOPERNITRO"
        ],
        [
         "S5",
         82096447,
         "COOPERATIVA DE ECONOMIA E CR�DITO M�TUO BRF - CREDIBRF"
        ],
        [
         "S5",
         67087569,
         "COOPERATIVA DE ECONOMIA E CR�DITO M�TUO CECREB"
        ],
        [
         "S5",
         3149086,
         "COOPERATIVA DE ECONOMIA E CR�DITO M�TUO DA ALIAN�A DOS M�DICOS E DEMAIS PROFISSIONAIS DA �REA DE SA�DE DA REGI�O NOROESTE PAULISTA - GRANCRED NOROESTE PAULISTA"
        ],
        [
         "S5",
         4093627,
         "COOPERATIVA DE ECONOMIA E CR�DITO M�TUO DA ALIAN�A DOS PROFISSIONAIS DA �REA DE SA�DE DA REGI�O DE S�O ROQUE - SICOOB ALCOOP S�O ROQUE"
        ],
        [
         "S5",
         4120633,
         "COOPERATIVA DE ECONOMIA E CR�DITO M�TUO DA �REA DE INFORM�TICA, VESTU�RIO EM GERAL E PEQ EMPRES�RIOS MICROEMPRES�RIOS MICROEMPREENDEDORES REGI�O METROPOLITANA RIO DE JANEIRO - SICOOB EMPRESAS RJ"
        ],
        [
         "S5",
         4649337,
         "COOPERATIVA DE ECONOMIA E CR�DITO M�TUO DAS FOR�AS ARMADAS, DO CORPO DE BOMBEIROS E POL�CIA MILITAR DO DISTRITO FEDERAL LTDA. - SICOOB CABECRED"
        ],
        [
         "S5",
         53236808,
         "COOPERATIVA DE ECONOMIA E CR�DITO M�TUO DE LIVRE ADMISS�O DE ARARAQUARA E REGI�O - SICOOB"
        ],
        [
         "S5",
         56396682,
         "COOPERATIVA DE ECONOMIA E CR�DITO M�TUO DE RIO CLARO - COOPRIOCLARO"
        ],
        [
         "S5",
         74244344,
         "COOPERATIVA DE ECONOMIA E CR�DITO M�TUO DO GRUPO BASF"
        ],
        [
         "S5",
         94243839,
         "COOPERATIVA DE ECONOMIA E CR�DITO M�TUO DO VALE DAS ANTAS LTDA. - UNICRED VALE DAS ANTAS"
        ],
        [
         "S5",
         2827982,
         "COOPERATIVA DE ECONOMIA E CR�DITO M�TUO DOS  EMPREGADOS DO BANCO DA AMAZ�NIA"
        ],
        [
         "S5",
         2480577,
         "COOPERATIVA DE ECONOMIA E CR�DITO M�TUO DOS ADVOGADOS DE GOI�S LTDA - SICOOB CREDIJUR"
        ],
        [
         "S5",
         7755335,
         "COOPERATIVA DE ECONOMIA E CREDITO MUTUO DOS ADVOGADOS DO ESTADO DO RIO DE JANEIRO LTDA."
        ],
        [
         "S5",
         19962468,
         "COOPERATIVA DE ECONOMIA E CR�DITO M�TUO DOS ADVOGADOS DO RIO GRANDE DO SUL - SICREDI COOABCRED/RS"
        ],
        [
         "S5",
         14729710,
         "COOPERATIVA DE ECONOMIA E CR�DITO M�TUO DOS ADVOGADOS P�BLICOS , DEFENSORES P�BLICOS  E DELEGADOS DA POL�CIA FEDERAL DO DISTRITO FEDERAL"
        ],
        [
         "S5",
         16564240,
         "COOPERATIVA DE ECONOMIA E CREDITO MUTUO DOS APOSENTADOS, PENSIONISTAS E IDOSOS LIGADOS AO SINDICATO NACIONAL DOS APOSENTADOS, PENSIONISTAS E IDOSOS DA FOR�A SINDICAL - SICOOB COOPERNAPI"
        ],
        [
         "S5",
         71502181,
         "COOPERATIVA DE ECONOMIA E CR�DITO M�TUO DOS BANC�RIOS DE BELO HORIZONTE E REGI�O METROPOLITANA LTDA. - COOPEB"
        ],
        [
         "S5",
         4158581,
         "COOPERATIVA DE ECONOMIA E CR�DITO M�TUO DOS BANC�RIOS DE JUIZ DE FORA LTDA. - COCBAN"
        ],
        [
         "S5",
         71491609,
         "COOPERATIVA DE ECONOMIA E CR�DITO M�TUO DOS BANC�RIOS DE SOROCABA E REGI�O"
        ],
        [
         "S5",
         1301541,
         "COOPERATIVA DE ECONOMIA E CR�DITO M�TUO DOS BANC�RIOS DO TRI�NGULO LTDA."
        ],
        [
         "S5",
         53184438,
         "COOPERATIVA DE ECONOMIA E CR�DITO M�TUO DOS COLABORADORES DA CEBRACE"
        ],
        [
         "S5",
         21130869,
         "COOPERATIVA DE ECONOMIA E CR�DITO M�TUO DOS COLABORADORES DA COOPEDER LTDA. - CREDER"
        ],
        [
         "S5",
         61039038,
         "COOPERATIVA DE ECONOMIA E CREDITO MUTUO DOS COLABORADORES DA SG INDUSTRIA E COMERCIO DE MATERIAIS DE CONSTRUCAO, VIDROS E AFINS"
        ],
        [
         "S5",
         2588819,
         "COOPERATIVA DE ECONOMIA E CR�DITO M�TUO DOS COLABORADORES DA UNI�O BRASILEIRA DE EDUCA��O E ENSINO, UNI�O NORTE BRASILEIRA DE EDUCA��O E CULTURA & UNI�O BRASILIENSE DE EDUCA��O E CULTURA LTDA � COOMAR"
        ],
        [
         "S5",
         20961629,
         "COOPERATIVA DE ECONOMIA E CR�DITO M�TUO DOS COLABORADORES DA VALE S.A. - LTDA. - SICOOB CREDIVALE"
        ],
        [
         "S5",
         20062766,
         "COOPERATIVA DE ECONOMIA E CR�DITO M�TUO DOS COLABORADORES DO GRUPO EMPRESARIAL A COSTA LTDA."
        ],
        [
         "S5",
         2330334,
         "COOPERATIVA DE ECONOMIA E CR�DITO M�TUO DOS COMERCIANTES DO VESTU�RIO, CONFEC��ES E ROCHAS ORNAMENTAIS - CREDSUL."
        ],
        [
         "S5",
         2217068,
         "COOPERATIVA DE ECONOMIA E CR�DITO M�TUO DOS CONTABILISTAS E CORRETORES DE SEGUROS DA GRANDE BELO HORIZONTE LTDA. - SICOOB CREDITABIL"
        ],
        [
         "S5",
         17314501,
         "COOPERATIVA DE ECONOMIA E CR�DITO M�TUO DOS EMPREGADOS DA A�O MINAS GERAIS S.A. - A�OMINAS E EMPRESAS SUBSIDI�RIAS EM OURO BRANCO LTDA. - COOPA�O"
        ],
        [
         "S5",
         62781232,
         "COOPERATIVA DE ECONOMIA E CR�DITO M�TUO DOS EMPREGADOS DA ALCATEL-LUCENT BRASIL"
        ],
        [
         "S5",
         88043187,
         "COOPERATIVA DE ECONOMIA E CR�DITO M�TUO DOS EMPREGADOS DA ALSTOM"
        ],
        [
         "S5",
         21597133,
         "COOPERATIVA DE ECONOMIA E CR�DITO M�TUO DOS EMPREGADOS DA BECTON DICKINSON IND�STRIAS CIR�RGICAS LTDA., LTDA."
        ],
        [
         "S5",
         73156218,
         "COOPERATIVA DE ECONOMIA E CR�DITO M�TUO DOS EMPREGADOS DA BORCOL"
        ],
        [
         "S5",
         18140913,
         "COOPERATIVA DE ECONOMIA E CR�DITO M�TUO DOS EMPREGADOS DA CBMM LTDA."
        ],
        [
         "S5",
         17502881,
         "COOPERATIVA DE ECONOMIA E CR�DITO M�TUO DOS EMPREGADOS DA CEMIG E DAS IND�STRIAS METAL�RGICAS E DE MATERIAL EL�TRICO DE JUIZ DE FORA LTDA. - SICOOB CECREMEC"
        ],
        [
         "S5",
         8850613,
         "COOPERATIVA DE ECONOMIA E CR�DITO M�TUO DOS EMPREGADOS DA CENTRAIS EL�TRICAS DE SANTA CATARINA - CREDELESC"
        ],
        [
         "S5",
         30138226,
         "COOPERATIVA DE ECONOMIA E CREDITO MUTUO DOS EMPREGADOS DA CIA DE ELETRICIDADE DO ESTADO DO RJ CREDICERJ LTDA"
        ],
        [
         "S5",
         86784089,
         "COOPERATIVA DE ECONOMIA E CR�DITO M�TUO DOS EMPREGADOS DA COELBA E DA CHESF LTDA.   SICOOB COPELBA"
        ],
        [
         "S5",
         54335401,
         "COOPERATIVA DE ECONOMIA E CR�DITO M�TUO DOS EMPREGADOS DA COMPANHIA BRASILEIRA DE ALUM�NIO"
        ],
        [
         "S5",
         59305565,
         "COOPERATIVA DE ECONOMIA E CR�DITO M�TUO DOS EMPREGADOS DA CONFAB"
        ],
        [
         "S5",
         47074323,
         "COOPERATIVA DE ECONOMIA E CR�DITO M�TUO DOS EMPREGADOS DA COOP - COOPERATIVA DE CONSUMO"
        ],
        [
         "S5",
         73077398,
         "COOPERATIVA DE ECONOMIA E CR�DITO M�TUO DOS EMPREGADOS DA EATON DE VALINHOS"
        ],
        [
         "S5",
         43553049,
         "COOPERATIVA DE ECONOMIA E CR�DITO M�TUO DOS EMPREGADOS DA EATON LTDA."
        ],
        [
         "S5",
         3862898,
         "COOPERATIVA DE ECONOMIA E CR�DITO M�TUO DOS EMPREGADOS DA EMPRESA BRASILEIRA DE CORREIOS E TEL�GRAFOS DO ESTADO DE MINAS GERAIS LTDA. - SICOOB COOPERCORREIOS"
        ],
        [
         "S5",
         3400651,
         "COOPERATIVA DE ECONOMIA E CR�DITO M�TUO DOS EMPREGADOS DA EMPRESA SUPERMERCADOS JAU SERVE - COOPERJS"
        ],
        [
         "S5",
         42240382,
         "COOPERATIVA DE ECONOMIA E CREDITO MUTUO DOS EMPREGADOS DA FABRIMAR S.A. INDUSTRIA E COMERCIO LTDA"
        ],
        [
         "S5",
         59301762,
         "COOPERATIVA DE ECONOMIA E CR�DITO M�TUO DOS EMPREGADOS DA FLAMMA AUTOMOTIVA LTDA."
        ],
        [
         "S5",
         2738981,
         "COOPERATIVA DE ECONOMIA E CR�DITO M�TUO DOS EMPREGADOS DA FUNDA��O ARTHUR BERNARDES LTDA. - COOFAB"
        ],
        [
         "S5",
         41790809,
         "COOPERATIVA DE ECONOMIA E CR�DITO M�TUO DOS EMPREGADOS DA HELIBRAS - HELICOOP"
        ],
        [
         "S5",
         18340695,
         "COOPERATIVA DE ECONOMIA E CR�DITO M�TUO DOS EMPREGADOS DA IND�STRIA DE PAP�IS SUDESTE LTDA . - CREDESTE"
        ],
        [
         "S5",
         45691128,
         "COOPERATIVA DE ECONOMIA E CR�DITO M�TUO DOS EMPREGADOS DA JOHNSON & JOHNSON"
        ],
        [
         "S5",
         28244622,
         "COOPERATIVA DE ECONOMIA E CR�DITO M�TUO DOS EMPREGADOS DA JOLIMODE ROUPAS E EMPRESAS COLIGADAS LTDA"
        ],
        [
         "S5",
         913314,
         "COOPERATIVA DE ECONOMIA E CR�DITO M�TUO DOS EMPREGADOS DA MAGNESITA REFRAT�RIOS S.A. LTDA. - CECREM"
        ],
        [
         "S5",
         4998845,
         "COOPERATIVA DE ECONOMIA E CR�DITO M�TUO DOS EMPREGADOS DA MINERAC�O RIO DO NORTE S/A, EM PORTO TROMBETAS LIMITADA -  CREDNORTE"
        ],
        [
         "S5",
         62795257,
         "COOPERATIVA DE ECONOMIA E CR�DITO M�TUO DOS EMPREGADOS DA MONDELEZ BRASIL, PHILIP MORRIS BRASIL E K&S ALIMENTOS"
        ],
        [
         "S5",
         59133793,
         "COOPERATIVA DE ECONOMIA E CR�DITO M�TUO DOS EMPREGADOS DA MONSANTO"
        ],
        [
         "S5",
         57545436,
         "COOPERATIVA DE ECONOMIA E CR�DITO M�TUO DOS EMPREGADOS DA NOVELIS"
        ],
        [
         "S5",
         42445122,
         "COOPERATIVA DE ECONOMIA E CR�DITO M�TUO DOS EMPREGADOS DA PONTIF�CIA UNIVERSIDADE CAT�LICA DO RIO DE JANEIRO E EMPREGADOS EM ESTABELECIMENTOS PRIVADOS DE ENSINO DO MUNIC�PIO DO RIO DE JANEIRO LTDA."
        ],
        [
         "S5",
         67031757,
         "COOPERATIVA DE ECONOMIA E CR�DITO M�TUO DOS EMPREGADOS DA PRODAM/SP - CREDIPRODAM"
        ],
        [
         "S5",
         44223196,
         "COOPERATIVA DE ECONOMIA E CR�DITO M�TUO DOS EMPREGADOS DA RECKITT BENCKISER"
        ],
        [
         "S5",
         46058731,
         "COOPERATIVA DE ECONOMIA E CR�DITO M�TUO DOS EMPREGADOS DA RHODIA PAULINIA"
        ],
        [
         "S5",
         48140925,
         "COOPERATIVA DE ECONOMIA E CR�DITO M�TUO DOS EMPREGADOS DA SAINT-GOBAIN DO BRASIL PRODUTOS INDUSTRIAIS E PARA CONSTRU��O - DIVIS�O VIDRO PLANO"
        ],
        [
         "S5",
         20622809,
         "COOPERATIVA DE ECONOMIA E CR�DITO M�TUO DOS EMPREGADOS DA SAMARCO MINERA��O S.A. LTDA - CREDISAM"
        ],
        [
         "S5",
         47944277,
         "COOPERATIVA DE ECONOMIA E CR�DITO M�TUO DOS EMPREGADOS DA TAKATA-PETRI"
        ],
        [
         "S5",
         27669753,
         "COOPERATIVA DE ECONOMIA E CREDITO MUTUO DOS EMPREGADOS DA TEADIT E OUTRAS EMPRESAS ASSOCIADAS LTDA"
        ],
        [
         "S5",
         4249235,
         "COOPERATIVA DE ECONOMIA E CR�DITO M�TUO DOS EMPREGADOS DA TEKSID DO BRASIL LTDA., E NEMAK ALUM�NIO DO BRASIL LTDA."
        ],
        [
         "S5",
         3685335,
         "COOPERATIVA DE ECONOMIA E CR�DITO M�TUO DOS EMPREGADOS DA UNIFI - CREDIUNIFI"
        ],
        [
         "S5",
         17607375,
         "COOPERATIVA DE ECONOMIA E CR�DITO M�TUO DOS EMPREGADOS DA VALE FERTILIZANTES DE UBERABA - COPERURA LTDA."
        ],
        [
         "S5",
         968834,
         "COOPERATIVA DE ECONOMIA E CR�DITO M�TUO DOS EMPREGADOS DA VALE FERTILIZANTES S/A - COCRESGO LTDA."
        ],
        [
         "S5",
         68969625,
         "COOPERATIVA DE ECONOMIA E CR�DITO M�TUO DOS EMPREGADOS DAS EMPRESAS CONTROLADAS E COLIGADAS DA USINA SANTA ADELIA - USAGRO"
        ],
        [
         "S5",
         68314921,
         "COOPERATIVA DE ECONOMIA E CR�DITO M�TUO DOS EMPREGADOS DAS EMPRESAS DE DIVERS�ES DO ESTADO DE S�O PAULO"
        ],
        [
         "S5",
         62035456,
         "COOPERATIVA DE ECONOMIA E CR�DITO M�TUO DOS EMPREGADOS DAS EMPRESAS DE REDUTORES DE TRANSMISS�O DO ESTADO DE S�O PAULO - COOPER-PTI"
        ],
        [
         "S5",
         141155,
         "COOPERATIVA DE ECONOMIA E CREDITO MUTUO DOS EMPREGADOS DAS EMPRESAS DE TRANSPORTES COLETIVOS RODOVI�RIOS DE PASSAGEIROS DO GRANDE RIO LTDA"
        ],
        [
         "S5",
         57563728,
         "COOPERATIVA DE ECONOMIA E CR�DITO M�TUO DOS EMPREGADOS DAS EMPRESAS DO GRUPO ECON�MICO RHODIA"
        ],
        [
         "S5",
         19875244,
         "COOPERATIVA DE ECONOMIA E CR�DITO M�TUO DOS EMPREGADOS DAS EMPRESAS E PRESTADORES DE SERVI�O DO GRUPO ARCELORMITTAL - SICOOB COPESITA"
        ],
        [
         "S5",
         53505681,
         "COOPERATIVA DE ECONOMIA E CR�DITO M�TUO DOS EMPREGADOS DAS EMPRESAS METAL�RGICAS DE MAT�O - METALCOOPERCRED"
        ],
        [
         "S5",
         3535065,
         "COOPERATIVA DE ECONOMIA E CR�DITO M�TUO DOS EMPREGADOS DAS EMPRESAS METAL�RGICAS DE OSASCO E REGI�O - CREDMETAL"
        ],
        [
         "S5",
         17411307,
         "COOPERATIVA DE ECONOMIA E CR�DITO M�TUO DOS EMPREGADOS DAS EMPRESAS PLASCAR"
        ],
        [
         "S5",
         89280960,
         "COOPERATIVA DE ECONOMIA E CREDITO MUTUO DOS EMPREGADOS DAS EMPRESAS RANDON"
        ],
        [
         "S5",
         24235459,
         "COOPERATIVA DE ECONOMIA E CR�DITO M�TUO DOS EMPREGADOS DAS EMPRESAS SIDER�RGICAS, METAL�RGICAS E ELETRO-MEC�NICAS DE JO�O MONLEVADE LTDA. - SICOOB CREDIBELGO"
        ],
        [
         "S5",
         129753,
         "COOPERATIVA DE ECONOMIA E CR�DITO M�TUO DOS EMPREGADOS DAS EMPRESAS SOMART LTDA."
        ],
        [
         "S5",
         53272365,
         "COOPERATIVA DE ECONOMIA E CR�DITO M�TUO DOS EMPREGADOS DAS IND�STRIAS UNILEVER DO BRASIL"
        ],
        [
         "S5",
         2414044,
         "COOPERATIVA DE ECONOMIA E CR�DITO M�TUO DOS EMPREGADOS DAS INSTITUI��ES DE ENSINO SUPERIOR DO SUL DE MINAS LTDA. - CREDFENAS"
        ],
        [
         "S5",
         30949267,
         "COOPERATIVA DE ECONOMIA E CREDITO MUTUO DOS EMPREGADOS DE CHOCOLATES GAROTO LTDA. - CREDI-GAROTO"
        ],
        [
         "S5",
         42107706,
         "COOPERATIVA DE ECONOMIA E CREDITO MUTUO DOS EMPREGADOS DE ELEVADORES ATLAS SCHINDLER LTDA."
        ],
        [
         "S5",
         31746993,
         "COOPERATIVA DE ECONOMIA E CREDITO MUTUO DOS EMPREGADOS DE ESTABELECIMENTOS HOSPITALARES DO SUL DO ESTADO DO ESPIRITO SANTO - SULCRED"
        ],
        [
         "S5",
         92935741,
         "COOPERATIVA DE ECONOMIA E CR�DITO M�TUO DOS EMPREGADOS DO BANRISUL"
        ],
        [
         "S5",
         2447184,
         "COOPERATIVA DE ECONOMIA E CREDITO MUTUO DOS EMPREGADOS DO COLEGIO SANTO INACIO - COESI"
        ],
        [
         "S5",
         8931800,
         "COOPERATIVA DE ECONOMIA E CR�DITO M�TUO DOS EMPREGADOS DO GRUPO ALCOA EM PERNAMBUCO"
        ],
        [
         "S5",
         1296040,
         "COOPERATIVA DE ECONOMIA E CR�DITO M�TUO DOS EMPREGADOS DO GRUPO ALGAR LTDA. - SICOOB CREDIEMPAR"
        ],
        [
         "S5",
         73631483,
         "COOPERATIVA DE ECONOMIA E CREDITO MUTUO DOS EMPREGADOS DO GRUPO BAYER LTDA"
        ],
        [
         "S5",
         33916883,
         "COOPERATIVA DE ECONOMIA E CREDITO MUTUO DOS EMPREGADOS DO GRUPO BEZERRA DE MELLO LTDA"
        ],
        [
         "S5",
         2024442,
         "COOPERATIVA DE ECONOMIA E CR�DITO M�TUO DOS EMPREGADOS DO GRUPO COLORADO"
        ],
        [
         "S5",
         33924028,
         "COOPERATIVA DE ECONOMIA E CREDITO MUTUO DOS EMPREGADOS DO GRUPO CVRD E ENTIDADES VINCULADAS LTDA."
        ],
        [
         "S5",
         43488782,
         "COOPERATIVA DE ECONOMIA E CR�DITO M�TUO DOS EMPREGADOS DO GRUPO FEMSA BRASIL"
        ],
        [
         "S5",
         29985421,
         "COOPERATIVA DE ECONOMIA E CREDITO MUTUO DOS EMPREGADOS DO GRUPO JOSE NEFFA LTDA"
        ],
        [
         "S5",
         65594772,
         "COOPERATIVA DE ECONOMIA E CR�DITO M�TUO DOS EMPREGADOS DO GRUPO METALAC - COOPERMETA"
        ],
        [
         "S5",
         46277273,
         "COOPERATIVA DE ECONOMIA E CR�DITO M�TUO DOS EMPREGADOS DO GRUPO P�O DE A��CAR"
        ],
        [
         "S5",
         88183173,
         "COOPERATIVA DE ECONOMIA E CR�DITO M�TUO DOS EMPREGADOS DO GRUPO PARAMOUNT"
        ],
        [
         "S5",
         88325097,
         "COOPERATIVA DE ECONOMIA E CREDITO MUTUO DOS EMPREGADOS DO GRUPO SAINT GOBAIN"
        ],
        [
         "S5",
         2232228,
         "COOPERATIVA DE ECONOMIA E CR�DITO M�TUO DOS EMPREGADOS DO GRUPO SBF LTDA. - COOPER ATIVA SBF"
        ],
        [
         "S5",
         62284385,
         "COOPERATIVA DE ECONOMIA E CR�DITO M�TUO DOS EMPREGADOS DO GRUPO SCHAEFFLER"
        ],
        [
         "S5",
         57598120,
         "COOPERATIVA DE ECONOMIA E CR�DITO M�TUO DOS EMPREGADOS DO GRUPO TELEF�NICA"
        ],
        [
         "S5",
         27140946,
         "COOPERATIVA DE ECONOMIA E CREDITO MUTUO DOS EMPREGADOS DO GRUPO USINA PAINEIRAS LTDA - CRED-PAN"
        ],
        [
         "S5",
         5658367,
         "COOPERATIVA DE ECONOMIA E CR�DITO M�TUO DOS EMPREGADOS DO SEBRAE BAHIA - COOPSOL"
        ],
        [
         "S5",
         92675578,
         "COOPERATIVA DE ECONOMIA E CR�DITO M�TUO DOS EMPREGADOS DO SISTEMA FIERGS - CRESUL"
        ],
        [
         "S5",
         30586895,
         "COOPERATIVA DE ECONOMIA E CREDITO MUTUO DOS EMPREGADOS DOS LABORATORIOS B.BRAUN LTDA"
        ],
        [
         "S5",
         2230138,
         "COOPERATIVA DE ECONOMIA E CR�DITO M�TUO DOS EMPREGADOS DOS SUPERMERCADOS RUSSI"
        ],
        [
         "S5",
         54603022,
         "COOPERATIVA DE ECONOMIA E CR�DITO M�TUO DOS EMPREGADOS E SERVIDORES DA SABESP E EM EMPRESAS DE SANEAMENTO AMBIENTAL DO ESTADO DE S�O PAULO - CECRES"
        ],
        [
         "S5",
         3973743,
         "COOPERATIVA DE ECONOMIA E CREDITO MUTUO DOS EMPREGADOS IND.ALIMENTACAO REG.GRDE.VITORIA EST.ES-CREDI-ALIMENTO"
        ],
        [
         "S5",
         5424088,
         "COOPERATIVA DE ECONOMIA E CREDITO MUTUO DOS EMPREGADOS NAS INDUSTRIAS QUIMICAS, FARMACEUTICAS E SIMILARES DA REGIAO METROPOLITANA DO RIO DE JANEIRO LTDA"
        ],
        [
         "S5",
         92825397,
         "COOPERATIVA DE ECONOMIA E CR�DITO M�TUO DOS EMPREGADOS, APOSENTADOS E PENSIONISTAS DA COMPANHIA ESTADUAL DE ENERGIA EL�TRICA E ELETRICIT�RIOS DO RIO GRANDE DO SUL   CRECE"
        ],
        [
         "S5",
         23295315,
         "COOPERATIVA DE ECONOMIA E CR�DITO M�TUO DOS EMPRES�RIOS DA REGI�O METROPOLITANA DE JO�O PESSOA E LITORAL DA PARA�BA - SICOOB LITORAL PARAIBANO"
        ],
        [
         "S5",
         22150505,
         "COOPERATIVA DE ECONOMIA E CR�DITO M�TUO DOS EMPRES�RIOS DA REGI�O METROPOLITANA DE PATOS - SICOOB SERT�O PARAIBANO"
        ],
        [
         "S5",
         22491263,
         "COOPERATIVA DE ECONOMIA E CR�DITO M�TUO DOS EMPRES�RIOS DA REGI�O NORTE MARANHENSE - SICOOB NORTE MARANHENSE"
        ],
        [
         "S5",
         9579249,
         "COOPERATIVA DE ECONOMIA E CR�DITO M�TUO DOS EMPRES�RIOS DE AMERICANA, LIMEIRA E REGI�O - SICOOB ACICRED"
        ],
        [
         "S5",
         8844074,
         "COOPERATIVA DE ECONOMIA E CR�DITO M�TUO DOS EMPRES�RIOS DE ITAPETININGA - SICOOB CRED-ACI"
        ],
        [
         "S5",
         8795285,
         "COOPERATIVA DE ECONOMIA E CR�DITO M�TUO DOS EMPRES�RIOS DE LEME - SICOOB CREDIACIL"
        ],
        [
         "S5",
         9004796,
         "COOPERATIVA DE ECONOMIA E CR�DITO M�TUO DOS EMPRES�RIOS DE LEN��IS PAULISTA - SICOOB CRED-ACILPA"
        ],
        [
         "S5",
         9639338,
         "COOPERATIVA DE ECONOMIA E CR�DITO M�TUO DOS EMPRES�RIOS DE PRAIA GRANDE E REGI�O - SICOOB COOPERACE"
        ],
        [
         "S5",
         8937938,
         "COOPERATIVA DE ECONOMIA E CR�DITO M�TUO DOS EMPRES�RIOS DE PRESIDENTE VENCESLAU - SICOOB CREDIACIPREV"
        ],
        [
         "S5",
         8071414,
         "COOPERATIVA DE ECONOMIA E CR�DITO M�TUO DOS EMPRES�RIOS DE RIBEIR�O PRETO E REGI�O - SICOOB COOPERAC"
        ],
        [
         "S5",
         9527069,
         "COOPERATIVA DE ECONOMIA E CR�DITO M�TUO DOS EMPRES�RIOS DE RIO CLARO - SICOOB CREDIACIRC"
        ],
        [
         "S5",
         10175348,
         "COOPERATIVA DE ECONOMIA E CR�DITO M�TUO DOS EMPRES�RIOS DE SOROCABA E REGI�O - SICOOB"
        ],
        [
         "S5",
         8075352,
         "COOPERATIVA DE ECONOMIA E CR�DITO M�TUO DOS EMPRES�RIOS DE TRANSPORTES DO ESTADO DE SANTA CATARINA   TRANSPOCRED"
        ],
        [
         "S5",
         9187555,
         "COOPERATIVA DE ECONOMIA E CR�DITO M�TUO DOS ENGENHEIROS, ARQUITETOS, AGR�NOMOS E AFINS DO ESTADO DO RIO GRANDE DO SUL"
        ],
        [
         "S5",
         5841967,
         "COOPERATIVA DE ECONOMIA E CR�DITO M�TUO DOS FABRICANTES DE CAL�ADOS DE SAPIRANGA LTDA."
        ],
        [
         "S5",
         43438662,
         "COOPERATIVA DE ECONOMIA E CR�DITO M�TUO DOS FUNCION�RIOS DA ABRIL"
        ],
        [
         "S5",
         45068632,
         "COOPERATIVA DE ECONOMIA E CR�DITO M�TUO DOS FUNCION�RIOS DA ACUMENT BRASIL"
        ],
        [
         "S5",
         9128022,
         "COOPERATIVA DE ECONOMIA E CR�DITO M�TUO DOS FUNCION�RIOS DA AFFINIA"
        ],
        [
         "S5",
         64761471,
         "COOPERATIVA DE ECONOMIA E CR�DITO M�TUO DOS FUNCION�RIOS DA ANDORINHA - COFASA"
        ],
        [
         "S5",
         41146382,
         "COOPERATIVA DE ECONOMIA E CR�DITO M�TUO DOS FUNCION�RIOS DA ASSEMBL�IA LEGISLATIVA DO ESTADO DA PARA�BA LTDA. -  COOPERLEGIS"
        ],
        [
         "S5",
         65560658,
         "COOPERATIVA DE ECONOMIA E CR�DITO M�TUO DOS FUNCION�RIOS DA ASSOCIA��O CONGREGA��O DE SANTA CATARINA"
        ],
        [
         "S5",
         1288797,
         "COOPERATIVA DE ECONOMIA E CR�DITO M�TUO DOS FUNCION�RIOS DA ASTRAZENECA DO BRASIL"
        ],
        [
         "S5",
         57038408,
         "COOPERATIVA DE ECONOMIA E CR�DITO M�TUO DOS FUNCION�RIOS DA BOMBRIL"
        ],
        [
         "S5",
         68228006,
         "COOPERATIVA DE ECONOMIA E CR�DITO M�TUO DOS FUNCION�RIOS DA CARGILL"
        ],
        [
         "S5",
         32615247,
         "COOPERATIVA DE ECONOMIA E CR�DITO M�TUO DOS FUNCION�RIOS DA CEPLAC LTDA"
        ],
        [
         "S5",
         44958981,
         "COOPERATIVA DE ECONOMIA E CR�DITO M�TUO DOS FUNCION�RIOS DA CIA A�UCAREIRA VALE DO ROS�RIO - COOPERVALE"
        ],
        [
         "S5",
         1062439,
         "COOPERATIVA DE ECONOMIA E CREDITO MUTUO DOS FUNCIONARIOS DA COMIGO"
        ],
        [
         "S5",
         1530136,
         "COOPERATIVA DE ECONOMIA E CR�DITO M�TUO DOS FUNCION�RIOS DA COMPANHIA PAULISTA DE TRENS METROPOLITANOS"
        ],
        [
         "S5",
         67607564,
         "COOPERATIVA DE ECONOMIA E CR�DITO M�TUO DOS FUNCION�RIOS DA CORREIAS MERC�RIO"
        ],
        [
         "S5",
         50654300,
         "COOPERATIVA DE ECONOMIA E CR�DITO M�TUO DOS FUNCION�RIOS DA DANA"
        ],
        [
         "S5",
         91018408,
         "COOPERATIVA DE ECONOMIA E CR�DITO M�TUO DOS FUNCION�RIOS DA DANA IND�STRIAS"
        ],
        [
         "S5",
         45045671,
         "COOPERATIVA DE ECONOMIA E CR�DITO M�TUO DOS FUNCION�RIOS DA ELGIN"
        ],
        [
         "S5",
         48718183,
         "COOPERATIVA DE ECONOMIA E CR�DITO M�TUO DOS FUNCION�RIOS DA ERICSSON"
        ],
        [
         "S5",
         2825208,
         "COOPERATIVA DE ECONOMIA E CREDITO MUTUO DOS FUNCIONARIOS DA EVANIL - COOFE"
        ],
        [
         "S5",
         57259525,
         "COOPERATIVA DE ECONOMIA E CR�DITO M�TUO DOS FUNCION�RIOS DA FACULDADE DE CI�NCIAS AGR�RIAS E VETERIN�RIAS - CAMPUS DE JABOTICABAL/SP - SICOOB COOPERFAC"
        ],
        [
         "S5",
         42258376,
         "COOPERATIVA DE ECONOMIA E CREDITO MUTUO DOS FUNCIONARIOS DA FMC LTDA"
        ],
        [
         "S5",
         2846074,
         "COOPERATIVA DE ECONOMIA E CR�DITO M�TUO DOS FUNCION�RIOS DA FUNDACAO EDUCACIONAL DE BARRETOS - COOPERFEB"
        ],
        [
         "S5",
         1997612,
         "COOPERATIVA DE ECONOMIA E CR�DITO M�TUO DOS FUNCION�RIOS DA FUNDACAO ZERBINI - COOPINCOR"
        ],
        [
         "S5",
         60219045,
         "COOPERATIVA DE ECONOMIA E CR�DITO M�TUO DOS FUNCION�RIOS DA GERDAU S.A. - UNIDADE PINDAMONHANGABA"
        ],
        [
         "S5",
         52575206,
         "COOPERATIVA DE ECONOMIA E CR�DITO M�TUO DOS FUNCION�RIOS DA GERDAU S/A-UNIDADE MOGI DAS CRUZES"
        ],
        [
         "S5",
         5331882,
         "COOPERATIVA DE ECONOMIA E CREDITO MUTUO DOS FUNCIONARIOS DA GKN DO BRASIL LTDA"
        ],
        [
         "S5",
         59620708,
         "COOPERATIVA DE ECONOMIA E CR�DITO M�TUO DOS FUNCION�RIOS DA INTERNATIONAL IND�STRIA AUTOMOTIVA DA AM�RICA DO SUL"
        ],
        [
         "S5",
         44378586,
         "COOPERATIVA DE ECONOMIA E CR�DITO M�TUO DOS FUNCION�RIOS DA MAXION LTDA - COOPERMAXION"
        ],
        [
         "S5",
         731320,
         "COOPERATIVA DE ECONOMIA E CR�DITO M�TUO DOS FUNCION�RIOS DA MORLAN"
        ],
        [
         "S5",
         62562012,
         "COOPERATIVA DE ECONOMIA E CR�DITO M�TUO DOS FUNCION�RIOS DA NESTL� - CREDI NESTL�"
        ],
        [
         "S5",
         48172860,
         "COOPERATIVA DE ECONOMIA E CR�DITO M�TUO DOS FUNCION�RIOS DA OWENS CORNING FIBERGLAS AM�RICA DO SUL"
        ],
        [
         "S5",
         3165497,
         "COOPERATIVA DE ECONOMIA E CREDITO MUTUO DOS FUNCIONARIOS DA SANEPAR - CREDISANEPAR"
        ],
        [
         "S5",
         16721078,
         "COOPERATIVA DE ECONOMIA E CR�DITO M�TUO DOS FUNCION�RIOS DA SECRETARIA DE ESTADO DA FAZENDA DE MINAS GERAIS E �RG�OS OFICIAIS DO ESTADO DE MINAS GERAIS LTDA   SICOOB COOPSEF"
        ],
        [
         "S5",
         72952138,
         "COOPERATIVA DE ECONOMIA E CR�DITO M�TUO DOS FUNCION�RIOS DA SELENE"
        ],
        [
         "S5",
         67341487,
         "COOPERATIVA DE ECONOMIA E CR�DITO M�TUO DOS FUNCION�RIOS DA TETRA PAK"
        ],
        [
         "S5",
         57440521,
         "COOPERATIVA DE ECONOMIA E CR�DITO M�TUO DOS FUNCION�RIOS DA TICKET SERVI�OS COM�RCIO E ADMINISTRA��O"
        ],
        [
         "S5",
         1107759,
         "COOPERATIVA DE ECONOMIA E CR�DITO M�TUO DOS FUNCION�RIOS DA USINA SANTA MARIA - PILONCRED"
        ],
        [
         "S5",
         51920502,
         "COOPERATIVA DE ECONOMIA E CR�DITO M�TUO DOS FUNCION�RIOS DA VB TRANSPORTES E TURISMO"
        ],
        [
         "S5",
         2192115,
         "COOPERATIVA DE ECONOMIA E CREDITO MUTUO DOS FUNCIONARIOS DA VIACAO NOSSA SENHORA DO AMPARO LTDA. - COPERFAMP"
        ],
        [
         "S5",
         53846242,
         "COOPERATIVA DE ECONOMIA E CR�DITO M�TUO DOS FUNCION�RIOS DA VILLARES METALS"
        ],
        [
         "S5",
         2541707,
         "COOPERATIVA DE ECONOMIA E CR�DITO M�TUO DOS FUNCION�RIOS DAS EMPRESAS DE CER�MICA - COOPASPACER"
        ],
        [
         "S5",
         52301496,
         "COOPERATIVA DE ECONOMIA E CR�DITO M�TUO DOS FUNCION�RIOS DAS EMPRESAS DE ENERGIA EL�TRICA DO ESTADO DE S�O PAULO - COOPENERG"
        ],
        [
         "S5",
         43446335,
         "COOPERATIVA DE ECONOMIA E CR�DITO M�TUO DOS FUNCION�RIOS DAS EMPRESAS ITA�"
        ],
        [
         "S5",
         1504952,
         "COOPERATIVA DE ECONOMIA E CR�DITO M�TUO DOS FUNCION�RIOS DAS EMPRESAS MELHORAMENTOS DE S�O PAULO"
        ],
        [
         "S5",
         2321862,
         "COOPERATIVA DE ECONOMIA E CR�DITO M�TUO DOS FUNCION�RIOS DAS INSTITUI��ES DE SERVI�O SOCIAL AUT�NOMO EM MANAUS LTDA."
        ],
        [
         "S5",
         2869663,
         "COOPERATIVA DE ECONOMIA E CREDITO MUTUO DOS FUNCIONARIOS DE INSTITUICOES FINANCEIRAS PUBLICAS NO ESTADO DO ESPIRITO SANTO - CREDBRASIL-ES"
        ],
        [
         "S5",
         45214947,
         "COOPERATIVA DE ECONOMIA E CR�DITO M�TUO DOS FUNCION�RIOS DE PARKER HANNIFIN"
        ],
        [
         "S5",
         42123000,
         "COOPERATIVA DE ECONOMIA E CREDITO MUTUO DOS FUNCIONARIOS DE PRODUTOS ROCHE QUIMICOS E FARMACEUTICOS S.A., LTDA"
        ],
        [
         "S5",
         52218849,
         "COOPERATIVA DE ECONOMIA E CR�DITO M�TUO DOS FUNCION�RIOS DE ZANETTINI BAROSSI"
        ],
        [
         "S5",
         52046299,
         "COOPERATIVA DE ECONOMIA E CR�DITO M�TUO DOS FUNCION�RIOS DO ATACAD�O"
        ],
        [
         "S5",
         3219207,
         "COOPERATIVA DE ECONOMIA E CR�DITO M�TUO DOS FUNCION�RIOS DO BANESPA DE BOTUCATU E CIDADES LIM�TROFES"
        ],
        [
         "S5",
         1551820,
         "COOPERATIVA DE ECONOMIA E CREDITO MUTUO DOS FUNCIONARIOS DO EXPRESSO PRINCESA DOS CAMPOS"
        ],
        [
         "S5",
         71965313,
         "COOPERATIVA DE ECONOMIA E CR�DITO M�TUO DOS FUNCION�RIOS DO FLEURY"
        ],
        [
         "S5",
         43268960,
         "COOPERATIVA DE ECONOMIA E CR�DITO M�TUO DOS FUNCION�RIOS DO GRUPO AVIBRAS"
        ],
        [
         "S5",
         47196084,
         "COOPERATIVA DE ECONOMIA E CR�DITO M�TUO DOS FUNCION�RIOS DO GRUPO COMOLATTI - S�O PAULO"
        ],
        [
         "S5",
         1439107,
         "COOPERATIVA DE ECONOMIA E CR�DITO M�TUO DOS FUNCION�RIOS DO GRUPO COSAN - BARRACRED COSAN"
        ],
        [
         "S5",
         1499278,
         "COOPERATIVA DE ECONOMIA E CR�DITO M�TUO DOS FUNCION�RIOS DO GRUPO GARD�NIA LTDA. - COOPERGARD�NIA"
        ],
        [
         "S5",
         88952130,
         "COOPERATIVA DE ECONOMIA E CR�DITO M�TUO DOS FUNCION�RIOS DO GRUPO GERDAU - A�OS FINOS PIRATINI"
        ],
        [
         "S5",
         2786691,
         "COOPERATIVA DE ECONOMIA E CREDITO MUTUO DOS FUNCIONARIOS DO GRUPO HELIO ALONSO-COOPERHA-LTDA"
        ],
        [
         "S5",
         5548335,
         "COOPERATIVA DE ECONOMIA E CR�DITO M�TUO DOS FUNCION�RIOS DO GRUPO JAL LTDA."
        ],
        [
         "S5",
         44905255,
         "COOPERATIVA DE ECONOMIA E CR�DITO M�TUO DOS FUNCION�RIOS DO GRUPO LORENZETTI"
        ],
        [
         "S5",
         5048575,
         "COOPERATIVA DE ECONOMIA E CREDITO MUTUO DOS FUNCIONARIOS DO GRUPO MAUA LTDA"
        ],
        [
         "S5",
         43182278,
         "COOPERATIVA DE ECONOMIA E CR�DITO M�TUO DOS FUNCION�RIOS DO GRUPO OWENS-ILLINOIS DO BRASIL"
        ],
        [
         "S5",
         2931166,
         "COOPERATIVA DE ECONOMIA E CREDITO MUTUO DOS FUNCIONARIOS DO GRUPO PROGRESSO LTDA - PROCRED"
        ],
        [
         "S5",
         548980,
         "COOPERATIVA DE ECONOMIA E CR�DITO M�TUO DOS FUNCION�RIOS DO GRUPO SUGGAR LTDA."
        ],
        [
         "S5",
         89523518,
         "COOPERATIVA DE ECONOMIA E CR�DITO M�TUO DOS FUNCION�RIOS DO GRUPO VONPAR"
        ],
        [
         "S5",
         75174953,
         "COOPERATIVA DE ECONOMIA E CR�DITO M�TUO DOS FUNCION�RIOS DO GRUPO VOTORANTIM LIMITADA."
        ],
        [
         "S5",
         74026998,
         "COOPERATIVA DE ECONOMIA E CR�DITO M�TUO DOS FUNCION�RIOS DO GRUPO WALMART LTDA. - SICOOB COOPERBOM"
        ],
        [
         "S5",
         44588366,
         "COOPERATIVA DE ECONOMIA E CR�DITO M�TUO DOS FUNCION�RIOS DO HOSPITAL VERA CRUZ E VERA CRUZ ASSOCIA��O DE SA�DE"
        ],
        [
         "S5",
         2312896,
         "COOPERATIVA DE ECONOMIA E CR�DITO M�TUO DOS FUNCION�RIOS DO R�PIDO LUXO CAMPINAS"
        ],
        [
         "S5",
         87956355,
         "COOPERATIVA DE ECONOMIA E CR�DITO M�TUO DOS FUNCION�RIOS DOS CORREIOS NOS ESTADOS DO RIO GRANDE DO SUL, SANTA CATARINA E PARAN� - CREDCORREIOS"
        ],
        [
         "S5",
         64739121,
         "COOPERATIVA DE ECONOMIA E CR�DITO M�TUO DOS FUNCION�RIOS E PRESTADORES DE SERVI�OS DA COCRED-COPERCANA-CANAOESTE - SICOOB CRED COPERCANA"
        ],
        [
         "S5",
         24610065,
         "COOPERATIVA DE ECONOMIA E CR�DITO M�TUO DOS FUNCION�RIOS E SERVIDORES P�BLICOS DO ESTADO DE MATO GROSSO DO SUL - SICOOB COCRESUL"
        ],
        [
         "S5",
         2115870,
         "COOPERATIVA DE ECONOMIA E CR�DITO M�TUO DOS FUNCION�RIOS P�BLICOS MUNICIPAIS DE ITAPIRA"
        ],
        [
         "S5",
         3212823,
         "COOPERATIVA DE ECONOMIA E CR�DITO M�TUO DOS INTEGRANTES DA BRIGADA MILITAR DO RIO GRANDE DO SUL - SICREDI MIL RS"
        ],
        [
         "S5",
         4751713,
         "COOPERATIVA DE ECONOMIA E CR�DITO M�TUO DOS INTEGRANTES DAS CARREIRAS JUR�DICAS E DOS SERVENTU�RIOS DE �RG�OS DA JUSTI�A E AFINS, NO ESTADO DE ROND�NIA   SICOOB CREDJURD"
        ],
        [
         "S5",
         84156470,
         "COOPERATIVA DE ECONOMIA E CR�DITO M�TUO DOS INTEGRANTES DO  MINIST�RIO P�BLICO E DO PODER JUDICI�RIO DO ESTADO DO PAR� LTDA - COIMPPA"
        ],
        [
         "S5",
         3662047,
         "COOPERATIVA DE ECONOMIA E CREDITO MUTUO DOS INTEGRANTES DO MINISTERIO PUBLICO DO RIO GRANDE DO SUL - SICREDI MP"
        ],
        [
         "S5",
         4694278,
         "COOPERATIVA DE ECONOMIA E CR�DITO M�TUO DOS INTEGRANTES DO MINIST�RIO P�BLICO E DA DEFENSORIA P�BLICA NO ESTADO DO RIO DE JANEIRO LIMITADA. - SICOOB COMPERJ"
        ],
        [
         "S5",
         3750034,
         "COOPERATIVA DE ECONOMIA E CREDITO MUTUO DOS JUIZES DO RIO GRANDE DO SUL - SICREDI AJURIS"
        ],
        [
         "S5",
         51489318,
         "COOPERATIVA DE ECONOMIA E CR�DITO M�TUO DOS MAGISTRADOS DE S�O PAULO - MAGISCRED"
        ],
        [
         "S5",
         5477038,
         "COOPERATIVA DE ECONOMIA E CR�DITO M�TUO DOS MAGISTRADOS E SERVIDORES DO PODER JUDICI�RIO E �RG�OS JUR�DICOS ESTADUAIS E FEDERAIS NA GRANDE TERESINA - SICOOB JURISCRED/PI"
        ],
        [
         "S5",
         4355489,
         "COOPERATIVA DE ECONOMIA E CREDITO MUTUO DOS MAGISTRADOS, MEMBROS DO MINIST�RIO P�BLICO E PROFISSIONAIS DO DIREITO CATARINENSES LTDA - COOMARCA"
        ],
        [
         "S5",
         8041950,
         "COOPERATIVA DE ECONOMIA E CR�DITO M�TUO DOS MAGISTRADOS, MEMBROS DO MINIST�RIO P�BLICO, DEFENSORES P�BLICOS E SERVIDORES DO PODER JUDICI�RIO NO ESTADO DO CEAR� - SICREDI COOPERJURIS"
        ],
        [
         "S5",
         95163002,
         "COOPERATIVA DE ECONOMIA E CR�DITO M�TUO DOS M�DICOS DA REGI�O DAS MISS�ES E NOROESTE DO RS LTDA"
        ],
        [
         "S5",
         2159014,
         "COOPERATIVA DE ECONOMIA E CR�DITO M�TUO DOS M�DICOS DE JABOTICABAL - COPERMED JABOTICABAL"
        ],
        [
         "S5",
         94433109,
         "COOPERATIVA DE ECONOMIA E CREDITO MUTUO DOS MEDICOS DE PORTO ALEGRE LTDA-UNICRED PORTO ALEGRE"
        ],
        [
         "S5",
         97259253,
         "COOPERATIVA DE ECONOMIA E CREDITO M�TUO DOS M�DICOS DO PLANALTO M�DIO DO RIO GRANDE DO SUL LTDA - CREDIPLAN"
        ],
        [
         "S5",
         1635462,
         "COOPERATIVA DE ECONOMIA E CR�DITO M�TUO DOS M�DICOS DOS VALES DO TAQUARI E RIO PARDO E REGI�O DA PRODU��O LTDA"
        ],
        [
         "S5",
         1090027,
         "COOPERATIVA DE ECONOMIA E CREDITO MUTUO DOS MEDICOS E CATEGORIAS AFINS-UNICRED NITEROI LTDA"
        ],
        [
         "S5",
         39808449,
         "COOPERATIVA DE ECONOMIA E CR�DITO M�TUO DOS M�DICOS E DEMAIS PROFISSIONAIS  DE N�VEL SUPERIOR DA SA�DE DE VIT�RIA LTDA. - UNICRED VIT�RIA"
        ],
        [
         "S5",
         3575699,
         "COOPERATIVA DE ECONOMIA E CR�DITO M�TUO DOS M�DICOS E DEMAIS PROFISSIONAIS DA �REA DE SA�DE DA REGI�O DE RIBEIR�O PRETO - MEDCRED DE RIBEIR�O PRETO"
        ],
        [
         "S5",
         71884498,
         "COOPERATIVA DE ECONOMIA E CR�DITO M�TUO DOS M�DICOS E DEMAIS PROFISSIONAIS DA �REA DE SA�DE DE CAMPINAS E REGI�O LTDA. - UNICRED CAMPINAS"
        ],
        [
         "S5",
         71479653,
         "COOPERATIVA DE ECONOMIA E CR�DITO M�TUO DOS M�DICOS E DEMAIS PROFISSIONAIS DA �REA DE SA�DE DE N�VEL SUPERIOR DE JUIZ DE FORA LTDA. - UNICRED JUIZ DE FORA"
        ],
        [
         "S5",
         1796302,
         "COOPERATIVA DE ECONOMIA E CR�DITO M�TUO DOS M�DICOS E DEMAIS PROFISSIONAIS DA REGI�O DOS VALES DO SINOS, PARANHANA E CA� LTDA - UNICRED REGI�O DOS VALES"
        ],
        [
         "S5",
         71988653,
         "COOPERATIVA DE ECONOMIA E CR�DITO M�TUO DOS M�DICOS E DEMAIS PROFISSIONAIS DA SA�DE DA REGI�O CENTRO PAULISTA � SICOOB UNIMAIS CENTRO PAULISTA"
        ],
        [
         "S5",
         2641032,
         "COOPERATIVA DE ECONOMIA E CR�DITO M�TUO DOS M�DICOS E DEMAIS PROFISSIONAIS DA SA�DE DA REGI�O CENTRO-OESTE DO RS LTDA. � UNICRED CENTRO-OESTE RS"
        ],
        [
         "S5",
         2853045,
         "COOPERATIVA DE ECONOMIA E CREDITO MUTUO DOS MEDICOS E DEMAIS PROFISSIONAIS DA SAUDE DE JOACABA"
        ],
        [
         "S5",
         1709266,
         "COOPERATIVA DE ECONOMIA E CR�DITO M�TUO DOS M�DICOS E DEMAIS PROFISSIONAIS DA SA�DE DE TE�FILO OTONI LTDA."
        ],
        [
         "S5",
         1286361,
         "COOPERATIVA DE ECONOMIA E CR�DITO M�TUO DOS M�DICOS E DEMAIS PROFISSIONAIS DA SA�DE DE TOLEDO E REGI�O LTDA. - UNIPRIME PIONEIRA DO PARAN�"
        ],
        [
         "S5",
         2197569,
         "COOPERATIVA DE ECONOMIA E CR�DITO M�TUO DOS M�DICOS E DEMAIS PROFISSIONAIS DA SA�DE DO VALE DO PARA�BA LTDA ? SICOOB VALE DO PARAIBA"
        ],
        [
         "S5",
         1572667,
         "COOPERATIVA DE ECONOMIA E CR�DITO M�TUO DOS M�DICOS E DEMAIS PROFISSIONAIS DA SA�DE, ENGENHARIA, ARQUITETURA, CONTABILIDADE, ADMINISTRA��O E ECONOMIA DE ERECHIM LTDA."
        ],
        [
         "S5",
         2179673,
         "COOPERATIVA DE ECONOMIA E CR�DITO M�TUO DOS M�DICOS E DEMAIS PROFISSIONAIS DE N�VEL SUPERIOR DA �REA DE SA�DE DE OURINHOS - OURICRED"
        ],
        [
         "S5",
         7440317,
         "COOPERATIVA DE ECONOMIA E CR�DITO MUTUO DOS MEDICOS E DEMAIS PROFISSIONAIS DE NIVEL SUPERIOR DA AREA DE SAUDE DE SALVADOR E REGIAO METROPOLITANA LTDA - SICOOB CREDMED"
        ],
        [
         "S5",
         71163315,
         "COOPERATIVA DE ECONOMIA E CR�DITO M�TUO DOS M�DICOS E DEMAIS PROFISSIONAIS DE N�VEL SUPERIOR DA SA�DE DE SETE LAGOAS LTDA."
        ],
        [
         "S5",
         69181709,
         "COOPERATIVA DE ECONOMIA E CR�DITO M�TUO DOS M�DICOS E PROFISSIONAIS DA �REA DE SA�DE DE S�O PAULO - SICOOB GRANDE S�O PAULO"
        ],
        [
         "S5",
         71261184,
         "COOPERATIVA DE ECONOMIA E CR�DITO M�TUO DOS M�DICOS E PROFISSIONAIS DA SA�DE DA REGI�O DE CARATINGA, MANHUA�U E CARANGOLA LTDA. - SICOOB PROFISSIONAIS DA SA�DE"
        ],
        [
         "S5",
         73326449,
         "COOPERATIVA DE ECONOMIA E CR�DITO M�TUO DOS M�DICOS, DEMAIS PROFISSIONAIS DA SA�DE E EMPRES�RIOS DE CRUZ ALTA LTDA."
        ],
        [
         "S5",
         2250794,
         "COOPERATIVA DE ECONOMIA E CR�DITO M�TUO DOS M�DICOS, DEMAIS PROFISSIONAIS DE N�VEL SUPERIOR DA �REA DE SA�DE E EMPRES�RIOS DE GUARULHOS E REGI�O"
        ],
        [
         "S5",
         70038237,
         "COOPERATIVA DE ECONOMIA E CR�DITO M�TUO DOS M�DICOS, DOS PROFISSIONAIS DE N�VEL SUPERIOR DA �REA DA SA�DE, DOS MEMBROS E SERV DO PODER JUD, DO MP E DE �RG�OS JUR DA REG METROP DE NATAL - SICREDI NATAL"
        ],
        [
         "S5",
         1736243,
         "COOPERATIVA DE ECONOMIA E CR�DITO M�TUO DOS M�DICOS, PROFISSIONAIS DAS CI�NCIAS E DAS ARTES E EMPRES�RIOS DA REGI�O OESTE DO PARAN� LTDA. - UNIPRIME OESTE DO PARAN�"
        ],
        [
         "S5",
         2602922,
         "COOPERATIVA DE ECONOMIA E CR�DITO M�TUO DOS M�DICOS, SERVIDORES P�BLICOS E PROFISSIONAIS DA �REA DE SA�DE DA BAHIA LTDA. - UNICRED DA BAHIA"
        ],
        [
         "S5",
         4478231,
         "COOPERATIVA DE ECONOMIA E CR�DITO M�TUO DOS MEMBROS DO MINIST�RIO P�BLICO DE S�O PAULO - PROMOCRED"
        ],
        [
         "S5",
         4833655,
         "COOPERATIVA DE ECONOMIA E CR�DITO M�TUO DOS METAL�RGICOS DA GRANDE S�O PAULO - SICOOB METALCRED"
        ],
        [
         "S5",
         7950031,
         "COOPERATIVA DE ECONOMIA E CR�DITO M�TUO DOS MILITARES E DEMAIS SERV. DOS �RG�OS FEDERAIS E ESTADUAIS DA SEG.P�BLICA, DA ADMINISTRA��O, DO PLANEJ.E DOS ORG�OS VINCULADOS DE MANAUS LTDA-MILICRED MANAUS"
        ],
        [
         "S5",
         4572960,
         "COOPERATIVA DE ECONOMIA E CR�DITO M�TUO DOS MILITARES ESTADUAIS DE SANTA CATARINA - CREDPOM"
        ],
        [
         "S5",
         6975532,
         "COOPERATIVA DE ECONOMIA E CR�DITO M�TUO DOS PEQUENOS EMPRES�RIOS, MICROEMPRES�RIOS E MICROEMPREENDEDORES DA REGI�O METROPOLITANA DE PORTO ALEGRE - COOPESA"
        ],
        [
         "S5",
         5856736,
         "COOPERATIVA DE ECONOMIA E CR�DITO M�TUO DOS PEQUENOS EMPRES�RIOS, MICROEMPRES�RIOS E MICROEMPREENDEDORES DO DISTRITO FEDERAL LTDA - SICOOB EMPRESARIAL"
        ],
        [
         "S5",
         26758433,
         "COOPERATIVA DE ECONOMIA E CR�DITO M�TUO DOS PETROLEIROS NO ESTADO DE MINAS GERAIS LTDA. - COPETRO"
        ],
        [
         "S5",
         3000142,
         "COOPERATIVA DE ECONOMIA E CREDITO MUTUO DOS POLICIAIS FEDERAIS DO RIO GRANDE DO SUL - SICREDI POL RS"
        ],
        [
         "S5",
         5419025,
         "COOPERATIVA DE ECONOMIA E CREDITO M�TUO DOS PROFESSORES ESTADUAIS DA REGI�O METROPOLITANA DE PORTO ALEGRE - EDUCREDI"
        ],
        [
         "S5",
         2072790,
         "COOPERATIVA DE ECONOMIA E CR�DITO M�TUO DOS PROFISSIONAIS DA �REA DE SA�DE DE PIRACICABA E REGI�O"
        ],
        [
         "S5",
         7714057,
         "COOPERATIVA DE ECONOMIA E CR�DITO M�TUO DOS PROFISSIONAIS DA �REA NOTARIAL E REGISTRAL - COOPNORE"
        ],
        [
         "S5",
         69346856,
         "COOPERATIVA DE ECONOMIA E CR�DITO M�TUO DOS PROFISSIONAIS DA SA�DE DA REGI�O DA ALTA MOGIANA   SICOOB CREDIMOGIANA"
        ],
        [
         "S5",
         86389236,
         "COOPERATIVA DE ECONOMIA E CR�DITO M�TUO DOS PROFISSIONAIS DA SA�DE DA ZONA DA MATA MINEIRA E SUL DO ESP�RITO SANTO"
        ],
        [
         "S5",
         259231,
         "COOPERATIVA DE ECONOMIA E CR�DITO M�TUO DOS PROFISSIONAIS DA SA�DE DAS REGI�ES METROPOLITANAS DA BAIXADA SANTISTA E GRANDE S�O PAULO LTDA. - SICOOB UNIMAIS METROPOLITANA"
        ],
        [
         "S5",
         5608957,
         "COOPERATIVA DE ECONOMIA E CR�DITO M�TUO DOS PROFISSIONAIS DA SA�DE DO SUDESTE PAULISTA LTDA. ? SICOOB UNIMAIS SUDESTE PAULISTA"
        ],
        [
         "S5",
         1848322,
         "COOPERATIVA DE ECONOMIA E CR�DITO M�TUO DOS PROFISSIONAIS DA SA�DE E EMPRES�RIOS DA REGI�O DO IGUA�U - UNIPRIME DO IGUA�U"
        ],
        [
         "S5",
         2647564,
         "COOPERATIVA DE ECONOMIA E CR�DITO M�TUO DOS PROFISSIONAIS DA SA�DE E EMPRES�RIOS DE ARARAS E REGI�O - SICOOB UNIMAIS ANHANGUERA"
        ],
        [
         "S5",
         37554441,
         "COOPERATIVA DE ECONOMIA E CR�DITO M�TUO DOS PROFISSIONAIS DA SA�DE, DAS CI�NCIAS E DAS ARTES DE DOURADOS - UNIPRIME DOURADOS"
        ],
        [
         "S5",
         71698674,
         "COOPERATIVA DE ECONOMIA E CR�DITO M�TUO DOS PROFISSIONAIS DA SA�DE, EMPRES�RIOS, PEQUENOS EMPRES�RIOS, MICROEMPRES�RIOS E MICROEMPREENDEDORES DAS REGI�ES SERRANAS E DO M�DIO VALE DO PARA�BA"
        ],
        [
         "S5",
         2606305,
         "COOPERATIVA DE ECONOMIA E CR�DITO M�TUO DOS PROFISSIONAIS DAS �REAS DE TECNOLOGIA, DE ENGENHARIA E DE ARQUITETURA DE BELO HORIZONTE E REGI�O METROPOLITANA DE BELO HORIZONTE LTDA - SICOOB ENGECRED"
        ],
        [
         "S5",
         73647935,
         "COOPERATIVA DE ECONOMIA E CR�DITO M�TUO DOS PROFISSIONAIS DAS CI�NCIAS E DAS ARTES DO CENTRO OESTE DO BRASIL LTDA"
        ],
        [
         "S5",
         5979692,
         "COOPERATIVA DE ECONOMIA E CR�DITO M�TUO DOS PROFISSIONAIS DO CREA DOS ESTADOS DE SANTA CATARINA E PARAN� - CREDCREA"
        ],
        [
         "S5",
         3930587,
         "COOPERATIVA DE ECONOMIA E CR�DITO M�TUO DOS SECURITARIOS, DOS CORRETORES DE SEGUROS E DE CAPITALIZACAO DO RIO DE JANEIRO LTDA."
        ],
        [
         "S5",
         915950,
         "COOPERATIVA DE ECONOMIA E CR�DITO M�TUO DOS SERV. MUNICIPAIS DE S�O PAULO E MAU�, SERV. P�BLICOS, EMPRES�RIOS E PROF. LIBERAIS DA REGI�O METROP. OESTE DA CAPITAL DE S�O PAULO   SICOOB COOPERCREDI-SP"
        ],
        [
         "S5",
         19551787,
         "COOPERATIVA DE ECONOMIA E CR�DITO M�TUO DOS SERVENTU�RIOS DA CIMENTO TUPI S.A. E EMPRESAS COLIGADAS LTDA. - TUPICRED"
        ],
        [
         "S5",
         5460750,
         "COOPERATIVA DE ECONOMIA E CR�DITO M�TUO DOS SERVIDORES DA ADMINISTRA��O P�BLICA MUNICIPAL DE PORTO ALEGRE"
        ],
        [
         "S5",
         90278987,
         "COOPERATIVA DE ECONOMIA E CREDITO MUTUO DOS SERVIDORES DA ASCAR/EMATER-RS LTDA-CRESAL"
        ],
        [
         "S5",
         30304919,
         "COOPERATIVA DE ECONOMIA E CR�DITO M�TUO DOS SERVIDORES DA CNC SESC E SENAC ADMINISTRA��ES NACIONAIS LTDA"
        ],
        [
         "S5",
         29341260,
         "COOPERATIVA DE ECONOMIA E CREDITO MUTUO DOS SERVIDORES DA COMLURB LTDA"
        ],
        [
         "S5",
         42100982,
         "COOPERATIVA DE ECONOMIA E CREDITO MUTUO DOS SERVIDORES DA EMPRESA BRASILEIRA DE CORREIOS E TELEGRAFOS LTDA"
        ],
        [
         "S5",
         96409263,
         "COOPERATIVA DE ECONOMIA E CR�DITO M�TUO DOS SERVIDORES DA FACULDADE DE ENGENHARIA DE ILHA SOLTEIRA - COOPERFEIS"
        ],
        [
         "S5",
         62928320,
         "COOPERATIVA DE ECONOMIA E CR�DITO M�TUO DOS SERVIDORES DA FEDERA��O DO COM�RCIO, SESC E SENAC DE S�O PAULO"
        ],
        [
         "S5",
         19402130,
         "COOPERATIVA DE ECONOMIA E CR�DITO M�TUO DOS SERVIDORES DA FUNDA��O HOSPITALAR E EMPREGADOS DOS ESTABELECIMENTOS HOSPITALARES DE BELO HORIZONTE, REGI�O METROPOLITANA E ZONA DA MATA LTDA. - CECREF"
        ],
        [
         "S5",
         4894460,
         "COOPERATIVA DE ECONOMIA E CR�DITO M�TUO DOS SERVIDORES DA JUSTI�A DO ESTADO DE MINAS GERAIS LTDA. - SICOOB CREDJUS"
        ],
        [
         "S5",
         4152107,
         "COOPERATIVA DE ECONOMIA E CR�DITO M�TUO DOS SERVIDORES DA POL�CIA MILITAR DO ESTADO DE S�O PAULO DA REGI�O CENTRO-OESTE PAULISTA - CREDMIL"
        ],
        [
         "S5",
         946465,
         "COOPERATIVA DE ECONOMIA E CR�DITO M�TUO DOS SERVIDORES DA PREFEITURA MUNICIPAL DE ORL�NDIA - CRED SERV"
        ],
        [
         "S5",
         52137361,
         "COOPERATIVA DE ECONOMIA E CR�DITO M�TUO DOS SERVIDORES DA PREFEITURA MUNICIPAL DE VOTORANTIM"
        ],
        [
         "S5",
         5746715,
         "COOPERATIVA DE ECONOMIA E CR�DITO M�TUO DOS SERVIDORES DA SECRETARIA DE DEFESA SOCIAL DO ESTADO DE MINAS GERAIS LTDA. - COOPSESP"
        ],
        [
         "S5",
         2382755,
         "COOPERATIVA DE ECONOMIA E CR�DITO M�TUO DOS SERVIDORES DA SECRETARIA DE ESTADO DA SEGURAN�A P�BLICA E DA DEFESA SOCIAL DO ESTADO DO RIO GRANDE DO NORTE - CREDIPOL"
        ],
        [
         "S5",
         28885036,
         "COOPERATIVA DE ECONOMIA E CREDITO MUTUO DOS SERVIDORES DA UERJ LTDA. - COOPUERJ"
        ],
        [
         "S5",
         69136075,
         "COOPERATIVA DE ECONOMIA E CR�DITO M�TUO DOS SERVIDORES DA UNESP - COOPUNESP"
        ],
        [
         "S5",
         2285107,
         "COOPERATIVA DE ECONOMIA E CR�DITO M�TUO DOS SERVIDORES DA UNIVERSIDADE ESTADUAL DE CAMPINAS - COOPERUNICAMP"
        ],
        [
         "S5",
         3606488,
         "COOPERATIVA DE ECONOMIA E CR�DITO M�TUO DOS SERVIDORES DA UNIVERSIDADE ESTADUAL DO SUDOESTE DA BAHIA (UESB) - CREDIUESB"
        ],
        [
         "S5",
         2794761,
         "COOPERATIVA DE ECONOMIA E CR�DITO M�TUO DOS SERVIDORES DA UNIVERSIDADE FEDERAL DE VI�OSA LTDA. - SICOOB UFVCREDI"
        ],
        [
         "S5",
         29283884,
         "COOPERATIVA DE ECONOMIA E CR�DITO M�TUO DOS SERVIDORES DA UNIVERSIDADE FEDERAL FLUMINENSE E DOS SERVIDORES P�BLICOS DA EDUCA��O, SA�DE E CULTURA NOS MUNIC�PIOS DO RIO DE JANEIRO E NITER�I LTDA."
        ],
        [
         "S5",
         1825968,
         "COOPERATIVA DE ECONOMIA E CR�DITO M�TUO DOS SERVIDORES DO  INSTITUTO NACIONAL DO SEGURO SOCIAL NA PARA�BA - COOPREV LTDA"
        ],
        [
         "S5",
         2910387,
         "COOPERATIVA DE ECONOMIA E CREDITO MUTUO DOS SERVIDORES DO COLEGIO PEDRO II"
        ],
        [
         "S5",
         778858,
         "COOPERATIVA DE ECONOMIA E CR�DITO M�TUO DOS SERVIDORES DO DISTRITO FEDERAL LTDA. - COOSERVCRED"
        ],
        [
         "S5",
         3497143,
         "COOPERATIVA DE ECONOMIA E CR�DITO M�TUO DOS SERVIDORES DO PODER EXECUTIVO FEDERAL DO ESTADO DE ROND�NIA   SICOOB CREDIFORTE"
        ],
        [
         "S5",
         694877,
         "COOPERATIVA DE ECONOMIA E CR�DITO M�TUO DOS SERVIDORES DO PODER EXECUTIVO FEDERAL, DOS SERVIDORES DA SECRETARIA DE SA�DE E DOS TRABALHADORES EM ENSINO DO DISTRITO FEDERAL LTDA.   SICOOB EXECUTIVO"
        ],
        [
         "S5",
         3326437,
         "COOPERATIVA DE ECONOMIA E CREDITO MUTUO DOS SERVIDORES DO PODER JUDICIARIO DO ESTADO DE MATO GROSSO - SICOOB CREDIJUD"
        ],
        [
         "S5",
         3453295,
         "COOPERATIVA DE ECONOMIA E CR�DITO M�TUO DOS SERVIDORES DO PODER JUDICI�RIO DO RIO GRANDE DO SUL - SICOOB JUSTI�A"
        ],
        [
         "S5",
         37076205,
         "COOPERATIVA DE ECONOMIA E CR�DITO M�TUO DOS SERVIDORES DO PODER JUDICI�RIO, MINIST�RIO P�BLICO E ENSINO SUPERIOR - SICOOB JUDICI�RIO"
        ],
        [
         "S5",
         3329154,
         "COOPERATIVA DE ECONOMIA E CR�DITO M�TUO DOS SERVIDORES DO PODER LEGISLATIVO FEDERAL E DO DISTRITO FEDERAL - SICOOB LEGISLATIVO"
        ],
        [
         "S5",
         512839,
         "COOPERATIVA DE ECONOMIA E CR�DITO M�TUO DOS SERVIDORES DO SEMASA - SICOOB CECRESA"
        ],
        [
         "S5",
         2966385,
         "COOPERATIVA DE ECONOMIA E CREDITO MUTUO DOS SERVIDORES DOS ORGAOS DO MINISTERIO DA SAUDE NO ESTADO DO RIO DE JANEIRO - CREDISAU"
        ],
        [
         "S5",
         3232959,
         "COOPERATIVA DE ECONOMIA E CR�DITO M�TUO DOS SERVIDORES ESTADUAIS DO PODER EXECUTIVO DO ESTADO DO ACRE EM RIO BRANCO - CBCRED-ACRE"
        ],
        [
         "S5",
         2475222,
         "COOPERATIVA DE ECONOMIA E CREDITO MUTUO DOS SERVIDORES ESTATUTARIOS DA ADMINISTRACAO DIRETA DO ESTADO DO ESPIRITO SANTO - COOPFISCO"
        ],
        [
         "S5",
         3269540,
         "COOPERATIVA DE ECONOMIA E CR�DITO M�TUO DOS SERVIDORES MILITARES, POL�CIA CIVIL E DA SECRETARIA DA EDUCA��O DO ESTADO DE MINAS GERAIS LTDA. - SICOOB COOPEMG"
        ],
        [
         "S5",
         16651002,
         "COOPERATIVA DE ECONOMIA E CR�DITO M�TUO DOS SERVIDORES MUNICIPAIS DE ITABIRA LTDA. - SICOOB COSEMI"
        ],
        [
         "S5",
         41791005,
         "COOPERATIVA DE ECONOMIA E CR�DITO M�TUO DOS SERVIDORES MUNICIPAIS DE PO�OS DE CALDAS LTDA. - COOPO�OS"
        ],
        [
         "S5",
         74248949,
         "COOPERATIVA DE ECONOMIA E CR�DITO M�TUO DOS SERVIDORES MUNICIPAIS DE S�O JO�O DA BOA VISTA - CREDIVISTA"
        ],
        [
         "S5",
         2528151,
         "COOPERATIVA DE ECONOMIA E CR�DITO M�TUO DOS SERVIDORES MUNICIPAIS DE VIT�RIA DA CONQUISTA LTDA. - SICOOB CREDCOOP"
        ],
        [
         "S5",
         1819799,
         "COOPERATIVA DE ECONOMIA E CREDITO MUTUO DOS SERVIDORES MUNICIPAIS DO SUL FLUMINENSE LTDA."
        ],
        [
         "S5",
         54190525,
         "COOPERATIVA DE ECONOMIA E CR�DITO M�TUO DOS SERVIDORES MUNICIPAIS DO VALE DO PARAIBA, LITORAL NORTE PAULISTA E SERRA DA MANTIQUEIRA - CRESSEM"
        ],
        [
         "S5",
         991739,
         "COOPERATIVA DE ECONOMIA E CR�DITO M�TUO DOS SERVIDORES P�BLICOS DA REGI�O METROPOLITANA DE BEL�M LTDA."
        ],
        [
         "S5",
         4831810,
         "COOPERATIVA DE ECONOMIA E CREDITO MUTUO DOS SERVIDORES PUBLICOS DE PINH�O - CRESERV-PINH�O"
        ],
        [
         "S5",
         3139644,
         "COOPERATIVA DE ECONOMIA E CR�DITO M�TUO DOS SERVIDORES P�BLICOS DO ESTADO DE S�O PAULO - CREDIPAULISTA"
        ],
        [
         "S5",
         11051952,
         "COOPERATIVA DE ECONOMIA E CR�DITO M�TUO DOS SERVIDORES P�BLICOS DO LITORAL NORTE DO RIO GRANDE DO SUL   CRESOL COOPERSLIN"
        ],
        [
         "S5",
         3639902,
         "COOPERATIVA DE ECONOMIA E CR�DITO M�TUO DOS SERVIDORES P�BLICOS DO PODER EXECUTIVO FEDERAL NO ESTADO DO ESP�RITO SANTO - COOPSEFES"
        ],
        [
         "S5",
         1235921,
         "COOPERATIVA DE ECONOMIA E CR�DITO M�TUO DOS SERVIDORES P�BLICOS DOS MUNIC�PIOS DA REGI�O METROPOLITANA DA GRANDE VIT�RIA/ES"
        ],
        [
         "S5",
         4346379,
         "COOPERATIVA DE ECONOMIA E CREDITO MUTUO DOS SERVIDORES PUBLICOS DOS PODERES EXECUTIVO E LEGISLATIVO NO ESTADO DE MATO GROSSO - SICOOB SERVIDOR"
        ],
        [
         "S5",
         3373150,
         "COOPERATIVA DE ECONOMIA E CR�DITO M�TUO DOS SERVIDORES P�BLICOS ESTADUAIS DA PARA�BA - CREDS LTDA."
        ],
        [
         "S5",
         3973814,
         "COOPERATIVA DE ECONOMIA E CREDITO MUTUO DOS SERVIDORES P�BLICOS ESTADUAIS DO RIO GRANDE DO SUL EM PORTO ALEGRE E GRANDE PORTO ALEGRE"
        ],
        [
         "S5",
         65308447,
         "COOPERATIVA DE ECONOMIA E CR�DITO M�TUO DOS SERVIDORES P�BLICOS FEDERAIS DE UBERL�NDIA LTDA."
        ],
        [
         "S5",
         71336432,
         "COOPERATIVA DE ECONOMIA E CR�DITO M�TUO DOS SERVIDORES P�BLICOS FEDERAIS DO MUNIC�PIO DE UBERABA E SUAS FUNDA��ES - SICOOB - CREDIMED LTDA."
        ],
        [
         "S5",
         3990888,
         "COOPERATIVA DE ECONOMIA E CREDITO MUTUO DOS SERVIDORES PUBLICOS MUNICIPAIS DE PORTO ALEGRE"
        ],
        [
         "S5",
         18310649,
         "COOPERATIVA DE ECONOMIA E CR�DITO M�TUO DOS SERVIDORES P�BLICOS MUNICIPAIS EM JO�O MONLEVADE LTDA."
        ],
        [
         "S5",
         3528402,
         "COOPERATIVA DE ECONOMIA E CR�DITO M�TUO DOS SERVIDORES P�BLICOS NO ESTADO DO ACRE   SICOOB ACRE"
        ],
        [
         "S5",
         1330295,
         "COOPERATIVA DE ECONOMIA E CR�DITO M�TUO DOS SERVIDORES P�BLICOS NO ESTADO DO ESP�RITO SANTO"
        ],
        [
         "S5",
         2493000,
         "COOPERATIVA DE ECONOMIA E CR�DITO M�TUO DOS SERVIDORES P�BLICOS NOS ESTADOS DE ALAGOAS, SERGIPE, BAHIA E EMPRES�RIOS DA REGI�O METROPOLITANA DO AGRESTE ALAGOANO - SICOOB LESTE"
        ],
        [
         "S5",
         27302181,
         "COOPERATIVA DE ECONOMIA E CREDITO MUTUO DOS SERVIDORES UNIVERSIDADE FEDERAL DO ESPIRITO SANTO - CRED-UFES"
        ],
        [
         "S5",
         67915868,
         "COOPERATIVA DE ECONOMIA E CR�DITO M�TUO DOS TRABALHADORES DA CIA. DE PROCESSAMENTO DE DADOS DO ESTADO DE S�O PAULO - CREDIPRODESP"
        ],
        [
         "S5",
         4464352,
         "COOPERATIVA DE ECONOMIA E CR�DITO M�TUO DOS TRABALHADORES DA COOPER STANDARD AUTOMOTIVE BRASIL SEALING LTDA. E FLUID SYSTEMS LTDA."
        ],
        [
         "S5",
         1918144,
         "COOPERATIVA DE ECONOMIA E CR�DITO M�TUO DOS TRABALHADORES DA UNIVERSIDADE FEDERAL DE MINAS GERAIS LTDA. - COOPECREMT-UFMG"
        ],
        [
         "S5",
         90560434,
         "COOPERATIVA DE ECONOMIA E CR�DITO M�TUO DOS TRABALHADORES DAS IND�STRIAS METAL�RGICAS DE PORTO ALEGRE E GRANDE PORTO ALEGRE"
        ],
        [
         "S5",
         20177390,
         "COOPERATIVA DE ECONOMIA E CREDITO MUTUO DOS TRABALHADORES DO GRUPO EMPRESARIAL ITATIAIA LTDA. - COOPERITA"
        ],
        [
         "S5",
         2562412,
         "COOPERATIVA DE ECONOMIA E CR�DITO M�TUO DOS TRABALHADORES DO GRUPO S�O MARTINHO   USICRED"
        ],
        [
         "S5",
         2850075,
         "COOPERATIVA DE ECONOMIA E CREDITO MUTUO DOS TRABALHADORES EM CONSELHOS DE FISCALIZACAO PROFISSIONAL NO MUNICIPIO DO RIO DE JANEIRO LTDA."
        ],
        [
         "S5",
         27418557,
         "COOPERATIVA DE ECONOMIA E CR�DITO M�TUO DOS TRABALHADORES EM SANEAMENTO B�SICO NO ESTADO DO ESP�RITO SANTO - CECMESB-ES"
        ],
        [
         "S5",
         7494300,
         "COOPERATIVA DE ECONOMIA E CR�DITO M�TUO DOS TRABALHADORES NA �REA DE SA�DE, AFINS E EMPRES�RIOS VINCULADOS � ACCI DE ERECHIM-RS-CREDISUL"
        ],
        [
         "S5",
         71384697,
         "COOPERATIVA DE ECONOMIA E CR�DITO M�TUO DOS TRABALHADORES NAS IND�STRIAS DE EXTRA��O DE FERRO E METAIS B�SICOS DA REGI�O DE CONGONHAS LTDA. - COOFERSE"
        ],
        [
         "S5",
         10719496,
         "COOPERATIVA DE ECONOMIA E CR�DITO M�TUO DOS TRABALHADORES NAS IND�STRIAS METAL�RGICAS, MEC�NICA E MATERIAL EL�TRICO DE S�O LEOPOLDO E REGI�O - COOPERMETAL"
        ],
        [
         "S5",
         3844699,
         "COOPERATIVA DE ECONOMIA E CREDITO MUTUO DOS TRABALHADORES PORTUARIOS DA GRANDE VITORIA - CREDESTIVA."
        ],
        [
         "S5",
         33735192,
         "COOPERATIVA DE ECONOMIA E CREDITO MUTUO JOHN F. KENNEDY LTDA"
        ],
        [
         "S5",
         37079720,
         "COOPERATIVA DE ECONOMIA E CR�DITO M�TUO SERV MEMBROS JUSTI�A TRABALHO MPT TERRIT�RIO NACIONAL PODER JUDICI�RIO FEDERAL MPU PA SC TSE  STM DF BOMBEIROS PA-SICOOB CREDIJUSTRA"
        ],
        [
         "S5",
         5591437,
         "COOPERATIVA DE ECONOMIA E CR�DITO M�TUO SERVIDORES P�BLICOS ATIVOS, INATIVOS E PENSIONISTAS DA ADMINISTRA��O DIRETA, INDIRETA E ASSEMBL�IA LEGISLATIVA DO ESTADO DO RIO GRANDE SUL - COOPSERGS"
        ],
        [
         "S5",
         1526924,
         "COOPERATIVA DE ECONOMIA E CR�DITO M�TUO UNICRED IJU� LTDA - UNICRED IJU�"
        ],
        [
         "S5",
         73750424,
         "COOPERATIVA DE ECONOMIA E CR�DITO M�TUO UNICRED INTEGRA��O LTDA."
        ],
        [
         "S5",
         1705236,
         "COOPERATIVA DE ECONOMIA E CR�DITO M�TUO UNICRED REGI�O DA CAMPANHA LTDA - UNICRED REGI�O DA CAMPANHA"
        ],
        [
         "S5",
         3459850,
         "COOPERATIVA DE POUPAN�A E CR�DITO DE LIVRE ADMISS�O DA REGI�O DE MARING� - SICOOB METROPOLITANO"
        ],
        [
         "S5",
         25606237,
         "COOPERATIVA DE POUPAN�A E CR�DITO DE LIVRE ADMISS�O DO VALE DO RIO DOCE LTDA. - SICOOB CREDIRIODOCE"
        ],
        [
         "S5",
         10262276,
         "COOPERATIVA DE POUPANCA E CR�DITO M�TUO DOS EMPRES�RIOS E PROFISSIONAIS LIBERAIS DO OESTE PAULISTA - SICOOB PAULISTA"
        ],
        [
         "S5",
         1864151,
         "COOPERATIVA ECONOMIA CR�DITO M�TUO SERVIDORES E EMPREGADOS MUNIC PREF MUNIC BELO HORIZONTE BETIM BRUMADINHO CONTAGEM IBIRIT� NOVA LIMA RIBEIR�O DAS NEVES SABAR� SANTA LUZIA VESPASIANO SICOOB CREDISERV"
        ],
        [
         "S5",
         2000895,
         "COOPERATIVA ECONOMIA CR�DITO M�TUO SERVIDORES PODER JUDICI�RIO, TRIBUNAL CONTAS ESTADUAL E SERVIDORES �RG�OS ENTIDADES �REA CI�NCIA TECNOLOGIA NO ESTADO DO RIO DE JANEIRO LTDA."
        ],
        [
         "S5",
         22760839,
         "COOPERATIVA REGIONAL DE CR�DITO DE LIVRE ADMISS�O DO SUDOESTE MINEIRO E NORDESTE PAULISTA LTDA - SICOOB NOSSO CR�DITO"
        ],
        [
         "S5",
         1658426,
         "COOPERFORTE - COOPERATIVA DE ECONOMIA E CR�DITO M�TUO DOS FUNCION�RIOS DE INSTITUI��ES FINANCEIRAS P�BLICAS FEDERAIS LTDA."
        ],
        [
         "S5",
         83332700,
         "COOPERJUS - COOPERATIVA DE ECONOMIA E CR�DITO M�TUO DOS SERVIDORES DO PODER JUDICI�RIO FEDERAL E MINIST�RIO P�BLICO DA UNI�O NO ESTADO DO PAR�."
        ],
        [
         "S5",
         83325811,
         "COOPERUFPA  - COOPERATIVA DE ECONOMIA E CR�DITO M�TUO DOS SERVIDORES P�BLICOS FEDERAIS E ESTADUAIS E DAS ENTIDADES DE ENSINO COM SEUS RESPECTIVOS FUNCION�RIOS NO ESTADO DO PAR�"
        ],
        [
         "S5",
         68848563,
         "COOPESA-COOPERATIVA DE ECONOMIA E CREDITO MUTUO DOS FUNCIONARIOS DA COESA TRANSPORTES E EMPRESAS COLIGADAS LTDA"
        ],
        [
         "S5",
         4995006,
         "COOPESTADO - COOPERATIVA DE ECONOMIA E CR�DITO M�TUO DOS SERVIDORES P�BLICOS NA REGI�O METROPOLITANA DO ESTADO DO RIO DE JANEIRO LIMITADA"
        ],
        [
         "S5",
         41219353,
         "COOPSEBRAE - COOPERATIVA DE CR�DITO M�TUO DOS FUNCION�RIOS DO SEBRAE/PB, SEBRAE/RN E SESC, SENAC E SENAR EM JO�O PESSOA"
        ],
        [
         "S5",
         2723075,
         "COOPSERJ - COOPERATIVA DE CR�DITO M�TUO DOS SERVIDORES P�BLICOS DO PODER EXECUTIVO DO ESTADO DO RIO DE JANEIRO LTDA."
        ],
        [
         "S5",
         58022195,
         "COPERCRED - COOPERATIVA DE ECONOMIA E CR�DITO M�TUO DOS EMPREGADOS DAS EMPRESAS ZILLO LORENZETTI"
        ],
        [
         "S5",
         7327045,
         "CORPAL SCMEPP LTDA"
        ],
        [
         "S5",
         23241540,
         "CREBEL - COOPERATIVA DE ECONOMIA E CR�DITO M�TUO DOS COLABORADORES DAS EMPRESAS BELGO BEKAERT - CREBEL LTDA."
        ],
        [
         "S5",
         3635061,
         "CREDBRASIL - SCM LTDA"
        ],
        [
         "S5",
         4899135,
         "CREDEXTRA - COOPERATIVA DE ECONOMIA E CR�DITO M�TUO DOS EMPREGADOS DA REALMAR DISTRIBUIDORA LTDA"
        ],
        [
         "S5",
         78157146,
         "CREDIALIAN�A COOPERATIVA DE CR�DITO RURAL"
        ],
        [
         "S5",
         2996857,
         "CREDICORES - COOPERATIVA DE ECONOMIA E CR�DITO M�TUO DOS PROFISSIONAIS DA �REA DE SEGUROS DO ESP�RITO SANTO"
        ],
        [
         "S5",
         4223451,
         "CREDILON SCM REG. LONDRINA LTD"
        ],
        [
         "S5",
         4608925,
         "CREDJUST - COOPERATIVA DE CR�DITO M�TUO DOS INTEGRANTES DA JUSTI�A DO TRABALHO DA 13� REGI�O LTDA."
        ],
        [
         "S5",
         3603683,
         "CREDSEF - COOPERATIVA DE ECONOMIA E CR�DITO M�TUO DOS SERVIDORES DA SECRETARIA DE FAZENDA DO DISTRITO FEDERAL"
        ],
        [
         "S5",
         18188384,
         "CREFAZ SCMEPP LTDA"
        ],
        [
         "S5",
         28145589,
         "CRETOVALE - COOPERATIVA DE ECONOMIA E CR�DITO M�TUO DOS TRABALHADORES DA VALE"
        ],
        [
         "S5",
         11545653,
         "DOURADA SCMEPP LTDA"
        ],
        [
         "S5",
         20251847,
         "EGONCRED SCMEPP LTDA."
        ],
        [
         "S5",
         4849745,
         "FACILICRED SCM LTDA"
        ],
        [
         "S5",
         24537861,
         "FFA SCMEPP LTDA."
        ],
        [
         "S5",
         4986548,
         "FID SCMEPP LTDA"
        ],
        [
         "S5",
         4307598,
         "FIDUCIA SCMEPP LTDA"
        ],
        [
         "S5",
         4275302,
         "FINACRED SCM LTDA"
        ],
        [
         "S5",
         18810553,
         "FINSOL SCMEPP S.A."
        ],
        [
         "S5",
         7584094,
         "FLEX SCM LTDA"
        ],
        [
         "S5",
         6039009,
         "FUTURA SCM LTDA"
        ],
        [
         "S5",
         11165756,
         "GLOBAL SCM LTDA"
        ],
        [
         "S5",
         2347114,
         "GREENCRED COOPERATIVA DE ECONOMIA E CR�DITO M�TUO  DOS M�DICOS, DEMAIS CATEGORIAS AFINS E PROFESSORES DE ENSINO SUPERIOR DE CURITIBA, REGI�O METROPOLITANA E LITORAL"
        ],
        [
         "S5",
         20158571,
         "HR SCMEPP LTDA."
        ],
        [
         "S5",
         7693858,
         "HSCM SCMEPP LTDA."
        ],
        [
         "S5",
         4230630,
         "JBCRED S.A. SCME"
        ],
        [
         "S5",
         19324634,
         "LAMARA SCMEPP LTDA."
        ],
        [
         "S5",
         11581339,
         "MONEY PLUS SCMEPP LTDA"
        ],
        [
         "S5",
         17826860,
         "MS SCMEPP LTDA"
        ],
        [
         "S5",
         49204605,
         "NOSSA TERRA COOPERATIVA DE CR�DITO DOS EMPREGADOS DAS EMPRESAS DE AGRONEG�CIO E AFINS"
        ],
        [
         "S5",
         7945233,
         "P�LOCRED SCMEPP LTDA."
        ],
        [
         "S5",
         6249129,
         "RPW SCMEPP S.A."
        ],
        [
         "S5",
         8430732,
         "SCB CR�DITO SCMEPP LTDA"
        ],
        [
         "S5",
         1559914,
         "SICOOB AC CREDI - COOPERATIVA DE CR�DITO DE LIVRE ADMISS�O DO LESTE E NORDESTE MINEIRO LTDA."
        ],
        [
         "S5",
         56882988,
         "SICOOB CREDICONT - COOPERATIVA ECONOMIA CR�DITO M�TUO EMPREGADOS EMPRESAS INDUSTRIAIS, COMERCIAIS,DE ASSIST. T�CNICA E LOCADORAS, NAS �REAS DE METALURGIA E MAT. EL�TRICO REGI�ES S�O PAULO E CAMPINAS"
        ],
        [
         "S5",
         2031139,
         "SICOOB CREDIMONTES - COOPERATIVA DE CR�DITO DE LIVRE ADMISS�O REGIONAL DE MONTES CLAROS LTDA"
        ],
        [
         "S5",
         1667766,
         "SICOOB CREDINOVA - COOPERATIVA DE CR�DITO DE LIVRE ADMISS�O DE NOVA SERRANA E REGI�O CENTRO-OESTE LTDA."
        ],
        [
         "S5",
         1760242,
         "SICOOB NOSSACOOP - COOPERATIVA DE ECONOMIA E CR�DITO DOS EMPREGADOS DAS INSTITUI��ES DE ENSINO E PESQUISA E DE SERVIDORES P�BLICOS DE MINAS GERAIS LTDA."
        ],
        [
         "S5",
         41180092,
         "SICREDI ALAGOAS - COOPERATIVA DE CR�DITO"
        ],
        [
         "S5",
         83315408,
         "SICREDI BELEM - COOPERATIVA DE CR�DITO"
        ],
        [
         "S5",
         86913993,
         "SICREDI CARIRI � COOPERATIVA DE ECONOMIA E CR�DITO M�TUO DOS M�DICOS E DEMAIS PROFISSIONAIS DA SA�DE DA REGI�O DO CARIRI"
        ],
        [
         "S5",
         72257793,
         "SICREDI CEAR� CENTRO NORTE ? COOPERATIVA DE ECONOMIA E CR�DITO M�TUO DOS PROFISSIONAIS DA SA�DE E DE PEQUENOS EMPRES�RIOS, MICROEMPRES�RIOS OU MICROEMPREENDEDORES DA REGI�O CENTRO NORTE DO CEAR� LTDA."
        ],
        [
         "S5",
         5545390,
         "SICREDI COOMAMP - COOPERATIVA DE CR�DITO DOS MEMBROS DE INSTITUI��ES P�BLICAS DAS CARREIRAS JUR�DICAS E DOS SERVIDORES P�BLICOS FEDERAIS, ESTADUAIS E MUNICIPAIS EM S�O LU�S/MA E MUNIC�PIOS CIRCUNVIZIN"
        ],
        [
         "S5",
         68389,
         "SICREDI CRATE�S - COOPERATIVA DE CR�DITO DE PEQUENOS EMPRES�RIOS, MICROEMPRES�RIOS E MICROEMPREENDEDORES DA REGI�O DE CRATE�S"
        ],
        [
         "S5",
         4138455,
         "SICREDI CREDSUPER � COOPERATIVA DE CR�DITO SICREDI CREDSUPER"
        ],
        [
         "S5",
         3428338,
         "SICREDI CREDUNI - COOPERATIVA DE ECONOMIA E CR�DITO M�TUO DOS SERVIDORES DAS INSTITUI��ES P�BLICAS DE ENSINO SUPERIOR DO ESTADO DA PARA�BA LTDA."
        ],
        [
         "S5",
         4179861,
         "SICREDI JURISCRED � COOPERATIVA DE CR�DITO DOS MEMBROS DO PODER JUDICI�RIO, DO MINIST�RIO P�BLICO, DA ADVOCACIA, DE �RG�OS JUR�DICOS E DE SERVIDORES P�BLICOS ESTADUAIS E MUNICIPAIS EM ALAGOAS"
        ],
        [
         "S5",
         4146333,
         "SICREDI PERNAMBUCRED - COOPERATIVA DE CR�DITO DOS SERVIDORES P�BLICOS DOS PODERES EXECUTIVO, LEGISLATIVO, JUDICI�RIO E DO MINIST�RIO P�BLICO EM PERNAMBUCO"
        ],
        [
         "S5",
         3128973,
         "SICREDI PIAU� - COOPERATIVA DE CR�DITO DOS PROFISSIONAIS DA SA�DE DAS REGI�ES CENTRO E NORTE DO PIAU�"
        ],
        [
         "S5",
         70241658,
         "SICREDI RECIFE - COOPERATIVA DE CR�DITO DO GRANDE RECIFE, ZONA DA MATA NORTE E SUL"
        ],
        [
         "S5",
         4316357,
         "SOCIALCRED S/A SCMEPP"
        ],
        [
         "S5",
         5289612,
         "SOCICRED SCMEPP LTDA."
        ],
        [
         "S5",
         9210106,
         "SOCRED S.A. SCM"
        ],
        [
         "S5",
         18394228,
         "TORRES MENDES SCMEPP LTDA."
        ],
        [
         "S5",
         4445917,
         "UNICRED CAMPOS - COOPERATIVA DE ECONOMIA E CR�DITO M�TUO DOS M�DICOS E DEMAIS PROFISSIONAIS DA SA�DE DE CAMPOS LTDA."
        ],
        [
         "S5",
         39231527,
         "UNICRED COSTA DO SOL RJ - COOPERATIVA DE ECONOMIA E CR�DITO M�TUO DOS PROFISSIONAIS DE SA�DE DA COSTA DO SOL LTDA."
        ],
        [
         "S5",
         74220948,
         "UNIPRIME OESTE PAULISTA � COOPERATIVA DE CR�DITO DOS PROFISSIONAIS DA �REA DA SA�DE DE PRESIDENTE PRUDENTE E REGI�O"
        ],
        [
         "S5",
         7799277,
         "VALOR"
        ],
        [
         "S5",
         20269566,
         "VNK SCMEPP"
        ],
        [
         "S1",
         0,
         "BANCO DO BRASIL S/A"
        ],
        [
         "S2",
         92702067,
         "BANCO DO ESTADO DO RIO GRANDE DO SUL SA"
        ],
        [
         "S3",
         58616418,
         "BANCO FIBRA SA"
        ],
        [
         "S3",
         59274605,
         "BANCO GMAC S.A."
        ],
        [
         "S1",
         33058660,
         "BANCO ITAU S/A"
        ],
        [
         "S1",
         60394079,
         "BANCO ITAUBANK S.A."
        ],
        [
         "S3",
         17184037,
         "BANCO MERCANTIL DO BRASIL S.A"
        ],
        [
         "S3",
         92894922,
         "BANCO ORIGINAL S/A"
        ],
        [
         "S3",
         13258615,
         "BANCO PAN"
        ],
        [
         "S3",
         59285411,
         "BANCO PAN S.A"
        ],
        [
         "S2",
         58160789,
         "BANCO SAFRA S/A"
        ],
        [
         "S2",
         7002898,
         "BANCO SAFRA S/A"
        ],
        [
         "S1",
         33517640,
         "BANCO SANTADER S/A."
        ],
        [
         "S1",
         90400888,
         "BANCO SANTANDER (BRASIL) S/A"
        ],
        [
         "S3",
         59109165,
         "BANCO VOLKSWAGEN"
        ],
        [
         "S2",
         59588111,
         "BANCO VOTORANTIM S.A."
        ],
        [
         "S3",
         28127603,
         "BANESTES S/A BANCO DO ESTADO DO ESPIRITO SANTO"
        ],
        [
         "S3",
         208,
         "BRB BANCO DE BRASILIA S/A"
        ],
        [
         "S3",
         7450604,
         "CHINA CONSTRUCTION BANK (BRASIL) BANCO MULTIPLO S/"
        ],
        [
         "S1",
         60872504,
         "ITAU UNIBANCO HOLDING S.A."
        ]
       ],
       "datasetInfos": [],
       "dbfsResultPath": null,
       "isJsonSchema": true,
       "metadata": {},
       "overflow": false,
       "plotOptions": {
        "customPlotOptions": {},
        "displayType": "table",
        "pivotAggregation": null,
        "pivotColumns": null,
        "xColumns": null,
        "yColumns": null
       },
       "removedWidgets": [],
       "schema": [
        {
         "metadata": "{}",
         "name": "Segmento",
         "type": "\"string\""
        },
        {
         "metadata": "{}",
         "name": "CNPJ",
         "type": "\"integer\""
        },
        {
         "metadata": "{}",
         "name": "Nome",
         "type": "\"string\""
        }
       ],
       "type": "table"
      }
     },
     "output_type": "display_data"
    }
   ],
   "source": [
    "#Tratando o campo Nome\n",
    "df_banco_filtrado = df_banco.withColumn(\"Nome\", regexp_replace(col('Nome'), \" - PRUDENCIAL\", \"\"))\n",
    "df_banco_filtrado.display()"
   ]
  },
  {
   "cell_type": "markdown",
   "metadata": {
    "application/vnd.databricks.v1+cell": {
     "cellMetadata": {
      "byteLimit": 2048000,
      "rowLimit": 10000
     },
     "inputWidgets": {},
     "nuid": "24c3da4a-1166-46f9-beee-48a93eba5dcb",
     "showTitle": false,
     "title": ""
    }
   },
   "source": [
    "#Empregados"
   ]
  },
  {
   "cell_type": "code",
   "execution_count": 0,
   "metadata": {
    "application/vnd.databricks.v1+cell": {
     "cellMetadata": {
      "byteLimit": 2048000,
      "rowLimit": 10000
     },
     "inputWidgets": {},
     "nuid": "c0386897-376a-4ec9-8010-ac1eda543510",
     "showTitle": false,
     "title": ""
    }
   },
   "outputs": [],
   "source": [
    "#Ingerindo os registros\n",
    "df_empregados = spark.read.csv('FileStore/df/ativ/Empregados/*.csv', header=True, inferSchema=True, sep='|')"
   ]
  },
  {
   "cell_type": "code",
   "execution_count": 0,
   "metadata": {
    "application/vnd.databricks.v1+cell": {
     "cellMetadata": {
      "byteLimit": 2048000,
      "rowLimit": 10000
     },
     "inputWidgets": {},
     "nuid": "0509071b-5543-485c-83be-59d8f1bddad7",
     "showTitle": false,
     "title": ""
    }
   },
   "outputs": [
    {
     "output_type": "display_data",
     "data": {
      "text/html": [
       "<style scoped>\n",
       "  .table-result-container {\n",
       "    max-height: 300px;\n",
       "    overflow: auto;\n",
       "  }\n",
       "  table, th, td {\n",
       "    border: 1px solid black;\n",
       "    border-collapse: collapse;\n",
       "  }\n",
       "  th, td {\n",
       "    padding: 5px;\n",
       "  }\n",
       "  th {\n",
       "    text-align: left;\n",
       "  }\n",
       "</style><div class='table-result-container'><table class='table-result'><thead style='background-color: white'><tr><th>Nome</th><th>avg(satisfacao_salario)</th><th>avg(satisfacao_empregado)</th></tr></thead><tbody><tr><td>SANTANDER</td><td>4.0</td><td>65.0</td></tr><tr><td>BOFA MERRILL LYNCH</td><td>3.8</td><td>61.0</td></tr><tr><td>BRADESCO</td><td>4.3</td><td>66.0</td></tr><tr><td>JP MORGAN CHASE</td><td>3.9</td><td>76.5</td></tr><tr><td>BANCO TOKYO-MITSUBISHI BM S.A.</td><td>3.6</td><td>43.0</td></tr><tr><td>MORGAN STANLEY</td><td>3.7</td><td>76.0</td></tr><tr><td>BANCO DO NORDESTE DO BRASIL S.A.</td><td>4.2</td><td>83.0</td></tr><tr><td>APE POUPEX</td><td>2.7</td><td>52.5</td></tr><tr><td>BANRISUL</td><td>4.1</td><td>59.0</td></tr><tr><td>ORIGINAL</td><td>4.0</td><td>53.0</td></tr><tr><td>SOCIETE GENERALE</td><td>3.3</td><td>55.0</td></tr><tr><td>ALFA</td><td>3.8</td><td>47.0</td></tr><tr><td>CHINA CONSTRUCTION BANK (BRASIL) BANCO MULTIPLO S/</td><td>3.5</td><td>42.0</td></tr><tr><td>CITIBANK</td><td>3.8</td><td>68.0</td></tr><tr><td>GOLDMAN SACHS</td><td>3.8</td><td>63.0</td></tr><tr><td>BANCO DO BRASIL</td><td>4.2</td><td>72.0</td></tr><tr><td>PAN</td><td>4.6</td><td>79.0</td></tr><tr><td>SICREDI</td><td>4.1</td><td>80.0</td></tr><tr><td>BTG PACTUAL</td><td>4.4</td><td>73.0</td></tr><tr><td>PINE</td><td>3.9</td><td>50.0</td></tr><tr><td>BMG</td><td>4.2</td><td>63.0</td></tr><tr><td>ING</td><td>3.8</td><td>73.0</td></tr><tr><td>CREDIT SUISSE</td><td>3.6</td><td>34.0</td></tr><tr><td>BANCO SUMITOMO MITSUI BRASIL S.A.</td><td>3.3</td><td>53.5</td></tr><tr><td>BNP PARIBAS</td><td>3.4</td><td>63.0</td></tr><tr><td>VOTORANTIM</td><td>3.9499999999999997</td><td>79.0</td></tr><tr><td>BANCO FIBRA S.A.</td><td>4.2</td><td>84.0</td></tr><tr><td>DEUTSCHE</td><td>3.6</td><td>70.0</td></tr><tr><td>BANCO DAYCOVAL S.A</td><td>4.1</td><td>72.0</td></tr><tr><td>ITAU</td><td>4.6</td><td>82.0</td></tr><tr><td>MERCEDES-BENZ</td><td>4.0</td><td>53.5</td></tr><tr><td>CAIXA ECONOMICA FEDERAL</td><td>4.3</td><td>72.0</td></tr><tr><td>SAFRA</td><td>3.8</td><td>47.0</td></tr></tbody></table></div>"
      ]
     },
     "metadata": {
      "application/vnd.databricks.v1+output": {
       "addedWidgets": {},
       "aggData": [],
       "aggError": "",
       "aggOverflow": false,
       "aggSchema": [],
       "aggSeriesLimitReached": false,
       "aggType": "",
       "arguments": {},
       "columnCustomDisplayInfos": {},
       "data": [
        [
         "SANTANDER",
         4.0,
         65.0
        ],
        [
         "BOFA MERRILL LYNCH",
         3.8,
         61.0
        ],
        [
         "BRADESCO",
         4.3,
         66.0
        ],
        [
         "JP MORGAN CHASE",
         3.9,
         76.5
        ],
        [
         "BANCO TOKYO-MITSUBISHI BM S.A.",
         3.6,
         43.0
        ],
        [
         "MORGAN STANLEY",
         3.7,
         76.0
        ],
        [
         "BANCO DO NORDESTE DO BRASIL S.A.",
         4.2,
         83.0
        ],
        [
         "APE POUPEX",
         2.7,
         52.5
        ],
        [
         "BANRISUL",
         4.1,
         59.0
        ],
        [
         "ORIGINAL",
         4.0,
         53.0
        ],
        [
         "SOCIETE GENERALE",
         3.3,
         55.0
        ],
        [
         "ALFA",
         3.8,
         47.0
        ],
        [
         "CHINA CONSTRUCTION BANK (BRASIL) BANCO MULTIPLO S/",
         3.5,
         42.0
        ],
        [
         "CITIBANK",
         3.8,
         68.0
        ],
        [
         "GOLDMAN SACHS",
         3.8,
         63.0
        ],
        [
         "BANCO DO BRASIL",
         4.2,
         72.0
        ],
        [
         "PAN",
         4.6,
         79.0
        ],
        [
         "SICREDI",
         4.1,
         80.0
        ],
        [
         "BTG PACTUAL",
         4.4,
         73.0
        ],
        [
         "PINE",
         3.9,
         50.0
        ],
        [
         "BMG",
         4.2,
         63.0
        ],
        [
         "ING",
         3.8,
         73.0
        ],
        [
         "CREDIT SUISSE",
         3.6,
         34.0
        ],
        [
         "BANCO SUMITOMO MITSUI BRASIL S.A.",
         3.3,
         53.5
        ],
        [
         "BNP PARIBAS",
         3.4,
         63.0
        ],
        [
         "VOTORANTIM",
         3.9499999999999997,
         79.0
        ],
        [
         "BANCO FIBRA S.A.",
         4.2,
         84.0
        ],
        [
         "DEUTSCHE",
         3.6,
         70.0
        ],
        [
         "BANCO DAYCOVAL S.A",
         4.1,
         72.0
        ],
        [
         "ITAU",
         4.6,
         82.0
        ],
        [
         "MERCEDES-BENZ",
         4.0,
         53.5
        ],
        [
         "CAIXA ECONOMICA FEDERAL",
         4.3,
         72.0
        ],
        [
         "SAFRA",
         3.8,
         47.0
        ]
       ],
       "datasetInfos": [],
       "dbfsResultPath": null,
       "isJsonSchema": true,
       "metadata": {},
       "overflow": false,
       "plotOptions": {
        "customPlotOptions": {},
        "displayType": "table",
        "pivotAggregation": null,
        "pivotColumns": null,
        "xColumns": null,
        "yColumns": null
       },
       "removedWidgets": [],
       "schema": [
        {
         "metadata": "{}",
         "name": "Nome",
         "type": "\"string\""
        },
        {
         "metadata": "{}",
         "name": "avg(satisfacao_salario)",
         "type": "\"double\""
        },
        {
         "metadata": "{}",
         "name": "avg(satisfacao_empregado)",
         "type": "\"double\""
        }
       ],
       "type": "table"
      }
     },
     "output_type": "display_data"
    }
   ],
   "source": [
    "#Renomeando colunas\n",
    "df_empregados = df_empregados.withColumnRenamed(\"Perspectiva positiva da empresa(%)\", \"satisfacao_empregado\")\n",
    "df_empregados = df_empregados.withColumnRenamed(\"Remuneração e benefícios\", \"satisfacao_salario\")\n",
    "\n",
    "#Agrupando e tirando a media\n",
    "df_empregados = df_empregados.groupBy(\"Nome\").agg({\n",
    "        'satisfacao_empregado': 'mean',\n",
    "        'satisfacao_salario': 'mean'\n",
    "    })\n",
    "df_empregados.display()"
   ]
  },
  {
   "cell_type": "markdown",
   "metadata": {
    "application/vnd.databricks.v1+cell": {
     "cellMetadata": {
      "byteLimit": 2048000,
      "rowLimit": 10000
     },
     "inputWidgets": {},
     "nuid": "c4537908-6a07-4bb6-bfa6-a10f93b25da7",
     "showTitle": false,
     "title": ""
    }
   },
   "source": [
    "# Reclamações"
   ]
  },
  {
   "cell_type": "code",
   "execution_count": 0,
   "metadata": {
    "application/vnd.databricks.v1+cell": {
     "cellMetadata": {
      "byteLimit": 2048000,
      "rowLimit": 10000
     },
     "inputWidgets": {},
     "nuid": "6c1b8ea4-5263-4065-9934-331a8afcb703",
     "showTitle": false,
     "title": ""
    }
   },
   "outputs": [],
   "source": [
    "#Ingerindo os registros\n",
    "df_reclamacoes = spark.read.csv('FileStore/df/ativ/Reclamacoes/*.csv', header=True, inferSchema=True, sep=';')"
   ]
  },
  {
   "cell_type": "code",
   "execution_count": 0,
   "metadata": {
    "application/vnd.databricks.v1+cell": {
     "cellMetadata": {
      "byteLimit": 2048000,
      "rowLimit": 10000
     },
     "inputWidgets": {},
     "nuid": "175cb710-6cd0-4e3a-bac8-ac540108a838",
     "showTitle": false,
     "title": ""
    }
   },
   "outputs": [],
   "source": [
    "#Tratando os nomes\n",
    "df_reclamacoes = df_reclamacoes.withColumnRenamed(\"Quantidade total de clientes – CCS e SCR\", \"Quantidade total de clientes\")\n",
    "\n",
    "#Fazendo as agregações\n",
    "df_reclamacoes = df_reclamacoes.groupby(\"Instituição financeira\").agg({\n",
    "        'Índice': 'min',\n",
    "        'Quantidade total de reclamações': 'sum',\n",
    "        'Quantidade total de clientes': 'mean'\n",
    "    })"
   ]
  },
  {
   "cell_type": "code",
   "execution_count": 0,
   "metadata": {
    "application/vnd.databricks.v1+cell": {
     "cellMetadata": {
      "byteLimit": 2048000,
      "rowLimit": 10000
     },
     "inputWidgets": {},
     "nuid": "eaeb6bda-9e20-4359-9168-eda2071c99d5",
     "showTitle": false,
     "title": ""
    }
   },
   "outputs": [
    {
     "output_type": "display_data",
     "data": {
      "text/html": [
       "<style scoped>\n",
       "  .table-result-container {\n",
       "    max-height: 300px;\n",
       "    overflow: auto;\n",
       "  }\n",
       "  table, th, td {\n",
       "    border: 1px solid black;\n",
       "    border-collapse: collapse;\n",
       "  }\n",
       "  th, td {\n",
       "    padding: 5px;\n",
       "  }\n",
       "  th {\n",
       "    text-align: left;\n",
       "  }\n",
       "</style><div class='table-result-container'><table class='table-result'><thead style='background-color: white'><tr><th>Nome</th><th>indice</th><th>qtd_total_reclamacoes</th><th>qtd_total_clientes</th></tr></thead><tbody><tr><td>ABC-BRASIL</td><td> </td><td>59</td><td>37465.57142857143</td></tr><tr><td>ABN AMRO</td><td> </td><td>1</td><td>0.0</td></tr><tr><td>ACESSO SOLUÇÕES DE PAGAMENTO S.A.</td><td>13,24</td><td>358</td><td>3125360.0</td></tr><tr><td>ACESSO SOLUÇÕES DE PAGAMENTO S.A. - INSTITUIÇÃO DE PAGAMENTO</td><td>15,52</td><td>179</td><td>5538591.0</td></tr><tr><td>ACG INSTITUIÇÃO DE PAGAMENTO S.A.</td><td> </td><td>2</td><td>51711.0</td></tr><tr><td>AFINZ</td><td> </td><td>62</td><td>483968.0</td></tr><tr><td>AGIBANK</td><td>112,41</td><td>3377</td><td>1526788.857142857</td></tr><tr><td>AGORACRED S/A SOCIEDADE DE CRÉDITO, FINANCIAMENTO E INVESTIMENTO</td><td> </td><td>47</td><td>480460.71428571426</td></tr><tr><td>AL5 S.A. CRÉDITO, FINANCIAMENTO E INVESTIMENTO</td><td> </td><td>52</td><td>22749.0</td></tr><tr><td>ALFA</td><td> </td><td>480</td><td>423848.4285714286</td></tr><tr><td>AME DIGITAL BRASIL INSTITUICAO DE PAGAMENTO LTDA</td><td> </td><td>219</td><td>1.5550813E7</td></tr><tr><td>ANDBANK</td><td> </td><td>28</td><td>8188.714285714285</td></tr><tr><td>ASAAS</td><td> </td><td>62</td><td>0.0</td></tr><tr><td>ASAAS GESTÃO FINANCEIRA INSTITUIÇÃO DE PAGAMENTO S.A.</td><td> </td><td>75</td><td>316875.6666666667</td></tr><tr><td>BANCO ABN AMRO S.A.</td><td> </td><td>7</td><td>60.25</td></tr><tr><td>BANCO ARBI S.A.</td><td> </td><td>104</td><td>46789.42857142857</td></tr><tr><td>BANCO B3 S.A.</td><td> </td><td>10</td><td>976.6666666666666</td></tr><tr><td>BANCO CAPITAL S.A.</td><td> </td><td>1</td><td>1354.0</td></tr><tr><td>BANCO CATERPILLAR S.A.</td><td> </td><td>1</td><td>3325.0</td></tr><tr><td>BANCO CEDULA S.A.</td><td> </td><td>7</td><td>18016.0</td></tr><tr><td>BANCO CNH INDUSTRIAL CAPITAL S.A.</td><td> </td><td>19</td><td>28687.571428571428</td></tr><tr><td>BANCO CSF S.A.</td><td>12,63</td><td>1751</td><td>7515584.285714285</td></tr><tr><td>BANCO DA AMAZONIA S.A.</td><td> </td><td>97</td><td>550835.2857142857</td></tr><tr><td>BANCO DA CHINA BRASIL S.A.</td><td> </td><td>3</td><td>492.6666666666667</td></tr><tr><td>BANCO DE LA NACION ARGENTINA</td><td> </td><td>3</td><td>261.5</td></tr><tr><td>BANCO DE LAGE LANDEN BRASIL S.A.</td><td> </td><td>4</td><td>35777.25</td></tr><tr><td>BANCO DIGIMAIS S.A.</td><td>170,35</td><td>1457</td><td>354981.28571428574</td></tr><tr><td>BANCO DIGIO S.A.</td><td>18,73</td><td>850</td><td>1749378.0</td></tr><tr><td>BANCO DO ESTADO DE SERGIPE S.A.</td><td> </td><td>571</td><td>1056816.0</td></tr><tr><td>BANCO DO ESTADO DO PARÁ S.A.</td><td> </td><td>517</td><td>930413.4285714285</td></tr><tr><td>BANCO DO NORDESTE DO BRASIL S.A.</td><td> </td><td>490</td><td>8966108.714285715</td></tr><tr><td>BANCO FATOR S.A.</td><td> </td><td>1</td><td>13172.0</td></tr><tr><td>BANCO FIBRA S.A.</td><td> </td><td>17</td><td>163767.16666666666</td></tr><tr><td>BANCO FIDIS S/A</td><td> </td><td>16</td><td>4608.0</td></tr><tr><td>BANCO FORD S.A.</td><td> </td><td>2</td><td>341.0</td></tr><tr><td>BANCO GUANABARA S.A.</td><td> </td><td>1</td><td>2296.0</td></tr><tr><td>BANCO HSBC S.A.</td><td> </td><td>32</td><td>3572.2</td></tr><tr><td>BANCO INBURSA S.A.</td><td> </td><td>138</td><td>20936.571428571428</td></tr><tr><td>BANCO INDUSCRED DE INVESTIMENTO S.A.</td><td> </td><td>1</td><td>104.0</td></tr><tr><td>BANCO JOHN DEERE S.A.</td><td> </td><td>5</td><td>14156.75</td></tr><tr><td>BANCO KOMATSU DO BRASIL S.A.</td><td> </td><td>1</td><td>726.0</td></tr><tr><td>BANCO LUSO BRASILEIRO S.A.</td><td> </td><td>3</td><td>9776.0</td></tr><tr><td>BANCO MIZUHO DO BRASIL S.A.</td><td> </td><td>3</td><td>1249.0</td></tr><tr><td>BANCO MONEO S.A.</td><td> </td><td>1</td><td>1135.0</td></tr><tr><td>BANCO OURINVEST S.A.</td><td> </td><td>57</td><td>131705.57142857142</td></tr><tr><td>BANCO PAULISTA S.A.</td><td> </td><td>55</td><td>43066.142857142855</td></tr><tr><td>BANCO RABOBANK INTERNATIONAL BRASIL S.A.</td><td> </td><td>4</td><td>3883.5</td></tr><tr><td>BANCO RIBEIRAO PRETO S.A.</td><td> </td><td>4</td><td>4401.0</td></tr><tr><td>BANCO RNX S.A.</td><td> </td><td>2</td><td>2356.5</td></tr><tr><td>BANCO SEMEAR S.A.</td><td> </td><td>57</td><td>296008.14285714284</td></tr><tr><td>BANCO SENFF S.A.</td><td> </td><td>53</td><td>108483.5</td></tr><tr><td>BANCO SICOOB</td><td> </td><td>582</td><td>5412024.0</td></tr><tr><td>BANCO SUMITOMO MITSUI BRASILEIRO S.A.</td><td> </td><td>2</td><td>1121.5</td></tr><tr><td>BANCO TOPÁZIO S.A.</td><td> </td><td>83</td><td>24438.428571428572</td></tr><tr><td>BANCO TOYOTA DO BRASIL S.A.</td><td> </td><td>22</td><td>160104.0</td></tr><tr><td>BANCO TOYOTA DO BRASIL S.A.</td><td> </td><td>64</td><td>153673.5</td></tr><tr><td>BANCO TRIANGULO S.A.</td><td> </td><td>244</td><td>1910792.142857143</td></tr><tr><td>BANCO TRICURY S.A.</td><td> </td><td>3</td><td>828.5</td></tr><tr><td>BANCOOB</td><td> </td><td>68</td><td>4576738.0</td></tr><tr><td>BANESTES</td><td> </td><td>443</td><td>1353112.142857143</td></tr><tr><td>BANRISUL</td><td>14,72</td><td>3689</td><td>5107234.571428572</td></tr><tr><td>BARIGUI</td><td> </td><td>540</td><td>226291.85714285713</td></tr><tr><td>BB</td><td>12,32</td><td>33737</td><td>7.141945571428572E7</td></tr><tr><td>BBC</td><td> </td><td>20</td><td>5929.0</td></tr><tr><td>BBVA BRASIL BANCO DE INVESTIMENTO S.A.</td><td> </td><td>1</td><td>0.0</td></tr><tr><td>BECKER FINANCEIRA S.A. - CRÉDITO, FINANCIAMENTO E INVESTIMENTO</td><td> </td><td>3</td><td>154624.66666666666</td></tr><tr><td>BIORC FINANCEIRA - CRÉDITO, FINANCIAMENTO E INVESTIMENTO S.A.</td><td> </td><td>5</td><td>13657.0</td></tr><tr><td>BMG</td><td>101,86</td><td>12161</td><td>9491476.57142857</td></tr><tr><td>BMW</td><td> </td><td>15</td><td>29722.5</td></tr><tr><td>BNP PARIBAS</td><td>125,22</td><td>4624</td><td>2211990.5714285714</td></tr><tr><td>BNQI - FINANCEIRO</td><td> </td><td>320</td><td>0.0</td></tr><tr><td>BNY MELLON</td><td> </td><td>1</td><td>3744.0</td></tr><tr><td>BOCOM</td><td> </td><td>1</td><td>8804.0</td></tr><tr><td>BOFA MERRILL LYNCH</td><td> </td><td>7</td><td>4732.0</td></tr><tr><td>BPP INSTITUIÇÃO DE PAGAMENTO S.A.</td><td>16,85</td><td>118</td><td>1927274.5</td></tr><tr><td>BRADESCO</td><td>21,64</td><td>60835</td><td>1.0075226757142857E8</td></tr><tr><td>BRB</td><td>103,70</td><td>4697</td><td>3600069.4285714286</td></tr><tr><td>BRK S.A. CRÉDITO, FINANCIAMENTO E INVESTIMENTO</td><td> </td><td>4</td><td>18399.0</td></tr><tr><td>BTG PACTUAL</td><td> </td><td>133</td><td>766998.0</td></tr><tr><td>BTG PACTUAL/BANCO PAN</td><td>103,44</td><td>18466</td><td>1.77133015E7</td></tr><tr><td>C6 BANK</td><td>106,22</td><td>28704</td><td>1.423086742857143E7</td></tr><tr><td>CAIXA ECONÔMICA FEDERAL</td><td>12,08</td><td>74106</td><td>1.4622746642857143E8</td></tr><tr><td>CAIXA GERAL</td><td> </td><td>7</td><td>994.0</td></tr><tr><td>CALCRED S.A. - CRÉDITO, FINANCIAMENTO E INVESTIMENTO</td><td> </td><td>11</td><td>116019.66666666667</td></tr><tr><td>CARUANA S.A. - SOCIEDADE DE CRÉDITO, FINANCIAMENTO E INVESTIMENTO</td><td> </td><td>49</td><td>65915.85714285714</td></tr><tr><td>CCB</td><td> </td><td>772</td><td>191216.0</td></tr><tr><td>CELCOIN INSTITUICAO DE PAGAMENTO S.A.</td><td> </td><td>74</td><td>0.0</td></tr><tr><td>CENTROCRED S.A. CRÉDITO, FINANCIAMENTO E INVESTIMENTOS</td><td> </td><td>2</td><td>110491.5</td></tr><tr><td>CIELO S.A.</td><td> </td><td>171</td><td>134816.0</td></tr><tr><td>CIELO S.A. - INSTITUIÇÃO DE PAGAMENTO</td><td> </td><td>155</td><td>204066.0</td></tr><tr><td>CITIBANK</td><td> </td><td>97</td><td>18253.85714285714</td></tr><tr><td>CLOUDWALK INSTITUIÇÃO DE PAGAMENTO E SERVICOS LTDA</td><td> </td><td>30</td><td>0.0</td></tr><tr><td>COBUCCIO</td><td> </td><td>201</td><td>752805.0</td></tr><tr><td>COLOMBO</td><td> </td><td>44</td><td>341318.28571428574</td></tr><tr><td>COOPER CARD INSTITUIÇÃO DE PAGAMENTO LTDA.</td><td> </td><td>4</td><td>385655.5</td></tr><tr><td>CRED-SYSTEM</td><td> </td><td>116</td><td>null</td></tr><tr><td>CREDI-SHOP S/A - INSTITUIÇÃO DE PAGAMENTO</td><td> </td><td>6</td><td>714714.6666666666</td></tr><tr><td>CREDIT SUISSE</td><td> </td><td>4</td><td>5997.0</td></tr><tr><td>CREDSYSTEM</td><td> </td><td>129</td><td>4235510.0</td></tr><tr><td>CREFISA</td><td> </td><td>2013</td><td>2865159.285714286</td></tr><tr><td>DAYCOVAL</td><td>103,22</td><td>6015</td><td>1399156.4285714286</td></tr><tr><td>DEUTSCHE BANK S.A. - BANCO ALEMAO</td><td> </td><td>1</td><td>2112.0</td></tr><tr><td>DOCK INSTITUIÇÃO DE PAGAMENTO S.A.</td><td> </td><td>91</td><td>2005494.5</td></tr><tr><td>EBANX INSTITUICAO DE PAGAMENTOS LTDA.</td><td> </td><td>466</td><td>530361.25</td></tr><tr><td>EWALLY INSTITUIÇÃO DE PAGAMENTO S.A.</td><td> </td><td>14</td><td>0.0</td></tr><tr><td>FACEBOOK INSTITUIÇÃO DE PAGAMENTO DO BRASIL LTDA.</td><td> </td><td>11</td><td>0.0</td></tr><tr><td>FACTA FINANCEIRA S.A. - CRÉDITO FINANCIAMENTO E INVESTIMENTO</td><td>113,04</td><td>2922</td><td>452006.5714285714</td></tr><tr><td>FATOR</td><td> </td><td>1</td><td>13744.0</td></tr><tr><td>FC FINANCEIRA S.A. - CRÉDITO, FINANCIAMENTO E INVESTIMENTO</td><td> </td><td>45</td><td>16128.0</td></tr><tr><td>FINAMAX S.A. - CREDITO, FINANCIAMENTO E INVESTIMENTO</td><td> </td><td>39</td><td>85505.28571428571</td></tr><tr><td>FINAXIS</td><td> </td><td>4</td><td>3984.6666666666665</td></tr><tr><td>FISERV DO BRASIL  INSTITUIÇÃO DE PAGAMENTO LTDA</td><td> </td><td>2</td><td>93.0</td></tr><tr><td>FITBANK INSTITUIÇÃO DE PAGAMENTOS ELETRÔNICOS S.A.</td><td> </td><td>5</td><td>29083.0</td></tr><tr><td>FITBANK PAGAMENTOS ELETRONICOS S.A.</td><td> </td><td>10</td><td>9470.5</td></tr><tr><td>FLAGSHIP INSTITUICAO DE PAGAMENTOS LTDA</td><td> </td><td>22</td><td>36903.0</td></tr><tr><td>FORTBRASIL ADMINISTRADORA DE CARTOES DE CREDITO S/A</td><td> </td><td>28</td><td>637834.0</td></tr><tr><td>FORTBRASIL INSTITUIÇÃO DE PAGAMENTO S/A</td><td> </td><td>39</td><td>660995.5</td></tr><tr><td>GAZIN</td><td> </td><td>6</td><td>44565.5</td></tr><tr><td>GENIAL</td><td> </td><td>116</td><td>357342.0</td></tr><tr><td>GERENCIANET</td><td> </td><td>123</td><td>309377.75</td></tr><tr><td>GM</td><td> </td><td>200</td><td>261960.85714285713</td></tr><tr><td>GRANITO INSTITUIÇÃO DE PAGAMENTO S.A.</td><td> </td><td>17</td><td>30.0</td></tr><tr><td>GRAZZIOTIN FINANCIADORA S/A - CRÉDITO, FINANCIAMENTO E INVESTIMENTOS</td><td> </td><td>1</td><td>32555.0</td></tr><tr><td>GREEN NET INSTITUIÇÃO DE PAGAMENTO LTDA</td><td> </td><td>1</td><td>0.0</td></tr><tr><td>GRUPO BONSUCESSO - BS2</td><td>105,42</td><td>1996</td><td>723296.5714285715</td></tr><tr><td>GRUPO ZEMA</td><td> </td><td>88</td><td>474978.14285714284</td></tr><tr><td>HERVAL - HS</td><td> </td><td>83</td><td>213118.2857142857</td></tr><tr><td>HONDA</td><td> </td><td>134</td><td>409735.85714285716</td></tr><tr><td>HUB INSTITUIÇÃO DE PAGAMENTO S.A.</td><td> </td><td>206</td><td>1.0478677E7</td></tr><tr><td>HUB PAGAMENTOS S.A</td><td> </td><td>75</td><td>2774313.5</td></tr><tr><td>ICBC DO BRASIL BANCO MÚLTIPLO S.A.</td><td> </td><td>3</td><td>197.5</td></tr><tr><td>INDUSTRIAL DO BRASIL</td><td> </td><td>215</td><td>65929.42857142857</td></tr><tr><td>INDUSVAL</td><td> </td><td>4</td><td>5298.0</td></tr><tr><td>INTER</td><td>129,26</td><td>13157</td><td>1.5872688285714285E7</td></tr><tr><td>ITAU</td><td>12,26</td><td>43280</td><td>9.033923071428572E7</td></tr><tr><td>IUGU INSTITUIÇÃO DE PAGAMENTO S.A.</td><td> </td><td>48</td><td>1439.0</td></tr><tr><td>JBCRED S.A. SOCIEDADE DE CREDITO, FINANCIAMENTO E INVESTIMENTO</td><td> </td><td>70</td><td>54985.0</td></tr><tr><td>JP MORGAN CHASE</td><td> </td><td>9</td><td>2908.0</td></tr><tr><td>KREDILIG S.A. - CRÉDITO, FINANCIAMENTO E INVESTIMENTO</td><td> </td><td>11</td><td>321873.0</td></tr><tr><td>LEBES FINANCEIRA S.A. - CRÉDITO, FINANCIAMENTO E INVESTIMENTO</td><td> </td><td>41</td><td>240668.7142857143</td></tr><tr><td>LECCA</td><td> </td><td>28</td><td>27340.0</td></tr><tr><td>LECCA CRÉDITO, FINANCIAMENTO E INVESTIMENTO S/A</td><td> </td><td>22</td><td>26226.333333333332</td></tr><tr><td>M PAGAMENTOS S.A. - CRÉDITO FINANCIAMENTO E INVESTIMENTO</td><td> </td><td>72</td><td>607053.5</td></tr><tr><td>MAG INSTITUICAO DE PAGAMENTO LTDA</td><td> </td><td>1</td><td>0.0</td></tr><tr><td>MASTER</td><td>2.055,01</td><td>1625</td><td>193155.5</td></tr><tr><td>MERCADO CRÉDITO</td><td> </td><td>8223</td><td>2.3685617333333332E7</td></tr><tr><td>MERCANTIL DO BRASIL</td><td>122,14</td><td>4168</td><td>4481286.285714285</td></tr><tr><td>MERCEDES-BENZ</td><td> </td><td>35</td><td>19882.714285714286</td></tr><tr><td>MIDWAY S.A. - CRÉDITO, FINANCIAMENTO E INVESTIMENTO</td><td> </td><td>1229</td><td>1.034870457142857E7</td></tr><tr><td>MODAL</td><td> </td><td>525</td><td>1448107.0</td></tr><tr><td>MÁXIMA</td><td>568,89</td><td>119</td><td>100194.0</td></tr><tr><td>NACIONAL</td><td> </td><td>1</td><td>61.0</td></tr><tr><td>NEGRESCO S.A. - CREDITO, FINANCIAMENTO E INVESTIMENTOS</td><td> </td><td>25</td><td>449469.1666666667</td></tr><tr><td>NEON</td><td>11,75</td><td>1406</td><td>1.0928067E7</td></tr><tr><td>NEON PAGAMENTOS S.A.</td><td>324,25</td><td>365</td><td>647641.0</td></tr><tr><td>NOVO BANCO CONTINENTAL S.A. - BANCO MÚLTIPLO</td><td> </td><td>332</td><td>217880.57142857142</td></tr><tr><td>NUBANK</td><td> 0 </td><td>7284</td><td>4.1799248E7</td></tr><tr><td>OMNI</td><td> </td><td>1010</td><td>4842066.571428572</td></tr><tr><td>ORIGINAL</td><td>14,35</td><td>10168</td><td>2.5494336285714287E7</td></tr><tr><td>PAGBANK-PAGSEGURO</td><td> </td><td>5444</td><td>1.5364125714285715E7</td></tr><tr><td>PAGUEVELOZ INSTITUIÇÃO DE PAGAMENTO LTDA.</td><td> </td><td>34</td><td>0.0</td></tr><tr><td>PAN</td><td>245,28</td><td>3953</td><td>8907890.0</td></tr><tr><td>PARANÁ BANCO</td><td> </td><td>2115</td><td>505174.4285714286</td></tr><tr><td>PARATI - CREDITO, FINANCIAMENTO E INVESTIMENTO S.A.</td><td> </td><td>460</td><td>28485.285714285714</td></tr><tr><td>PAYPAL DO BRASIL SERVICOS DE PAGAMENTOS LTDA</td><td>15,77</td><td>466</td><td>5376959.5</td></tr><tr><td>PEFISA S.A. - CRÉDITO, FINANCIAMENTO E INVESTIMENTO</td><td>10,57</td><td>1164</td><td>7546105.571428572</td></tr><tr><td>PINBANK BRASIL INSTITUIÇÃO DE PAGAMENTO S.A.</td><td> </td><td>2</td><td>0.0</td></tr><tr><td>PINE</td><td> </td><td>29</td><td>33519.42857142857</td></tr><tr><td>PORTO SEGURO</td><td>18,21</td><td>1839</td><td>3013725.1428571427</td></tr><tr><td>PORTOCRED S.A. - CREDITO, FINANCIAMENTO E INVESTIMENTO</td><td> </td><td>462</td><td>184037.42857142858</td></tr><tr><td>QUERO-QUERO VERDECARD INSTITUIÇÃO DE PAGAMENTO S.A.</td><td> </td><td>48</td><td>452785.3333333333</td></tr><tr><td>REALIZE CRÉDITO, FINANCIAMENTO E INVESTIMENTO S.A.</td><td> </td><td>621</td><td>5280277.285714285</td></tr><tr><td>RECARGAPAY</td><td> </td><td>314</td><td>7636969.5</td></tr><tr><td>RENDIMENTO</td><td> </td><td>134</td><td>142957.0</td></tr><tr><td>REPOM S.A.</td><td> </td><td>17</td><td>268078.5</td></tr><tr><td>RODOBENS</td><td> </td><td>57</td><td>17453.85714285714</td></tr><tr><td>RPW S/A SOCIEDADE DE CRÉDITO, FINANCIAMENTO E INVESTIMENTO</td><td> </td><td>2</td><td>8601.0</td></tr><tr><td>SAFRA</td><td>103,36</td><td>9914</td><td>4705216.714285715</td></tr><tr><td>SANTANA S.A. - CRÉDITO, FINANCIAMENTO E INVESTIMENTO</td><td> </td><td>7</td><td>29486.333333333332</td></tr><tr><td>SANTANDER</td><td>21,05</td><td>45423</td><td>5.6422443428571425E7</td></tr><tr><td>SANTINVEST S.A. - CREDITO, FINANCIAMENTO E INVESTIMENTOS</td><td> </td><td>23</td><td>12535.0</td></tr><tr><td>SAX S.A. - CRÉDITO, FINANCIAMENTO E INVESTIMENTO</td><td> </td><td>8</td><td>853173.0</td></tr><tr><td>SCANIA</td><td> </td><td>2</td><td>5346.5</td></tr><tr><td>SENFF</td><td> </td><td>52</td><td>310367.6666666667</td></tr><tr><td>SF3 CRÉDITO, FINANCIAMENTO E INVESTIMENTO S.A.</td><td> </td><td>9</td><td>28015.5</td></tr><tr><td>SHPP BRASIL INSTITUIÇÃO DE PAGAMENTO E SERVIÇOS DE PAGAMENTOS LTDA.</td><td> </td><td>90</td><td>0.0</td></tr><tr><td>SICREDI</td><td> </td><td>18</td><td>6438476.0</td></tr><tr><td>SIMPALA</td><td> </td><td>5</td><td>3206.0</td></tr><tr><td>SINOSSERRA</td><td> </td><td>4</td><td>9798.5</td></tr><tr><td>SOCIAL BANK BANCO MÚLTIPLO S/A</td><td> </td><td>43</td><td>1308.3333333333333</td></tr><tr><td>SOCIAL BANK INSTITUIÇÃO DE PAGAMENTO S.A</td><td> </td><td>7</td><td>292123.0</td></tr><tr><td>SOCIETE GENERALE</td><td> </td><td>6</td><td>528.0</td></tr><tr><td>SOCINAL S.A. - CRÉDITO, FINANCIAMENTO E INVESTIMENTO</td><td> </td><td>143</td><td>2366.285714285714</td></tr><tr><td>SOFISA</td><td> </td><td>498</td><td>461250.5714285714</td></tr><tr><td>SOROCRED</td><td> </td><td>362</td><td>536186.8333333334</td></tr><tr><td>STARA FINANCEIRA S.A. - CRÉDITO FINANCIAMENTO E INVESTIMENTO</td><td> </td><td>1</td><td>771.0</td></tr><tr><td>STATE STREET BRASIL S.A. - BANCO COMERCIAL</td><td> </td><td>1</td><td>1.0</td></tr><tr><td>STONE</td><td>14,82</td><td>1254</td><td>2347590.0</td></tr><tr><td>STRIPE BRASIL SOLUCOES DE PAGAMENTO INSTITUICAO DE PAGAMENTO LTDA</td><td> </td><td>4</td><td>74.0</td></tr><tr><td>SUMUP</td><td> </td><td>22</td><td>113.0</td></tr><tr><td>TENTOS S.A. CRÉDITO, FINANCIAMENTO E INVESTIMENTO</td><td> </td><td>2</td><td>205.5</td></tr><tr><td>TODESCREDI S/A - CRÉDITO, FINANCIAMENTO E INVESTIMENTO</td><td> </td><td>3</td><td>37316.333333333336</td></tr><tr><td>U4C INSTITUIÇÃO DE PAGAMENTO S.A.</td><td> </td><td>7</td><td>0.0</td></tr><tr><td>U4CRYPTO INSTITUIÇÃO DE PAGAMENTO SA</td><td> </td><td>20</td><td>0.0</td></tr><tr><td>UBS</td><td> </td><td>6</td><td>0.0</td></tr><tr><td>VERDE - ADMINISTRADORA DE CARTOES DE CREDITO S.A.</td><td> </td><td>11</td><td>435518.0</td></tr><tr><td>VIA CERTA FINANCIADORA S.A. - CRÉDITO, FINANCIAMENTO E INVESTIMENTOS</td><td> </td><td>48</td><td>428074.71428571426</td></tr><tr><td>VOITER</td><td> </td><td>23</td><td>128430.8</td></tr><tr><td>VOLKSWAGEN</td><td> </td><td>631</td><td>346219.4285714286</td></tr><tr><td>VOLVO</td><td> </td><td>9</td><td>7650.166666666667</td></tr><tr><td>VOTORANTIM</td><td>13,05</td><td>4529</td><td>1.727523557142857E7</td></tr><tr><td>VR</td><td> </td><td>7</td><td>74.66666666666667</td></tr><tr><td>WESTERN UNION</td><td> </td><td>42</td><td>1.0</td></tr><tr><td>WILL</td><td>36,34</td><td>769</td><td>3496305.5</td></tr><tr><td>WILL FINANCEIRA S.A. CRÉDITO, FINANCIAMENTO E INVESTIMENTO</td><td> </td><td>404</td><td>1925728.0</td></tr><tr><td>WORLDPAY DO BRASIL INSTITUICAO DE PAGAMENTO LTDA</td><td> </td><td>1</td><td>55.0</td></tr><tr><td>XP</td><td> </td><td>582</td><td>675668.8</td></tr><tr><td>YAMAHA MOTOR</td><td> </td><td>136</td><td>206647.2857142857</td></tr></tbody></table></div>"
      ]
     },
     "metadata": {
      "application/vnd.databricks.v1+output": {
       "addedWidgets": {},
       "aggData": [],
       "aggError": "",
       "aggOverflow": false,
       "aggSchema": [],
       "aggSeriesLimitReached": false,
       "aggType": "",
       "arguments": {},
       "columnCustomDisplayInfos": {},
       "data": [
        [
         "ABC-BRASIL",
         " ",
         59,
         37465.57142857143
        ],
        [
         "ABN AMRO",
         " ",
         1,
         0.0
        ],
        [
         "ACESSO SOLUÇÕES DE PAGAMENTO S.A.",
         "13,24",
         358,
         3125360.0
        ],
        [
         "ACESSO SOLUÇÕES DE PAGAMENTO S.A. - INSTITUIÇÃO DE PAGAMENTO",
         "15,52",
         179,
         5538591.0
        ],
        [
         "ACG INSTITUIÇÃO DE PAGAMENTO S.A.",
         " ",
         2,
         51711.0
        ],
        [
         "AFINZ",
         " ",
         62,
         483968.0
        ],
        [
         "AGIBANK",
         "112,41",
         3377,
         1526788.857142857
        ],
        [
         "AGORACRED S/A SOCIEDADE DE CRÉDITO, FINANCIAMENTO E INVESTIMENTO",
         " ",
         47,
         480460.71428571426
        ],
        [
         "AL5 S.A. CRÉDITO, FINANCIAMENTO E INVESTIMENTO",
         " ",
         52,
         22749.0
        ],
        [
         "ALFA",
         " ",
         480,
         423848.4285714286
        ],
        [
         "AME DIGITAL BRASIL INSTITUICAO DE PAGAMENTO LTDA",
         " ",
         219,
         1.5550813E7
        ],
        [
         "ANDBANK",
         " ",
         28,
         8188.714285714285
        ],
        [
         "ASAAS",
         " ",
         62,
         0.0
        ],
        [
         "ASAAS GESTÃO FINANCEIRA INSTITUIÇÃO DE PAGAMENTO S.A.",
         " ",
         75,
         316875.6666666667
        ],
        [
         "BANCO ABN AMRO S.A.",
         " ",
         7,
         60.25
        ],
        [
         "BANCO ARBI S.A.",
         " ",
         104,
         46789.42857142857
        ],
        [
         "BANCO B3 S.A.",
         " ",
         10,
         976.6666666666666
        ],
        [
         "BANCO CAPITAL S.A.",
         " ",
         1,
         1354.0
        ],
        [
         "BANCO CATERPILLAR S.A.",
         " ",
         1,
         3325.0
        ],
        [
         "BANCO CEDULA S.A.",
         " ",
         7,
         18016.0
        ],
        [
         "BANCO CNH INDUSTRIAL CAPITAL S.A.",
         " ",
         19,
         28687.571428571428
        ],
        [
         "BANCO CSF S.A.",
         "12,63",
         1751,
         7515584.285714285
        ],
        [
         "BANCO DA AMAZONIA S.A.",
         " ",
         97,
         550835.2857142857
        ],
        [
         "BANCO DA CHINA BRASIL S.A.",
         " ",
         3,
         492.6666666666667
        ],
        [
         "BANCO DE LA NACION ARGENTINA",
         " ",
         3,
         261.5
        ],
        [
         "BANCO DE LAGE LANDEN BRASIL S.A.",
         " ",
         4,
         35777.25
        ],
        [
         "BANCO DIGIMAIS S.A.",
         "170,35",
         1457,
         354981.28571428574
        ],
        [
         "BANCO DIGIO S.A.",
         "18,73",
         850,
         1749378.0
        ],
        [
         "BANCO DO ESTADO DE SERGIPE S.A.",
         " ",
         571,
         1056816.0
        ],
        [
         "BANCO DO ESTADO DO PARÁ S.A.",
         " ",
         517,
         930413.4285714285
        ],
        [
         "BANCO DO NORDESTE DO BRASIL S.A.",
         " ",
         490,
         8966108.714285715
        ],
        [
         "BANCO FATOR S.A.",
         " ",
         1,
         13172.0
        ],
        [
         "BANCO FIBRA S.A.",
         " ",
         17,
         163767.16666666666
        ],
        [
         "BANCO FIDIS S/A",
         " ",
         16,
         4608.0
        ],
        [
         "BANCO FORD S.A.",
         " ",
         2,
         341.0
        ],
        [
         "BANCO GUANABARA S.A.",
         " ",
         1,
         2296.0
        ],
        [
         "BANCO HSBC S.A.",
         " ",
         32,
         3572.2
        ],
        [
         "BANCO INBURSA S.A.",
         " ",
         138,
         20936.571428571428
        ],
        [
         "BANCO INDUSCRED DE INVESTIMENTO S.A.",
         " ",
         1,
         104.0
        ],
        [
         "BANCO JOHN DEERE S.A.",
         " ",
         5,
         14156.75
        ],
        [
         "BANCO KOMATSU DO BRASIL S.A.",
         " ",
         1,
         726.0
        ],
        [
         "BANCO LUSO BRASILEIRO S.A.",
         " ",
         3,
         9776.0
        ],
        [
         "BANCO MIZUHO DO BRASIL S.A.",
         " ",
         3,
         1249.0
        ],
        [
         "BANCO MONEO S.A.",
         " ",
         1,
         1135.0
        ],
        [
         "BANCO OURINVEST S.A.",
         " ",
         57,
         131705.57142857142
        ],
        [
         "BANCO PAULISTA S.A.",
         " ",
         55,
         43066.142857142855
        ],
        [
         "BANCO RABOBANK INTERNATIONAL BRASIL S.A.",
         " ",
         4,
         3883.5
        ],
        [
         "BANCO RIBEIRAO PRETO S.A.",
         " ",
         4,
         4401.0
        ],
        [
         "BANCO RNX S.A.",
         " ",
         2,
         2356.5
        ],
        [
         "BANCO SEMEAR S.A.",
         " ",
         57,
         296008.14285714284
        ],
        [
         "BANCO SENFF S.A.",
         " ",
         53,
         108483.5
        ],
        [
         "BANCO SICOOB",
         " ",
         582,
         5412024.0
        ],
        [
         "BANCO SUMITOMO MITSUI BRASILEIRO S.A.",
         " ",
         2,
         1121.5
        ],
        [
         "BANCO TOPÁZIO S.A.",
         " ",
         83,
         24438.428571428572
        ],
        [
         "BANCO TOYOTA DO BRASIL S.A.",
         " ",
         22,
         160104.0
        ],
        [
         "BANCO TOYOTA DO BRASIL S.A.",
         " ",
         64,
         153673.5
        ],
        [
         "BANCO TRIANGULO S.A.",
         " ",
         244,
         1910792.142857143
        ],
        [
         "BANCO TRICURY S.A.",
         " ",
         3,
         828.5
        ],
        [
         "BANCOOB",
         " ",
         68,
         4576738.0
        ],
        [
         "BANESTES",
         " ",
         443,
         1353112.142857143
        ],
        [
         "BANRISUL",
         "14,72",
         3689,
         5107234.571428572
        ],
        [
         "BARIGUI",
         " ",
         540,
         226291.85714285713
        ],
        [
         "BB",
         "12,32",
         33737,
         7.141945571428572E7
        ],
        [
         "BBC",
         " ",
         20,
         5929.0
        ],
        [
         "BBVA BRASIL BANCO DE INVESTIMENTO S.A.",
         " ",
         1,
         0.0
        ],
        [
         "BECKER FINANCEIRA S.A. - CRÉDITO, FINANCIAMENTO E INVESTIMENTO",
         " ",
         3,
         154624.66666666666
        ],
        [
         "BIORC FINANCEIRA - CRÉDITO, FINANCIAMENTO E INVESTIMENTO S.A.",
         " ",
         5,
         13657.0
        ],
        [
         "BMG",
         "101,86",
         12161,
         9491476.57142857
        ],
        [
         "BMW",
         " ",
         15,
         29722.5
        ],
        [
         "BNP PARIBAS",
         "125,22",
         4624,
         2211990.5714285714
        ],
        [
         "BNQI - FINANCEIRO",
         " ",
         320,
         0.0
        ],
        [
         "BNY MELLON",
         " ",
         1,
         3744.0
        ],
        [
         "BOCOM",
         " ",
         1,
         8804.0
        ],
        [
         "BOFA MERRILL LYNCH",
         " ",
         7,
         4732.0
        ],
        [
         "BPP INSTITUIÇÃO DE PAGAMENTO S.A.",
         "16,85",
         118,
         1927274.5
        ],
        [
         "BRADESCO",
         "21,64",
         60835,
         1.0075226757142857E8
        ],
        [
         "BRB",
         "103,70",
         4697,
         3600069.4285714286
        ],
        [
         "BRK S.A. CRÉDITO, FINANCIAMENTO E INVESTIMENTO",
         " ",
         4,
         18399.0
        ],
        [
         "BTG PACTUAL",
         " ",
         133,
         766998.0
        ],
        [
         "BTG PACTUAL/BANCO PAN",
         "103,44",
         18466,
         1.77133015E7
        ],
        [
         "C6 BANK",
         "106,22",
         28704,
         1.423086742857143E7
        ],
        [
         "CAIXA ECONÔMICA FEDERAL",
         "12,08",
         74106,
         1.4622746642857143E8
        ],
        [
         "CAIXA GERAL",
         " ",
         7,
         994.0
        ],
        [
         "CALCRED S.A. - CRÉDITO, FINANCIAMENTO E INVESTIMENTO",
         " ",
         11,
         116019.66666666667
        ],
        [
         "CARUANA S.A. - SOCIEDADE DE CRÉDITO, FINANCIAMENTO E INVESTIMENTO",
         " ",
         49,
         65915.85714285714
        ],
        [
         "CCB",
         " ",
         772,
         191216.0
        ],
        [
         "CELCOIN INSTITUICAO DE PAGAMENTO S.A.",
         " ",
         74,
         0.0
        ],
        [
         "CENTROCRED S.A. CRÉDITO, FINANCIAMENTO E INVESTIMENTOS",
         " ",
         2,
         110491.5
        ],
        [
         "CIELO S.A.",
         " ",
         171,
         134816.0
        ],
        [
         "CIELO S.A. - INSTITUIÇÃO DE PAGAMENTO",
         " ",
         155,
         204066.0
        ],
        [
         "CITIBANK",
         " ",
         97,
         18253.85714285714
        ],
        [
         "CLOUDWALK INSTITUIÇÃO DE PAGAMENTO E SERVICOS LTDA",
         " ",
         30,
         0.0
        ],
        [
         "COBUCCIO",
         " ",
         201,
         752805.0
        ],
        [
         "COLOMBO",
         " ",
         44,
         341318.28571428574
        ],
        [
         "COOPER CARD INSTITUIÇÃO DE PAGAMENTO LTDA.",
         " ",
         4,
         385655.5
        ],
        [
         "CRED-SYSTEM",
         " ",
         116,
         null
        ],
        [
         "CREDI-SHOP S/A - INSTITUIÇÃO DE PAGAMENTO",
         " ",
         6,
         714714.6666666666
        ],
        [
         "CREDIT SUISSE",
         " ",
         4,
         5997.0
        ],
        [
         "CREDSYSTEM",
         " ",
         129,
         4235510.0
        ],
        [
         "CREFISA",
         " ",
         2013,
         2865159.285714286
        ],
        [
         "DAYCOVAL",
         "103,22",
         6015,
         1399156.4285714286
        ],
        [
         "DEUTSCHE BANK S.A. - BANCO ALEMAO",
         " ",
         1,
         2112.0
        ],
        [
         "DOCK INSTITUIÇÃO DE PAGAMENTO S.A.",
         " ",
         91,
         2005494.5
        ],
        [
         "EBANX INSTITUICAO DE PAGAMENTOS LTDA.",
         " ",
         466,
         530361.25
        ],
        [
         "EWALLY INSTITUIÇÃO DE PAGAMENTO S.A.",
         " ",
         14,
         0.0
        ],
        [
         "FACEBOOK INSTITUIÇÃO DE PAGAMENTO DO BRASIL LTDA.",
         " ",
         11,
         0.0
        ],
        [
         "FACTA FINANCEIRA S.A. - CRÉDITO FINANCIAMENTO E INVESTIMENTO",
         "113,04",
         2922,
         452006.5714285714
        ],
        [
         "FATOR",
         " ",
         1,
         13744.0
        ],
        [
         "FC FINANCEIRA S.A. - CRÉDITO, FINANCIAMENTO E INVESTIMENTO",
         " ",
         45,
         16128.0
        ],
        [
         "FINAMAX S.A. - CREDITO, FINANCIAMENTO E INVESTIMENTO",
         " ",
         39,
         85505.28571428571
        ],
        [
         "FINAXIS",
         " ",
         4,
         3984.6666666666665
        ],
        [
         "FISERV DO BRASIL  INSTITUIÇÃO DE PAGAMENTO LTDA",
         " ",
         2,
         93.0
        ],
        [
         "FITBANK INSTITUIÇÃO DE PAGAMENTOS ELETRÔNICOS S.A.",
         " ",
         5,
         29083.0
        ],
        [
         "FITBANK PAGAMENTOS ELETRONICOS S.A.",
         " ",
         10,
         9470.5
        ],
        [
         "FLAGSHIP INSTITUICAO DE PAGAMENTOS LTDA",
         " ",
         22,
         36903.0
        ],
        [
         "FORTBRASIL ADMINISTRADORA DE CARTOES DE CREDITO S/A",
         " ",
         28,
         637834.0
        ],
        [
         "FORTBRASIL INSTITUIÇÃO DE PAGAMENTO S/A",
         " ",
         39,
         660995.5
        ],
        [
         "GAZIN",
         " ",
         6,
         44565.5
        ],
        [
         "GENIAL",
         " ",
         116,
         357342.0
        ],
        [
         "GERENCIANET",
         " ",
         123,
         309377.75
        ],
        [
         "GM",
         " ",
         200,
         261960.85714285713
        ],
        [
         "GRANITO INSTITUIÇÃO DE PAGAMENTO S.A.",
         " ",
         17,
         30.0
        ],
        [
         "GRAZZIOTIN FINANCIADORA S/A - CRÉDITO, FINANCIAMENTO E INVESTIMENTOS",
         " ",
         1,
         32555.0
        ],
        [
         "GREEN NET INSTITUIÇÃO DE PAGAMENTO LTDA",
         " ",
         1,
         0.0
        ],
        [
         "GRUPO BONSUCESSO - BS2",
         "105,42",
         1996,
         723296.5714285715
        ],
        [
         "GRUPO ZEMA",
         " ",
         88,
         474978.14285714284
        ],
        [
         "HERVAL - HS",
         " ",
         83,
         213118.2857142857
        ],
        [
         "HONDA",
         " ",
         134,
         409735.85714285716
        ],
        [
         "HUB INSTITUIÇÃO DE PAGAMENTO S.A.",
         " ",
         206,
         1.0478677E7
        ],
        [
         "HUB PAGAMENTOS S.A",
         " ",
         75,
         2774313.5
        ],
        [
         "ICBC DO BRASIL BANCO MÚLTIPLO S.A.",
         " ",
         3,
         197.5
        ],
        [
         "INDUSTRIAL DO BRASIL",
         " ",
         215,
         65929.42857142857
        ],
        [
         "INDUSVAL",
         " ",
         4,
         5298.0
        ],
        [
         "INTER",
         "129,26",
         13157,
         1.5872688285714285E7
        ],
        [
         "ITAU",
         "12,26",
         43280,
         9.033923071428572E7
        ],
        [
         "IUGU INSTITUIÇÃO DE PAGAMENTO S.A.",
         " ",
         48,
         1439.0
        ],
        [
         "JBCRED S.A. SOCIEDADE DE CREDITO, FINANCIAMENTO E INVESTIMENTO",
         " ",
         70,
         54985.0
        ],
        [
         "JP MORGAN CHASE",
         " ",
         9,
         2908.0
        ],
        [
         "KREDILIG S.A. - CRÉDITO, FINANCIAMENTO E INVESTIMENTO",
         " ",
         11,
         321873.0
        ],
        [
         "LEBES FINANCEIRA S.A. - CRÉDITO, FINANCIAMENTO E INVESTIMENTO",
         " ",
         41,
         240668.7142857143
        ],
        [
         "LECCA",
         " ",
         28,
         27340.0
        ],
        [
         "LECCA CRÉDITO, FINANCIAMENTO E INVESTIMENTO S/A",
         " ",
         22,
         26226.333333333332
        ],
        [
         "M PAGAMENTOS S.A. - CRÉDITO FINANCIAMENTO E INVESTIMENTO",
         " ",
         72,
         607053.5
        ],
        [
         "MAG INSTITUICAO DE PAGAMENTO LTDA",
         " ",
         1,
         0.0
        ],
        [
         "MASTER",
         "2.055,01",
         1625,
         193155.5
        ],
        [
         "MERCADO CRÉDITO",
         " ",
         8223,
         2.3685617333333332E7
        ],
        [
         "MERCANTIL DO BRASIL",
         "122,14",
         4168,
         4481286.285714285
        ],
        [
         "MERCEDES-BENZ",
         " ",
         35,
         19882.714285714286
        ],
        [
         "MIDWAY S.A. - CRÉDITO, FINANCIAMENTO E INVESTIMENTO",
         " ",
         1229,
         1.034870457142857E7
        ],
        [
         "MODAL",
         " ",
         525,
         1448107.0
        ],
        [
         "MÁXIMA",
         "568,89",
         119,
         100194.0
        ],
        [
         "NACIONAL",
         " ",
         1,
         61.0
        ],
        [
         "NEGRESCO S.A. - CREDITO, FINANCIAMENTO E INVESTIMENTOS",
         " ",
         25,
         449469.1666666667
        ],
        [
         "NEON",
         "11,75",
         1406,
         1.0928067E7
        ],
        [
         "NEON PAGAMENTOS S.A.",
         "324,25",
         365,
         647641.0
        ],
        [
         "NOVO BANCO CONTINENTAL S.A. - BANCO MÚLTIPLO",
         " ",
         332,
         217880.57142857142
        ],
        [
         "NUBANK",
         " 0 ",
         7284,
         4.1799248E7
        ],
        [
         "OMNI",
         " ",
         1010,
         4842066.571428572
        ],
        [
         "ORIGINAL",
         "14,35",
         10168,
         2.5494336285714287E7
        ],
        [
         "PAGBANK-PAGSEGURO",
         " ",
         5444,
         1.5364125714285715E7
        ],
        [
         "PAGUEVELOZ INSTITUIÇÃO DE PAGAMENTO LTDA.",
         " ",
         34,
         0.0
        ],
        [
         "PAN",
         "245,28",
         3953,
         8907890.0
        ],
        [
         "PARANÁ BANCO",
         " ",
         2115,
         505174.4285714286
        ],
        [
         "PARATI - CREDITO, FINANCIAMENTO E INVESTIMENTO S.A.",
         " ",
         460,
         28485.285714285714
        ],
        [
         "PAYPAL DO BRASIL SERVICOS DE PAGAMENTOS LTDA",
         "15,77",
         466,
         5376959.5
        ],
        [
         "PEFISA S.A. - CRÉDITO, FINANCIAMENTO E INVESTIMENTO",
         "10,57",
         1164,
         7546105.571428572
        ],
        [
         "PINBANK BRASIL INSTITUIÇÃO DE PAGAMENTO S.A.",
         " ",
         2,
         0.0
        ],
        [
         "PINE",
         " ",
         29,
         33519.42857142857
        ],
        [
         "PORTO SEGURO",
         "18,21",
         1839,
         3013725.1428571427
        ],
        [
         "PORTOCRED S.A. - CREDITO, FINANCIAMENTO E INVESTIMENTO",
         " ",
         462,
         184037.42857142858
        ],
        [
         "QUERO-QUERO VERDECARD INSTITUIÇÃO DE PAGAMENTO S.A.",
         " ",
         48,
         452785.3333333333
        ],
        [
         "REALIZE CRÉDITO, FINANCIAMENTO E INVESTIMENTO S.A.",
         " ",
         621,
         5280277.285714285
        ],
        [
         "RECARGAPAY",
         " ",
         314,
         7636969.5
        ],
        [
         "RENDIMENTO",
         " ",
         134,
         142957.0
        ],
        [
         "REPOM S.A.",
         " ",
         17,
         268078.5
        ],
        [
         "RODOBENS",
         " ",
         57,
         17453.85714285714
        ],
        [
         "RPW S/A SOCIEDADE DE CRÉDITO, FINANCIAMENTO E INVESTIMENTO",
         " ",
         2,
         8601.0
        ],
        [
         "SAFRA",
         "103,36",
         9914,
         4705216.714285715
        ],
        [
         "SANTANA S.A. - CRÉDITO, FINANCIAMENTO E INVESTIMENTO",
         " ",
         7,
         29486.333333333332
        ],
        [
         "SANTANDER",
         "21,05",
         45423,
         5.6422443428571425E7
        ],
        [
         "SANTINVEST S.A. - CREDITO, FINANCIAMENTO E INVESTIMENTOS",
         " ",
         23,
         12535.0
        ],
        [
         "SAX S.A. - CRÉDITO, FINANCIAMENTO E INVESTIMENTO",
         " ",
         8,
         853173.0
        ],
        [
         "SCANIA",
         " ",
         2,
         5346.5
        ],
        [
         "SENFF",
         " ",
         52,
         310367.6666666667
        ],
        [
         "SF3 CRÉDITO, FINANCIAMENTO E INVESTIMENTO S.A.",
         " ",
         9,
         28015.5
        ],
        [
         "SHPP BRASIL INSTITUIÇÃO DE PAGAMENTO E SERVIÇOS DE PAGAMENTOS LTDA.",
         " ",
         90,
         0.0
        ],
        [
         "SICREDI",
         " ",
         18,
         6438476.0
        ],
        [
         "SIMPALA",
         " ",
         5,
         3206.0
        ],
        [
         "SINOSSERRA",
         " ",
         4,
         9798.5
        ],
        [
         "SOCIAL BANK BANCO MÚLTIPLO S/A",
         " ",
         43,
         1308.3333333333333
        ],
        [
         "SOCIAL BANK INSTITUIÇÃO DE PAGAMENTO S.A",
         " ",
         7,
         292123.0
        ],
        [
         "SOCIETE GENERALE",
         " ",
         6,
         528.0
        ],
        [
         "SOCINAL S.A. - CRÉDITO, FINANCIAMENTO E INVESTIMENTO",
         " ",
         143,
         2366.285714285714
        ],
        [
         "SOFISA",
         " ",
         498,
         461250.5714285714
        ],
        [
         "SOROCRED",
         " ",
         362,
         536186.8333333334
        ],
        [
         "STARA FINANCEIRA S.A. - CRÉDITO FINANCIAMENTO E INVESTIMENTO",
         " ",
         1,
         771.0
        ],
        [
         "STATE STREET BRASIL S.A. - BANCO COMERCIAL",
         " ",
         1,
         1.0
        ],
        [
         "STONE",
         "14,82",
         1254,
         2347590.0
        ],
        [
         "STRIPE BRASIL SOLUCOES DE PAGAMENTO INSTITUICAO DE PAGAMENTO LTDA",
         " ",
         4,
         74.0
        ],
        [
         "SUMUP",
         " ",
         22,
         113.0
        ],
        [
         "TENTOS S.A. CRÉDITO, FINANCIAMENTO E INVESTIMENTO",
         " ",
         2,
         205.5
        ],
        [
         "TODESCREDI S/A - CRÉDITO, FINANCIAMENTO E INVESTIMENTO",
         " ",
         3,
         37316.333333333336
        ],
        [
         "U4C INSTITUIÇÃO DE PAGAMENTO S.A.",
         " ",
         7,
         0.0
        ],
        [
         "U4CRYPTO INSTITUIÇÃO DE PAGAMENTO SA",
         " ",
         20,
         0.0
        ],
        [
         "UBS",
         " ",
         6,
         0.0
        ],
        [
         "VERDE - ADMINISTRADORA DE CARTOES DE CREDITO S.A.",
         " ",
         11,
         435518.0
        ],
        [
         "VIA CERTA FINANCIADORA S.A. - CRÉDITO, FINANCIAMENTO E INVESTIMENTOS",
         " ",
         48,
         428074.71428571426
        ],
        [
         "VOITER",
         " ",
         23,
         128430.8
        ],
        [
         "VOLKSWAGEN",
         " ",
         631,
         346219.4285714286
        ],
        [
         "VOLVO",
         " ",
         9,
         7650.166666666667
        ],
        [
         "VOTORANTIM",
         "13,05",
         4529,
         1.727523557142857E7
        ],
        [
         "VR",
         " ",
         7,
         74.66666666666667
        ],
        [
         "WESTERN UNION",
         " ",
         42,
         1.0
        ],
        [
         "WILL",
         "36,34",
         769,
         3496305.5
        ],
        [
         "WILL FINANCEIRA S.A. CRÉDITO, FINANCIAMENTO E INVESTIMENTO",
         " ",
         404,
         1925728.0
        ],
        [
         "WORLDPAY DO BRASIL INSTITUICAO DE PAGAMENTO LTDA",
         " ",
         1,
         55.0
        ],
        [
         "XP",
         " ",
         582,
         675668.8
        ],
        [
         "YAMAHA MOTOR",
         " ",
         136,
         206647.2857142857
        ]
       ],
       "datasetInfos": [],
       "dbfsResultPath": null,
       "isJsonSchema": true,
       "metadata": {},
       "overflow": false,
       "plotOptions": {
        "customPlotOptions": {},
        "displayType": "table",
        "pivotAggregation": null,
        "pivotColumns": null,
        "xColumns": null,
        "yColumns": null
       },
       "removedWidgets": [],
       "schema": [
        {
         "metadata": "{}",
         "name": "Nome",
         "type": "\"string\""
        },
        {
         "metadata": "{}",
         "name": "indice",
         "type": "\"string\""
        },
        {
         "metadata": "{}",
         "name": "qtd_total_reclamacoes",
         "type": "\"long\""
        },
        {
         "metadata": "{}",
         "name": "qtd_total_clientes",
         "type": "\"double\""
        }
       ],
       "type": "table"
      }
     },
     "output_type": "display_data"
    }
   ],
   "source": [
    "#Tratando colunas\n",
    "df_reclamacoes_filtrado = df_reclamacoes.withColumn(\"Instituição financeira\", regexp_replace(col('Instituição financeira'), \" \\(conglomerado\\)\", \"\"))\n",
    "df_reclamacoes_filtrado = df_reclamacoes_filtrado.withColumnRenamed(\"Instituição financeira\", \"Nome\")\n",
    "df_reclamacoes_filtrado = df_reclamacoes_filtrado.withColumnRenamed(\"min(Índice)\", \"indice\")\n",
    "df_reclamacoes_filtrado = df_reclamacoes_filtrado.withColumnRenamed(\"sum(Quantidade total de reclamações)\", \"qtd_total_reclamacoes\")\n",
    "df_reclamacoes_filtrado = df_reclamacoes_filtrado.withColumnRenamed(\"avg(Quantidade total de clientes)\", \"qtd_total_clientes\")\n",
    "df_reclamacoes_filtrado.display()"
   ]
  },
  {
   "cell_type": "markdown",
   "metadata": {
    "application/vnd.databricks.v1+cell": {
     "cellMetadata": {
      "byteLimit": 2048000,
      "rowLimit": 10000
     },
     "inputWidgets": {},
     "nuid": "0d3f72aa-b629-42f4-bb6a-ebfc80f6d679",
     "showTitle": false,
     "title": ""
    }
   },
   "source": [
    "#Joins"
   ]
  },
  {
   "cell_type": "code",
   "execution_count": 0,
   "metadata": {
    "application/vnd.databricks.v1+cell": {
     "cellMetadata": {
      "byteLimit": 2048000,
      "rowLimit": 10000
     },
     "inputWidgets": {},
     "nuid": "fc7a3571-1103-428b-b960-a9420334a436",
     "showTitle": false,
     "title": ""
    }
   },
   "outputs": [],
   "source": [
    "join_df = df_empregados.join(df_reclamacoes_filtrado, on=\"Nome\", how=\"inner\")\n",
    "final_df = join_df.join(df_banco_filtrado, on=\"Nome\", how=\"inner\")"
   ]
  },
  {
   "cell_type": "code",
   "execution_count": 0,
   "metadata": {
    "application/vnd.databricks.v1+cell": {
     "cellMetadata": {
      "byteLimit": 2048000,
      "rowLimit": 10000
     },
     "inputWidgets": {},
     "nuid": "2f001f2a-a69d-450a-9292-490a54674dcc",
     "showTitle": false,
     "title": ""
    }
   },
   "outputs": [],
   "source": [
    "#Renomeando colunas\n",
    "final_df = final_df.withColumnRenamed(\"avg(satisfacao_salario)\", \"satisfacao_salario\")\n",
    "final_df = final_df.withColumnRenamed(\"avg(satisfacao_empregado)\", \"satisfacao_empregado\")\n",
    "final_df = final_df.withColumnRenamed(\"Segmento\", \"segmento\")"
   ]
  },
  {
   "cell_type": "code",
   "execution_count": 0,
   "metadata": {
    "application/vnd.databricks.v1+cell": {
     "cellMetadata": {
      "byteLimit": 2048000,
      "rowLimit": 10000
     },
     "inputWidgets": {},
     "nuid": "0e6ae39d-ae2b-45dd-be59-f31661de8cef",
     "showTitle": false,
     "title": ""
    }
   },
   "outputs": [
    {
     "output_type": "display_data",
     "data": {
      "text/html": [
       "<style scoped>\n",
       "  .table-result-container {\n",
       "    max-height: 300px;\n",
       "    overflow: auto;\n",
       "  }\n",
       "  table, th, td {\n",
       "    border: 1px solid black;\n",
       "    border-collapse: collapse;\n",
       "  }\n",
       "  th, td {\n",
       "    padding: 5px;\n",
       "  }\n",
       "  th {\n",
       "    text-align: left;\n",
       "  }\n",
       "</style><div class='table-result-container'><table class='table-result'><thead style='background-color: white'><tr><th>Nome</th><th>satisfacao_salario</th><th>satisfacao_empregado</th><th>indice</th><th>qtd_total_reclamacoes</th><th>qtd_total_clientes</th><th>segmento</th><th>CNPJ</th></tr></thead><tbody><tr><td>ALFA</td><td>3.8</td><td>47.0</td><td> </td><td>480</td><td>423848.4285714286</td><td>S3</td><td>60770336</td></tr><tr><td>BANCO DO NORDESTE DO BRASIL S.A.</td><td>4.2</td><td>83.0</td><td> </td><td>490</td><td>8966108.714285715</td><td>S2</td><td>7237373</td></tr><tr><td>BANCO FIBRA S.A.</td><td>4.2</td><td>84.0</td><td> </td><td>17</td><td>163767.16666666666</td><td>S3</td><td>58616418</td></tr><tr><td>BANRISUL</td><td>4.1</td><td>59.0</td><td>14,72</td><td>3689</td><td>5107234.571428572</td><td>S2</td><td>92702067</td></tr><tr><td>BMG</td><td>4.2</td><td>63.0</td><td>101,86</td><td>12161</td><td>9491476.57142857</td><td>S3</td><td>61186680</td></tr><tr><td>BNP PARIBAS</td><td>3.4</td><td>63.0</td><td>125,22</td><td>4624</td><td>2211990.5714285714</td><td>S3</td><td>1522368</td></tr><tr><td>BOFA MERRILL LYNCH</td><td>3.8</td><td>61.0</td><td> </td><td>7</td><td>4732.0</td><td>S3</td><td>62073200</td></tr><tr><td>BRADESCO</td><td>4.3</td><td>66.0</td><td>21,64</td><td>60835</td><td>1.0075226757142857E8</td><td>S1</td><td>60746948</td></tr><tr><td>BTG PACTUAL</td><td>4.4</td><td>73.0</td><td> </td><td>133</td><td>766998.0</td><td>S1</td><td>30306294</td></tr><tr><td>CITIBANK</td><td>3.8</td><td>68.0</td><td> </td><td>97</td><td>18253.85714285714</td><td>S2</td><td>33479023</td></tr><tr><td>CREDIT SUISSE</td><td>3.6</td><td>34.0</td><td> </td><td>4</td><td>5997.0</td><td>S2</td><td>33987793</td></tr><tr><td>ITAU</td><td>4.6</td><td>82.0</td><td>12,26</td><td>43280</td><td>9.033923071428572E7</td><td>S1</td><td>60872504</td></tr><tr><td>JP MORGAN CHASE</td><td>3.9</td><td>76.5</td><td> </td><td>9</td><td>2908.0</td><td>S3</td><td>33172537</td></tr><tr><td>MERCEDES-BENZ</td><td>4.0</td><td>53.5</td><td> </td><td>35</td><td>19882.714285714286</td><td>S3</td><td>60814191</td></tr><tr><td>ORIGINAL</td><td>4.0</td><td>53.0</td><td>14,35</td><td>10168</td><td>2.5494336285714287E7</td><td>S3</td><td>92894922</td></tr><tr><td>PAN</td><td>4.6</td><td>79.0</td><td>245,28</td><td>3953</td><td>8907890.0</td><td>S3</td><td>59285411</td></tr><tr><td>PINE</td><td>3.9</td><td>50.0</td><td> </td><td>29</td><td>33519.42857142857</td><td>S3</td><td>62144175</td></tr><tr><td>SAFRA</td><td>3.8</td><td>47.0</td><td>103,36</td><td>9914</td><td>4705216.714285715</td><td>S2</td><td>58160789</td></tr><tr><td>SANTANDER</td><td>4.0</td><td>65.0</td><td>21,05</td><td>45423</td><td>5.6422443428571425E7</td><td>S1</td><td>90400888</td></tr><tr><td>SICREDI</td><td>4.1</td><td>80.0</td><td> </td><td>18</td><td>6438476.0</td><td>S3</td><td>1181521</td></tr><tr><td>SOCIETE GENERALE</td><td>3.3</td><td>55.0</td><td> </td><td>6</td><td>528.0</td><td>S3</td><td>61533584</td></tr><tr><td>VOTORANTIM</td><td>3.9499999999999997</td><td>79.0</td><td>13,05</td><td>4529</td><td>1.727523557142857E7</td><td>S2</td><td>59588111</td></tr></tbody></table></div>"
      ]
     },
     "metadata": {
      "application/vnd.databricks.v1+output": {
       "addedWidgets": {},
       "aggData": [],
       "aggError": "",
       "aggOverflow": false,
       "aggSchema": [],
       "aggSeriesLimitReached": false,
       "aggType": "",
       "arguments": {},
       "columnCustomDisplayInfos": {},
       "data": [
        [
         "ALFA",
         3.8,
         47.0,
         " ",
         480,
         423848.4285714286,
         "S3",
         60770336
        ],
        [
         "BANCO DO NORDESTE DO BRASIL S.A.",
         4.2,
         83.0,
         " ",
         490,
         8966108.714285715,
         "S2",
         7237373
        ],
        [
         "BANCO FIBRA S.A.",
         4.2,
         84.0,
         " ",
         17,
         163767.16666666666,
         "S3",
         58616418
        ],
        [
         "BANRISUL",
         4.1,
         59.0,
         "14,72",
         3689,
         5107234.571428572,
         "S2",
         92702067
        ],
        [
         "BMG",
         4.2,
         63.0,
         "101,86",
         12161,
         9491476.57142857,
         "S3",
         61186680
        ],
        [
         "BNP PARIBAS",
         3.4,
         63.0,
         "125,22",
         4624,
         2211990.5714285714,
         "S3",
         1522368
        ],
        [
         "BOFA MERRILL LYNCH",
         3.8,
         61.0,
         " ",
         7,
         4732.0,
         "S3",
         62073200
        ],
        [
         "BRADESCO",
         4.3,
         66.0,
         "21,64",
         60835,
         1.0075226757142857E8,
         "S1",
         60746948
        ],
        [
         "BTG PACTUAL",
         4.4,
         73.0,
         " ",
         133,
         766998.0,
         "S1",
         30306294
        ],
        [
         "CITIBANK",
         3.8,
         68.0,
         " ",
         97,
         18253.85714285714,
         "S2",
         33479023
        ],
        [
         "CREDIT SUISSE",
         3.6,
         34.0,
         " ",
         4,
         5997.0,
         "S2",
         33987793
        ],
        [
         "ITAU",
         4.6,
         82.0,
         "12,26",
         43280,
         9.033923071428572E7,
         "S1",
         60872504
        ],
        [
         "JP MORGAN CHASE",
         3.9,
         76.5,
         " ",
         9,
         2908.0,
         "S3",
         33172537
        ],
        [
         "MERCEDES-BENZ",
         4.0,
         53.5,
         " ",
         35,
         19882.714285714286,
         "S3",
         60814191
        ],
        [
         "ORIGINAL",
         4.0,
         53.0,
         "14,35",
         10168,
         2.5494336285714287E7,
         "S3",
         92894922
        ],
        [
         "PAN",
         4.6,
         79.0,
         "245,28",
         3953,
         8907890.0,
         "S3",
         59285411
        ],
        [
         "PINE",
         3.9,
         50.0,
         " ",
         29,
         33519.42857142857,
         "S3",
         62144175
        ],
        [
         "SAFRA",
         3.8,
         47.0,
         "103,36",
         9914,
         4705216.714285715,
         "S2",
         58160789
        ],
        [
         "SANTANDER",
         4.0,
         65.0,
         "21,05",
         45423,
         5.6422443428571425E7,
         "S1",
         90400888
        ],
        [
         "SICREDI",
         4.1,
         80.0,
         " ",
         18,
         6438476.0,
         "S3",
         1181521
        ],
        [
         "SOCIETE GENERALE",
         3.3,
         55.0,
         " ",
         6,
         528.0,
         "S3",
         61533584
        ],
        [
         "VOTORANTIM",
         3.9499999999999997,
         79.0,
         "13,05",
         4529,
         1.727523557142857E7,
         "S2",
         59588111
        ]
       ],
       "datasetInfos": [],
       "dbfsResultPath": null,
       "isJsonSchema": true,
       "metadata": {},
       "overflow": false,
       "plotOptions": {
        "customPlotOptions": {},
        "displayType": "table",
        "pivotAggregation": null,
        "pivotColumns": null,
        "xColumns": null,
        "yColumns": null
       },
       "removedWidgets": [],
       "schema": [
        {
         "metadata": "{}",
         "name": "Nome",
         "type": "\"string\""
        },
        {
         "metadata": "{}",
         "name": "satisfacao_salario",
         "type": "\"double\""
        },
        {
         "metadata": "{}",
         "name": "satisfacao_empregado",
         "type": "\"double\""
        },
        {
         "metadata": "{}",
         "name": "indice",
         "type": "\"string\""
        },
        {
         "metadata": "{}",
         "name": "qtd_total_reclamacoes",
         "type": "\"long\""
        },
        {
         "metadata": "{}",
         "name": "qtd_total_clientes",
         "type": "\"double\""
        },
        {
         "metadata": "{}",
         "name": "segmento",
         "type": "\"string\""
        },
        {
         "metadata": "{}",
         "name": "CNPJ",
         "type": "\"integer\""
        }
       ],
       "type": "table"
      }
     },
     "output_type": "display_data"
    }
   ],
   "source": [
    "final_df.display()"
   ]
  },
  {
   "cell_type": "code",
   "execution_count": 0,
   "metadata": {
    "application/vnd.databricks.v1+cell": {
     "cellMetadata": {
      "byteLimit": 2048000,
      "rowLimit": 10000
     },
     "inputWidgets": {},
     "nuid": "0992f6c0-9ac9-4c74-96d7-78335015da6c",
     "showTitle": false,
     "title": ""
    }
   },
   "outputs": [],
   "source": [
    "#Salvando tabela\n",
    "final_df.write \\\n",
    "    .format(\"delta\") \\\n",
    "    .mode(\"overwrite\") \\\n",
    "    .option(\"mergeSchema\", \"true\") \\\n",
    "    .saveAsTable(\"stage.atividade03\")"
   ]
  },
  {
   "cell_type": "code",
   "execution_count": 0,
   "metadata": {
    "application/vnd.databricks.v1+cell": {
     "cellMetadata": {
      "byteLimit": 2048000,
      "implicitDf": true,
      "rowLimit": 10000
     },
     "inputWidgets": {},
     "nuid": "f4e616a3-7089-41c1-a86b-cba94aaf1af8",
     "showTitle": false,
     "title": ""
    }
   },
   "outputs": [
    {
     "output_type": "display_data",
     "data": {
      "text/html": [
       "<style scoped>\n",
       "  .table-result-container {\n",
       "    max-height: 300px;\n",
       "    overflow: auto;\n",
       "  }\n",
       "  table, th, td {\n",
       "    border: 1px solid black;\n",
       "    border-collapse: collapse;\n",
       "  }\n",
       "  th, td {\n",
       "    padding: 5px;\n",
       "  }\n",
       "  th {\n",
       "    text-align: left;\n",
       "  }\n",
       "</style><div class='table-result-container'><table class='table-result'><thead style='background-color: white'><tr><th>Nome</th><th>Satisfacao_salario</th><th>Satisfacao_empregado</th><th>indice</th><th>qtd_total_reclamacoes</th><th>qtd_total_clientes</th><th>segmento</th><th>CNPJ</th></tr></thead><tbody><tr><td>ALFA</td><td>3.8</td><td>47.0</td><td> </td><td>480</td><td>423848.4285714286</td><td>S3</td><td>60770336</td></tr><tr><td>BANCO DO NORDESTE DO BRASIL S.A.</td><td>4.2</td><td>83.0</td><td> </td><td>490</td><td>8966108.714285715</td><td>S2</td><td>7237373</td></tr><tr><td>BANCO FIBRA S.A.</td><td>4.2</td><td>84.0</td><td> </td><td>17</td><td>163767.16666666666</td><td>S3</td><td>58616418</td></tr><tr><td>BANRISUL</td><td>4.1</td><td>59.0</td><td>14,72</td><td>3689</td><td>5107234.571428572</td><td>S2</td><td>92702067</td></tr><tr><td>BMG</td><td>4.2</td><td>63.0</td><td>101,86</td><td>12161</td><td>9491476.57142857</td><td>S3</td><td>61186680</td></tr><tr><td>BNP PARIBAS</td><td>3.4</td><td>63.0</td><td>125,22</td><td>4624</td><td>2211990.5714285714</td><td>S3</td><td>1522368</td></tr><tr><td>BOFA MERRILL LYNCH</td><td>3.8</td><td>61.0</td><td> </td><td>7</td><td>4732.0</td><td>S3</td><td>62073200</td></tr><tr><td>BRADESCO</td><td>4.3</td><td>66.0</td><td>21,64</td><td>60835</td><td>1.0075226757142857E8</td><td>S1</td><td>60746948</td></tr><tr><td>BTG PACTUAL</td><td>4.4</td><td>73.0</td><td> </td><td>133</td><td>766998.0</td><td>S1</td><td>30306294</td></tr><tr><td>CITIBANK</td><td>3.8</td><td>68.0</td><td> </td><td>97</td><td>18253.85714285714</td><td>S2</td><td>33479023</td></tr><tr><td>CREDIT SUISSE</td><td>3.6</td><td>34.0</td><td> </td><td>4</td><td>5997.0</td><td>S2</td><td>33987793</td></tr><tr><td>ITAU</td><td>4.6</td><td>82.0</td><td>12,26</td><td>43280</td><td>9.033923071428572E7</td><td>S1</td><td>60872504</td></tr><tr><td>JP MORGAN CHASE</td><td>3.9</td><td>76.5</td><td> </td><td>9</td><td>2908.0</td><td>S3</td><td>33172537</td></tr><tr><td>MERCEDES-BENZ</td><td>4.0</td><td>53.5</td><td> </td><td>35</td><td>19882.714285714286</td><td>S3</td><td>60814191</td></tr><tr><td>ORIGINAL</td><td>4.0</td><td>53.0</td><td>14,35</td><td>10168</td><td>2.5494336285714287E7</td><td>S3</td><td>92894922</td></tr><tr><td>PAN</td><td>4.6</td><td>79.0</td><td>245,28</td><td>3953</td><td>8907890.0</td><td>S3</td><td>59285411</td></tr><tr><td>PINE</td><td>3.9</td><td>50.0</td><td> </td><td>29</td><td>33519.42857142857</td><td>S3</td><td>62144175</td></tr><tr><td>SAFRA</td><td>3.8</td><td>47.0</td><td>103,36</td><td>9914</td><td>4705216.714285715</td><td>S2</td><td>58160789</td></tr><tr><td>SANTANDER</td><td>4.0</td><td>65.0</td><td>21,05</td><td>45423</td><td>5.6422443428571425E7</td><td>S1</td><td>90400888</td></tr><tr><td>SICREDI</td><td>4.1</td><td>80.0</td><td> </td><td>18</td><td>6438476.0</td><td>S3</td><td>1181521</td></tr><tr><td>SOCIETE GENERALE</td><td>3.3</td><td>55.0</td><td> </td><td>6</td><td>528.0</td><td>S3</td><td>61533584</td></tr><tr><td>VOTORANTIM</td><td>3.9499999999999997</td><td>79.0</td><td>13,05</td><td>4529</td><td>1.727523557142857E7</td><td>S2</td><td>59588111</td></tr></tbody></table></div>"
      ]
     },
     "metadata": {
      "application/vnd.databricks.v1+output": {
       "addedWidgets": {},
       "aggData": [],
       "aggError": "",
       "aggOverflow": false,
       "aggSchema": [],
       "aggSeriesLimitReached": false,
       "aggType": "",
       "arguments": {},
       "columnCustomDisplayInfos": {},
       "data": [
        [
         "ALFA",
         3.8,
         47.0,
         " ",
         480,
         423848.4285714286,
         "S3",
         60770336
        ],
        [
         "BANCO DO NORDESTE DO BRASIL S.A.",
         4.2,
         83.0,
         " ",
         490,
         8966108.714285715,
         "S2",
         7237373
        ],
        [
         "BANCO FIBRA S.A.",
         4.2,
         84.0,
         " ",
         17,
         163767.16666666666,
         "S3",
         58616418
        ],
        [
         "BANRISUL",
         4.1,
         59.0,
         "14,72",
         3689,
         5107234.571428572,
         "S2",
         92702067
        ],
        [
         "BMG",
         4.2,
         63.0,
         "101,86",
         12161,
         9491476.57142857,
         "S3",
         61186680
        ],
        [
         "BNP PARIBAS",
         3.4,
         63.0,
         "125,22",
         4624,
         2211990.5714285714,
         "S3",
         1522368
        ],
        [
         "BOFA MERRILL LYNCH",
         3.8,
         61.0,
         " ",
         7,
         4732.0,
         "S3",
         62073200
        ],
        [
         "BRADESCO",
         4.3,
         66.0,
         "21,64",
         60835,
         1.0075226757142857E8,
         "S1",
         60746948
        ],
        [
         "BTG PACTUAL",
         4.4,
         73.0,
         " ",
         133,
         766998.0,
         "S1",
         30306294
        ],
        [
         "CITIBANK",
         3.8,
         68.0,
         " ",
         97,
         18253.85714285714,
         "S2",
         33479023
        ],
        [
         "CREDIT SUISSE",
         3.6,
         34.0,
         " ",
         4,
         5997.0,
         "S2",
         33987793
        ],
        [
         "ITAU",
         4.6,
         82.0,
         "12,26",
         43280,
         9.033923071428572E7,
         "S1",
         60872504
        ],
        [
         "JP MORGAN CHASE",
         3.9,
         76.5,
         " ",
         9,
         2908.0,
         "S3",
         33172537
        ],
        [
         "MERCEDES-BENZ",
         4.0,
         53.5,
         " ",
         35,
         19882.714285714286,
         "S3",
         60814191
        ],
        [
         "ORIGINAL",
         4.0,
         53.0,
         "14,35",
         10168,
         2.5494336285714287E7,
         "S3",
         92894922
        ],
        [
         "PAN",
         4.6,
         79.0,
         "245,28",
         3953,
         8907890.0,
         "S3",
         59285411
        ],
        [
         "PINE",
         3.9,
         50.0,
         " ",
         29,
         33519.42857142857,
         "S3",
         62144175
        ],
        [
         "SAFRA",
         3.8,
         47.0,
         "103,36",
         9914,
         4705216.714285715,
         "S2",
         58160789
        ],
        [
         "SANTANDER",
         4.0,
         65.0,
         "21,05",
         45423,
         5.6422443428571425E7,
         "S1",
         90400888
        ],
        [
         "SICREDI",
         4.1,
         80.0,
         " ",
         18,
         6438476.0,
         "S3",
         1181521
        ],
        [
         "SOCIETE GENERALE",
         3.3,
         55.0,
         " ",
         6,
         528.0,
         "S3",
         61533584
        ],
        [
         "VOTORANTIM",
         3.9499999999999997,
         79.0,
         "13,05",
         4529,
         1.727523557142857E7,
         "S2",
         59588111
        ]
       ],
       "datasetInfos": [],
       "dbfsResultPath": null,
       "isJsonSchema": true,
       "metadata": {},
       "overflow": false,
       "plotOptions": {
        "customPlotOptions": {},
        "displayType": "table",
        "pivotAggregation": null,
        "pivotColumns": null,
        "xColumns": null,
        "yColumns": null
       },
       "removedWidgets": [],
       "schema": [
        {
         "metadata": "{}",
         "name": "Nome",
         "type": "\"string\""
        },
        {
         "metadata": "{}",
         "name": "Satisfacao_salario",
         "type": "\"double\""
        },
        {
         "metadata": "{}",
         "name": "Satisfacao_empregado",
         "type": "\"double\""
        },
        {
         "metadata": "{}",
         "name": "indice",
         "type": "\"string\""
        },
        {
         "metadata": "{}",
         "name": "qtd_total_reclamacoes",
         "type": "\"long\""
        },
        {
         "metadata": "{}",
         "name": "qtd_total_clientes",
         "type": "\"double\""
        },
        {
         "metadata": "{}",
         "name": "segmento",
         "type": "\"string\""
        },
        {
         "metadata": "{}",
         "name": "CNPJ",
         "type": "\"integer\""
        }
       ],
       "type": "table"
      }
     },
     "output_type": "display_data"
    }
   ],
   "source": [
    "%sql\n",
    "--Visualizando os dados\n",
    "select * from stage.atividade03"
   ]
  }
 ],
 "metadata": {
  "application/vnd.databricks.v1+notebook": {
   "dashboards": [],
   "language": "python",
   "notebookMetadata": {
    "mostRecentlyExecutedCommandWithImplicitDF": {
     "commandId": 1429794360269197,
     "dataframes": [
      "_sqldf"
     ]
    },
    "pythonIndentUnit": 2
   },
   "notebookName": "Atividade 03",
   "widgets": {}
  }
 },
 "nbformat": 4,
 "nbformat_minor": 0
}
